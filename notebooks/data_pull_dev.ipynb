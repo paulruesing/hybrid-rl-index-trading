{
 "cells": [
  {
   "metadata": {},
   "cell_type": "markdown",
   "source": "# Price Data Download Notebook",
   "id": "5806b483599a64d8"
  },
  {
   "cell_type": "code",
   "id": "initial_id",
   "metadata": {
    "collapsed": true,
    "ExecuteTime": {
     "end_time": "2025-05-21T14:50:47.420804Z",
     "start_time": "2025-05-21T14:50:47.417987Z"
    }
   },
   "source": [
    "import os\n",
    "from datetime import datetime\n",
    "\n",
    "import yfinance as yf\n",
    "import numpy as np\n",
    "import pandas as pd\n",
    "from pathlib import Path\n",
    "from typing import Literal\n",
    "from tqdm import tqdm\n",
    "from alpha_vantage.timeseries import TimeSeries\n",
    "\n",
    "import src.utils.file_management as filemgmt\n",
    "import src.pipeline.preprocessing as preprocessing"
   ],
   "outputs": [],
   "execution_count": 3
  },
  {
   "metadata": {
    "ExecuteTime": {
     "end_time": "2025-05-21T14:50:47.428445Z",
     "start_time": "2025-05-21T14:50:47.424980Z"
    }
   },
   "cell_type": "code",
   "source": [
    "ROOT = Path().resolve().parent\n",
    "DATA = ROOT / \"data\"\n",
    "DAILY_PRICES = DATA / \"daily_price_downloads\"\n",
    "MINUTELY_PRICES = DATA / \"minutely_price_downloads\"\n",
    "INTERPOLATED_PRICES = DATA / \"interpolated_prices\"\n",
    "\n",
    "AV_API_KEY_FILE = ROOT / \"private\" / \"Alpha Vantage API Key.txt\"\n",
    "with open(AV_API_KEY_FILE) as file: AV_API_KEY = file.read()\n"
   ],
   "id": "8d1df7e7fdc8bb7b",
   "outputs": [],
   "execution_count": 4
  },
  {
   "metadata": {},
   "cell_type": "markdown",
   "source": [
    "## Download from AlphaVantage\n",
    "(Restricted to 25 daily free requests)"
   ],
   "id": "68f1e299e4abc405"
  },
  {
   "metadata": {},
   "cell_type": "markdown",
   "source": "### Execution",
   "id": "fcc38740152e5c0b"
  },
  {
   "metadata": {
    "ExecuteTime": {
     "end_time": "2025-05-21T14:54:49.703157Z",
     "start_time": "2025-05-21T14:54:36.821776Z"
    }
   },
   "cell_type": "code",
   "source": [
    "frame = preprocessing.get_data_from_alphavantage(AV_API_KEY,\n",
    "                                   save_path=MINUTELY_PRICES,\n",
    "                                   start_year_month=(2014, 7),\n",
    "                                   end_year_month=(2016, 6),\n",
    "                                   csv_path_to_concat=MINUTELY_PRICES)\n",
    "frame"
   ],
   "id": "580d16078dc12075",
   "outputs": [
    {
     "name": "stdout",
     "output_type": "stream",
     "text": [
      "Will query the AlphaVantage API 24 times based on the specified time range. Queries:\n",
      " ['2014-07', '2014-08', '2014-09', '2014-10', '2014-11', '2014-12', '2015-01', '2015-02', '2015-03', '2015-04', '2015-05', '2015-06', '2015-07', '2015-08', '2015-09', '2015-10', '2015-11', '2015-12', '2016-01', '2016-02', '2016-03', '2016-04', '2016-05', '2016-06']\n",
      "Since provided csv_path_to_concat is a directory will now load: /Users/paulrusing/Library/Mobile Documents/com~apple~CloudDocs/PR iCloud/Work/Personal/Programming/Github Repos/hybrid-rl-index-trading/data/minutely_price_downloads/2025-05-19 23_13_44 DAX 4. close price data 2016-07-01 to 2025-04-30.csv\n"
     ]
    },
    {
     "name": "stderr",
     "output_type": "stream",
     "text": [
      "  4%|▍         | 1/24 [00:00<00:12,  1.85it/s]"
     ]
    },
    {
     "name": "stdout",
     "output_type": "stream",
     "text": [
      "Invalid API call. Please retry or visit the documentation (https://www.alphavantage.co/documentation/) for TIME_SERIES_INTRADAY.\n"
     ]
    },
    {
     "name": "stderr",
     "output_type": "stream",
     "text": [
      "  8%|▊         | 2/24 [00:01<00:11,  1.91it/s]"
     ]
    },
    {
     "name": "stdout",
     "output_type": "stream",
     "text": [
      "Invalid API call. Please retry or visit the documentation (https://www.alphavantage.co/documentation/) for TIME_SERIES_INTRADAY.\n"
     ]
    },
    {
     "name": "stderr",
     "output_type": "stream",
     "text": [
      " 12%|█▎        | 3/24 [00:01<00:08,  2.40it/s]"
     ]
    },
    {
     "name": "stdout",
     "output_type": "stream",
     "text": [
      "Invalid API call. Please retry or visit the documentation (https://www.alphavantage.co/documentation/) for TIME_SERIES_INTRADAY.\n"
     ]
    },
    {
     "name": "stderr",
     "output_type": "stream",
     "text": [
      "100%|██████████| 24/24 [00:12<00:00,  1.91it/s]\n"
     ]
    },
    {
     "data": {
      "text/plain": [
       "                     1. open  2. high   3. low  4. close  5. volume\n",
       "date                                                               \n",
       "2014-10-23 09:31:00  19.8527  19.8527  19.8527   19.8527      100.0\n",
       "2014-10-23 10:06:00  19.8606  19.8606  19.8606   19.8606     4900.0\n",
       "2014-10-23 10:48:00  19.9001  19.9001  19.9001   19.9001     1000.0\n",
       "2014-10-23 13:07:00  19.9951  19.9951  19.9951   19.9951      100.0\n",
       "2014-10-23 13:31:00  19.9932  19.9932  19.9932   19.9932      600.0\n",
       "...                      ...      ...      ...       ...        ...\n",
       "2025-04-30 17:13:00  41.9000  41.9000  41.9000   41.9000        5.0\n",
       "2025-04-30 18:00:00  41.5582  41.5582  41.5582   41.5582       50.0\n",
       "2025-04-30 18:09:00  41.5100  41.5100  41.5100   41.5100        3.0\n",
       "2025-04-30 19:20:00  41.5100  41.5100  41.5100   41.5100        1.0\n",
       "2025-04-30 19:44:00  43.5800  43.5800  43.5800   43.5800       25.0\n",
       "\n",
       "[43964 rows x 5 columns]"
      ],
      "text/html": [
       "<div>\n",
       "<style scoped>\n",
       "    .dataframe tbody tr th:only-of-type {\n",
       "        vertical-align: middle;\n",
       "    }\n",
       "\n",
       "    .dataframe tbody tr th {\n",
       "        vertical-align: top;\n",
       "    }\n",
       "\n",
       "    .dataframe thead th {\n",
       "        text-align: right;\n",
       "    }\n",
       "</style>\n",
       "<table border=\"1\" class=\"dataframe\">\n",
       "  <thead>\n",
       "    <tr style=\"text-align: right;\">\n",
       "      <th></th>\n",
       "      <th>1. open</th>\n",
       "      <th>2. high</th>\n",
       "      <th>3. low</th>\n",
       "      <th>4. close</th>\n",
       "      <th>5. volume</th>\n",
       "    </tr>\n",
       "    <tr>\n",
       "      <th>date</th>\n",
       "      <th></th>\n",
       "      <th></th>\n",
       "      <th></th>\n",
       "      <th></th>\n",
       "      <th></th>\n",
       "    </tr>\n",
       "  </thead>\n",
       "  <tbody>\n",
       "    <tr>\n",
       "      <th>2014-10-23 09:31:00</th>\n",
       "      <td>19.8527</td>\n",
       "      <td>19.8527</td>\n",
       "      <td>19.8527</td>\n",
       "      <td>19.8527</td>\n",
       "      <td>100.0</td>\n",
       "    </tr>\n",
       "    <tr>\n",
       "      <th>2014-10-23 10:06:00</th>\n",
       "      <td>19.8606</td>\n",
       "      <td>19.8606</td>\n",
       "      <td>19.8606</td>\n",
       "      <td>19.8606</td>\n",
       "      <td>4900.0</td>\n",
       "    </tr>\n",
       "    <tr>\n",
       "      <th>2014-10-23 10:48:00</th>\n",
       "      <td>19.9001</td>\n",
       "      <td>19.9001</td>\n",
       "      <td>19.9001</td>\n",
       "      <td>19.9001</td>\n",
       "      <td>1000.0</td>\n",
       "    </tr>\n",
       "    <tr>\n",
       "      <th>2014-10-23 13:07:00</th>\n",
       "      <td>19.9951</td>\n",
       "      <td>19.9951</td>\n",
       "      <td>19.9951</td>\n",
       "      <td>19.9951</td>\n",
       "      <td>100.0</td>\n",
       "    </tr>\n",
       "    <tr>\n",
       "      <th>2014-10-23 13:31:00</th>\n",
       "      <td>19.9932</td>\n",
       "      <td>19.9932</td>\n",
       "      <td>19.9932</td>\n",
       "      <td>19.9932</td>\n",
       "      <td>600.0</td>\n",
       "    </tr>\n",
       "    <tr>\n",
       "      <th>...</th>\n",
       "      <td>...</td>\n",
       "      <td>...</td>\n",
       "      <td>...</td>\n",
       "      <td>...</td>\n",
       "      <td>...</td>\n",
       "    </tr>\n",
       "    <tr>\n",
       "      <th>2025-04-30 17:13:00</th>\n",
       "      <td>41.9000</td>\n",
       "      <td>41.9000</td>\n",
       "      <td>41.9000</td>\n",
       "      <td>41.9000</td>\n",
       "      <td>5.0</td>\n",
       "    </tr>\n",
       "    <tr>\n",
       "      <th>2025-04-30 18:00:00</th>\n",
       "      <td>41.5582</td>\n",
       "      <td>41.5582</td>\n",
       "      <td>41.5582</td>\n",
       "      <td>41.5582</td>\n",
       "      <td>50.0</td>\n",
       "    </tr>\n",
       "    <tr>\n",
       "      <th>2025-04-30 18:09:00</th>\n",
       "      <td>41.5100</td>\n",
       "      <td>41.5100</td>\n",
       "      <td>41.5100</td>\n",
       "      <td>41.5100</td>\n",
       "      <td>3.0</td>\n",
       "    </tr>\n",
       "    <tr>\n",
       "      <th>2025-04-30 19:20:00</th>\n",
       "      <td>41.5100</td>\n",
       "      <td>41.5100</td>\n",
       "      <td>41.5100</td>\n",
       "      <td>41.5100</td>\n",
       "      <td>1.0</td>\n",
       "    </tr>\n",
       "    <tr>\n",
       "      <th>2025-04-30 19:44:00</th>\n",
       "      <td>43.5800</td>\n",
       "      <td>43.5800</td>\n",
       "      <td>43.5800</td>\n",
       "      <td>43.5800</td>\n",
       "      <td>25.0</td>\n",
       "    </tr>\n",
       "  </tbody>\n",
       "</table>\n",
       "<p>43964 rows × 5 columns</p>\n",
       "</div>"
      ]
     },
     "execution_count": 12,
     "metadata": {},
     "output_type": "execute_result"
    }
   ],
   "execution_count": 12
  },
  {
   "metadata": {},
   "cell_type": "markdown",
   "source": "## Interpolation",
   "id": "97d37cd55014ecf8"
  },
  {
   "metadata": {
    "ExecuteTime": {
     "end_time": "2025-05-21T14:57:21.830411Z",
     "start_time": "2025-05-21T14:57:21.255486Z"
    }
   },
   "cell_type": "code",
   "source": [
    "# date import parameters:\n",
    "date_column = 'date'\n",
    "price_column = '4. close'\n",
    "lateset_file_path = filemgmt.most_recent_file(MINUTELY_PRICES, \".csv\", \"DAX\")\n",
    "\n",
    "# interpolation parameters:\n",
    "sampling_rate_to_be_interpolated = '15min'\n",
    "manual_operating_hours = (8, 22)\n",
    "custom_start_hour = 16\n",
    "custom_start_minute = 0\n",
    "\n",
    "interpolated_prices = preprocessing.time_interpolation_new_sampling_rate(df=pd.read_csv(lateset_file_path),\n",
    "                                                                         interpolation_column=price_column,\n",
    "                                                                         datetime_column=date_column,\n",
    "                                                                         new_sampling_rate=sampling_rate_to_be_interpolated,\n",
    "                                                                         custom_start_hour=custom_start_hour,\n",
    "                                                                         custom_start_minute=custom_start_minute,\n",
    "                                                                         verbose=True,\n",
    "                                                                         manual_operating_hours=manual_operating_hours,\n",
    "                                                                         save_path=INTERPOLATED_PRICES,\n",
    "                                                                         save_title_identifier='DAX Close')\n",
    "interpolated_prices"
   ],
   "id": "f4ab91fd37ad3b0a",
   "outputs": [
    {
     "name": "stdout",
     "output_type": "stream",
     "text": [
      "Excluded every entry on Saturday or Sunday.\n",
      "Excluded every entry before hour 8 and after hour 22.\n",
      "New sampling rate (15min) is higher than current lowest time unit (1min).\n",
      "Therefore some existing indices will be removed to match the new sampling rate, while all information will be kept through the interpolation procedure.\n"
     ]
    },
    {
     "data": {
      "text/plain": [
       "                         close\n",
       "date                          \n",
       "2014-10-23 16:00:00  19.974245\n",
       "2014-10-23 16:15:00  19.973079\n",
       "2014-10-23 16:30:00  19.971912\n",
       "2014-10-23 16:45:00  19.970746\n",
       "2014-10-23 17:00:00  19.969579\n",
       "...                        ...\n",
       "2025-04-30 18:30:00  41.510000\n",
       "2025-04-30 18:45:00  41.510000\n",
       "2025-04-30 19:00:00  41.510000\n",
       "2025-04-30 19:15:00  41.510000\n",
       "2025-04-30 19:30:00  42.372500\n",
       "\n",
       "[153679 rows x 1 columns]"
      ],
      "text/html": [
       "<div>\n",
       "<style scoped>\n",
       "    .dataframe tbody tr th:only-of-type {\n",
       "        vertical-align: middle;\n",
       "    }\n",
       "\n",
       "    .dataframe tbody tr th {\n",
       "        vertical-align: top;\n",
       "    }\n",
       "\n",
       "    .dataframe thead th {\n",
       "        text-align: right;\n",
       "    }\n",
       "</style>\n",
       "<table border=\"1\" class=\"dataframe\">\n",
       "  <thead>\n",
       "    <tr style=\"text-align: right;\">\n",
       "      <th></th>\n",
       "      <th>close</th>\n",
       "    </tr>\n",
       "    <tr>\n",
       "      <th>date</th>\n",
       "      <th></th>\n",
       "    </tr>\n",
       "  </thead>\n",
       "  <tbody>\n",
       "    <tr>\n",
       "      <th>2014-10-23 16:00:00</th>\n",
       "      <td>19.974245</td>\n",
       "    </tr>\n",
       "    <tr>\n",
       "      <th>2014-10-23 16:15:00</th>\n",
       "      <td>19.973079</td>\n",
       "    </tr>\n",
       "    <tr>\n",
       "      <th>2014-10-23 16:30:00</th>\n",
       "      <td>19.971912</td>\n",
       "    </tr>\n",
       "    <tr>\n",
       "      <th>2014-10-23 16:45:00</th>\n",
       "      <td>19.970746</td>\n",
       "    </tr>\n",
       "    <tr>\n",
       "      <th>2014-10-23 17:00:00</th>\n",
       "      <td>19.969579</td>\n",
       "    </tr>\n",
       "    <tr>\n",
       "      <th>...</th>\n",
       "      <td>...</td>\n",
       "    </tr>\n",
       "    <tr>\n",
       "      <th>2025-04-30 18:30:00</th>\n",
       "      <td>41.510000</td>\n",
       "    </tr>\n",
       "    <tr>\n",
       "      <th>2025-04-30 18:45:00</th>\n",
       "      <td>41.510000</td>\n",
       "    </tr>\n",
       "    <tr>\n",
       "      <th>2025-04-30 19:00:00</th>\n",
       "      <td>41.510000</td>\n",
       "    </tr>\n",
       "    <tr>\n",
       "      <th>2025-04-30 19:15:00</th>\n",
       "      <td>41.510000</td>\n",
       "    </tr>\n",
       "    <tr>\n",
       "      <th>2025-04-30 19:30:00</th>\n",
       "      <td>42.372500</td>\n",
       "    </tr>\n",
       "  </tbody>\n",
       "</table>\n",
       "<p>153679 rows × 1 columns</p>\n",
       "</div>"
      ]
     },
     "execution_count": 18,
     "metadata": {},
     "output_type": "execute_result"
    }
   ],
   "execution_count": 18
  },
  {
   "metadata": {
    "ExecuteTime": {
     "end_time": "2025-05-21T14:58:28.156553Z",
     "start_time": "2025-05-21T14:58:28.128778Z"
    }
   },
   "cell_type": "code",
   "source": [
    "def print_time_index_entries_p_day(df: pd.DataFrame) -> None:\n",
    "    df = df.copy()\n",
    "    df['counter'] = 1\n",
    "    statistics = df.counter.groupby(by=[df.index.year, df.index.day_of_year]).sum().describe()\n",
    "    print('Average entries p. day:\\t\\t\\t\\t\\t', statistics['mean'])\n",
    "    print('Min. entries p. day:\\t\\t\\t\\t\\t', statistics['min'])\n",
    "    print('Lowest 25% entries p. day are below:\\t', statistics['25%'])\n",
    "    print('Lowest 50% entries p. day are below:\\t', statistics['50%'])\n",
    "    print('Lowest 75% entries p. day are below:\\t', statistics['75%'])\n",
    "    print('Max. entries p. day:\\t\\t\\t\\t\\t', statistics['max'])\n",
    "\n",
    "\n",
    "# interesting statistics to decide the sampling rate:    \n",
    "print_time_index_entries_p_day(interpolated_prices)"
   ],
   "id": "10aa302e60ab3a0d",
   "outputs": [
    {
     "name": "stdout",
     "output_type": "stream",
     "text": [
      "Average entries p. day:\t\t\t\t\t 55.985063752276865\n",
      "Min. entries p. day:\t\t\t\t\t 24.0\n",
      "Lowest 25% entries p. day are below:\t 56.0\n",
      "Lowest 50% entries p. day are below:\t 56.0\n",
      "Lowest 75% entries p. day are below:\t 56.0\n",
      "Max. entries p. day:\t\t\t\t\t 56.0\n"
     ]
    }
   ],
   "execution_count": 19
  },
  {
   "metadata": {
    "ExecuteTime": {
     "end_time": "2025-05-09T09:06:04.205935Z",
     "start_time": "2025-05-09T09:06:04.203655Z"
    }
   },
   "cell_type": "code",
   "source": "",
   "id": "a3934a8c4eb69ab",
   "outputs": [],
   "execution_count": null
  }
 ],
 "metadata": {
  "kernelspec": {
   "display_name": "Python 3",
   "language": "python",
   "name": "python3"
  },
  "language_info": {
   "codemirror_mode": {
    "name": "ipython",
    "version": 2
   },
   "file_extension": ".py",
   "mimetype": "text/x-python",
   "name": "python",
   "nbconvert_exporter": "python",
   "pygments_lexer": "ipython2",
   "version": "2.7.6"
  }
 },
 "nbformat": 4,
 "nbformat_minor": 5
}
