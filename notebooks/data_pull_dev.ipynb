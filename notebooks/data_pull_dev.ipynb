{
 "cells": [
  {
   "cell_type": "code",
   "id": "initial_id",
   "metadata": {
    "collapsed": true,
    "ExecuteTime": {
     "end_time": "2025-05-05T11:43:07.099006Z",
     "start_time": "2025-05-05T11:43:07.092017Z"
    }
   },
   "source": [
    "import yfinance as yf\n",
    "import numpy as np\n",
    "import pandas as pd"
   ],
   "outputs": [],
   "execution_count": 8
  },
  {
   "metadata": {
    "ExecuteTime": {
     "end_time": "2025-05-05T11:43:07.712738Z",
     "start_time": "2025-05-05T11:43:07.706408Z"
    }
   },
   "cell_type": "code",
   "source": [
    "def get_data_from_yahoo(ticker: str = 'DAX', period_days: int = 60, sampling_rate_min: int = '30',\n",
    "                        sampling_rate_days: int = None, verbose=True) -> pd.DataFrame:\n",
    "    # download data:\n",
    "    period = f'{period_days}d' if period_days is not None else 'max'\n",
    "    interval = f'{sampling_rate_min}m' if sampling_rate_days is None else f'{sampling_rate_days}d'\n",
    "    data = yf.download(tickers=ticker, period=period, interval=interval)\n",
    "\n",
    "    # calculate data coverage subtracting weekends:\n",
    "    if verbose:\n",
    "        pandas_freq = f'{sampling_rate_days}D' if sampling_rate_days is not None else f'{sampling_rate_min}min'\n",
    "        compare_dt_index = pd.date_range(start=data.index[0], end=data.index[-1], freq='15min')\n",
    "        compare_dt_index = compare_dt_index[~compare_dt_index.weekday.isin([5, 6])] # exclude weekends\n",
    "        compare_dt_index = compare_dt_index[~ ( (compare_dt_index.hour < data.index.hour.min()) | (compare_dt_index.hour > data.index.hour.max()) )]  # exclude non-operating hours\n",
    "        print(f\"Coverage of downloaded data: {round(len(data)/len(compare_dt_index)*100, 1)}%! Weekends and non-operating hours excluded. Can be due to holidays or missing data.\")\n",
    "\n",
    "    return data"
   ],
   "id": "e64742ba3950e766",
   "outputs": [],
   "execution_count": 9
  },
  {
   "metadata": {
    "ExecuteTime": {
     "end_time": "2025-05-05T11:43:09.659342Z",
     "start_time": "2025-05-05T11:43:08.942551Z"
    }
   },
   "cell_type": "code",
   "source": [
    "dax_data_daily = get_data_from_yahoo(sampling_rate_days=1, sampling_rate_min=None, period_days=None)\n",
    "dax_data_daily.Close.plot()"
   ],
   "id": "576fca47e1003e9a",
   "outputs": [
    {
     "name": "stderr",
     "output_type": "stream",
     "text": [
      "[*********************100%***********************]  1 of 1 completed\n",
      "\n",
      "1 Failed download:\n",
      "['DAX']: YFRateLimitError('Too Many Requests. Rate limited. Try after a while.')\n"
     ]
    },
    {
     "ename": "IndexError",
     "evalue": "index 0 is out of bounds for axis 0 with size 0",
     "output_type": "error",
     "traceback": [
      "\u001B[0;31m---------------------------------------------------------------------------\u001B[0m",
      "\u001B[0;31mIndexError\u001B[0m                                Traceback (most recent call last)",
      "Cell \u001B[0;32mIn[10], line 1\u001B[0m\n\u001B[0;32m----> 1\u001B[0m dax_data_daily \u001B[38;5;241m=\u001B[39m \u001B[43mget_data_from_yahoo\u001B[49m\u001B[43m(\u001B[49m\u001B[43msampling_rate_days\u001B[49m\u001B[38;5;241;43m=\u001B[39;49m\u001B[38;5;241;43m1\u001B[39;49m\u001B[43m,\u001B[49m\u001B[43m \u001B[49m\u001B[43msampling_rate_min\u001B[49m\u001B[38;5;241;43m=\u001B[39;49m\u001B[38;5;28;43;01mNone\u001B[39;49;00m\u001B[43m,\u001B[49m\u001B[43m \u001B[49m\u001B[43mperiod_days\u001B[49m\u001B[38;5;241;43m=\u001B[39;49m\u001B[38;5;28;43;01mNone\u001B[39;49;00m\u001B[43m)\u001B[49m\n\u001B[1;32m      2\u001B[0m dax_data_daily\u001B[38;5;241m.\u001B[39mClose\u001B[38;5;241m.\u001B[39mplot()\n",
      "Cell \u001B[0;32mIn[9], line 11\u001B[0m, in \u001B[0;36mget_data_from_yahoo\u001B[0;34m(ticker, period_days, sampling_rate_min, sampling_rate_days, verbose)\u001B[0m\n\u001B[1;32m      9\u001B[0m \u001B[38;5;28;01mif\u001B[39;00m verbose:\n\u001B[1;32m     10\u001B[0m     pandas_freq \u001B[38;5;241m=\u001B[39m \u001B[38;5;124mf\u001B[39m\u001B[38;5;124m'\u001B[39m\u001B[38;5;132;01m{\u001B[39;00msampling_rate_days\u001B[38;5;132;01m}\u001B[39;00m\u001B[38;5;124mD\u001B[39m\u001B[38;5;124m'\u001B[39m \u001B[38;5;28;01mif\u001B[39;00m sampling_rate_days \u001B[38;5;129;01mis\u001B[39;00m \u001B[38;5;129;01mnot\u001B[39;00m \u001B[38;5;28;01mNone\u001B[39;00m \u001B[38;5;28;01melse\u001B[39;00m \u001B[38;5;124mf\u001B[39m\u001B[38;5;124m'\u001B[39m\u001B[38;5;132;01m{\u001B[39;00msampling_rate_min\u001B[38;5;132;01m}\u001B[39;00m\u001B[38;5;124mmin\u001B[39m\u001B[38;5;124m'\u001B[39m\n\u001B[0;32m---> 11\u001B[0m     compare_dt_index \u001B[38;5;241m=\u001B[39m pd\u001B[38;5;241m.\u001B[39mdate_range(start\u001B[38;5;241m=\u001B[39m\u001B[43mdata\u001B[49m\u001B[38;5;241;43m.\u001B[39;49m\u001B[43mindex\u001B[49m\u001B[43m[\u001B[49m\u001B[38;5;241;43m0\u001B[39;49m\u001B[43m]\u001B[49m, end\u001B[38;5;241m=\u001B[39mdata\u001B[38;5;241m.\u001B[39mindex[\u001B[38;5;241m-\u001B[39m\u001B[38;5;241m1\u001B[39m], freq\u001B[38;5;241m=\u001B[39m\u001B[38;5;124m'\u001B[39m\u001B[38;5;124m15min\u001B[39m\u001B[38;5;124m'\u001B[39m)\n\u001B[1;32m     12\u001B[0m     compare_dt_index \u001B[38;5;241m=\u001B[39m compare_dt_index[\u001B[38;5;241m~\u001B[39mcompare_dt_index\u001B[38;5;241m.\u001B[39mweekday\u001B[38;5;241m.\u001B[39misin([\u001B[38;5;241m5\u001B[39m, \u001B[38;5;241m6\u001B[39m])] \u001B[38;5;66;03m# exclude weekends\u001B[39;00m\n\u001B[1;32m     13\u001B[0m     compare_dt_index \u001B[38;5;241m=\u001B[39m compare_dt_index[\u001B[38;5;241m~\u001B[39m ( (compare_dt_index\u001B[38;5;241m.\u001B[39mhour \u001B[38;5;241m<\u001B[39m data\u001B[38;5;241m.\u001B[39mindex\u001B[38;5;241m.\u001B[39mhour\u001B[38;5;241m.\u001B[39mmin()) \u001B[38;5;241m|\u001B[39m (compare_dt_index\u001B[38;5;241m.\u001B[39mhour \u001B[38;5;241m>\u001B[39m data\u001B[38;5;241m.\u001B[39mindex\u001B[38;5;241m.\u001B[39mhour\u001B[38;5;241m.\u001B[39mmax()) )]  \u001B[38;5;66;03m# exclude non-operating hours\u001B[39;00m\n",
      "File \u001B[0;32m~/miniconda3/envs/rl_env/lib/python3.13/site-packages/pandas/core/indexes/base.py:5389\u001B[0m, in \u001B[0;36mIndex.__getitem__\u001B[0;34m(self, key)\u001B[0m\n\u001B[1;32m   5386\u001B[0m \u001B[38;5;28;01mif\u001B[39;00m is_integer(key) \u001B[38;5;129;01mor\u001B[39;00m is_float(key):\n\u001B[1;32m   5387\u001B[0m     \u001B[38;5;66;03m# GH#44051 exclude bool, which would return a 2d ndarray\u001B[39;00m\n\u001B[1;32m   5388\u001B[0m     key \u001B[38;5;241m=\u001B[39m com\u001B[38;5;241m.\u001B[39mcast_scalar_indexer(key)\n\u001B[0;32m-> 5389\u001B[0m     \u001B[38;5;28;01mreturn\u001B[39;00m \u001B[43mgetitem\u001B[49m\u001B[43m(\u001B[49m\u001B[43mkey\u001B[49m\u001B[43m)\u001B[49m\n\u001B[1;32m   5391\u001B[0m \u001B[38;5;28;01mif\u001B[39;00m \u001B[38;5;28misinstance\u001B[39m(key, \u001B[38;5;28mslice\u001B[39m):\n\u001B[1;32m   5392\u001B[0m     \u001B[38;5;66;03m# This case is separated from the conditional above to avoid\u001B[39;00m\n\u001B[1;32m   5393\u001B[0m     \u001B[38;5;66;03m# pessimization com.is_bool_indexer and ndim checks.\u001B[39;00m\n\u001B[1;32m   5394\u001B[0m     \u001B[38;5;28;01mreturn\u001B[39;00m \u001B[38;5;28mself\u001B[39m\u001B[38;5;241m.\u001B[39m_getitem_slice(key)\n",
      "File \u001B[0;32m~/miniconda3/envs/rl_env/lib/python3.13/site-packages/pandas/core/arrays/datetimelike.py:381\u001B[0m, in \u001B[0;36mDatetimeLikeArrayMixin.__getitem__\u001B[0;34m(self, key)\u001B[0m\n\u001B[1;32m    374\u001B[0m \u001B[38;5;250m\u001B[39m\u001B[38;5;124;03m\"\"\"\u001B[39;00m\n\u001B[1;32m    375\u001B[0m \u001B[38;5;124;03mThis getitem defers to the underlying array, which by-definition can\u001B[39;00m\n\u001B[1;32m    376\u001B[0m \u001B[38;5;124;03monly handle list-likes, slices, and integer scalars\u001B[39;00m\n\u001B[1;32m    377\u001B[0m \u001B[38;5;124;03m\"\"\"\u001B[39;00m\n\u001B[1;32m    378\u001B[0m \u001B[38;5;66;03m# Use cast as we know we will get back a DatetimeLikeArray or DTScalar,\u001B[39;00m\n\u001B[1;32m    379\u001B[0m \u001B[38;5;66;03m# but skip evaluating the Union at runtime for performance\u001B[39;00m\n\u001B[1;32m    380\u001B[0m \u001B[38;5;66;03m# (see https://github.com/pandas-dev/pandas/pull/44624)\u001B[39;00m\n\u001B[0;32m--> 381\u001B[0m result \u001B[38;5;241m=\u001B[39m cast(\u001B[38;5;124m\"\u001B[39m\u001B[38;5;124mUnion[Self, DTScalarOrNaT]\u001B[39m\u001B[38;5;124m\"\u001B[39m, \u001B[38;5;28;43msuper\u001B[39;49m\u001B[43m(\u001B[49m\u001B[43m)\u001B[49m\u001B[38;5;241;43m.\u001B[39;49m\u001B[38;5;21;43m__getitem__\u001B[39;49m\u001B[43m(\u001B[49m\u001B[43mkey\u001B[49m\u001B[43m)\u001B[49m)\n\u001B[1;32m    382\u001B[0m \u001B[38;5;28;01mif\u001B[39;00m lib\u001B[38;5;241m.\u001B[39mis_scalar(result):\n\u001B[1;32m    383\u001B[0m     \u001B[38;5;28;01mreturn\u001B[39;00m result\n",
      "File \u001B[0;32m~/miniconda3/envs/rl_env/lib/python3.13/site-packages/pandas/core/arrays/_mixins.py:284\u001B[0m, in \u001B[0;36mNDArrayBackedExtensionArray.__getitem__\u001B[0;34m(self, key)\u001B[0m\n\u001B[1;32m    278\u001B[0m \u001B[38;5;28;01mdef\u001B[39;00m\u001B[38;5;250m \u001B[39m\u001B[38;5;21m__getitem__\u001B[39m(\n\u001B[1;32m    279\u001B[0m     \u001B[38;5;28mself\u001B[39m,\n\u001B[1;32m    280\u001B[0m     key: PositionalIndexer2D,\n\u001B[1;32m    281\u001B[0m ) \u001B[38;5;241m-\u001B[39m\u001B[38;5;241m>\u001B[39m Self \u001B[38;5;241m|\u001B[39m Any:\n\u001B[1;32m    282\u001B[0m     \u001B[38;5;28;01mif\u001B[39;00m lib\u001B[38;5;241m.\u001B[39mis_integer(key):\n\u001B[1;32m    283\u001B[0m         \u001B[38;5;66;03m# fast-path\u001B[39;00m\n\u001B[0;32m--> 284\u001B[0m         result \u001B[38;5;241m=\u001B[39m \u001B[38;5;28;43mself\u001B[39;49m\u001B[38;5;241;43m.\u001B[39;49m\u001B[43m_ndarray\u001B[49m\u001B[43m[\u001B[49m\u001B[43mkey\u001B[49m\u001B[43m]\u001B[49m\n\u001B[1;32m    285\u001B[0m         \u001B[38;5;28;01mif\u001B[39;00m \u001B[38;5;28mself\u001B[39m\u001B[38;5;241m.\u001B[39mndim \u001B[38;5;241m==\u001B[39m \u001B[38;5;241m1\u001B[39m:\n\u001B[1;32m    286\u001B[0m             \u001B[38;5;28;01mreturn\u001B[39;00m \u001B[38;5;28mself\u001B[39m\u001B[38;5;241m.\u001B[39m_box_func(result)\n",
      "\u001B[0;31mIndexError\u001B[0m: index 0 is out of bounds for axis 0 with size 0"
     ]
    }
   ],
   "execution_count": 10
  },
  {
   "metadata": {
    "ExecuteTime": {
     "end_time": "2025-05-05T11:40:24.933544Z",
     "start_time": "2025-05-05T11:40:24.305942Z"
    }
   },
   "cell_type": "code",
   "source": [
    "dax_data_30mins = get_data_from_yahoo(sampling_rate_min=30, period_days=60)\n",
    "dax_data_30mins.Close.plot()"
   ],
   "id": "1fc173830e4bb833",
   "outputs": [
    {
     "name": "stderr",
     "output_type": "stream",
     "text": [
      "[*********************100%***********************]  1 of 1 completed\n",
      "\n",
      "1 Failed download:\n",
      "['DAX']: YFRateLimitError('Too Many Requests. Rate limited. Try after a while.')\n"
     ]
    },
    {
     "ename": "IndexError",
     "evalue": "index 0 is out of bounds for axis 0 with size 0",
     "output_type": "error",
     "traceback": [
      "\u001B[0;31m---------------------------------------------------------------------------\u001B[0m",
      "\u001B[0;31mIndexError\u001B[0m                                Traceback (most recent call last)",
      "Cell \u001B[0;32mIn[7], line 1\u001B[0m\n\u001B[0;32m----> 1\u001B[0m dax_data_30mins \u001B[38;5;241m=\u001B[39m \u001B[43mget_data_from_yahoo\u001B[49m\u001B[43m(\u001B[49m\u001B[43msampling_rate_min\u001B[49m\u001B[38;5;241;43m=\u001B[39;49m\u001B[38;5;241;43m30\u001B[39;49m\u001B[43m,\u001B[49m\u001B[43m \u001B[49m\u001B[43mperiod_days\u001B[49m\u001B[38;5;241;43m=\u001B[39;49m\u001B[38;5;241;43m60\u001B[39;49m\u001B[43m)\u001B[49m\n\u001B[1;32m      2\u001B[0m dax_data_30mins\u001B[38;5;241m.\u001B[39mClose\u001B[38;5;241m.\u001B[39mplot()\n",
      "Cell \u001B[0;32mIn[5], line 11\u001B[0m, in \u001B[0;36mget_data_from_yahoo\u001B[0;34m(ticker, period_days, sampling_rate_min, sampling_rate_days, verbose)\u001B[0m\n\u001B[1;32m      9\u001B[0m \u001B[38;5;28;01mif\u001B[39;00m verbose:\n\u001B[1;32m     10\u001B[0m     pandas_freq \u001B[38;5;241m=\u001B[39m \u001B[38;5;124mf\u001B[39m\u001B[38;5;124m'\u001B[39m\u001B[38;5;132;01m{\u001B[39;00msampling_rate_days\u001B[38;5;132;01m}\u001B[39;00m\u001B[38;5;124mD\u001B[39m\u001B[38;5;124m'\u001B[39m \u001B[38;5;28;01mif\u001B[39;00m sampling_rate_days \u001B[38;5;129;01mis\u001B[39;00m \u001B[38;5;129;01mnot\u001B[39;00m \u001B[38;5;28;01mNone\u001B[39;00m \u001B[38;5;28;01melse\u001B[39;00m \u001B[38;5;124mf\u001B[39m\u001B[38;5;124m'\u001B[39m\u001B[38;5;132;01m{\u001B[39;00msampling_rate_min\u001B[38;5;132;01m}\u001B[39;00m\u001B[38;5;124mmin\u001B[39m\u001B[38;5;124m'\u001B[39m\n\u001B[0;32m---> 11\u001B[0m     compare_dt_index \u001B[38;5;241m=\u001B[39m pd\u001B[38;5;241m.\u001B[39mdate_range(start\u001B[38;5;241m=\u001B[39m\u001B[43mdata\u001B[49m\u001B[38;5;241;43m.\u001B[39;49m\u001B[43mindex\u001B[49m\u001B[43m[\u001B[49m\u001B[38;5;241;43m0\u001B[39;49m\u001B[43m]\u001B[49m, end\u001B[38;5;241m=\u001B[39mdata\u001B[38;5;241m.\u001B[39mindex[\u001B[38;5;241m-\u001B[39m\u001B[38;5;241m1\u001B[39m], freq\u001B[38;5;241m=\u001B[39m\u001B[38;5;124m'\u001B[39m\u001B[38;5;124m15min\u001B[39m\u001B[38;5;124m'\u001B[39m)\n\u001B[1;32m     12\u001B[0m     compare_dt_index \u001B[38;5;241m=\u001B[39m compare_dt_index[\u001B[38;5;241m~\u001B[39mcompare_dt_index\u001B[38;5;241m.\u001B[39mweekday\u001B[38;5;241m.\u001B[39misin([\u001B[38;5;241m5\u001B[39m, \u001B[38;5;241m6\u001B[39m])] \u001B[38;5;66;03m# exclude weekends\u001B[39;00m\n\u001B[1;32m     13\u001B[0m     compare_dt_index \u001B[38;5;241m=\u001B[39m compare_dt_index[\u001B[38;5;241m~\u001B[39m ( (compare_dt_index\u001B[38;5;241m.\u001B[39mhour \u001B[38;5;241m<\u001B[39m data\u001B[38;5;241m.\u001B[39mindex\u001B[38;5;241m.\u001B[39mhour\u001B[38;5;241m.\u001B[39mmin()) \u001B[38;5;241m|\u001B[39m (compare_dt_index\u001B[38;5;241m.\u001B[39mhour \u001B[38;5;241m>\u001B[39m data\u001B[38;5;241m.\u001B[39mindex\u001B[38;5;241m.\u001B[39mhour\u001B[38;5;241m.\u001B[39mmax()) )]  \u001B[38;5;66;03m# exclude non-operating hours\u001B[39;00m\n",
      "File \u001B[0;32m~/miniconda3/envs/rl_env/lib/python3.13/site-packages/pandas/core/indexes/base.py:5389\u001B[0m, in \u001B[0;36mIndex.__getitem__\u001B[0;34m(self, key)\u001B[0m\n\u001B[1;32m   5386\u001B[0m \u001B[38;5;28;01mif\u001B[39;00m is_integer(key) \u001B[38;5;129;01mor\u001B[39;00m is_float(key):\n\u001B[1;32m   5387\u001B[0m     \u001B[38;5;66;03m# GH#44051 exclude bool, which would return a 2d ndarray\u001B[39;00m\n\u001B[1;32m   5388\u001B[0m     key \u001B[38;5;241m=\u001B[39m com\u001B[38;5;241m.\u001B[39mcast_scalar_indexer(key)\n\u001B[0;32m-> 5389\u001B[0m     \u001B[38;5;28;01mreturn\u001B[39;00m \u001B[43mgetitem\u001B[49m\u001B[43m(\u001B[49m\u001B[43mkey\u001B[49m\u001B[43m)\u001B[49m\n\u001B[1;32m   5391\u001B[0m \u001B[38;5;28;01mif\u001B[39;00m \u001B[38;5;28misinstance\u001B[39m(key, \u001B[38;5;28mslice\u001B[39m):\n\u001B[1;32m   5392\u001B[0m     \u001B[38;5;66;03m# This case is separated from the conditional above to avoid\u001B[39;00m\n\u001B[1;32m   5393\u001B[0m     \u001B[38;5;66;03m# pessimization com.is_bool_indexer and ndim checks.\u001B[39;00m\n\u001B[1;32m   5394\u001B[0m     \u001B[38;5;28;01mreturn\u001B[39;00m \u001B[38;5;28mself\u001B[39m\u001B[38;5;241m.\u001B[39m_getitem_slice(key)\n",
      "File \u001B[0;32m~/miniconda3/envs/rl_env/lib/python3.13/site-packages/pandas/core/arrays/datetimelike.py:381\u001B[0m, in \u001B[0;36mDatetimeLikeArrayMixin.__getitem__\u001B[0;34m(self, key)\u001B[0m\n\u001B[1;32m    374\u001B[0m \u001B[38;5;250m\u001B[39m\u001B[38;5;124;03m\"\"\"\u001B[39;00m\n\u001B[1;32m    375\u001B[0m \u001B[38;5;124;03mThis getitem defers to the underlying array, which by-definition can\u001B[39;00m\n\u001B[1;32m    376\u001B[0m \u001B[38;5;124;03monly handle list-likes, slices, and integer scalars\u001B[39;00m\n\u001B[1;32m    377\u001B[0m \u001B[38;5;124;03m\"\"\"\u001B[39;00m\n\u001B[1;32m    378\u001B[0m \u001B[38;5;66;03m# Use cast as we know we will get back a DatetimeLikeArray or DTScalar,\u001B[39;00m\n\u001B[1;32m    379\u001B[0m \u001B[38;5;66;03m# but skip evaluating the Union at runtime for performance\u001B[39;00m\n\u001B[1;32m    380\u001B[0m \u001B[38;5;66;03m# (see https://github.com/pandas-dev/pandas/pull/44624)\u001B[39;00m\n\u001B[0;32m--> 381\u001B[0m result \u001B[38;5;241m=\u001B[39m cast(\u001B[38;5;124m\"\u001B[39m\u001B[38;5;124mUnion[Self, DTScalarOrNaT]\u001B[39m\u001B[38;5;124m\"\u001B[39m, \u001B[38;5;28;43msuper\u001B[39;49m\u001B[43m(\u001B[49m\u001B[43m)\u001B[49m\u001B[38;5;241;43m.\u001B[39;49m\u001B[38;5;21;43m__getitem__\u001B[39;49m\u001B[43m(\u001B[49m\u001B[43mkey\u001B[49m\u001B[43m)\u001B[49m)\n\u001B[1;32m    382\u001B[0m \u001B[38;5;28;01mif\u001B[39;00m lib\u001B[38;5;241m.\u001B[39mis_scalar(result):\n\u001B[1;32m    383\u001B[0m     \u001B[38;5;28;01mreturn\u001B[39;00m result\n",
      "File \u001B[0;32m~/miniconda3/envs/rl_env/lib/python3.13/site-packages/pandas/core/arrays/_mixins.py:284\u001B[0m, in \u001B[0;36mNDArrayBackedExtensionArray.__getitem__\u001B[0;34m(self, key)\u001B[0m\n\u001B[1;32m    278\u001B[0m \u001B[38;5;28;01mdef\u001B[39;00m\u001B[38;5;250m \u001B[39m\u001B[38;5;21m__getitem__\u001B[39m(\n\u001B[1;32m    279\u001B[0m     \u001B[38;5;28mself\u001B[39m,\n\u001B[1;32m    280\u001B[0m     key: PositionalIndexer2D,\n\u001B[1;32m    281\u001B[0m ) \u001B[38;5;241m-\u001B[39m\u001B[38;5;241m>\u001B[39m Self \u001B[38;5;241m|\u001B[39m Any:\n\u001B[1;32m    282\u001B[0m     \u001B[38;5;28;01mif\u001B[39;00m lib\u001B[38;5;241m.\u001B[39mis_integer(key):\n\u001B[1;32m    283\u001B[0m         \u001B[38;5;66;03m# fast-path\u001B[39;00m\n\u001B[0;32m--> 284\u001B[0m         result \u001B[38;5;241m=\u001B[39m \u001B[38;5;28;43mself\u001B[39;49m\u001B[38;5;241;43m.\u001B[39;49m\u001B[43m_ndarray\u001B[49m\u001B[43m[\u001B[49m\u001B[43mkey\u001B[49m\u001B[43m]\u001B[49m\n\u001B[1;32m    285\u001B[0m         \u001B[38;5;28;01mif\u001B[39;00m \u001B[38;5;28mself\u001B[39m\u001B[38;5;241m.\u001B[39mndim \u001B[38;5;241m==\u001B[39m \u001B[38;5;241m1\u001B[39m:\n\u001B[1;32m    286\u001B[0m             \u001B[38;5;28;01mreturn\u001B[39;00m \u001B[38;5;28mself\u001B[39m\u001B[38;5;241m.\u001B[39m_box_func(result)\n",
      "\u001B[0;31mIndexError\u001B[0m: index 0 is out of bounds for axis 0 with size 0"
     ]
    }
   ],
   "execution_count": 7
  },
  {
   "metadata": {},
   "cell_type": "code",
   "outputs": [],
   "execution_count": null,
   "source": "",
   "id": "1a55de39c019045"
  },
  {
   "metadata": {},
   "cell_type": "code",
   "outputs": [],
   "execution_count": null,
   "source": "",
   "id": "ea6a05b35d7c8cc0"
  },
  {
   "metadata": {},
   "cell_type": "code",
   "outputs": [],
   "execution_count": null,
   "source": "",
   "id": "462b69aaad2774c0"
  }
 ],
 "metadata": {
  "kernelspec": {
   "display_name": "Python 3",
   "language": "python",
   "name": "python3"
  },
  "language_info": {
   "codemirror_mode": {
    "name": "ipython",
    "version": 2
   },
   "file_extension": ".py",
   "mimetype": "text/x-python",
   "name": "python",
   "nbconvert_exporter": "python",
   "pygments_lexer": "ipython2",
   "version": "2.7.6"
  }
 },
 "nbformat": 4,
 "nbformat_minor": 5
}
