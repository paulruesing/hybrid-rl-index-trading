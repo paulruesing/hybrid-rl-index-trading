{
 "cells": [
  {
   "metadata": {},
   "cell_type": "markdown",
   "source": "# Price Predictor Parameter Optimisation",
   "id": "71b6501c476a85d7"
  },
  {
   "metadata": {
    "ExecuteTime": {
     "end_time": "2025-05-21T19:56:42.820975Z",
     "start_time": "2025-05-21T19:56:38.424185Z"
    }
   },
   "cell_type": "code",
   "source": [
    "import src.utils.file_management as filemgmt\n",
    "import src.pipeline.preprocessing as prep\n",
    "import src.pipeline.predictors as predictors\n",
    "from src.pipeline.predictors import LSTMPredictor\n",
    "\n",
    "import pandas as pd\n",
    "import numpy as np\n",
    "from pathlib import Path\n",
    "from typing import Literal, Union\n",
    "\n",
    "from tqdm import tqdm\n",
    "from alpha_vantage.timeseries import TimeSeries\n",
    "\n",
    "import torch\n",
    "import torch.nn as nn\n",
    "import torch.nn.functional as F\n",
    "import torch.optim as optim\n",
    "from torch.utils.data import Dataset, DataLoader\n",
    "from matplotlib.lines import Line2D\n",
    "\n",
    "import matplotlib.pyplot as plt"
   ],
   "id": "ec348715c8a0ff56",
   "outputs": [],
   "execution_count": 1
  },
  {
   "metadata": {
    "ExecuteTime": {
     "end_time": "2025-05-21T19:56:42.835909Z",
     "start_time": "2025-05-21T19:56:42.831478Z"
    }
   },
   "cell_type": "code",
   "source": [
    "ROOT = Path().resolve().parent\n",
    "\n",
    "DATA = ROOT / \"data\"\n",
    "DAILY_PRICES = DATA / \"daily_price_downloads\"\n",
    "MINUTELY_PRICES = DATA / \"minutely_price_downloads\"\n",
    "INTERPOLATED_PRICES = DATA / \"interpolated_prices\"\n",
    "\n",
    "SAVED_MODELS = DATA / \"saved_models\""
   ],
   "id": "e487f3895fe5c86e",
   "outputs": [],
   "execution_count": 2
  },
  {
   "metadata": {},
   "cell_type": "markdown",
   "source": [
    "## Parametrisation Short-Term - a2\n",
    "Predict **4 hours** based on **15-minutely price data** of the **last 8 hours**."
   ],
   "id": "afff8d2ce08e1d5a"
  },
  {
   "metadata": {
    "ExecuteTime": {
     "end_time": "2025-05-22T11:47:23.089475Z",
     "start_time": "2025-05-22T10:22:20.233908Z"
    }
   },
   "cell_type": "code",
   "source": [
    "a2_results = predictors.predictor_parametrisation_loop(evaluate_hit_rate=True,\n",
    "                                                       sort_metric='Val HR',\n",
    "                                                       n_train_epochs=200,\n",
    "                                                       early_stopping_patience=20,\n",
    "                                                       sampling_rate_minutes=15,  # 15 minutes\n",
    "                                                       price_csv_path=filemgmt.most_recent_file(INTERPOLATED_PRICES, '.csv', '15min'),\n",
    "                                                       daily_prediction_hour=16,\n",
    "                                                       predict_before_daily_prediction_hour=False,\n",
    "                                                       rolling_window_size=32,\n",
    "                                                       forecast_horizon=16,\n",
    "                                                       batch_size=64,\n",
    "                                                       validation_split=0.1,\n",
    "                                                       model_save_directory=SAVED_MODELS / \"predictor_a2\",\n",
    "                                                       # parameters to optimise for:\n",
    "                                                       hidden_lstm_layer_size_set=[128, 256],  # 64 (was mostly worse)\n",
    "                                                       n_lstm_layers_set=[3, 4],  # 2 (was mostly worse)\n",
    "                                                       forecast_step_loss_weight_range_set=[(1, .7), (.85, .85),\n",
    "                                                                                            (.7, 1)],\n",
    "                                                       use_pre_lstm_fc_layer_set=[False],  # True (maybe simplicity is key?)\n",
    "                                                       use_final_hidden_state_set=[True],  # False  (settings seems to have negligible impact)\n",
    "                                                       dropout_set=[.4],  # .3  (.4 seems to generalise better, as expected)\n",
    "                                                       )\n",
    "a2_results"
   ],
   "id": "23ec0590be3c0fc5",
   "outputs": [
    {
     "name": "stderr",
     "output_type": "stream",
     "text": [
      "Train loss: 0.038591534859733656 | Val Loss: 2.4626315534114838  | Patience 19/20 | LRate: 6.25e-05 | Progress:  19%|█▉        | 38/200 [02:43<11:37,  4.30s/it]\n"
     ]
    },
    {
     "name": "stdout",
     "output_type": "stream",
     "text": [
      "Early stopping triggered at validation loss of 2.1718326210975647\n"
     ]
    },
    {
     "name": "stderr",
     "output_type": "stream",
     "text": [
      "100%|██████████| 2468/2468 [00:25<00:00, 98.10it/s] \n",
      "100%|██████████| 275/275 [00:02<00:00, 97.51it/s]\n",
      "Train loss: 0.047490859898971394 | Val Loss: 2.4323862493038177  | Patience 19/20 | LRate: 0.000125 | Progress:  12%|█▏        | 24/200 [01:47<13:10,  4.49s/it]\n"
     ]
    },
    {
     "name": "stdout",
     "output_type": "stream",
     "text": [
      "Early stopping triggered at validation loss of 2.7633748054504395\n"
     ]
    },
    {
     "name": "stderr",
     "output_type": "stream",
     "text": [
      "100%|██████████| 2468/2468 [00:24<00:00, 102.30it/s]\n",
      "100%|██████████| 275/275 [00:02<00:00, 102.95it/s]\n",
      "Train loss: 0.04521715268492699 | Val Loss: 2.3603419959545135  | Patience 19/20 | LRate: 0.000125 | Progress:  11%|█         | 22/200 [01:39<13:21,  4.51s/it]\n"
     ]
    },
    {
     "name": "stdout",
     "output_type": "stream",
     "text": [
      "Early stopping triggered at validation loss of 2.531826436519623\n"
     ]
    },
    {
     "name": "stderr",
     "output_type": "stream",
     "text": [
      "100%|██████████| 2468/2468 [00:25<00:00, 98.57it/s] \n",
      "100%|██████████| 275/275 [00:02<00:00, 97.89it/s]\n",
      "Train loss: 0.04311996062460821 | Val Loss: 2.308650553226471  | Patience 19/20 | LRate: 0.000125 | Progress:  12%|█▎        | 25/200 [02:32<17:45,  6.09s/it] \n"
     ]
    },
    {
     "name": "stdout",
     "output_type": "stream",
     "text": [
      "Early stopping triggered at validation loss of 2.5630407631397247\n"
     ]
    },
    {
     "name": "stderr",
     "output_type": "stream",
     "text": [
      "100%|██████████| 2468/2468 [00:31<00:00, 77.89it/s]\n",
      "100%|██████████| 275/275 [00:03<00:00, 78.09it/s]\n",
      "Train loss: 0.04265175528416876 | Val Loss: 2.2614286839962006  | Patience 19/20 | LRate: 0.000125 | Progress:  12%|█▎        | 25/200 [02:34<18:01,  6.18s/it]\n"
     ]
    },
    {
     "name": "stdout",
     "output_type": "stream",
     "text": [
      "Early stopping triggered at validation loss of 2.362072706222534\n"
     ]
    },
    {
     "name": "stderr",
     "output_type": "stream",
     "text": [
      "100%|██████████| 2468/2468 [00:30<00:00, 81.63it/s]\n",
      "100%|██████████| 275/275 [00:03<00:00, 80.24it/s]\n",
      "Train loss: 0.04233079185360111 | Val Loss: 2.149389535188675  | Patience 19/20 | LRate: 0.000125 | Progress:  13%|█▎        | 26/200 [02:42<18:09,  6.26s/it] \n"
     ]
    },
    {
     "name": "stdout",
     "output_type": "stream",
     "text": [
      "Early stopping triggered at validation loss of 2.2570862770080566\n"
     ]
    },
    {
     "name": "stderr",
     "output_type": "stream",
     "text": [
      "100%|██████████| 2468/2468 [00:31<00:00, 79.33it/s]\n",
      "100%|██████████| 275/275 [00:03<00:00, 80.20it/s]\n",
      "Train loss: 0.041194791439920664 | Val Loss: 2.2919795513153076  | Patience 19/20 | LRate: 0.000125 | Progress:  10%|█         | 21/200 [04:08<35:21, 11.85s/it]\n"
     ]
    },
    {
     "name": "stdout",
     "output_type": "stream",
     "text": [
      "Early stopping triggered at validation loss of 2.733959883451462\n"
     ]
    },
    {
     "name": "stderr",
     "output_type": "stream",
     "text": [
      "100%|██████████| 2468/2468 [00:34<00:00, 72.14it/s]\n",
      "100%|██████████| 275/275 [00:03<00:00, 72.24it/s]\n",
      "Train loss: 0.043918579060118645 | Val Loss: 2.2990501523017883  | Patience 19/20 | LRate: 0.000125 | Progress:  10%|█         | 20/200 [03:57<35:35, 11.86s/it]\n"
     ]
    },
    {
     "name": "stdout",
     "output_type": "stream",
     "text": [
      "Early stopping triggered at validation loss of 2.162608250975609\n"
     ]
    },
    {
     "name": "stderr",
     "output_type": "stream",
     "text": [
      "100%|██████████| 2468/2468 [00:34<00:00, 71.36it/s]\n",
      "100%|██████████| 275/275 [00:03<00:00, 72.51it/s]\n",
      "Train loss: 0.036813960286963265 | Val Loss: 1.6997721046209335  | Patience 19/20 | LRate: 3.90625e-06 | Progress:  44%|████▎     | 87/200 [16:47<21:48, 11.58s/it]\n"
     ]
    },
    {
     "name": "stdout",
     "output_type": "stream",
     "text": [
      "Early stopping triggered at validation loss of 1.738769382238388\n"
     ]
    },
    {
     "name": "stderr",
     "output_type": "stream",
     "text": [
      "100%|██████████| 2468/2468 [00:34<00:00, 71.64it/s]\n",
      "100%|██████████| 275/275 [00:03<00:00, 72.01it/s]\n",
      "Train loss: 0.03997202870959882 | Val Loss: 2.719214677810669  | Patience 19/20 | LRate: 0.000125 | Progress:  12%|█▏        | 23/200 [06:03<46:37, 15.80s/it] \n"
     ]
    },
    {
     "name": "stdout",
     "output_type": "stream",
     "text": [
      "Early stopping triggered at validation loss of 2.3316901326179504\n"
     ]
    },
    {
     "name": "stderr",
     "output_type": "stream",
     "text": [
      "100%|██████████| 2468/2468 [00:46<00:00, 53.46it/s]\n",
      "100%|██████████| 275/275 [00:05<00:00, 53.92it/s]\n",
      "Train loss: 0.03491487151768524 | Val Loss: 1.551470622420311  | Patience 19/20 | LRate: 4.8828125e-07 | Progress:  51%|█████     | 102/200 [26:58<25:55, 15.87s/it]\n"
     ]
    },
    {
     "name": "stdout",
     "output_type": "stream",
     "text": [
      "Early stopping triggered at validation loss of 1.6844927966594696\n"
     ]
    },
    {
     "name": "stderr",
     "output_type": "stream",
     "text": [
      "100%|██████████| 2468/2468 [00:46<00:00, 52.90it/s]\n",
      "100%|██████████| 275/275 [00:05<00:00, 52.79it/s]\n",
      "Train loss: 0.04496143452706747 | Val Loss: 2.4055043160915375  | Patience 19/20 | LRate: 0.000125 | Progress:  10%|█         | 20/200 [05:31<49:39, 16.55s/it]\n"
     ]
    },
    {
     "name": "stdout",
     "output_type": "stream",
     "text": [
      "Early stopping triggered at validation loss of 2.465428739786148\n"
     ]
    },
    {
     "name": "stderr",
     "output_type": "stream",
     "text": [
      "100%|██████████| 2468/2468 [00:46<00:00, 52.95it/s]\n",
      "100%|██████████| 275/275 [00:05<00:00, 52.37it/s]\n"
     ]
    },
    {
     "data": {
      "text/plain": [
       "   Hidden Layer Size N. LSTM Layers Loss Weight Range Pre-LSTM FC Layer  \\\n",
       "10               256              4      (0.85, 0.85)             False   \n",
       "8                256              3          (0.7, 1)             False   \n",
       "2                128              3          (0.7, 1)             False   \n",
       "6                256              3          (1, 0.7)             False   \n",
       "3                128              4          (1, 0.7)             False   \n",
       "7                256              3      (0.85, 0.85)             False   \n",
       "0                128              3          (1, 0.7)             False   \n",
       "5                128              4          (0.7, 1)             False   \n",
       "1                128              3      (0.85, 0.85)             False   \n",
       "4                128              4      (0.85, 0.85)             False   \n",
       "11               256              4          (0.7, 1)             False   \n",
       "9                256              4          (1, 0.7)             False   \n",
       "\n",
       "   Final Hidden State Dropout Train Loss  Val Loss  Train HR    Val HR  \n",
       "10               True     0.4   0.034957  1.684493   0.47812  0.461818  \n",
       "8                True     0.4   0.036902  1.738769  0.469611  0.454545  \n",
       "2                True     0.4   0.043851  2.531826   0.48906  0.447273  \n",
       "6                True     0.4   0.041657   2.73396  0.497569  0.443636  \n",
       "3                True     0.4   0.043735  2.563041  0.476904  0.421818  \n",
       "7                True     0.4   0.041528  2.162608  0.486629  0.421818  \n",
       "0                True     0.4   0.038111  2.171833   0.45624  0.407273  \n",
       "5                True     0.4   0.041998  2.257086  0.427877  0.407273  \n",
       "1                True     0.4   0.045887  2.763375  0.468395  0.403636  \n",
       "4                True     0.4   0.040517  2.362073  0.476094  0.403636  \n",
       "11               True     0.4   0.043683  2.465429   0.45705       0.4  \n",
       "9                True     0.4   0.040324   2.33169  0.481361  0.396364  "
      ],
      "text/html": [
       "<div>\n",
       "<style scoped>\n",
       "    .dataframe tbody tr th:only-of-type {\n",
       "        vertical-align: middle;\n",
       "    }\n",
       "\n",
       "    .dataframe tbody tr th {\n",
       "        vertical-align: top;\n",
       "    }\n",
       "\n",
       "    .dataframe thead th {\n",
       "        text-align: right;\n",
       "    }\n",
       "</style>\n",
       "<table border=\"1\" class=\"dataframe\">\n",
       "  <thead>\n",
       "    <tr style=\"text-align: right;\">\n",
       "      <th></th>\n",
       "      <th>Hidden Layer Size</th>\n",
       "      <th>N. LSTM Layers</th>\n",
       "      <th>Loss Weight Range</th>\n",
       "      <th>Pre-LSTM FC Layer</th>\n",
       "      <th>Final Hidden State</th>\n",
       "      <th>Dropout</th>\n",
       "      <th>Train Loss</th>\n",
       "      <th>Val Loss</th>\n",
       "      <th>Train HR</th>\n",
       "      <th>Val HR</th>\n",
       "    </tr>\n",
       "  </thead>\n",
       "  <tbody>\n",
       "    <tr>\n",
       "      <th>10</th>\n",
       "      <td>256</td>\n",
       "      <td>4</td>\n",
       "      <td>(0.85, 0.85)</td>\n",
       "      <td>False</td>\n",
       "      <td>True</td>\n",
       "      <td>0.4</td>\n",
       "      <td>0.034957</td>\n",
       "      <td>1.684493</td>\n",
       "      <td>0.47812</td>\n",
       "      <td>0.461818</td>\n",
       "    </tr>\n",
       "    <tr>\n",
       "      <th>8</th>\n",
       "      <td>256</td>\n",
       "      <td>3</td>\n",
       "      <td>(0.7, 1)</td>\n",
       "      <td>False</td>\n",
       "      <td>True</td>\n",
       "      <td>0.4</td>\n",
       "      <td>0.036902</td>\n",
       "      <td>1.738769</td>\n",
       "      <td>0.469611</td>\n",
       "      <td>0.454545</td>\n",
       "    </tr>\n",
       "    <tr>\n",
       "      <th>2</th>\n",
       "      <td>128</td>\n",
       "      <td>3</td>\n",
       "      <td>(0.7, 1)</td>\n",
       "      <td>False</td>\n",
       "      <td>True</td>\n",
       "      <td>0.4</td>\n",
       "      <td>0.043851</td>\n",
       "      <td>2.531826</td>\n",
       "      <td>0.48906</td>\n",
       "      <td>0.447273</td>\n",
       "    </tr>\n",
       "    <tr>\n",
       "      <th>6</th>\n",
       "      <td>256</td>\n",
       "      <td>3</td>\n",
       "      <td>(1, 0.7)</td>\n",
       "      <td>False</td>\n",
       "      <td>True</td>\n",
       "      <td>0.4</td>\n",
       "      <td>0.041657</td>\n",
       "      <td>2.73396</td>\n",
       "      <td>0.497569</td>\n",
       "      <td>0.443636</td>\n",
       "    </tr>\n",
       "    <tr>\n",
       "      <th>3</th>\n",
       "      <td>128</td>\n",
       "      <td>4</td>\n",
       "      <td>(1, 0.7)</td>\n",
       "      <td>False</td>\n",
       "      <td>True</td>\n",
       "      <td>0.4</td>\n",
       "      <td>0.043735</td>\n",
       "      <td>2.563041</td>\n",
       "      <td>0.476904</td>\n",
       "      <td>0.421818</td>\n",
       "    </tr>\n",
       "    <tr>\n",
       "      <th>7</th>\n",
       "      <td>256</td>\n",
       "      <td>3</td>\n",
       "      <td>(0.85, 0.85)</td>\n",
       "      <td>False</td>\n",
       "      <td>True</td>\n",
       "      <td>0.4</td>\n",
       "      <td>0.041528</td>\n",
       "      <td>2.162608</td>\n",
       "      <td>0.486629</td>\n",
       "      <td>0.421818</td>\n",
       "    </tr>\n",
       "    <tr>\n",
       "      <th>0</th>\n",
       "      <td>128</td>\n",
       "      <td>3</td>\n",
       "      <td>(1, 0.7)</td>\n",
       "      <td>False</td>\n",
       "      <td>True</td>\n",
       "      <td>0.4</td>\n",
       "      <td>0.038111</td>\n",
       "      <td>2.171833</td>\n",
       "      <td>0.45624</td>\n",
       "      <td>0.407273</td>\n",
       "    </tr>\n",
       "    <tr>\n",
       "      <th>5</th>\n",
       "      <td>128</td>\n",
       "      <td>4</td>\n",
       "      <td>(0.7, 1)</td>\n",
       "      <td>False</td>\n",
       "      <td>True</td>\n",
       "      <td>0.4</td>\n",
       "      <td>0.041998</td>\n",
       "      <td>2.257086</td>\n",
       "      <td>0.427877</td>\n",
       "      <td>0.407273</td>\n",
       "    </tr>\n",
       "    <tr>\n",
       "      <th>1</th>\n",
       "      <td>128</td>\n",
       "      <td>3</td>\n",
       "      <td>(0.85, 0.85)</td>\n",
       "      <td>False</td>\n",
       "      <td>True</td>\n",
       "      <td>0.4</td>\n",
       "      <td>0.045887</td>\n",
       "      <td>2.763375</td>\n",
       "      <td>0.468395</td>\n",
       "      <td>0.403636</td>\n",
       "    </tr>\n",
       "    <tr>\n",
       "      <th>4</th>\n",
       "      <td>128</td>\n",
       "      <td>4</td>\n",
       "      <td>(0.85, 0.85)</td>\n",
       "      <td>False</td>\n",
       "      <td>True</td>\n",
       "      <td>0.4</td>\n",
       "      <td>0.040517</td>\n",
       "      <td>2.362073</td>\n",
       "      <td>0.476094</td>\n",
       "      <td>0.403636</td>\n",
       "    </tr>\n",
       "    <tr>\n",
       "      <th>11</th>\n",
       "      <td>256</td>\n",
       "      <td>4</td>\n",
       "      <td>(0.7, 1)</td>\n",
       "      <td>False</td>\n",
       "      <td>True</td>\n",
       "      <td>0.4</td>\n",
       "      <td>0.043683</td>\n",
       "      <td>2.465429</td>\n",
       "      <td>0.45705</td>\n",
       "      <td>0.4</td>\n",
       "    </tr>\n",
       "    <tr>\n",
       "      <th>9</th>\n",
       "      <td>256</td>\n",
       "      <td>4</td>\n",
       "      <td>(1, 0.7)</td>\n",
       "      <td>False</td>\n",
       "      <td>True</td>\n",
       "      <td>0.4</td>\n",
       "      <td>0.040324</td>\n",
       "      <td>2.33169</td>\n",
       "      <td>0.481361</td>\n",
       "      <td>0.396364</td>\n",
       "    </tr>\n",
       "  </tbody>\n",
       "</table>\n",
       "</div>"
      ]
     },
     "execution_count": 8,
     "metadata": {},
     "output_type": "execute_result"
    }
   ],
   "execution_count": 8
  },
  {
   "metadata": {},
   "cell_type": "markdown",
   "source": [
    "## Parametrisation Mid-Term - b1\n",
    "Predict **1 day** based on **hourly price data** of the **last week**."
   ],
   "id": "b3cf7ea861098775"
  },
  {
   "metadata": {
    "ExecuteTime": {
     "end_time": "2025-05-22T08:58:47.526465Z",
     "start_time": "2025-05-22T06:52:03.802992Z"
    }
   },
   "cell_type": "code",
   "source": [
    "b1_results = predictors.predictor_parametrisation_loop(evaluate_hit_rate=True,\n",
    "                                                       sort_metric='Val HR',\n",
    "                                                       n_train_epochs=200,\n",
    "                                                       early_stopping_patience=20,\n",
    "                                                       sampling_rate_minutes=60,  # hourly prices\n",
    "                                                       price_csv_path=filemgmt.most_recent_file(INTERPOLATED_PRICES, '.csv', '60min'),\n",
    "                                                       daily_prediction_hour=20,\n",
    "                                                       predict_before_daily_prediction_hour=True,\n",
    "                                                       rolling_window_size=68,\n",
    "                                                       forecast_horizon=14,\n",
    "                                                       batch_size=64,\n",
    "                                                       validation_split=0.1,\n",
    "                                                       model_save_directory=SAVED_MODELS / \"predictor_b1\",\n",
    "                                                       # parameters to optimise for:\n",
    "                                                       hidden_lstm_layer_size_set=[128, 256],  # 64 (was mostly worse)\n",
    "                                                       n_lstm_layers_set=[3, 4],  # 2 (was mostly worse)\n",
    "                                                       forecast_step_loss_weight_range_set=[(1, .7), (.85, .85),\n",
    "                                                                                            (.7, 1)],\n",
    "                                                       use_pre_lstm_fc_layer_set=[False],  # True (maybe simplicity is key?)\n",
    "                                                       use_final_hidden_state_set=[True],  # False  (settings seems to have negligible impact)\n",
    "                                                       dropout_set=[.4],  # .3  (.4 seems to generalise better, as expected)\n",
    "                                                       )\n",
    "b1_results"
   ],
   "id": "4071ed493e688898",
   "outputs": [
    {
     "name": "stderr",
     "output_type": "stream",
     "text": [
      "Train loss: 0.10543301748111844 | Val Loss: 2.1782477498054504  | Patience 19/20 | LRate: 0.000125 | Progress:  12%|█▎        | 25/200 [02:23<16:45,  5.74s/it]\n"
     ]
    },
    {
     "name": "stdout",
     "output_type": "stream",
     "text": [
      "Early stopping triggered at validation loss of 2.1479981541633606\n"
     ]
    },
    {
     "name": "stderr",
     "output_type": "stream",
     "text": [
      "100%|██████████| 2465/2465 [00:20<00:00, 117.52it/s]\n",
      "100%|██████████| 274/274 [00:02<00:00, 116.52it/s]\n",
      "Train loss: 0.10312092851381749 | Val Loss: 1.7639930248260498  | Patience 19/20 | LRate: 3.90625e-06 | Progress:  36%|███▌      | 72/200 [06:49<12:07,  5.68s/it]\n"
     ]
    },
    {
     "name": "stdout",
     "output_type": "stream",
     "text": [
      "Early stopping triggered at validation loss of 2.0777192413806915\n"
     ]
    },
    {
     "name": "stderr",
     "output_type": "stream",
     "text": [
      "100%|██████████| 2465/2465 [00:24<00:00, 99.95it/s] \n",
      "100%|██████████| 274/274 [00:02<00:00, 115.22it/s]\n",
      "Train loss: 0.10946871398482472 | Val Loss: 2.2734962701797485  | Patience 19/20 | LRate: 1.953125e-06 | Progress:  36%|███▌      | 71/200 [06:41<12:09,  5.66s/it]\n"
     ]
    },
    {
     "name": "stdout",
     "output_type": "stream",
     "text": [
      "Early stopping triggered at validation loss of 2.337818756699562\n"
     ]
    },
    {
     "name": "stderr",
     "output_type": "stream",
     "text": [
      "100%|██████████| 2465/2465 [00:20<00:00, 118.67it/s]\n",
      "100%|██████████| 274/274 [00:02<00:00, 113.95it/s]\n",
      "Train loss: 0.10974332701880485 | Val Loss: 2.162226140499115  | Patience 19/20 | LRate: 0.000125 | Progress:  12%|█▏        | 24/200 [03:49<28:01,  9.55s/it]\n"
     ]
    },
    {
     "name": "stdout",
     "output_type": "stream",
     "text": [
      "Early stopping triggered at validation loss of 2.4202506244182587\n"
     ]
    },
    {
     "name": "stderr",
     "output_type": "stream",
     "text": [
      "100%|██████████| 2465/2465 [00:35<00:00, 70.24it/s]\n",
      "100%|██████████| 274/274 [00:03<00:00, 70.25it/s]\n",
      "Train loss: 0.0998729313723743 | Val Loss: 1.889426052570343  | Patience 19/20 | LRate: 7.8125e-06 | Progress:  35%|███▌      | 70/200 [11:57<22:12, 10.25s/it]  \n"
     ]
    },
    {
     "name": "stdout",
     "output_type": "stream",
     "text": [
      "Early stopping triggered at validation loss of 1.7904465049505234\n"
     ]
    },
    {
     "name": "stderr",
     "output_type": "stream",
     "text": [
      "100%|██████████| 2465/2465 [00:40<00:00, 61.17it/s]\n",
      "100%|██████████| 274/274 [00:04<00:00, 61.00it/s]\n",
      "Train loss: 0.10835820145439357 | Val Loss: 2.057125210762024  | Patience 19/20 | LRate: 7.8125e-06 | Progress:  33%|███▎      | 66/200 [10:20<21:00,  9.41s/it] \n"
     ]
    },
    {
     "name": "stdout",
     "output_type": "stream",
     "text": [
      "Early stopping triggered at validation loss of 2.1043761074543\n"
     ]
    },
    {
     "name": "stderr",
     "output_type": "stream",
     "text": [
      "100%|██████████| 2465/2465 [00:35<00:00, 70.37it/s]\n",
      "100%|██████████| 274/274 [00:03<00:00, 70.80it/s]\n",
      "Train loss: 0.09312028042040765 | Val Loss: 2.260948419570923  | Patience 19/20 | LRate: 1.5625e-05 | Progress:  28%|██▊       | 57/200 [18:09<45:33, 19.12s/it]\n"
     ]
    },
    {
     "name": "stdout",
     "output_type": "stream",
     "text": [
      "Early stopping triggered at validation loss of 2.331695467233658\n"
     ]
    },
    {
     "name": "stderr",
     "output_type": "stream",
     "text": [
      "100%|██████████| 2465/2465 [00:29<00:00, 83.41it/s]\n",
      "100%|██████████| 274/274 [00:03<00:00, 87.52it/s]\n",
      "Train loss: 0.1056306849932298 | Val Loss: 1.9904246628284454  | Patience 19/20 | LRate: 0.000125 | Progress:  12%|█▎        | 25/200 [06:46<47:28, 16.28s/it]\n"
     ]
    },
    {
     "name": "stdout",
     "output_type": "stream",
     "text": [
      "Early stopping triggered at validation loss of 1.9110333621501923\n"
     ]
    },
    {
     "name": "stderr",
     "output_type": "stream",
     "text": [
      "100%|██████████| 2465/2465 [00:44<00:00, 55.70it/s]\n",
      "100%|██████████| 274/274 [00:05<00:00, 51.59it/s]\n",
      "Train loss: 0.10263369721360505 | Val Loss: 2.07333242893219  | Patience 19/20 | LRate: 6.25e-05 | Progress:  24%|██▍       | 48/200 [15:09<48:01, 18.95s/it]  \n"
     ]
    },
    {
     "name": "stdout",
     "output_type": "stream",
     "text": [
      "Early stopping triggered at validation loss of 2.4295504689216614\n"
     ]
    },
    {
     "name": "stderr",
     "output_type": "stream",
     "text": [
      "100%|██████████| 2465/2465 [00:29<00:00, 84.91it/s]\n",
      "100%|██████████| 274/274 [00:03<00:00, 85.48it/s]\n",
      "Train loss: 0.09359292197041214 | Val Loss: 2.0738063752651215  | Patience 19/20 | LRate: 7.8125e-06 | Progress:  30%|███       | 61/200 [21:08<48:10, 20.80s/it]\n"
     ]
    },
    {
     "name": "stdout",
     "output_type": "stream",
     "text": [
      "Early stopping triggered at validation loss of 1.7711784839630127\n"
     ]
    },
    {
     "name": "stderr",
     "output_type": "stream",
     "text": [
      "100%|██████████| 2465/2465 [00:53<00:00, 45.73it/s]\n",
      "100%|██████████| 274/274 [00:05<00:00, 53.53it/s]\n",
      "Train loss: 0.10909297317266464 | Val Loss: 1.923585593700409  | Patience 19/20 | LRate: 0.000125 | Progress:  12%|█▏        | 23/200 [08:13<1:03:17, 21.45s/it]\n"
     ]
    },
    {
     "name": "stdout",
     "output_type": "stream",
     "text": [
      "Early stopping triggered at validation loss of 2.12076997756958\n"
     ]
    },
    {
     "name": "stderr",
     "output_type": "stream",
     "text": [
      "100%|██████████| 2465/2465 [00:43<00:00, 57.23it/s]\n",
      "100%|██████████| 274/274 [00:05<00:00, 54.32it/s]\n",
      "Train loss: 0.11428390408400446 | Val Loss: 2.1895630061626434  | Patience 19/20 | LRate: 0.000125 | Progress:  10%|█         | 21/200 [07:32<1:04:13, 21.53s/it]\n"
     ]
    },
    {
     "name": "stdout",
     "output_type": "stream",
     "text": [
      "Early stopping triggered at validation loss of 2.183376431465149\n"
     ]
    },
    {
     "name": "stderr",
     "output_type": "stream",
     "text": [
      "100%|██████████| 2465/2465 [00:38<00:00, 64.50it/s]\n",
      "100%|██████████| 274/274 [00:04<00:00, 64.57it/s]\n"
     ]
    },
    {
     "data": {
      "text/plain": [
       "   Hidden Layer Size N. LSTM Layers Loss Weight Range Pre-LSTM FC Layer  \\\n",
       "7                256              3      (0.85, 0.85)             False   \n",
       "1                128              3      (0.85, 0.85)             False   \n",
       "4                128              4      (0.85, 0.85)             False   \n",
       "0                128              3          (1, 0.7)             False   \n",
       "9                256              4          (1, 0.7)             False   \n",
       "2                128              3          (0.7, 1)             False   \n",
       "3                128              4          (1, 0.7)             False   \n",
       "5                128              4          (0.7, 1)             False   \n",
       "6                256              3          (1, 0.7)             False   \n",
       "10               256              4      (0.85, 0.85)             False   \n",
       "11               256              4          (0.7, 1)             False   \n",
       "8                256              3          (0.7, 1)             False   \n",
       "\n",
       "   Final Hidden State Dropout Train Loss  Val Loss  Train HR    Val HR  \n",
       "7                True     0.4   0.106412  1.911033  0.486004  0.532847  \n",
       "1                True     0.4   0.100857  2.077719  0.474239  0.529197  \n",
       "4                True     0.4   0.099665  1.790447   0.46856  0.529197  \n",
       "0                True     0.4    0.10476  2.147998  0.489249  0.521898  \n",
       "9                True     0.4   0.092239  1.771178  0.480325  0.521898  \n",
       "2                True     0.4   0.113377  2.337819  0.476268  0.518248  \n",
       "3                True     0.4   0.108607  2.420251  0.490467  0.518248  \n",
       "5                True     0.4   0.106644  2.104376   0.48357  0.518248  \n",
       "6                True     0.4    0.09268  2.331695  0.467748  0.510949  \n",
       "10               True     0.4   0.108009   2.12077  0.494118  0.510949  \n",
       "11               True     0.4    0.11221  2.183376   0.48641   0.50365  \n",
       "8                True     0.4   0.102196   2.42955  0.486815  0.478102  "
      ],
      "text/html": [
       "<div>\n",
       "<style scoped>\n",
       "    .dataframe tbody tr th:only-of-type {\n",
       "        vertical-align: middle;\n",
       "    }\n",
       "\n",
       "    .dataframe tbody tr th {\n",
       "        vertical-align: top;\n",
       "    }\n",
       "\n",
       "    .dataframe thead th {\n",
       "        text-align: right;\n",
       "    }\n",
       "</style>\n",
       "<table border=\"1\" class=\"dataframe\">\n",
       "  <thead>\n",
       "    <tr style=\"text-align: right;\">\n",
       "      <th></th>\n",
       "      <th>Hidden Layer Size</th>\n",
       "      <th>N. LSTM Layers</th>\n",
       "      <th>Loss Weight Range</th>\n",
       "      <th>Pre-LSTM FC Layer</th>\n",
       "      <th>Final Hidden State</th>\n",
       "      <th>Dropout</th>\n",
       "      <th>Train Loss</th>\n",
       "      <th>Val Loss</th>\n",
       "      <th>Train HR</th>\n",
       "      <th>Val HR</th>\n",
       "    </tr>\n",
       "  </thead>\n",
       "  <tbody>\n",
       "    <tr>\n",
       "      <th>7</th>\n",
       "      <td>256</td>\n",
       "      <td>3</td>\n",
       "      <td>(0.85, 0.85)</td>\n",
       "      <td>False</td>\n",
       "      <td>True</td>\n",
       "      <td>0.4</td>\n",
       "      <td>0.106412</td>\n",
       "      <td>1.911033</td>\n",
       "      <td>0.486004</td>\n",
       "      <td>0.532847</td>\n",
       "    </tr>\n",
       "    <tr>\n",
       "      <th>1</th>\n",
       "      <td>128</td>\n",
       "      <td>3</td>\n",
       "      <td>(0.85, 0.85)</td>\n",
       "      <td>False</td>\n",
       "      <td>True</td>\n",
       "      <td>0.4</td>\n",
       "      <td>0.100857</td>\n",
       "      <td>2.077719</td>\n",
       "      <td>0.474239</td>\n",
       "      <td>0.529197</td>\n",
       "    </tr>\n",
       "    <tr>\n",
       "      <th>4</th>\n",
       "      <td>128</td>\n",
       "      <td>4</td>\n",
       "      <td>(0.85, 0.85)</td>\n",
       "      <td>False</td>\n",
       "      <td>True</td>\n",
       "      <td>0.4</td>\n",
       "      <td>0.099665</td>\n",
       "      <td>1.790447</td>\n",
       "      <td>0.46856</td>\n",
       "      <td>0.529197</td>\n",
       "    </tr>\n",
       "    <tr>\n",
       "      <th>0</th>\n",
       "      <td>128</td>\n",
       "      <td>3</td>\n",
       "      <td>(1, 0.7)</td>\n",
       "      <td>False</td>\n",
       "      <td>True</td>\n",
       "      <td>0.4</td>\n",
       "      <td>0.10476</td>\n",
       "      <td>2.147998</td>\n",
       "      <td>0.489249</td>\n",
       "      <td>0.521898</td>\n",
       "    </tr>\n",
       "    <tr>\n",
       "      <th>9</th>\n",
       "      <td>256</td>\n",
       "      <td>4</td>\n",
       "      <td>(1, 0.7)</td>\n",
       "      <td>False</td>\n",
       "      <td>True</td>\n",
       "      <td>0.4</td>\n",
       "      <td>0.092239</td>\n",
       "      <td>1.771178</td>\n",
       "      <td>0.480325</td>\n",
       "      <td>0.521898</td>\n",
       "    </tr>\n",
       "    <tr>\n",
       "      <th>2</th>\n",
       "      <td>128</td>\n",
       "      <td>3</td>\n",
       "      <td>(0.7, 1)</td>\n",
       "      <td>False</td>\n",
       "      <td>True</td>\n",
       "      <td>0.4</td>\n",
       "      <td>0.113377</td>\n",
       "      <td>2.337819</td>\n",
       "      <td>0.476268</td>\n",
       "      <td>0.518248</td>\n",
       "    </tr>\n",
       "    <tr>\n",
       "      <th>3</th>\n",
       "      <td>128</td>\n",
       "      <td>4</td>\n",
       "      <td>(1, 0.7)</td>\n",
       "      <td>False</td>\n",
       "      <td>True</td>\n",
       "      <td>0.4</td>\n",
       "      <td>0.108607</td>\n",
       "      <td>2.420251</td>\n",
       "      <td>0.490467</td>\n",
       "      <td>0.518248</td>\n",
       "    </tr>\n",
       "    <tr>\n",
       "      <th>5</th>\n",
       "      <td>128</td>\n",
       "      <td>4</td>\n",
       "      <td>(0.7, 1)</td>\n",
       "      <td>False</td>\n",
       "      <td>True</td>\n",
       "      <td>0.4</td>\n",
       "      <td>0.106644</td>\n",
       "      <td>2.104376</td>\n",
       "      <td>0.48357</td>\n",
       "      <td>0.518248</td>\n",
       "    </tr>\n",
       "    <tr>\n",
       "      <th>6</th>\n",
       "      <td>256</td>\n",
       "      <td>3</td>\n",
       "      <td>(1, 0.7)</td>\n",
       "      <td>False</td>\n",
       "      <td>True</td>\n",
       "      <td>0.4</td>\n",
       "      <td>0.09268</td>\n",
       "      <td>2.331695</td>\n",
       "      <td>0.467748</td>\n",
       "      <td>0.510949</td>\n",
       "    </tr>\n",
       "    <tr>\n",
       "      <th>10</th>\n",
       "      <td>256</td>\n",
       "      <td>4</td>\n",
       "      <td>(0.85, 0.85)</td>\n",
       "      <td>False</td>\n",
       "      <td>True</td>\n",
       "      <td>0.4</td>\n",
       "      <td>0.108009</td>\n",
       "      <td>2.12077</td>\n",
       "      <td>0.494118</td>\n",
       "      <td>0.510949</td>\n",
       "    </tr>\n",
       "    <tr>\n",
       "      <th>11</th>\n",
       "      <td>256</td>\n",
       "      <td>4</td>\n",
       "      <td>(0.7, 1)</td>\n",
       "      <td>False</td>\n",
       "      <td>True</td>\n",
       "      <td>0.4</td>\n",
       "      <td>0.11221</td>\n",
       "      <td>2.183376</td>\n",
       "      <td>0.48641</td>\n",
       "      <td>0.50365</td>\n",
       "    </tr>\n",
       "    <tr>\n",
       "      <th>8</th>\n",
       "      <td>256</td>\n",
       "      <td>3</td>\n",
       "      <td>(0.7, 1)</td>\n",
       "      <td>False</td>\n",
       "      <td>True</td>\n",
       "      <td>0.4</td>\n",
       "      <td>0.102196</td>\n",
       "      <td>2.42955</td>\n",
       "      <td>0.486815</td>\n",
       "      <td>0.478102</td>\n",
       "    </tr>\n",
       "  </tbody>\n",
       "</table>\n",
       "</div>"
      ]
     },
     "execution_count": 4,
     "metadata": {},
     "output_type": "execute_result"
    }
   ],
   "execution_count": 4
  },
  {
   "metadata": {},
   "cell_type": "markdown",
   "source": [
    "## Parametrisation Mid-Term - b3\n",
    "Predict **1 week** based on **daily price data** of the **last 2 months**. "
   ],
   "id": "72a7151872847f29"
  },
  {
   "metadata": {
    "ExecuteTime": {
     "end_time": "2025-05-22T10:22:20.174036Z",
     "start_time": "2025-05-22T09:45:29.074901Z"
    }
   },
   "cell_type": "code",
   "source": [
    "b3_results = predictors.predictor_parametrisation_loop(evaluate_hit_rate=True,\n",
    "                                                       sort_metric='Val HR',\n",
    "                                                       n_train_epochs=200,\n",
    "                                                       early_stopping_patience=20,\n",
    "                                                       sampling_rate_minutes=60 * 14,  # one day from 8am to 22pm\n",
    "                                                       price_csv_path=filemgmt.most_recent_file(INTERPOLATED_PRICES, '.csv', '1d'),\n",
    "                                                       daily_prediction_hour=20,\n",
    "                                                       predict_before_daily_prediction_hour=True,  # irrelevant\n",
    "                                                       rolling_window_size=40,  # i.e. 2 months á 20 days\n",
    "                                                       forecast_horizon=5,  # i.e. 1 week á 5 days\n",
    "                                                       batch_size=64,\n",
    "                                                       validation_split=0.1,\n",
    "                                                       model_save_directory=SAVED_MODELS / \"predictor_b3\",\n",
    "                                                       # parameters to optimise for:\n",
    "                                                       hidden_lstm_layer_size_set=[128, 256],  # 64 (was mostly worse)\n",
    "                                                       n_lstm_layers_set=[3, 4],  # 2 (was mostly worse)\n",
    "                                                       forecast_step_loss_weight_range_set=[(1, .7), (.85, .85),\n",
    "                                                                                            (.7, 1)],\n",
    "                                                       use_pre_lstm_fc_layer_set=[False],  # True (maybe simplicity is key?)\n",
    "                                                       use_final_hidden_state_set=[True],  # False  (settings seems to have negligible impact)\n",
    "                                                       dropout_set=[.4],  # .3  (.4 seems to generalise better, as expected)\n",
    "                                                       )\n",
    "b3_results"
   ],
   "id": "bcc83a565a9d8e50",
   "outputs": [
    {
     "name": "stderr",
     "output_type": "stream",
     "text": [
      "Train loss: 0.3633599733002484 | Val Loss: 1.9217457175254822  | Patience 19/20 | LRate: 6.25e-05 | Progress:  16%|█▌        | 31/200 [01:30<08:15,  2.93s/it] \n"
     ]
    },
    {
     "name": "stdout",
     "output_type": "stream",
     "text": [
      "Early stopping triggered at validation loss of 1.9578219056129456\n"
     ]
    },
    {
     "name": "stderr",
     "output_type": "stream",
     "text": [
      "100%|██████████| 2430/2430 [00:09<00:00, 260.83it/s]\n",
      "100%|██████████| 270/270 [00:01<00:00, 259.59it/s]\n",
      "Train loss: 0.3712230180390179 | Val Loss: 1.92317496240139  | Patience 19/20 | LRate: 0.000125 | Progress:  16%|█▌        | 32/200 [01:35<08:22,  2.99s/it]  \n"
     ]
    },
    {
     "name": "stdout",
     "output_type": "stream",
     "text": [
      "Early stopping triggered at validation loss of 2.31107160449028\n"
     ]
    },
    {
     "name": "stderr",
     "output_type": "stream",
     "text": [
      "100%|██████████| 2430/2430 [00:09<00:00, 263.88it/s]\n",
      "100%|██████████| 270/270 [00:01<00:00, 264.32it/s]\n",
      "Train loss: 0.40134902857244015 | Val Loss: 1.7310772836208344  | Patience 19/20 | LRate: 0.000125 | Progress:  14%|█▎        | 27/200 [01:21<08:39,  3.00s/it]\n"
     ]
    },
    {
     "name": "stdout",
     "output_type": "stream",
     "text": [
      "Early stopping triggered at validation loss of 1.972681313753128\n"
     ]
    },
    {
     "name": "stderr",
     "output_type": "stream",
     "text": [
      "100%|██████████| 2430/2430 [00:09<00:00, 267.19it/s]\n",
      "100%|██████████| 270/270 [00:01<00:00, 268.12it/s]\n",
      "Train loss: 0.3458094601519406 | Val Loss: 1.5599791407585144  | Patience 19/20 | LRate: 3.125e-05 | Progress:  20%|█▉        | 39/200 [02:44<11:20,  4.23s/it]\n"
     ]
    },
    {
     "name": "stdout",
     "output_type": "stream",
     "text": [
      "Early stopping triggered at validation loss of 1.6891347616910934\n"
     ]
    },
    {
     "name": "stderr",
     "output_type": "stream",
     "text": [
      "100%|██████████| 2430/2430 [00:11<00:00, 211.56it/s]\n",
      "100%|██████████| 270/270 [00:01<00:00, 211.72it/s]\n",
      "Train loss: 0.38508819369599223 | Val Loss: 2.0278067588806152  | Patience 19/20 | LRate: 0.000125 | Progress:  14%|█▎        | 27/200 [01:57<12:31,  4.35s/it]\n"
     ]
    },
    {
     "name": "stdout",
     "output_type": "stream",
     "text": [
      "Early stopping triggered at validation loss of 2.1556748151779175\n"
     ]
    },
    {
     "name": "stderr",
     "output_type": "stream",
     "text": [
      "100%|██████████| 2430/2430 [00:11<00:00, 204.35it/s]\n",
      "100%|██████████| 270/270 [00:01<00:00, 205.92it/s]\n",
      "Train loss: 0.4041412160731852 | Val Loss: 2.00884947180748  | Patience 19/20 | LRate: 0.000125 | Progress:  14%|█▍        | 28/200 [01:59<12:15,  4.27s/it]  \n"
     ]
    },
    {
     "name": "stdout",
     "output_type": "stream",
     "text": [
      "Early stopping triggered at validation loss of 1.6586290672421455\n"
     ]
    },
    {
     "name": "stderr",
     "output_type": "stream",
     "text": [
      "100%|██████████| 2430/2430 [00:11<00:00, 204.90it/s]\n",
      "100%|██████████| 270/270 [00:01<00:00, 205.93it/s]\n",
      "Train loss: 0.3586260718293488 | Val Loss: 1.8847213983535767  | Patience 19/20 | LRate: 0.000125 | Progress:  12%|█▏        | 23/200 [03:06<23:54,  8.10s/it]\n"
     ]
    },
    {
     "name": "stdout",
     "output_type": "stream",
     "text": [
      "Early stopping triggered at validation loss of 2.017342269420624\n"
     ]
    },
    {
     "name": "stderr",
     "output_type": "stream",
     "text": [
      "100%|██████████| 2430/2430 [00:16<00:00, 147.42it/s]\n",
      "100%|██████████| 270/270 [00:01<00:00, 147.86it/s]\n",
      "Train loss: 0.370660703163594 | Val Loss: 2.334721326828003  | Patience 19/20 | LRate: 0.000125 | Progress:  11%|█         | 22/200 [02:56<23:47,  8.02s/it]  \n"
     ]
    },
    {
     "name": "stdout",
     "output_type": "stream",
     "text": [
      "Early stopping triggered at validation loss of 2.2051035463809967\n"
     ]
    },
    {
     "name": "stderr",
     "output_type": "stream",
     "text": [
      "100%|██████████| 2430/2430 [00:14<00:00, 167.68it/s]\n",
      "100%|██████████| 270/270 [00:01<00:00, 172.42it/s]\n",
      "Train loss: 0.3538063205778599 | Val Loss: 2.6640416979789734  | Patience 19/20 | LRate: 0.000125 | Progress:  12%|█▎        | 25/200 [03:16<22:54,  7.85s/it]\n"
     ]
    },
    {
     "name": "stdout",
     "output_type": "stream",
     "text": [
      "Early stopping triggered at validation loss of 2.615083247423172\n"
     ]
    },
    {
     "name": "stderr",
     "output_type": "stream",
     "text": [
      "100%|██████████| 2430/2430 [00:13<00:00, 176.15it/s]\n",
      "100%|██████████| 270/270 [00:01<00:00, 178.63it/s]\n",
      "Train loss: 0.34425140684470534 | Val Loss: 2.4400920271873474  | Patience 19/20 | LRate: 0.000125 | Progress:  12%|█▏        | 23/200 [04:10<32:05, 10.88s/it]\n"
     ]
    },
    {
     "name": "stdout",
     "output_type": "stream",
     "text": [
      "Early stopping triggered at validation loss of 1.9318217933177948\n"
     ]
    },
    {
     "name": "stderr",
     "output_type": "stream",
     "text": [
      "100%|██████████| 2430/2430 [00:18<00:00, 133.65it/s]\n",
      "100%|██████████| 270/270 [00:02<00:00, 133.33it/s]\n",
      "Train loss: 0.35330283967778087 | Val Loss: 2.2607725858688354  | Patience 19/20 | LRate: 0.000125 | Progress:  12%|█▎        | 25/200 [04:28<31:22, 10.76s/it]\n"
     ]
    },
    {
     "name": "stdout",
     "output_type": "stream",
     "text": [
      "Early stopping triggered at validation loss of 2.0479410886764526\n"
     ]
    },
    {
     "name": "stderr",
     "output_type": "stream",
     "text": [
      "100%|██████████| 2430/2430 [00:18<00:00, 129.19it/s]\n",
      "100%|██████████| 270/270 [00:02<00:00, 133.42it/s]\n",
      "Train loss: 0.3600581893697381 | Val Loss: 2.123261570930481  | Patience 19/20 | LRate: 0.000125 | Progress:  13%|█▎        | 26/200 [04:41<31:25, 10.84s/it] \n"
     ]
    },
    {
     "name": "stdout",
     "output_type": "stream",
     "text": [
      "Early stopping triggered at validation loss of 2.2467836141586304\n"
     ]
    },
    {
     "name": "stderr",
     "output_type": "stream",
     "text": [
      "100%|██████████| 2430/2430 [00:18<00:00, 133.29it/s]\n",
      "100%|██████████| 270/270 [00:02<00:00, 134.18it/s]\n"
     ]
    },
    {
     "data": {
      "text/plain": [
       "   Hidden Layer Size N. LSTM Layers Loss Weight Range Pre-LSTM FC Layer  \\\n",
       "0                128              3          (1, 0.7)             False   \n",
       "9                256              4          (1, 0.7)             False   \n",
       "6                256              3          (1, 0.7)             False   \n",
       "8                256              3          (0.7, 1)             False   \n",
       "1                128              3      (0.85, 0.85)             False   \n",
       "2                128              3          (0.7, 1)             False   \n",
       "3                128              4          (1, 0.7)             False   \n",
       "10               256              4      (0.85, 0.85)             False   \n",
       "4                128              4      (0.85, 0.85)             False   \n",
       "11               256              4          (0.7, 1)             False   \n",
       "7                256              3      (0.85, 0.85)             False   \n",
       "5                128              4          (0.7, 1)             False   \n",
       "\n",
       "   Final Hidden State Dropout Train Loss  Val Loss  Train HR    Val HR  \n",
       "0                True     0.4   0.360554  1.957822  0.547325   0.52963  \n",
       "9                True     0.4   0.345409  1.931822   0.56749  0.522222  \n",
       "6                True     0.4   0.350409  2.017342  0.541975  0.518519  \n",
       "8                True     0.4   0.353528  2.615083  0.602469  0.514815  \n",
       "1                True     0.4   0.361293  2.311072  0.571605  0.511111  \n",
       "2                True     0.4   0.399043  1.972681  0.580658  0.511111  \n",
       "3                True     0.4   0.348699  1.689135  0.559671  0.503704  \n",
       "10               True     0.4   0.355529  2.047941  0.545679  0.503704  \n",
       "4                True     0.4   0.383634  2.155675  0.563374       0.5  \n",
       "11               True     0.4   0.350428  2.246784  0.603704       0.5  \n",
       "7                True     0.4   0.363751  2.205104  0.565432  0.496296  \n",
       "5                True     0.4   0.385532  1.658629  0.545267  0.492593  "
      ],
      "text/html": [
       "<div>\n",
       "<style scoped>\n",
       "    .dataframe tbody tr th:only-of-type {\n",
       "        vertical-align: middle;\n",
       "    }\n",
       "\n",
       "    .dataframe tbody tr th {\n",
       "        vertical-align: top;\n",
       "    }\n",
       "\n",
       "    .dataframe thead th {\n",
       "        text-align: right;\n",
       "    }\n",
       "</style>\n",
       "<table border=\"1\" class=\"dataframe\">\n",
       "  <thead>\n",
       "    <tr style=\"text-align: right;\">\n",
       "      <th></th>\n",
       "      <th>Hidden Layer Size</th>\n",
       "      <th>N. LSTM Layers</th>\n",
       "      <th>Loss Weight Range</th>\n",
       "      <th>Pre-LSTM FC Layer</th>\n",
       "      <th>Final Hidden State</th>\n",
       "      <th>Dropout</th>\n",
       "      <th>Train Loss</th>\n",
       "      <th>Val Loss</th>\n",
       "      <th>Train HR</th>\n",
       "      <th>Val HR</th>\n",
       "    </tr>\n",
       "  </thead>\n",
       "  <tbody>\n",
       "    <tr>\n",
       "      <th>0</th>\n",
       "      <td>128</td>\n",
       "      <td>3</td>\n",
       "      <td>(1, 0.7)</td>\n",
       "      <td>False</td>\n",
       "      <td>True</td>\n",
       "      <td>0.4</td>\n",
       "      <td>0.360554</td>\n",
       "      <td>1.957822</td>\n",
       "      <td>0.547325</td>\n",
       "      <td>0.52963</td>\n",
       "    </tr>\n",
       "    <tr>\n",
       "      <th>9</th>\n",
       "      <td>256</td>\n",
       "      <td>4</td>\n",
       "      <td>(1, 0.7)</td>\n",
       "      <td>False</td>\n",
       "      <td>True</td>\n",
       "      <td>0.4</td>\n",
       "      <td>0.345409</td>\n",
       "      <td>1.931822</td>\n",
       "      <td>0.56749</td>\n",
       "      <td>0.522222</td>\n",
       "    </tr>\n",
       "    <tr>\n",
       "      <th>6</th>\n",
       "      <td>256</td>\n",
       "      <td>3</td>\n",
       "      <td>(1, 0.7)</td>\n",
       "      <td>False</td>\n",
       "      <td>True</td>\n",
       "      <td>0.4</td>\n",
       "      <td>0.350409</td>\n",
       "      <td>2.017342</td>\n",
       "      <td>0.541975</td>\n",
       "      <td>0.518519</td>\n",
       "    </tr>\n",
       "    <tr>\n",
       "      <th>8</th>\n",
       "      <td>256</td>\n",
       "      <td>3</td>\n",
       "      <td>(0.7, 1)</td>\n",
       "      <td>False</td>\n",
       "      <td>True</td>\n",
       "      <td>0.4</td>\n",
       "      <td>0.353528</td>\n",
       "      <td>2.615083</td>\n",
       "      <td>0.602469</td>\n",
       "      <td>0.514815</td>\n",
       "    </tr>\n",
       "    <tr>\n",
       "      <th>1</th>\n",
       "      <td>128</td>\n",
       "      <td>3</td>\n",
       "      <td>(0.85, 0.85)</td>\n",
       "      <td>False</td>\n",
       "      <td>True</td>\n",
       "      <td>0.4</td>\n",
       "      <td>0.361293</td>\n",
       "      <td>2.311072</td>\n",
       "      <td>0.571605</td>\n",
       "      <td>0.511111</td>\n",
       "    </tr>\n",
       "    <tr>\n",
       "      <th>2</th>\n",
       "      <td>128</td>\n",
       "      <td>3</td>\n",
       "      <td>(0.7, 1)</td>\n",
       "      <td>False</td>\n",
       "      <td>True</td>\n",
       "      <td>0.4</td>\n",
       "      <td>0.399043</td>\n",
       "      <td>1.972681</td>\n",
       "      <td>0.580658</td>\n",
       "      <td>0.511111</td>\n",
       "    </tr>\n",
       "    <tr>\n",
       "      <th>3</th>\n",
       "      <td>128</td>\n",
       "      <td>4</td>\n",
       "      <td>(1, 0.7)</td>\n",
       "      <td>False</td>\n",
       "      <td>True</td>\n",
       "      <td>0.4</td>\n",
       "      <td>0.348699</td>\n",
       "      <td>1.689135</td>\n",
       "      <td>0.559671</td>\n",
       "      <td>0.503704</td>\n",
       "    </tr>\n",
       "    <tr>\n",
       "      <th>10</th>\n",
       "      <td>256</td>\n",
       "      <td>4</td>\n",
       "      <td>(0.85, 0.85)</td>\n",
       "      <td>False</td>\n",
       "      <td>True</td>\n",
       "      <td>0.4</td>\n",
       "      <td>0.355529</td>\n",
       "      <td>2.047941</td>\n",
       "      <td>0.545679</td>\n",
       "      <td>0.503704</td>\n",
       "    </tr>\n",
       "    <tr>\n",
       "      <th>4</th>\n",
       "      <td>128</td>\n",
       "      <td>4</td>\n",
       "      <td>(0.85, 0.85)</td>\n",
       "      <td>False</td>\n",
       "      <td>True</td>\n",
       "      <td>0.4</td>\n",
       "      <td>0.383634</td>\n",
       "      <td>2.155675</td>\n",
       "      <td>0.563374</td>\n",
       "      <td>0.5</td>\n",
       "    </tr>\n",
       "    <tr>\n",
       "      <th>11</th>\n",
       "      <td>256</td>\n",
       "      <td>4</td>\n",
       "      <td>(0.7, 1)</td>\n",
       "      <td>False</td>\n",
       "      <td>True</td>\n",
       "      <td>0.4</td>\n",
       "      <td>0.350428</td>\n",
       "      <td>2.246784</td>\n",
       "      <td>0.603704</td>\n",
       "      <td>0.5</td>\n",
       "    </tr>\n",
       "    <tr>\n",
       "      <th>7</th>\n",
       "      <td>256</td>\n",
       "      <td>3</td>\n",
       "      <td>(0.85, 0.85)</td>\n",
       "      <td>False</td>\n",
       "      <td>True</td>\n",
       "      <td>0.4</td>\n",
       "      <td>0.363751</td>\n",
       "      <td>2.205104</td>\n",
       "      <td>0.565432</td>\n",
       "      <td>0.496296</td>\n",
       "    </tr>\n",
       "    <tr>\n",
       "      <th>5</th>\n",
       "      <td>128</td>\n",
       "      <td>4</td>\n",
       "      <td>(0.7, 1)</td>\n",
       "      <td>False</td>\n",
       "      <td>True</td>\n",
       "      <td>0.4</td>\n",
       "      <td>0.385532</td>\n",
       "      <td>1.658629</td>\n",
       "      <td>0.545267</td>\n",
       "      <td>0.492593</td>\n",
       "    </tr>\n",
       "  </tbody>\n",
       "</table>\n",
       "</div>"
      ]
     },
     "execution_count": 7,
     "metadata": {},
     "output_type": "execute_result"
    }
   ],
   "execution_count": 7
  },
  {
   "metadata": {},
   "cell_type": "markdown",
   "source": [
    "## Parametrisation Long-Term - c1\n",
    "Predict **3 weeks** based on **weekly price data** of the **last 6 months**."
   ],
   "id": "bb4de7c18182e5d1"
  },
  {
   "metadata": {
    "ExecuteTime": {
     "end_time": "2025-05-22T09:30:37.581471Z",
     "start_time": "2025-05-22T09:25:45.814764Z"
    }
   },
   "cell_type": "code",
   "source": [
    "c1_results = predictors.predictor_parametrisation_loop(evaluate_hit_rate=True,\n",
    "                                                       sort_metric='Val HR',\n",
    "                                                       n_train_epochs=200,\n",
    "                                                       early_stopping_patience=20,\n",
    "                                                       sampling_rate_minutes=7 * 14 * 60,  # 1 week = 7 days each from 8am to 22pm\n",
    "                                                       price_csv_path=filemgmt.most_recent_file(INTERPOLATED_PRICES, '.csv', '7d'),\n",
    "                                                       daily_prediction_hour=20,\n",
    "                                                       predict_before_daily_prediction_hour=True,  # irrelevant\n",
    "                                                       rolling_window_size=24,  # i.e. 6 months á 4 weeks\n",
    "                                                       forecast_horizon=3,  # i.e. 3 weeks\n",
    "                                                       batch_size=64,\n",
    "                                                       validation_split=0.1,\n",
    "                                                       model_save_directory=SAVED_MODELS / \"predictor_c1\",\n",
    "                                                       # parameters to optimise for:\n",
    "                                                       hidden_lstm_layer_size_set=[128, 256],  # 64 (was mostly worse)\n",
    "                                                       n_lstm_layers_set=[3, 4],  # 2 (was mostly worse)\n",
    "                                                       forecast_step_loss_weight_range_set=[(1, .7), (.85, .85),\n",
    "                                                                                            (.7, 1)],\n",
    "                                                       use_pre_lstm_fc_layer_set=[False],  # True (maybe simplicity is key?)\n",
    "                                                       use_final_hidden_state_set=[True],  # False  (settings seems to have negligible impact)\n",
    "                                                       dropout_set=[.4],  # .3  (.4 seems to generalise better, as expected)\n",
    "                                                       )\n",
    "c1_results"
   ],
   "id": "d0cd00960e0703d2",
   "outputs": [
    {
     "name": "stderr",
     "output_type": "stream",
     "text": [
      "Train loss: 0.24762212112545967 | Val Loss: 0.40837720036506653  | Patience 19/20 | LRate: 0.000125 | Progress:  15%|█▌        | 30/200 [00:10<00:58,  2.90it/s]\n"
     ]
    },
    {
     "name": "stdout",
     "output_type": "stream",
     "text": [
      "Early stopping triggered at validation loss of 0.39249199628829956\n"
     ]
    },
    {
     "name": "stderr",
     "output_type": "stream",
     "text": [
      "100%|██████████| 470/470 [00:00<00:00, 471.76it/s]\n",
      "100%|██████████| 53/53 [00:00<00:00, 432.91it/s]\n",
      "Train loss: 0.25973297841846943 | Val Loss: 0.4356614649295807  | Patience 19/20 | LRate: 0.000125 | Progress:  15%|█▌        | 30/200 [00:11<01:06,  2.58it/s]\n"
     ]
    },
    {
     "name": "stdout",
     "output_type": "stream",
     "text": [
      "Early stopping triggered at validation loss of 0.4400423765182495\n"
     ]
    },
    {
     "name": "stderr",
     "output_type": "stream",
     "text": [
      "100%|██████████| 470/470 [00:01<00:00, 450.71it/s]\n",
      "100%|██████████| 53/53 [00:00<00:00, 434.71it/s]\n",
      "Train loss: 0.2586831822991371 | Val Loss: 0.49669259786605835  | Patience 19/20 | LRate: 0.000125 | Progress:  18%|█▊        | 36/200 [00:13<01:01,  2.69it/s]\n"
     ]
    },
    {
     "name": "stdout",
     "output_type": "stream",
     "text": [
      "Early stopping triggered at validation loss of 0.5106910467147827\n"
     ]
    },
    {
     "name": "stderr",
     "output_type": "stream",
     "text": [
      "100%|██████████| 470/470 [00:01<00:00, 456.23it/s]\n",
      "100%|██████████| 53/53 [00:00<00:00, 370.80it/s]\n",
      "Train loss: 0.23619787767529488 | Val Loss: 0.4288496971130371  | Patience 19/20 | LRate: 0.000125 | Progress:  18%|█▊        | 35/200 [00:19<01:31,  1.81it/s]\n"
     ]
    },
    {
     "name": "stdout",
     "output_type": "stream",
     "text": [
      "Early stopping triggered at validation loss of 0.4492229223251343\n"
     ]
    },
    {
     "name": "stderr",
     "output_type": "stream",
     "text": [
      "100%|██████████| 470/470 [00:01<00:00, 375.74it/s]\n",
      "100%|██████████| 53/53 [00:00<00:00, 312.74it/s]\n",
      "Train loss: 0.2544698268175125 | Val Loss: 0.47760796546936035  | Patience 19/20 | LRate: 0.000125 | Progress:  14%|█▍        | 28/200 [00:15<01:33,  1.83it/s]\n"
     ]
    },
    {
     "name": "stdout",
     "output_type": "stream",
     "text": [
      "Early stopping triggered at validation loss of 0.474360853433609\n"
     ]
    },
    {
     "name": "stderr",
     "output_type": "stream",
     "text": [
      "100%|██████████| 470/470 [00:02<00:00, 204.68it/s]\n",
      "100%|██████████| 53/53 [00:00<00:00, 314.12it/s]\n",
      "Train loss: 0.2985236272215843 | Val Loss: 0.42853492498397827  | Patience 19/20 | LRate: 0.000125 | Progress:  13%|█▎        | 26/200 [00:13<01:29,  1.94it/s]\n"
     ]
    },
    {
     "name": "stdout",
     "output_type": "stream",
     "text": [
      "Early stopping triggered at validation loss of 0.4320639967918396\n"
     ]
    },
    {
     "name": "stderr",
     "output_type": "stream",
     "text": [
      "100%|██████████| 470/470 [00:01<00:00, 348.53it/s]\n",
      "100%|██████████| 53/53 [00:00<00:00, 309.07it/s]\n",
      "Train loss: 0.22528578899800777 | Val Loss: 0.5138872861862183  | Patience 19/20 | LRate: 0.000125 | Progress:  16%|█▌        | 31/200 [00:28<02:35,  1.08it/s]\n"
     ]
    },
    {
     "name": "stdout",
     "output_type": "stream",
     "text": [
      "Early stopping triggered at validation loss of 0.5099337697029114\n"
     ]
    },
    {
     "name": "stderr",
     "output_type": "stream",
     "text": [
      "100%|██████████| 470/470 [00:02<00:00, 201.91it/s]\n",
      "100%|██████████| 53/53 [00:00<00:00, 245.28it/s]\n",
      "Train loss: 0.2517979387193918 | Val Loss: 0.4046744704246521  | Patience 19/20 | LRate: 0.000125 | Progress:  14%|█▍        | 28/200 [00:32<03:20,  1.16s/it] \n"
     ]
    },
    {
     "name": "stdout",
     "output_type": "stream",
     "text": [
      "Early stopping triggered at validation loss of 0.41386863589286804\n"
     ]
    },
    {
     "name": "stderr",
     "output_type": "stream",
     "text": [
      "100%|██████████| 470/470 [00:01<00:00, 320.06it/s]\n",
      "100%|██████████| 53/53 [00:00<00:00, 330.26it/s]\n",
      "Train loss: 0.24053473956882954 | Val Loss: 0.5329576730728149  | Patience 19/20 | LRate: 0.000125 | Progress:  15%|█▌        | 30/200 [00:27<02:34,  1.10it/s]\n"
     ]
    },
    {
     "name": "stdout",
     "output_type": "stream",
     "text": [
      "Early stopping triggered at validation loss of 0.5361045002937317\n"
     ]
    },
    {
     "name": "stderr",
     "output_type": "stream",
     "text": [
      "100%|██████████| 470/470 [00:01<00:00, 309.07it/s]\n",
      "100%|██████████| 53/53 [00:00<00:00, 341.00it/s]\n",
      "Train loss: 0.2260698266327381 | Val Loss: 0.4243758022785187  | Patience 19/20 | LRate: 0.000125 | Progress:  13%|█▎        | 26/200 [00:32<03:38,  1.26s/it] \n"
     ]
    },
    {
     "name": "stdout",
     "output_type": "stream",
     "text": [
      "Early stopping triggered at validation loss of 0.44463443756103516\n"
     ]
    },
    {
     "name": "stderr",
     "output_type": "stream",
     "text": [
      "100%|██████████| 470/470 [00:01<00:00, 243.24it/s]\n",
      "100%|██████████| 53/53 [00:00<00:00, 201.77it/s]\n",
      "Train loss: 0.2403896152973175 | Val Loss: 0.47081395983695984  | Patience 19/20 | LRate: 0.000125 | Progress:  12%|█▎        | 25/200 [00:32<03:48,  1.31s/it]\n"
     ]
    },
    {
     "name": "stdout",
     "output_type": "stream",
     "text": [
      "Early stopping triggered at validation loss of 0.47508177161216736\n"
     ]
    },
    {
     "name": "stderr",
     "output_type": "stream",
     "text": [
      "100%|██████████| 470/470 [00:02<00:00, 209.59it/s]\n",
      "100%|██████████| 53/53 [00:00<00:00, 253.67it/s]\n",
      "Train loss: 0.24536843784153461 | Val Loss: 0.545497477054596  | Patience 19/20 | LRate: 0.000125 | Progress:  14%|█▎        | 27/200 [00:32<03:28,  1.20s/it]\n"
     ]
    },
    {
     "name": "stdout",
     "output_type": "stream",
     "text": [
      "Early stopping triggered at validation loss of 0.5233075618743896\n"
     ]
    },
    {
     "name": "stderr",
     "output_type": "stream",
     "text": [
      "100%|██████████| 470/470 [00:01<00:00, 253.97it/s]\n",
      "100%|██████████| 53/53 [00:00<00:00, 264.66it/s]\n"
     ]
    },
    {
     "data": {
      "text/plain": [
       "   Hidden Layer Size N. LSTM Layers Loss Weight Range Pre-LSTM FC Layer  \\\n",
       "5                128              4          (0.7, 1)             False   \n",
       "0                128              3          (1, 0.7)             False   \n",
       "3                128              4          (1, 0.7)             False   \n",
       "1                128              3      (0.85, 0.85)             False   \n",
       "2                128              3          (0.7, 1)             False   \n",
       "6                256              3          (1, 0.7)             False   \n",
       "9                256              4          (1, 0.7)             False   \n",
       "10               256              4      (0.85, 0.85)             False   \n",
       "4                128              4      (0.85, 0.85)             False   \n",
       "7                256              3      (0.85, 0.85)             False   \n",
       "8                256              3          (0.7, 1)             False   \n",
       "11               256              4          (0.7, 1)             False   \n",
       "\n",
       "   Final Hidden State Dropout Train Loss  Val Loss  Train HR    Val HR  \n",
       "5                True     0.4   0.296821  0.432064  0.557447  0.566038  \n",
       "0                True     0.4   0.248152  0.392492  0.548936   0.54717  \n",
       "3                True     0.4   0.252073  0.449223  0.580851  0.528302  \n",
       "1                True     0.4   0.249435  0.440042  0.570213  0.509434  \n",
       "2                True     0.4   0.257843  0.510691       0.6  0.509434  \n",
       "6                True     0.4   0.230221  0.509934  0.623404  0.509434  \n",
       "9                True     0.4   0.230707  0.444634  0.604255  0.509434  \n",
       "10               True     0.4   0.242256  0.475082  0.602128  0.509434  \n",
       "4                True     0.4   0.270373  0.474361  0.565957  0.490566  \n",
       "7                True     0.4   0.231334  0.413869  0.608511  0.490566  \n",
       "8                True     0.4   0.244625  0.536105  0.606383  0.471698  \n",
       "11               True     0.4   0.242202  0.523308  0.593617  0.471698  "
      ],
      "text/html": [
       "<div>\n",
       "<style scoped>\n",
       "    .dataframe tbody tr th:only-of-type {\n",
       "        vertical-align: middle;\n",
       "    }\n",
       "\n",
       "    .dataframe tbody tr th {\n",
       "        vertical-align: top;\n",
       "    }\n",
       "\n",
       "    .dataframe thead th {\n",
       "        text-align: right;\n",
       "    }\n",
       "</style>\n",
       "<table border=\"1\" class=\"dataframe\">\n",
       "  <thead>\n",
       "    <tr style=\"text-align: right;\">\n",
       "      <th></th>\n",
       "      <th>Hidden Layer Size</th>\n",
       "      <th>N. LSTM Layers</th>\n",
       "      <th>Loss Weight Range</th>\n",
       "      <th>Pre-LSTM FC Layer</th>\n",
       "      <th>Final Hidden State</th>\n",
       "      <th>Dropout</th>\n",
       "      <th>Train Loss</th>\n",
       "      <th>Val Loss</th>\n",
       "      <th>Train HR</th>\n",
       "      <th>Val HR</th>\n",
       "    </tr>\n",
       "  </thead>\n",
       "  <tbody>\n",
       "    <tr>\n",
       "      <th>5</th>\n",
       "      <td>128</td>\n",
       "      <td>4</td>\n",
       "      <td>(0.7, 1)</td>\n",
       "      <td>False</td>\n",
       "      <td>True</td>\n",
       "      <td>0.4</td>\n",
       "      <td>0.296821</td>\n",
       "      <td>0.432064</td>\n",
       "      <td>0.557447</td>\n",
       "      <td>0.566038</td>\n",
       "    </tr>\n",
       "    <tr>\n",
       "      <th>0</th>\n",
       "      <td>128</td>\n",
       "      <td>3</td>\n",
       "      <td>(1, 0.7)</td>\n",
       "      <td>False</td>\n",
       "      <td>True</td>\n",
       "      <td>0.4</td>\n",
       "      <td>0.248152</td>\n",
       "      <td>0.392492</td>\n",
       "      <td>0.548936</td>\n",
       "      <td>0.54717</td>\n",
       "    </tr>\n",
       "    <tr>\n",
       "      <th>3</th>\n",
       "      <td>128</td>\n",
       "      <td>4</td>\n",
       "      <td>(1, 0.7)</td>\n",
       "      <td>False</td>\n",
       "      <td>True</td>\n",
       "      <td>0.4</td>\n",
       "      <td>0.252073</td>\n",
       "      <td>0.449223</td>\n",
       "      <td>0.580851</td>\n",
       "      <td>0.528302</td>\n",
       "    </tr>\n",
       "    <tr>\n",
       "      <th>1</th>\n",
       "      <td>128</td>\n",
       "      <td>3</td>\n",
       "      <td>(0.85, 0.85)</td>\n",
       "      <td>False</td>\n",
       "      <td>True</td>\n",
       "      <td>0.4</td>\n",
       "      <td>0.249435</td>\n",
       "      <td>0.440042</td>\n",
       "      <td>0.570213</td>\n",
       "      <td>0.509434</td>\n",
       "    </tr>\n",
       "    <tr>\n",
       "      <th>2</th>\n",
       "      <td>128</td>\n",
       "      <td>3</td>\n",
       "      <td>(0.7, 1)</td>\n",
       "      <td>False</td>\n",
       "      <td>True</td>\n",
       "      <td>0.4</td>\n",
       "      <td>0.257843</td>\n",
       "      <td>0.510691</td>\n",
       "      <td>0.6</td>\n",
       "      <td>0.509434</td>\n",
       "    </tr>\n",
       "    <tr>\n",
       "      <th>6</th>\n",
       "      <td>256</td>\n",
       "      <td>3</td>\n",
       "      <td>(1, 0.7)</td>\n",
       "      <td>False</td>\n",
       "      <td>True</td>\n",
       "      <td>0.4</td>\n",
       "      <td>0.230221</td>\n",
       "      <td>0.509934</td>\n",
       "      <td>0.623404</td>\n",
       "      <td>0.509434</td>\n",
       "    </tr>\n",
       "    <tr>\n",
       "      <th>9</th>\n",
       "      <td>256</td>\n",
       "      <td>4</td>\n",
       "      <td>(1, 0.7)</td>\n",
       "      <td>False</td>\n",
       "      <td>True</td>\n",
       "      <td>0.4</td>\n",
       "      <td>0.230707</td>\n",
       "      <td>0.444634</td>\n",
       "      <td>0.604255</td>\n",
       "      <td>0.509434</td>\n",
       "    </tr>\n",
       "    <tr>\n",
       "      <th>10</th>\n",
       "      <td>256</td>\n",
       "      <td>4</td>\n",
       "      <td>(0.85, 0.85)</td>\n",
       "      <td>False</td>\n",
       "      <td>True</td>\n",
       "      <td>0.4</td>\n",
       "      <td>0.242256</td>\n",
       "      <td>0.475082</td>\n",
       "      <td>0.602128</td>\n",
       "      <td>0.509434</td>\n",
       "    </tr>\n",
       "    <tr>\n",
       "      <th>4</th>\n",
       "      <td>128</td>\n",
       "      <td>4</td>\n",
       "      <td>(0.85, 0.85)</td>\n",
       "      <td>False</td>\n",
       "      <td>True</td>\n",
       "      <td>0.4</td>\n",
       "      <td>0.270373</td>\n",
       "      <td>0.474361</td>\n",
       "      <td>0.565957</td>\n",
       "      <td>0.490566</td>\n",
       "    </tr>\n",
       "    <tr>\n",
       "      <th>7</th>\n",
       "      <td>256</td>\n",
       "      <td>3</td>\n",
       "      <td>(0.85, 0.85)</td>\n",
       "      <td>False</td>\n",
       "      <td>True</td>\n",
       "      <td>0.4</td>\n",
       "      <td>0.231334</td>\n",
       "      <td>0.413869</td>\n",
       "      <td>0.608511</td>\n",
       "      <td>0.490566</td>\n",
       "    </tr>\n",
       "    <tr>\n",
       "      <th>8</th>\n",
       "      <td>256</td>\n",
       "      <td>3</td>\n",
       "      <td>(0.7, 1)</td>\n",
       "      <td>False</td>\n",
       "      <td>True</td>\n",
       "      <td>0.4</td>\n",
       "      <td>0.244625</td>\n",
       "      <td>0.536105</td>\n",
       "      <td>0.606383</td>\n",
       "      <td>0.471698</td>\n",
       "    </tr>\n",
       "    <tr>\n",
       "      <th>11</th>\n",
       "      <td>256</td>\n",
       "      <td>4</td>\n",
       "      <td>(0.7, 1)</td>\n",
       "      <td>False</td>\n",
       "      <td>True</td>\n",
       "      <td>0.4</td>\n",
       "      <td>0.242202</td>\n",
       "      <td>0.523308</td>\n",
       "      <td>0.593617</td>\n",
       "      <td>0.471698</td>\n",
       "    </tr>\n",
       "  </tbody>\n",
       "</table>\n",
       "</div>"
      ]
     },
     "execution_count": 6,
     "metadata": {},
     "output_type": "execute_result"
    }
   ],
   "execution_count": 6
  },
  {
   "metadata": {},
   "cell_type": "markdown",
   "source": "## Run",
   "id": "dced0343fd4bcec6"
  },
  {
   "metadata": {
    "ExecuteTime": {
     "end_time": "2025-05-19T22:04:38.269968Z",
     "start_time": "2025-05-19T22:04:38.266897Z"
    }
   },
   "cell_type": "code",
   "source": [
    "AV_API_KEY_FILE = ROOT / \"private\" / \"Alpha Vantage API Key.txt\"\n",
    "with open(AV_API_KEY_FILE) as file: AV_API_KEY = file.read()\n",
    "\n",
    "sampling_rate_minutes = 15\n",
    "ticker = 'Dax'"
   ],
   "id": "1eb48888dd32c323",
   "outputs": [],
   "execution_count": 77
  },
  {
   "metadata": {
    "ExecuteTime": {
     "end_time": "2025-05-19T22:04:39.236887Z",
     "start_time": "2025-05-19T22:04:38.573825Z"
    }
   },
   "cell_type": "code",
   "source": [
    "ts = TimeSeries(key=AV_API_KEY, output_format='pandas')\n",
    "recent_dax = ts.get_intraday(ticker, interval=f'{sampling_rate_minutes}min',\n",
    "                             outputsize=\"compact\" if 14 * 60 / sampling_rate_minutes < 100 else \"full\")\n",
    "daily_dax = recent_dax[0][recent_dax[0].index.day_of_year == recent_dax[0].index.day_of_year.max()][\n",
    "    '4. close']  # last day\n",
    "recent_price_data = prep.time_interpolation_new_sampling_rate(daily_dax, '4. close', 'date',\n",
    "                                                              f'{sampling_rate_minutes}min',\n",
    "                                                              manual_operating_hours=(8, 22))\n",
    "recent_price_data"
   ],
   "id": "ce61a1509840068d",
   "outputs": [
    {
     "data": {
      "text/plain": [
       "                        close\n",
       "date                         \n",
       "2025-05-16 08:00:00  43.48750\n",
       "2025-05-16 08:15:00  43.24000\n",
       "2025-05-16 08:30:00  42.92000\n",
       "2025-05-16 08:45:00  42.84000\n",
       "2025-05-16 09:00:00  42.76000\n",
       "2025-05-16 09:15:00  42.78000\n",
       "2025-05-16 09:30:00  42.80000\n",
       "2025-05-16 09:45:00  42.87500\n",
       "2025-05-16 10:00:00  42.89790\n",
       "2025-05-16 10:15:00  42.85000\n",
       "2025-05-16 10:30:00  42.61010\n",
       "2025-05-16 10:45:00  42.70000\n",
       "2025-05-16 11:00:00  42.71000\n",
       "2025-05-16 11:15:00  42.75250\n",
       "2025-05-16 11:30:00  42.79500\n",
       "2025-05-16 11:45:00  42.79490\n",
       "2025-05-16 12:00:00  42.71810\n",
       "2025-05-16 12:15:00  42.76500\n",
       "2025-05-16 12:30:00  42.76000\n",
       "2025-05-16 12:45:00  42.76000\n",
       "2025-05-16 13:00:00  42.85000\n",
       "2025-05-16 13:15:00  42.84500\n",
       "2025-05-16 13:30:00  42.80000\n",
       "2025-05-16 13:45:00  42.86670\n",
       "2025-05-16 14:00:00  42.82000\n",
       "2025-05-16 14:15:00  42.84000\n",
       "2025-05-16 14:30:00  42.89000\n",
       "2025-05-16 14:45:00  42.87400\n",
       "2025-05-16 15:00:00  42.85000\n",
       "2025-05-16 15:15:00  42.86760\n",
       "2025-05-16 15:30:00  42.84450\n",
       "2025-05-16 15:45:00  42.90000\n",
       "2025-05-16 16:00:00  42.50000\n",
       "2025-05-16 16:15:00  43.00000\n",
       "2025-05-16 16:30:00  42.99000\n",
       "2025-05-16 16:45:00  42.98000\n",
       "2025-05-16 17:00:00  42.99000\n",
       "2025-05-16 17:15:00  43.00000\n",
       "2025-05-16 17:30:00  43.00000\n",
       "2025-05-16 17:45:00  43.00000\n",
       "2025-05-16 18:00:00  43.00000\n",
       "2025-05-16 18:15:00  43.00000\n",
       "2025-05-16 18:30:00  42.78390\n",
       "2025-05-16 18:45:00  42.80195\n",
       "2025-05-16 19:00:00  42.82000"
      ],
      "text/html": [
       "<div>\n",
       "<style scoped>\n",
       "    .dataframe tbody tr th:only-of-type {\n",
       "        vertical-align: middle;\n",
       "    }\n",
       "\n",
       "    .dataframe tbody tr th {\n",
       "        vertical-align: top;\n",
       "    }\n",
       "\n",
       "    .dataframe thead th {\n",
       "        text-align: right;\n",
       "    }\n",
       "</style>\n",
       "<table border=\"1\" class=\"dataframe\">\n",
       "  <thead>\n",
       "    <tr style=\"text-align: right;\">\n",
       "      <th></th>\n",
       "      <th>close</th>\n",
       "    </tr>\n",
       "    <tr>\n",
       "      <th>date</th>\n",
       "      <th></th>\n",
       "    </tr>\n",
       "  </thead>\n",
       "  <tbody>\n",
       "    <tr>\n",
       "      <th>2025-05-16 08:00:00</th>\n",
       "      <td>43.48750</td>\n",
       "    </tr>\n",
       "    <tr>\n",
       "      <th>2025-05-16 08:15:00</th>\n",
       "      <td>43.24000</td>\n",
       "    </tr>\n",
       "    <tr>\n",
       "      <th>2025-05-16 08:30:00</th>\n",
       "      <td>42.92000</td>\n",
       "    </tr>\n",
       "    <tr>\n",
       "      <th>2025-05-16 08:45:00</th>\n",
       "      <td>42.84000</td>\n",
       "    </tr>\n",
       "    <tr>\n",
       "      <th>2025-05-16 09:00:00</th>\n",
       "      <td>42.76000</td>\n",
       "    </tr>\n",
       "    <tr>\n",
       "      <th>2025-05-16 09:15:00</th>\n",
       "      <td>42.78000</td>\n",
       "    </tr>\n",
       "    <tr>\n",
       "      <th>2025-05-16 09:30:00</th>\n",
       "      <td>42.80000</td>\n",
       "    </tr>\n",
       "    <tr>\n",
       "      <th>2025-05-16 09:45:00</th>\n",
       "      <td>42.87500</td>\n",
       "    </tr>\n",
       "    <tr>\n",
       "      <th>2025-05-16 10:00:00</th>\n",
       "      <td>42.89790</td>\n",
       "    </tr>\n",
       "    <tr>\n",
       "      <th>2025-05-16 10:15:00</th>\n",
       "      <td>42.85000</td>\n",
       "    </tr>\n",
       "    <tr>\n",
       "      <th>2025-05-16 10:30:00</th>\n",
       "      <td>42.61010</td>\n",
       "    </tr>\n",
       "    <tr>\n",
       "      <th>2025-05-16 10:45:00</th>\n",
       "      <td>42.70000</td>\n",
       "    </tr>\n",
       "    <tr>\n",
       "      <th>2025-05-16 11:00:00</th>\n",
       "      <td>42.71000</td>\n",
       "    </tr>\n",
       "    <tr>\n",
       "      <th>2025-05-16 11:15:00</th>\n",
       "      <td>42.75250</td>\n",
       "    </tr>\n",
       "    <tr>\n",
       "      <th>2025-05-16 11:30:00</th>\n",
       "      <td>42.79500</td>\n",
       "    </tr>\n",
       "    <tr>\n",
       "      <th>2025-05-16 11:45:00</th>\n",
       "      <td>42.79490</td>\n",
       "    </tr>\n",
       "    <tr>\n",
       "      <th>2025-05-16 12:00:00</th>\n",
       "      <td>42.71810</td>\n",
       "    </tr>\n",
       "    <tr>\n",
       "      <th>2025-05-16 12:15:00</th>\n",
       "      <td>42.76500</td>\n",
       "    </tr>\n",
       "    <tr>\n",
       "      <th>2025-05-16 12:30:00</th>\n",
       "      <td>42.76000</td>\n",
       "    </tr>\n",
       "    <tr>\n",
       "      <th>2025-05-16 12:45:00</th>\n",
       "      <td>42.76000</td>\n",
       "    </tr>\n",
       "    <tr>\n",
       "      <th>2025-05-16 13:00:00</th>\n",
       "      <td>42.85000</td>\n",
       "    </tr>\n",
       "    <tr>\n",
       "      <th>2025-05-16 13:15:00</th>\n",
       "      <td>42.84500</td>\n",
       "    </tr>\n",
       "    <tr>\n",
       "      <th>2025-05-16 13:30:00</th>\n",
       "      <td>42.80000</td>\n",
       "    </tr>\n",
       "    <tr>\n",
       "      <th>2025-05-16 13:45:00</th>\n",
       "      <td>42.86670</td>\n",
       "    </tr>\n",
       "    <tr>\n",
       "      <th>2025-05-16 14:00:00</th>\n",
       "      <td>42.82000</td>\n",
       "    </tr>\n",
       "    <tr>\n",
       "      <th>2025-05-16 14:15:00</th>\n",
       "      <td>42.84000</td>\n",
       "    </tr>\n",
       "    <tr>\n",
       "      <th>2025-05-16 14:30:00</th>\n",
       "      <td>42.89000</td>\n",
       "    </tr>\n",
       "    <tr>\n",
       "      <th>2025-05-16 14:45:00</th>\n",
       "      <td>42.87400</td>\n",
       "    </tr>\n",
       "    <tr>\n",
       "      <th>2025-05-16 15:00:00</th>\n",
       "      <td>42.85000</td>\n",
       "    </tr>\n",
       "    <tr>\n",
       "      <th>2025-05-16 15:15:00</th>\n",
       "      <td>42.86760</td>\n",
       "    </tr>\n",
       "    <tr>\n",
       "      <th>2025-05-16 15:30:00</th>\n",
       "      <td>42.84450</td>\n",
       "    </tr>\n",
       "    <tr>\n",
       "      <th>2025-05-16 15:45:00</th>\n",
       "      <td>42.90000</td>\n",
       "    </tr>\n",
       "    <tr>\n",
       "      <th>2025-05-16 16:00:00</th>\n",
       "      <td>42.50000</td>\n",
       "    </tr>\n",
       "    <tr>\n",
       "      <th>2025-05-16 16:15:00</th>\n",
       "      <td>43.00000</td>\n",
       "    </tr>\n",
       "    <tr>\n",
       "      <th>2025-05-16 16:30:00</th>\n",
       "      <td>42.99000</td>\n",
       "    </tr>\n",
       "    <tr>\n",
       "      <th>2025-05-16 16:45:00</th>\n",
       "      <td>42.98000</td>\n",
       "    </tr>\n",
       "    <tr>\n",
       "      <th>2025-05-16 17:00:00</th>\n",
       "      <td>42.99000</td>\n",
       "    </tr>\n",
       "    <tr>\n",
       "      <th>2025-05-16 17:15:00</th>\n",
       "      <td>43.00000</td>\n",
       "    </tr>\n",
       "    <tr>\n",
       "      <th>2025-05-16 17:30:00</th>\n",
       "      <td>43.00000</td>\n",
       "    </tr>\n",
       "    <tr>\n",
       "      <th>2025-05-16 17:45:00</th>\n",
       "      <td>43.00000</td>\n",
       "    </tr>\n",
       "    <tr>\n",
       "      <th>2025-05-16 18:00:00</th>\n",
       "      <td>43.00000</td>\n",
       "    </tr>\n",
       "    <tr>\n",
       "      <th>2025-05-16 18:15:00</th>\n",
       "      <td>43.00000</td>\n",
       "    </tr>\n",
       "    <tr>\n",
       "      <th>2025-05-16 18:30:00</th>\n",
       "      <td>42.78390</td>\n",
       "    </tr>\n",
       "    <tr>\n",
       "      <th>2025-05-16 18:45:00</th>\n",
       "      <td>42.80195</td>\n",
       "    </tr>\n",
       "    <tr>\n",
       "      <th>2025-05-16 19:00:00</th>\n",
       "      <td>42.82000</td>\n",
       "    </tr>\n",
       "  </tbody>\n",
       "</table>\n",
       "</div>"
      ]
     },
     "execution_count": 78,
     "metadata": {},
     "output_type": "execute_result"
    }
   ],
   "execution_count": 78
  },
  {
   "metadata": {
    "ExecuteTime": {
     "end_time": "2025-05-19T22:04:40.252617Z",
     "start_time": "2025-05-19T22:04:40.008818Z"
    }
   },
   "cell_type": "code",
   "source": "predictor_a2_1.predict(recent_price_data.iloc[:32])",
   "id": "b2b3d71f016ff318",
   "outputs": [
    {
     "name": "stdout",
     "output_type": "stream",
     "text": [
      "Prices are expected to go DOWN!\n"
     ]
    },
    {
     "data": {
      "text/plain": [
       "(array([31.8091462 , 31.8301834 , 31.85673586, 31.88494352, 31.91238934,\n",
       "        31.93949301, 31.96582016, 31.99007451, 32.01100482, 32.02798444,\n",
       "        32.04102383, 32.05052384, 32.05705088, 32.06117972, 32.06342963,\n",
       "        32.06423025]),\n",
       " DatetimeIndex(['2025-05-16 16:00:00', '2025-05-16 16:15:00',\n",
       "                '2025-05-16 16:30:00', '2025-05-16 16:45:00',\n",
       "                '2025-05-16 17:00:00', '2025-05-16 17:15:00',\n",
       "                '2025-05-16 17:30:00', '2025-05-16 17:45:00',\n",
       "                '2025-05-16 18:00:00', '2025-05-16 18:15:00',\n",
       "                '2025-05-16 18:30:00', '2025-05-16 18:45:00',\n",
       "                '2025-05-16 19:00:00', '2025-05-16 19:15:00',\n",
       "                '2025-05-16 19:30:00', '2025-05-16 19:45:00'],\n",
       "               dtype='datetime64[ns]', freq='15min'))"
      ]
     },
     "execution_count": 79,
     "metadata": {},
     "output_type": "execute_result"
    },
    {
     "data": {
      "text/plain": [
       "<Figure size 1200x600 with 1 Axes>"
      ],
      "image/png": "[encoded data removed]"
     },
     "metadata": {},
     "output_type": "display_data"
    }
   ],
   "execution_count": 79
  },
  {
   "metadata": {},
   "cell_type": "code",
   "outputs": [],
   "execution_count": null,
   "source": "",
   "id": "565aa1f84953ed03"
  }
 ],
 "metadata": {
  "kernelspec": {
   "display_name": "Python 3",
   "language": "python",
   "name": "python3"
  },
  "language_info": {
   "codemirror_mode": {
    "name": "ipython",
    "version": 2
   },
   "file_extension": ".py",
   "mimetype": "text/x-python",
   "name": "python",
   "nbconvert_exporter": "python",
   "pygments_lexer": "ipython2",
   "version": "2.7.6"
  }
 },
 "nbformat": 4,
 "nbformat_minor": 5
}
