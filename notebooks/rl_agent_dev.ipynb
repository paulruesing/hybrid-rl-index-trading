{
 "cells": [
  {
   "metadata": {},
   "cell_type": "markdown",
   "source": [
    "# Reinforcement Learning Dev\n",
    "With tensorflow:\n",
    "- general PPO tutorial: https://pytorch.org/tutorials/intermediate/reinforcement_ppo.html\n",
    "- RF Environment for stock trading: https://lixiaoguang.medium.com/create-custom-openai-gym-environment-for-deep-reinforcement-learning-drl-af2b2e3c830d\n",
    "- RF training for stock trading: https://lixiaoguang.medium.com/training-dqn-models-for-trading-using-pytorch-and-stable-baselines3-ml4t-005-2c256373db7b\n",
    "\n",
    "\n",
    "With keras:\n",
    "https://github.com/bharatpurohit97/StockPrediction/blob/master/ReinforcementLearning-YahooFinance/Tutorial/Stock-Prediction.ipynb\n",
    "\n",
    "Instal torchrl through\n",
    "- pip install git+https://github.com/pytorch-labs/tensordict\n",
    "- pip install git+https://github.com/pytorch/rl.git"
   ],
   "id": "57dde1f0974ef0f1"
  },
  {
   "metadata": {
    "ExecuteTime": {
     "end_time": "2025-05-05T11:40:40.858117Z",
     "start_time": "2025-05-05T11:40:40.294431Z"
    }
   },
   "cell_type": "code",
   "source": [
    "import yfinance as yf\n",
    "import pandas as pd\n",
    "def get_data_from_yahoo(ticker: str = 'DAX', period_days: int = None, sampling_rate_min: int = None,\n",
    "                        sampling_rate_days: int = 1, verbose=True, m_avg_days=[5, 30, 90],\n",
    "                        m_avg_column='Close', validation_split=0.1,\n",
    "                        start_date=None, end_date=None) -> pd.DataFrame:\n",
    "    # download data:\n",
    "    period = f'{period_days}d' if period_days is not None else 'max'\n",
    "    interval = f'{sampling_rate_min}m' if sampling_rate_days is None else f'{sampling_rate_days}d'\n",
    "    data = yf.download(tickers=ticker, period=period, interval=interval,\n",
    "                       start=start_date, end=end_date, progress=verbose)\n",
    "\n",
    "    # calculate data coverage subtracting weekends:\n",
    "    if verbose:\n",
    "        pandas_freq = f'{sampling_rate_days}D' if sampling_rate_days is not None else f'{sampling_rate_min}min'\n",
    "        compare_dt_index = pd.date_range(start=data.index[0], end=data.index[-1], freq=pandas_freq)\n",
    "        compare_dt_index = compare_dt_index[~compare_dt_index.weekday.isin([5, 6])]  # exclude weekends\n",
    "        compare_dt_index = compare_dt_index[~ ((compare_dt_index.hour < data.index.hour.min()) | (\n",
    "                    compare_dt_index.hour > data.index.hour.max()))]  # exclude non-operating hours\n",
    "        print(\n",
    "            f\"Coverage of downloaded data: {round(len(data) / len(compare_dt_index) * 100, 1)}%! Weekends and non-operating hours excluded. Can be due to holidays or missing data.\")\n",
    "        data[m_avg_column].plot()\n",
    "\n",
    "\n",
    "    # eventually calculate moving averages:\n",
    "    if m_avg_days is not None:\n",
    "        for days in m_avg_days:\n",
    "            data[f\"MA{days}\"] = data[m_avg_column].rolling(window=f\"{days}d\").mean()\n",
    "\n",
    "    # remove index:\n",
    "    data.reset_index(inplace=True)\n",
    "\n",
    "    # return with or without validation split:\n",
    "    if validation_split is not None:\n",
    "        if verbose: print(f\"Returning last {100 * validation_split}% of data for validation. Other data for training.\")\n",
    "        validation_split_index = int(len(data) * (1-validation_split))\n",
    "        return (data.iloc[:validation_split_index], data.iloc[validation_split_index:])\n",
    "    else:\n",
    "        return data"
   ],
   "id": "6a0271630db0a26c",
   "outputs": [],
   "execution_count": 1
  },
  {
   "metadata": {
    "ExecuteTime": {
     "end_time": "2025-05-05T11:40:46.427103Z",
     "start_time": "2025-05-05T11:40:44.129196Z"
    }
   },
   "cell_type": "code",
   "source": [
    "tickers = ['^GDAXI', '^IXIC', '^DJI', '^GSPC']\n",
    "years_to_backtest = 5\n",
    "data_tuples = [get_data_from_yahoo(ticker, period_days=int(365.25*years_to_backtest), verbose=False, validation_split=0.2) for ticker in tickers]"
   ],
   "id": "46ed970a61fcc1a4",
   "outputs": [
    {
     "name": "stderr",
     "output_type": "stream",
     "text": [
      "\n",
      "1 Failed download:\n",
      "['^GDAXI']: YFRateLimitError('Too Many Requests. Rate limited. Try after a while.')\n",
      "\n",
      "1 Failed download:\n",
      "['^IXIC']: YFRateLimitError('Too Many Requests. Rate limited. Try after a while.')\n",
      "\n",
      "1 Failed download:\n",
      "['^DJI']: YFRateLimitError('Too Many Requests. Rate limited. Try after a while.')\n",
      "\n",
      "1 Failed download:\n",
      "['^GSPC']: YFRateLimitError('Too Many Requests. Rate limited. Try after a while.')\n"
     ]
    }
   ],
   "execution_count": 2
  },
  {
   "metadata": {
    "ExecuteTime": {
     "end_time": "2025-01-31T13:53:01.354473Z",
     "start_time": "2025-01-31T13:53:01.349374Z"
    }
   },
   "cell_type": "code",
   "source": [
    "# split into dicts:\n",
    "train_dict = {tickers[ind]: data_tuples[ind][0] for ind in range(len(tickers))}\n",
    "test_dict = {tickers[ind]: data_tuples[ind][1] for ind in range(len(tickers))}"
   ],
   "id": "bbe1875d31b6e785",
   "outputs": [],
   "execution_count": 6
  },
  {
   "metadata": {},
   "cell_type": "markdown",
   "source": [
    "## 1. RL Environment Dev\n",
    "OpenAI Gym is a **popular toolkit for developing reinforcement learning algorithms**. It provides a **collection of environments** that simulate different scenarios for agents to learn in."
   ],
   "id": "7440d232423f7d24"
  },
  {
   "metadata": {
    "ExecuteTime": {
     "end_time": "2025-01-31T13:53:03.270665Z",
     "start_time": "2025-01-31T13:53:03.128318Z"
    }
   },
   "cell_type": "code",
   "source": [
    "import gym\n",
    "from gym import spaces\n",
    "import numpy as np\n",
    "import random\n",
    "import enum"
   ],
   "id": "44825716029f990c",
   "outputs": [],
   "execution_count": 7
  },
  {
   "metadata": {},
   "cell_type": "markdown",
   "source": "An environment provides methods for **action**, **observation** and **rewards**.",
   "id": "f0a7ebc38efcd8f2"
  },
  {
   "metadata": {
    "ExecuteTime": {
     "end_time": "2025-01-31T13:53:22.618993Z",
     "start_time": "2025-01-31T13:53:22.599495Z"
    }
   },
   "cell_type": "code",
   "source": [
    "class TradingActions(enum.Enum):\n",
    "    \"\"\" Actions for trading. Buy or sell all. No amount possible. \"\"\"\n",
    "    Hold = 0\n",
    "    Buy = 1\n",
    "    Sell = 2\n",
    "\n",
    "class RLTradingEnv(gym.Env):\n",
    "    \"\"\" A trading environment for OpenAI gym \"\"\"\n",
    "    metadata = {'render.modes': ['human']}\n",
    "\n",
    "    def __init__(self,\n",
    "                 data_frame_dict: dict,\n",
    "                 price_column='Close',\n",
    "                 indicator_columns=['MA5', 'MA30', 'MA90'],\n",
    "                 starting_cash=100000,\n",
    "                 commission_rate=0,\n",
    "                 sample_days=30,\n",
    "                 random_on_reset=True,\n",
    "                 verbose=True\n",
    "                 ):\n",
    "        \"\"\"\n",
    "        Represents the initialization method for the RLTradingEnv class, where key\n",
    "        parameters related to the trading environment such as data frames, pricing\n",
    "        information, initial cash balance, commission rate, and sampling days\n",
    "        are set upon instantiation.\n",
    "\n",
    "        :param data_frame_dict: A dictionary where keys represent identifiers for\n",
    "            trading instruments or assets, and values are Pandas DataFrames\n",
    "            containing time-series market data for each respective instrument.\n",
    "            Each episode, one stock is trained.\n",
    "        :param price_column: Name of the column in the DataFrame that contains\n",
    "            the price information. This is typically the closing price of the\n",
    "            instrument.\n",
    "        :param indicator_columns: Names of the columns in the DataFrame that contain\n",
    "            metrics for agent to base his decision on\n",
    "        :param starting_cash: The initial amount of cash available in the environment\n",
    "            for trading (at beginning of every episode).\n",
    "        :param commission_rate: The commission or transaction fee rate applied to\n",
    "            each trade. Represented as a decimal value, where 0.01 corresponds to\n",
    "            a 1% transaction cost.\n",
    "        :param sample_days: Number of previous days that are observable to the agent in each episode.\n",
    "        :param random_on_reset: whether each episode randomly selects a stock to train\n",
    "        \"\"\"\n",
    "        super(RLTradingEnv, self).__init__()  # initialise base class\n",
    "        self.data_frame_dict = data_frame_dict\n",
    "        self.price_column = price_column\n",
    "\n",
    "        # moving average days to be calculated:\n",
    "        self.indicator_columns = indicator_columns\n",
    "        self.starting_cash = starting_cash\n",
    "        self.commission_rate = commission_rate\n",
    "        self.sample_days = sample_days\n",
    "        self.random_on_reset = random_on_reset\n",
    "        self.verbose = verbose\n",
    "\n",
    "        # current episode (sequence of steps)\n",
    "        self.cur_episode = self.next_episode() if random_on_reset else 0\n",
    "\n",
    "        # current step (status and actions)\n",
    "        self.cur_step = self.sample_days\n",
    "\n",
    "        # set of possible actions as discrete values:\n",
    "        self.action_space = spaces.Discrete(len(TradingActions))\n",
    "\n",
    "        # set of floats representing available information for agent:\n",
    "        self.observation_space = spaces.Box(low=-np.inf,\n",
    "                                            high=np.inf,\n",
    "                                            shape=(len(self.indicator_columns) * self.sample_days + 3,),\n",
    "                                            dtype=np.float16)\n",
    "        # contains indicator columns and three more for (cash, price and action)\n",
    "\n",
    "        # possible range of rewards for actions:\n",
    "        self.reward_range = (-np.inf, np.inf)\n",
    "\n",
    "        # initial conditions:\n",
    "        self.cash = self.starting_cash\n",
    "        self.shares = 0\n",
    "\n",
    "    def step(self, action):\n",
    "        \"\"\"\n",
    "        Execute an action, return the reward and move to the next status.\n",
    "        Takes action.\n",
    "        Returns observation (box), reward (float), done (bool, indicating whether episode is finished) and info (dict).\n",
    "        \"\"\"\n",
    "        # infer current balance:\n",
    "        balance = self.cur_balance\n",
    "\n",
    "        # increase step and check if episode is finished (adjust cur_step and cur_episode)\n",
    "        self.cur_step += 1\n",
    "        if self.cur_step == self.total_steps:\n",
    "            self.cur_episode = self.next_episode()\n",
    "            self.cur_step = self.sample_days\n",
    "\n",
    "        # take action:\n",
    "        self.take_action(action)\n",
    "\n",
    "        # compute status and calculate reward:\n",
    "        obs = self.next_observation(action)\n",
    "        reward = self.cur_balance - balance  # equals change of balance\n",
    "        done = self.cur_step == self.total_steps - 1  # see if episode is finished\n",
    "\n",
    "        # construct info dictionary:\n",
    "        info = { 'Step'  : self.cur_step,\n",
    "                 'Reward' : round(reward, 2),\n",
    "                 'Symbol' : self.cur_symbol,\n",
    "                 'Action' : TradingActions(action).name,\n",
    "                 'Shares' : self.shares,\n",
    "                 'Close'  : round(self.cur_close_price, 2),\n",
    "                 'Cash'   : round(self.cash, 2),\n",
    "                 'Total'  : round(self.cur_balance, 2) }\n",
    "\n",
    "        # if done: self.reset()  # happens automatically!\n",
    "\n",
    "        return obs, reward, done, info\n",
    "\n",
    "    def take_action(self, action):\n",
    "        \"\"\" Takes action and updates current balance. Hold has no implication. \"\"\"\n",
    "        if action == TradingActions.Buy.value:  # buy all:\n",
    "            if self.shares == 0:  # only if no shares held:\n",
    "                price = self.cur_close_price * (1 + self.commission_rate)\n",
    "                self.shares = int(self.cash / price)\n",
    "                self.cash -= self.shares * price\n",
    "                if self.verbose:\n",
    "                    print(f\"[STEP {self.cur_step}] Bought {self.cur_symbol} at {self.cur_close_price}\")\n",
    "                    print(f\"    Cash: {self.cash}, Shares: {self.shares}\")\n",
    "        elif action == TradingActions.Sell.value:  # sell all:\n",
    "            if self.shares > 0:  # only if there are shares to sell:\n",
    "                price = self.cur_close_price * (1 - self.commission_rate)\n",
    "                self.cash += self.shares * price\n",
    "                self.shares = 0\n",
    "                if self.verbose:\n",
    "                    print(f\"[STEP {self.cur_step}] Sold {self.cur_symbol} at {self.cur_close_price}\")\n",
    "                    print(f\"    Cash: {self.cash}, Shares: {self.shares}\")\n",
    "\n",
    "    def next_observation(self, action):\n",
    "        \"\"\" Construct and return new observable status. Reads current indicators (for sample_days), cash, balance and action. \"\"\"\n",
    "        observation = np.array([], dtype=np.int64)\n",
    "        for i in range(self.sample_days, 0, -1):\n",
    "            observation = np.append(observation, list(self.cur_indicators.iloc[self.cur_step - i + 1, :]))\n",
    "        return np.append(observation, [self.cash, self.shares * self.cur_close_price, action])\n",
    "\n",
    "    def next_episode(self):\n",
    "        \"\"\" Select stock to be trained at beginning of episode. \"\"\"\n",
    "        if self.random_on_reset:\n",
    "            return random.randrange(0, self.total_episodes)\n",
    "        else:\n",
    "            return (self.cur_episode + 1) % self.total_episodes\n",
    "\n",
    "    def reset(self):\n",
    "        \"\"\" Initialises environment when starting new episode. Returns next status. \"\"\"\n",
    "        if self.verbose:  # info statement\n",
    "            print(f\"Starting episode {self.cur_episode + 1}\", (f\"/{self.total_episodes}\" if not self.random_on_reset else \"\"))\n",
    "        self.cash = self.starting_cash\n",
    "        self.shares = 0\n",
    "        return self.next_observation(TradingActions.Hold.value)\n",
    "\n",
    "    ################ properties ################\n",
    "    @property\n",
    "    def total_episodes(self):\n",
    "        \"\"\" Total episodes equals amount of provided stock data frames. \"\"\"\n",
    "        return len(self.data_frame_dict)\n",
    "\n",
    "    @property\n",
    "    def cur_symbol(self):\n",
    "        \"\"\" Current symbol is the key of the current episode's data frame. \"\"\"\n",
    "        return list(self.data_frame_dict.keys())[self.cur_episode]\n",
    "\n",
    "    @property\n",
    "    def cur_data(self):\n",
    "        \"\"\" Current data is the current episode's data frame. '\"\"\"\n",
    "        return self.data_frame_dict[self.cur_symbol]\n",
    "\n",
    "    @property\n",
    "    def cur_indicators(self):\n",
    "        \"\"\" Current indicators are the technical indicators in the current data. \"\"\"\n",
    "        return self.cur_data[self.indicator_columns]\n",
    "\n",
    "    @property\n",
    "    def total_steps(self):\n",
    "        \"\"\" Total steps equals length of current stock data frame.\"\"\"\n",
    "        return len(self.cur_data)\n",
    "\n",
    "    @property\n",
    "    def cur_close_price(self):\n",
    "        \"\"\" Current close price is the price of the current symbol at current time. \"\"\"\n",
    "        return self.cur_data[self.price_column].iloc[self.cur_step].item()\n",
    "\n",
    "    @property\n",
    "    def cur_balance(self):\n",
    "        \"\"\" Current balance equals cash plus current shares times current price. \"\"\"\n",
    "        return self.cash + (self.shares * self.cur_close_price)"
   ],
   "id": "620955fff207fce8",
   "outputs": [],
   "execution_count": 10
  },
  {
   "metadata": {
    "ExecuteTime": {
     "end_time": "2025-01-31T13:53:22.853723Z",
     "start_time": "2025-01-31T13:53:22.849227Z"
    }
   },
   "cell_type": "code",
   "source": "env = RLTradingEnv(train_dict, sample_days=30, random_on_reset=True, verbose=False)",
   "id": "d838dde854466861",
   "outputs": [],
   "execution_count": 11
  },
  {
   "metadata": {},
   "cell_type": "markdown",
   "source": [
    "## 2. RL Training\n",
    "With stable-baseline3 and pytorch.\n",
    "\n",
    "Stable-Baselines3 is a reinforcement learning library built on top of PyTorch. It provides a set of pre-implemented RL algorithms and simplifies the process of training and evaluating RL models. It also includes a variety of useful tools for monitoring training progress and visualizing model behavior.\n",
    "\n",
    "For training we will use Deep Q-Network (DQN). DQN is a reinforcement learning algorithm that uses a deep neural network to approximate the Q-value function. The Q-value function is a function that receives a status-action pair and outputs a value representing the expected cumulative reward for taking that action from that status, and continues playing following the optimal policy."
   ],
   "id": "d31517de46894f2a"
  },
  {
   "metadata": {
    "ExecuteTime": {
     "end_time": "2025-01-31T13:53:26.740553Z",
     "start_time": "2025-01-31T13:53:25.182634Z"
    }
   },
   "cell_type": "code",
   "source": [
    "from stable_baselines3.common.vec_env import DummyVecEnv\n",
    "from stable_baselines3 import DQN"
   ],
   "id": "7368861d359b3aaf",
   "outputs": [],
   "execution_count": 12
  },
  {
   "metadata": {},
   "cell_type": "markdown",
   "source": "See https://stable-baselines3.readthedocs.io/en/master/modules/dqn.html",
   "id": "dc5ad67bf14c8f4c"
  },
  {
   "metadata": {
    "ExecuteTime": {
     "end_time": "2025-01-31T13:53:31.345490Z",
     "start_time": "2025-01-31T13:53:30.604135Z"
    }
   },
   "cell_type": "code",
   "source": [
    "# MlpPolicy is policy used for training\n",
    "# DummyVecEnc optimizes training through multiple independent variables\n",
    "model = DQN('MlpPolicy', DummyVecEnv([lambda: env]), learning_rate=0.001, verbose=1)"
   ],
   "id": "82f7d90ba26a1d62",
   "outputs": [
    {
     "name": "stderr",
     "output_type": "stream",
     "text": [
      "/Users/paulrusing/miniconda3/envs/rl_env/lib/python3.13/site-packages/stable_baselines3/common/vec_env/patch_gym.py:49: UserWarning: You provided an OpenAI Gym environment. We strongly recommend transitioning to Gymnasium environments. Stable-Baselines3 is automatically wrapping your environments in a compatibility layer, which could potentially cause issues.\n",
      "  warnings.warn(\n"
     ]
    },
    {
     "name": "stdout",
     "output_type": "stream",
     "text": [
      "Using cpu device\n"
     ]
    }
   ],
   "execution_count": 13
  },
  {
   "metadata": {},
   "cell_type": "markdown",
   "source": "Train model:",
   "id": "fd0db9499ba5d186"
  },
  {
   "metadata": {},
   "cell_type": "code",
   "source": "model.learn(total_timesteps=50000, log_interval=100, progress_bar=True)",
   "id": "a381e6e0c5cfa48c",
   "outputs": [],
   "execution_count": null
  },
  {
   "metadata": {
    "ExecuteTime": {
     "end_time": "2025-01-31T13:37:09.731714Z",
     "start_time": "2025-01-31T13:37:09.707189Z"
    }
   },
   "cell_type": "code",
   "source": "model.save('saved_rl_trading_model.pt')",
   "id": "2019246718868f20",
   "outputs": [],
   "execution_count": 15
  },
  {
   "metadata": {},
   "cell_type": "markdown",
   "source": "## 3. RL Run",
   "id": "82b2b2cdd5eaa8e2"
  },
  {
   "metadata": {
    "ExecuteTime": {
     "end_time": "2025-01-31T13:36:30.813911Z",
     "start_time": "2025-01-31T13:36:30.770645Z"
    }
   },
   "cell_type": "code",
   "source": [
    "import pandas as pd\n",
    "import matplotlib.pyplot as plt"
   ],
   "id": "879b429d27197147",
   "outputs": [],
   "execution_count": 10
  },
  {
   "metadata": {
    "ExecuteTime": {
     "end_time": "2025-01-31T13:36:33.955564Z",
     "start_time": "2025-01-31T13:36:33.953192Z"
    }
   },
   "cell_type": "code",
   "source": "# model = DQN.load('saved_rl_trading_model.pt')",
   "id": "3587d5050c9b5952",
   "outputs": [],
   "execution_count": 12
  },
  {
   "metadata": {
    "ExecuteTime": {
     "end_time": "2025-01-31T13:37:56.030639Z",
     "start_time": "2025-01-31T13:37:48.127825Z"
    }
   },
   "cell_type": "code",
   "source": [
    "logs = []  # list of log frames\n",
    "for symbol, data in test_dict.items():  # iterate over stock data:\n",
    "    env = RLTradingEnv({ symbol: data }, random_on_reset=False)\n",
    "    model.set_env(DummyVecEnv([lambda: env]))\n",
    "\n",
    "    obs = env.reset()\n",
    "    done = False\n",
    "\n",
    "    log = pd.DataFrame()\n",
    "    while(not done):\n",
    "        action, _ = model.predict(obs)\n",
    "        obs, _, done, info = env.step(action)\n",
    "        log = pd.concat([log, pd.DataFrame(info, index=[info['Step']])])\n",
    "    logs.append(log)"
   ],
   "id": "81aa8f9900ad7e6",
   "outputs": [
    {
     "name": "stderr",
     "output_type": "stream",
     "text": [
      "/Users/paulrusing/miniconda3/envs/rl_env/lib/python3.13/site-packages/stable_baselines3/common/vec_env/patch_gym.py:49: UserWarning: You provided an OpenAI Gym environment. We strongly recommend transitioning to Gymnasium environments. Stable-Baselines3 is automatically wrapping your environments in a compatibility layer, which could potentially cause issues.\n",
      "  warnings.warn(\n"
     ]
    },
    {
     "name": "stdout",
     "output_type": "stream",
     "text": [
      "Starting episode 1 /1\n",
      "[STEP 71] Buying ^GDAXI at 16404.759765625\n",
      "    Cash: 100000, Shares: 0\n",
      "[STEP 107] Selling ^GDAXI at 16961.390625\n",
      "    Cash: 1571.44140625, Shares: 6\n",
      "[STEP 114] Buying ^GDAXI at 17033.240234375\n",
      "    Cash: 103339.78515625, Shares: 0\n",
      "[STEP 131] Selling ^GDAXI at 17678.189453125\n",
      "    Cash: 1140.34375, Shares: 6\n",
      "[STEP 186] Buying ^GDAXI at 18726.759765625\n",
      "    Cash: 107209.48046875, Shares: 0\n",
      "[STEP 193] Selling ^GDAXI at 18496.7890625\n",
      "    Cash: 13575.681640625, Shares: 5\n",
      "[STEP 261] Buying ^GDAXI at 18747.109375\n",
      "    Cash: 106059.626953125, Shares: 0\n",
      "[STEP 264] Selling ^GDAXI at 18301.900390625\n",
      "    Cash: 12324.080078125, Shares: 5\n",
      "[STEP 291] Buying ^GDAXI at 19486.189453125\n",
      "    Cash: 103833.58203125, Shares: 0\n"
     ]
    },
    {
     "name": "stderr",
     "output_type": "stream",
     "text": [
      "/Users/paulrusing/miniconda3/envs/rl_env/lib/python3.13/site-packages/stable_baselines3/common/vec_env/patch_gym.py:49: UserWarning: You provided an OpenAI Gym environment. We strongly recommend transitioning to Gymnasium environments. Stable-Baselines3 is automatically wrapping your environments in a compatibility layer, which could potentially cause issues.\n",
      "  warnings.warn(\n"
     ]
    },
    {
     "name": "stdout",
     "output_type": "stream",
     "text": [
      "Starting episode 1 /1\n",
      "[STEP 45] Buying ^IXIC at 13186.1796875\n",
      "    Cash: 100000, Shares: 0\n",
      "[STEP 55] Selling ^IXIC at 13294.1904296875\n",
      "    Cash: 7696.7421875, Shares: 7\n",
      "[STEP 106] Buying ^IXIC at 15055.650390625\n",
      "    Cash: 100756.0751953125, Shares: 0\n",
      "[STEP 177] Selling ^IXIC at 15657.8203125\n",
      "    Cash: 10422.1728515625, Shares: 6\n",
      "[STEP 195] Buying ^IXIC at 16920.7890625\n",
      "    Cash: 104369.0947265625, Shares: 0\n",
      "[STEP 229] Selling ^IXIC at 18509.33984375\n",
      "    Cash: 2844.3603515625, Shares: 6\n",
      "[STEP 252] Buying ^IXIC at 17631.720703125\n",
      "    Cash: 113900.3994140625, Shares: 0\n",
      "[STEP 272] Selling ^IXIC at 17592.130859375\n",
      "    Cash: 8110.0751953125, Shares: 6\n",
      "[STEP 273] Buying ^IXIC at 17628.060546875\n",
      "    Cash: 113662.8603515625, Shares: 0\n",
      "[STEP 282] Selling ^IXIC at 18189.169921875\n",
      "    Cash: 7894.4970703125, Shares: 6\n"
     ]
    },
    {
     "name": "stderr",
     "output_type": "stream",
     "text": [
      "/Users/paulrusing/miniconda3/envs/rl_env/lib/python3.13/site-packages/stable_baselines3/common/vec_env/patch_gym.py:49: UserWarning: You provided an OpenAI Gym environment. We strongly recommend transitioning to Gymnasium environments. Stable-Baselines3 is automatically wrapping your environments in a compatibility layer, which could potentially cause issues.\n",
      "  warnings.warn(\n"
     ]
    },
    {
     "name": "stdout",
     "output_type": "stream",
     "text": [
      "Starting episode 1 /1\n",
      "[STEP 40] Buying ^DJI at 33631.140625\n",
      "    Cash: 100000, Shares: 0\n",
      "[STEP 94] Selling ^DJI at 37689.5390625\n",
      "    Cash: 32737.71875, Shares: 2\n",
      "[STEP 102] Buying ^DJI at 37711.01953125\n",
      "    Cash: 108116.796875, Shares: 0\n",
      "[STEP 117] Selling ^DJI at 38654.421875\n",
      "    Cash: 32694.7578125, Shares: 2\n",
      "[STEP 160] Buying ^DJI at 38904.0390625\n",
      "    Cash: 110003.6015625, Shares: 0\n",
      "[STEP 206] Selling ^DJI at 38747.421875\n",
      "    Cash: 32195.5234375, Shares: 2\n"
     ]
    },
    {
     "name": "stderr",
     "output_type": "stream",
     "text": [
      "/Users/paulrusing/miniconda3/envs/rl_env/lib/python3.13/site-packages/stable_baselines3/common/vec_env/patch_gym.py:49: UserWarning: You provided an OpenAI Gym environment. We strongly recommend transitioning to Gymnasium environments. Stable-Baselines3 is automatically wrapping your environments in a compatibility layer, which could potentially cause issues.\n",
      "  warnings.warn(\n"
     ]
    },
    {
     "name": "stdout",
     "output_type": "stream",
     "text": [
      "Starting episode 1 /1\n",
      "[STEP 145] Buying ^GSPC at 5150.47998046875\n",
      "    Cash: 100000, Shares: 0\n",
      "[STEP 192] Selling ^GSPC at 5321.41015625\n",
      "    Cash: 2140.88037109375, Shares: 19\n",
      "[STEP 301] Buying ^GSPC at 5808.1201171875\n",
      "    Cash: 103247.67333984375, Shares: 0\n"
     ]
    }
   ],
   "execution_count": 17
  },
  {
   "metadata": {},
   "cell_type": "markdown",
   "source": "Compare results against benchmark (buy and hold from day one):",
   "id": "53ca9da9ad65737a"
  },
  {
   "metadata": {
    "ExecuteTime": {
     "end_time": "2025-01-31T13:39:05.036541Z",
     "start_time": "2025-01-31T13:39:05.006543Z"
    }
   },
   "cell_type": "code",
   "source": [
    "val = pd.DataFrame()\n",
    "for log in logs:\n",
    "    log['Benchmark'] = env.starting_cash / log['Close'].iloc[0] * log['Close']\n",
    "    log['Policy'] = log['Total']\n",
    "    val = val.add(log[['Benchmark', 'Policy']], fill_value=0)\n",
    "val"
   ],
   "id": "55726e9021fbd34f",
   "outputs": [
    {
     "data": {
      "text/plain": [
       "         Benchmark     Policy\n",
       "31   400000.000000  400000.00\n",
       "32   402408.454164  400000.00\n",
       "33   398110.642111  400000.00\n",
       "34   400394.310889  400000.00\n",
       "35   398536.791222  400000.00\n",
       "..             ...        ...\n",
       "361  567473.404178  448506.15\n",
       "362  562997.120001  448028.56\n",
       "363  568254.005101  449419.05\n",
       "364  566766.651894  449200.52\n",
       "365  424416.241113  334439.41\n",
       "\n",
       "[335 rows x 2 columns]"
      ],
      "text/html": [
       "<div>\n",
       "<style scoped>\n",
       "    .dataframe tbody tr th:only-of-type {\n",
       "        vertical-align: middle;\n",
       "    }\n",
       "\n",
       "    .dataframe tbody tr th {\n",
       "        vertical-align: top;\n",
       "    }\n",
       "\n",
       "    .dataframe thead th {\n",
       "        text-align: right;\n",
       "    }\n",
       "</style>\n",
       "<table border=\"1\" class=\"dataframe\">\n",
       "  <thead>\n",
       "    <tr style=\"text-align: right;\">\n",
       "      <th></th>\n",
       "      <th>Benchmark</th>\n",
       "      <th>Policy</th>\n",
       "    </tr>\n",
       "  </thead>\n",
       "  <tbody>\n",
       "    <tr>\n",
       "      <th>31</th>\n",
       "      <td>400000.000000</td>\n",
       "      <td>400000.00</td>\n",
       "    </tr>\n",
       "    <tr>\n",
       "      <th>32</th>\n",
       "      <td>402408.454164</td>\n",
       "      <td>400000.00</td>\n",
       "    </tr>\n",
       "    <tr>\n",
       "      <th>33</th>\n",
       "      <td>398110.642111</td>\n",
       "      <td>400000.00</td>\n",
       "    </tr>\n",
       "    <tr>\n",
       "      <th>34</th>\n",
       "      <td>400394.310889</td>\n",
       "      <td>400000.00</td>\n",
       "    </tr>\n",
       "    <tr>\n",
       "      <th>35</th>\n",
       "      <td>398536.791222</td>\n",
       "      <td>400000.00</td>\n",
       "    </tr>\n",
       "    <tr>\n",
       "      <th>...</th>\n",
       "      <td>...</td>\n",
       "      <td>...</td>\n",
       "    </tr>\n",
       "    <tr>\n",
       "      <th>361</th>\n",
       "      <td>567473.404178</td>\n",
       "      <td>448506.15</td>\n",
       "    </tr>\n",
       "    <tr>\n",
       "      <th>362</th>\n",
       "      <td>562997.120001</td>\n",
       "      <td>448028.56</td>\n",
       "    </tr>\n",
       "    <tr>\n",
       "      <th>363</th>\n",
       "      <td>568254.005101</td>\n",
       "      <td>449419.05</td>\n",
       "    </tr>\n",
       "    <tr>\n",
       "      <th>364</th>\n",
       "      <td>566766.651894</td>\n",
       "      <td>449200.52</td>\n",
       "    </tr>\n",
       "    <tr>\n",
       "      <th>365</th>\n",
       "      <td>424416.241113</td>\n",
       "      <td>334439.41</td>\n",
       "    </tr>\n",
       "  </tbody>\n",
       "</table>\n",
       "<p>335 rows × 2 columns</p>\n",
       "</div>"
      ]
     },
     "execution_count": 18,
     "metadata": {},
     "output_type": "execute_result"
    }
   ],
   "execution_count": 18
  },
  {
   "metadata": {
    "ExecuteTime": {
     "end_time": "2025-01-31T13:39:05.908627Z",
     "start_time": "2025-01-31T13:39:05.707501Z"
    }
   },
   "cell_type": "code",
   "source": [
    "val['Policy'] /= val['Benchmark'].iloc[0]\n",
    "val['Benchmark'] /= val['Benchmark'].iloc[0]\n",
    "\n",
    "ax = val[['Policy', 'Benchmark']].plot(title='Normalized Policy vs. Benchmark')\n",
    "ax.set_xlabel('Date')\n",
    "ax.set_ylabel('Normalized Balance')\n",
    "plt.show()"
   ],
   "id": "70093524eed1cb47",
   "outputs": [
    {
     "data": {
      "text/plain": [
       "<Figure size 640x480 with 1 Axes>"
      ],
      "image/png": "[encoded data removed]"
     },
     "metadata": {},
     "output_type": "display_data"
    }
   ],
   "execution_count": 19
  }
 ],
 "metadata": {
  "kernelspec": {
   "display_name": "Python 3",
   "language": "python",
   "name": "python3"
  },
  "language_info": {
   "codemirror_mode": {
    "name": "ipython",
    "version": 2
   },
   "file_extension": ".py",
   "mimetype": "text/x-python",
   "name": "python",
   "nbconvert_exporter": "python",
   "pygments_lexer": "ipython2",
   "version": "2.7.6"
  }
 },
 "nbformat": 4,
 "nbformat_minor": 5
}
