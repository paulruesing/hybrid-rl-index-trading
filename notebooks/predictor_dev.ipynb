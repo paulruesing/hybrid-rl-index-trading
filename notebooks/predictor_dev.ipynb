{
 "cells": [
  {
   "metadata": {},
   "cell_type": "markdown",
   "source": [
    "# DL-based Stock Price Prediction Notebook\n",
    "Starting with an LSTM-based predictor, inspired by https://github.com/jinglescode/time-series-forecasting-pytorch/tree/main (also on https://www.alphavantage.co/stock-prediction-deep-neural-networks-lstm/)"
   ],
   "id": "9538f19d513e94b8"
  },
  {
   "cell_type": "code",
   "id": "initial_id",
   "metadata": {
    "collapsed": true,
    "ExecuteTime": {
     "end_time": "2025-05-06T15:04:18.390445Z",
     "start_time": "2025-05-06T15:04:18.387386Z"
    }
   },
   "source": [
    "import pandas as pd\n",
    "import numpy as np\n",
    "from pathlib import Path\n",
    "from typing import Literal\n",
    "from tqdm import tqdm\n",
    "\n",
    "import torch\n",
    "import torch.nn as nn\n",
    "import torch.nn.functional as F\n",
    "import torch.optim as optim\n",
    "from torch.utils.data import Dataset, DataLoader\n",
    "\n",
    "import matplotlib.pyplot as plt"
   ],
   "outputs": [],
   "execution_count": 56
  },
  {
   "metadata": {},
   "cell_type": "code",
   "source": [
    "ROOT = Path().resolve().parent\n",
    "DATA = ROOT / \"data\"\n",
    "DAILY_PRICES = DATA / \"daily_trading_prices\"\n",
    "MINUTELY_PRICES = DATA / \"minutely_trading_prices\"\n",
    "\n",
    "HISTORICAL_PRICES = DAILY_PRICES / \"20250505 14_56_24 ^GDAXI Close price data 1987-12-30 to 2025-05-05.csv\""
   ],
   "id": "9a59fd365d2323df",
   "outputs": [],
   "execution_count": null
  },
  {
   "metadata": {},
   "cell_type": "markdown",
   "source": "## LSTM Development",
   "id": "548e77eb609d3b1"
  },
  {
   "metadata": {},
   "cell_type": "markdown",
   "source": "### Data Loading",
   "id": "6933f97ad95a26d7"
  },
  {
   "metadata": {},
   "cell_type": "code",
   "source": [
    "price_column = 'Close'\n",
    "date_column = 'Datetime'\n",
    "\n",
    "price_file = pd.read_csv(HISTORICAL_PRICES)\n",
    "price_file.dropna(axis=0, inplace=True)\n",
    "price_file[date_column] = pd.to_datetime(price_file[date_column])\n",
    "price_file[price_column] = price_file[price_column].astype(float) \n",
    "\n",
    "price_series = price_file.set_index(date_column)[price_column]\n",
    "price_series"
   ],
   "id": "b2d5b93766d5445c",
   "outputs": [],
   "execution_count": null
  },
  {
   "metadata": {},
   "cell_type": "code",
   "source": [
    "price_series.plot(ylabel='Price [€]', title='Historical DAX Price Development', figsize=(10, 6))\n",
    "plt.grid()"
   ],
   "id": "1b0b07e1a47d19a8",
   "outputs": [],
   "execution_count": null
  },
  {
   "metadata": {},
   "cell_type": "markdown",
   "source": "### Data Preparation",
   "id": "e3341451cb695cdc"
  },
  {
   "metadata": {},
   "cell_type": "markdown",
   "source": [
    "#### Normalisation\n",
    "Scaling the data is important for convergence during model training. We utilise the *normalisation* technique."
   ],
   "id": "672589e37ab562a8"
  },
  {
   "metadata": {},
   "cell_type": "code",
   "source": [
    "class Normaliser():\n",
    "    def __init__(self):\n",
    "        self.mu = None\n",
    "        self.sd = None\n",
    "\n",
    "    def fit_transform(self, x):\n",
    "        \"\"\" Normalise an array of values. \"\"\"\n",
    "        self.mu = np.mean(x, axis=0)\n",
    "        self.sd = np.std(x, axis=0)\n",
    "        normalized_x = (x - self.mu)/self.sd\n",
    "        return normalized_x\n",
    "\n",
    "    def inverse_transform(self, x):\n",
    "        \"\"\" Reverse-transform an array of normalised values. \"\"\"\n",
    "        return (x*self.sd) + self.mu"
   ],
   "id": "4275b4e326058d3a",
   "outputs": [],
   "execution_count": null
  },
  {
   "metadata": {},
   "cell_type": "code",
   "source": [
    "normalised_price_series = Normaliser().fit_transform(price_series)\n",
    "normalised_price_series"
   ],
   "id": "41ee691e8fd55bee",
   "outputs": [],
   "execution_count": null
  },
  {
   "metadata": {},
   "cell_type": "markdown",
   "source": [
    "#### Training Data\n",
    "Split a share of the data (with the most recent datapoints) for model validation."
   ],
   "id": "8d80f11b75b053a0"
  },
  {
   "metadata": {},
   "cell_type": "code",
   "outputs": [],
   "execution_count": null,
   "source": [
    "validation_split = 0.2\n",
    "rolling_window_size = 20\n",
    "sampling_rate = 'day'"
   ],
   "id": "a791d16662322a40"
  },
  {
   "metadata": {
    "ExecuteTime": {
     "end_time": "2025-05-06T15:22:00.127765Z",
     "start_time": "2025-05-06T15:22:00.123907Z"
    }
   },
   "cell_type": "code",
   "source": "normalised_price_series",
   "id": "1de15a9e73a18160",
   "outputs": [
    {
     "data": {
      "text/plain": [
       "Datetime\n",
       "1987-12-30   -1.256058\n",
       "1988-01-04   -1.266210\n",
       "1988-01-05   -1.257953\n",
       "1988-01-06   -1.255887\n",
       "1988-01-07   -1.254123\n",
       "                ...   \n",
       "2025-04-28    3.177085\n",
       "2025-04-29    3.209221\n",
       "2025-04-30    3.224053\n",
       "2025-05-02    3.346973\n",
       "2025-05-05    3.387347\n",
       "Name: Close, Length: 9441, dtype: float64"
      ]
     },
     "execution_count": 76,
     "metadata": {},
     "output_type": "execute_result"
    }
   ],
   "execution_count": 76
  },
  {
   "metadata": {
    "ExecuteTime": {
     "end_time": "2025-05-06T15:23:08.842975Z",
     "start_time": "2025-05-06T15:23:08.838370Z"
    }
   },
   "cell_type": "code",
   "source": [
    "X = normalised_price_series.to_numpy()\n",
    "\n",
    "# this converts each single price value of X into an array of values containing 20 retrospective prices:\n",
    "np.lib.stride_tricks.as_strided(X, shape=(len(X)-rolling_window_size+1, rolling_window_size), strides=(X.strides[0], X.strides[0]))[:-1]"
   ],
   "id": "16b5e5bd5e791cf7",
   "outputs": [
    {
     "data": {
      "text/plain": [
       "array([[-1.25605768, -1.26620953, -1.25795256, ..., -1.26375599,\n",
       "        -1.26554664, -1.27011393],\n",
       "       [-1.26620953, -1.25795256, -1.25588675, ..., -1.26554664,\n",
       "        -1.27011393, -1.27048081],\n",
       "       [-1.25795256, -1.25588675, -1.25412321, ..., -1.27011393,\n",
       "        -1.27048081, -1.26724973],\n",
       "       ...,\n",
       "       [ 3.15453434,  3.23301629,  3.20192691, ...,  3.17099388,\n",
       "         3.17708513,  3.20922087],\n",
       "       [ 3.23301629,  3.20192691,  3.06154183, ...,  3.17708513,\n",
       "         3.20922087,  3.22405265],\n",
       "       [ 3.20192691,  3.06154183,  2.8373111 , ...,  3.20922087,\n",
       "         3.22405265,  3.34697337]], shape=(9421, 20))"
      ]
     },
     "execution_count": 77,
     "metadata": {},
     "output_type": "execute_result"
    }
   ],
   "execution_count": 77
  },
  {
   "metadata": {
    "ExecuteTime": {
     "end_time": "2025-05-06T15:08:20.550986Z",
     "start_time": "2025-05-06T15:08:20.370838Z"
    }
   },
   "cell_type": "code",
   "source": [
    "\n",
    "# window X values:\n",
    "\n",
    "# split prices into training and validation data:\n",
    "print(f\"Using last {100 * validation_split}% of data for validation. Other data for training.\")\n",
    "validation_split_index = int(len(normalised_price_series) * (1-validation_split))\n",
    "X_train = normalised_price_series.iloc[:validation_split_index]\n",
    "X_val = normalised_price_series.iloc[validation_split_index:]\n",
    "# target values start after rolling window:\n",
    "Y_train = normalised_price_series.iloc[rolling_window_size:rolling_window_size+validation_split_index]\n",
    "Y_val = normalised_price_series.iloc[rolling_window_size+validation_split_index:]\n",
    "\n",
    "# plot result:\n",
    "fig, ax = plt.subplots(figsize=(12,6))\n",
    "ax.plot(X_train, label='Training Data', color='blue')\n",
    "ax.plot(X_val, label='Validation Data', color='red')\n",
    "ax.set_xlabel('Date')\n",
    "ax.set_ylabel('Normalised Price')\n",
    "ax.set_title('Data Overview')\n",
    "ax.grid(True)\n",
    "ax.legend()"
   ],
   "id": "9cfd78b9ff86288b",
   "outputs": [
    {
     "name": "stdout",
     "output_type": "stream",
     "text": [
      "Using last 20.0% of data for validation. Other data for training.\n"
     ]
    },
    {
     "data": {
      "text/plain": [
       "<matplotlib.legend.Legend at 0x12c5225d0>"
      ]
     },
     "execution_count": 63,
     "metadata": {},
     "output_type": "execute_result"
    },
    {
     "data": {
      "text/plain": [
       "<Figure size 1200x600 with 1 Axes>"
      ],
      "image/png": "[encoded data removed]"
     },
     "metadata": {},
     "output_type": "display_data"
    }
   ],
   "execution_count": 63
  },
  {
   "metadata": {},
   "cell_type": "markdown",
   "source": "### Define LSTM Model",
   "id": "b55b3128e2b70f6b"
  },
  {
   "metadata": {
    "ExecuteTime": {
     "end_time": "2025-05-06T15:14:47.116709Z",
     "start_time": "2025-05-06T15:14:47.112713Z"
    }
   },
   "cell_type": "code",
   "source": [
    "from typing import Union\n",
    "\n",
    "class TimeSeriesDataset(Dataset):\n",
    "    def __init__(self,\n",
    "                 X: Union[pd.DataFrame, pd.Series, np.ndarray],\n",
    "                 Y: Union[pd.Series, pd.Series, np.ndarray]):\n",
    "        # convert values to numpy if necessary:\n",
    "        if isinstance(X, (pd.Series, pd.DataFrame)):\n",
    "            X = X.to_numpy()\n",
    "        if isinstance(Y, (pd.Series, pd.DataFrame)):\n",
    "            Y = Y.to_numpy()\n",
    "            \n",
    "        # expand tensor for LSTM input:\n",
    "        X = np.expand_dims(X, 2)\n",
    "        \n",
    "        # save values:\n",
    "        self.X = X.astype(np.float32)\n",
    "        self.Y = Y.astype(np.float32)\n",
    "        \n",
    "    # necessary operators:\n",
    "    def __len__(self):\n",
    "        return len(self.x)\n",
    "    \n",
    "    def __getitem__(self, idx):\n",
    "        return self.X[idx], self.Y[idx]"
   ],
   "id": "8c35fdb9d4d3055f",
   "outputs": [],
   "execution_count": 65
  },
  {
   "metadata": {
    "ExecuteTime": {
     "end_time": "2025-05-06T15:17:19.880549Z",
     "start_time": "2025-05-06T15:17:19.874660Z"
    }
   },
   "cell_type": "code",
   "source": "np.lib.stride_tricks.as_strided(x, shape=(n_row, window_size), strides=(x.strides[0], x.strides[0]))",
   "id": "99842f0ddbcc6191",
   "outputs": [
    {
     "data": {
      "text/plain": [
       "Rolling [window=20,center=False,axis=0,method=single]"
      ]
     },
     "execution_count": 73,
     "metadata": {},
     "output_type": "execute_result"
    }
   ],
   "execution_count": 73
  },
  {
   "metadata": {
    "ExecuteTime": {
     "end_time": "2025-05-06T15:16:12.200143Z",
     "start_time": "2025-05-06T15:16:12.196447Z"
    }
   },
   "cell_type": "code",
   "source": "X_train.to_numpy().",
   "id": "8c23ad2752fcf86e",
   "outputs": [
    {
     "data": {
      "text/plain": [
       "array([-1.25605768, -1.26620953, -1.25795256, ...,  1.25418556,\n",
       "        1.24303536,  1.2565704 ], shape=(7552,))"
      ]
     },
     "execution_count": 71,
     "metadata": {},
     "output_type": "execute_result"
    }
   ],
   "execution_count": 71
  },
  {
   "metadata": {
    "ExecuteTime": {
     "end_time": "2025-05-06T15:14:58.439592Z",
     "start_time": "2025-05-06T15:14:58.339656Z"
    }
   },
   "cell_type": "code",
   "source": [
    "dataset_train = TimeSeriesDataset(X_train, Y_train)\n",
    "dataset_val = TimeSeriesDataset(X_val, Y_val)"
   ],
   "id": "4f1266684bcad046",
   "outputs": [
    {
     "ename": "AxisError",
     "evalue": "axis 2 is out of bounds for array of dimension 2",
     "output_type": "error",
     "traceback": [
      "\u001B[31m---------------------------------------------------------------------------\u001B[39m",
      "\u001B[31mAxisError\u001B[39m                                 Traceback (most recent call last)",
      "\u001B[36mCell\u001B[39m\u001B[36m \u001B[39m\u001B[32mIn[66]\u001B[39m\u001B[32m, line 1\u001B[39m\n\u001B[32m----> \u001B[39m\u001B[32m1\u001B[39m dataset_train = \u001B[43mTimeSeriesDataset\u001B[49m\u001B[43m(\u001B[49m\u001B[43mX_train\u001B[49m\u001B[43m,\u001B[49m\u001B[43m \u001B[49m\u001B[43mY_train\u001B[49m\u001B[43m)\u001B[49m\n\u001B[32m      2\u001B[39m dataset_val = TimeSeriesDataset(X_val, Y_val)\n",
      "\u001B[36mCell\u001B[39m\u001B[36m \u001B[39m\u001B[32mIn[65]\u001B[39m\u001B[32m, line 14\u001B[39m, in \u001B[36mTimeSeriesDataset.__init__\u001B[39m\u001B[34m(self, X, Y)\u001B[39m\n\u001B[32m     11\u001B[39m     Y = Y.to_numpy()\n\u001B[32m     13\u001B[39m \u001B[38;5;66;03m# expand tensor for LSTM input:\u001B[39;00m\n\u001B[32m---> \u001B[39m\u001B[32m14\u001B[39m X = \u001B[43mnp\u001B[49m\u001B[43m.\u001B[49m\u001B[43mexpand_dims\u001B[49m\u001B[43m(\u001B[49m\u001B[43mX\u001B[49m\u001B[43m,\u001B[49m\u001B[43m \u001B[49m\u001B[32;43m2\u001B[39;49m\u001B[43m)\u001B[49m\n\u001B[32m     16\u001B[39m \u001B[38;5;66;03m# save values:\u001B[39;00m\n\u001B[32m     17\u001B[39m \u001B[38;5;28mself\u001B[39m.X = X.astype(np.float32)\n",
      "\u001B[36mFile \u001B[39m\u001B[32m~/miniconda3/envs/pru_dev2/envs/rl_env/lib/python3.13/site-packages/numpy/lib/_shape_base_impl.py:593\u001B[39m, in \u001B[36mexpand_dims\u001B[39m\u001B[34m(a, axis)\u001B[39m\n\u001B[32m    590\u001B[39m     axis = (axis,)\n\u001B[32m    592\u001B[39m out_ndim = \u001B[38;5;28mlen\u001B[39m(axis) + a.ndim\n\u001B[32m--> \u001B[39m\u001B[32m593\u001B[39m axis = \u001B[43mnormalize_axis_tuple\u001B[49m\u001B[43m(\u001B[49m\u001B[43maxis\u001B[49m\u001B[43m,\u001B[49m\u001B[43m \u001B[49m\u001B[43mout_ndim\u001B[49m\u001B[43m)\u001B[49m\n\u001B[32m    595\u001B[39m shape_it = \u001B[38;5;28miter\u001B[39m(a.shape)\n\u001B[32m    596\u001B[39m shape = [\u001B[32m1\u001B[39m \u001B[38;5;28;01mif\u001B[39;00m ax \u001B[38;5;129;01min\u001B[39;00m axis \u001B[38;5;28;01melse\u001B[39;00m \u001B[38;5;28mnext\u001B[39m(shape_it) \u001B[38;5;28;01mfor\u001B[39;00m ax \u001B[38;5;129;01min\u001B[39;00m \u001B[38;5;28mrange\u001B[39m(out_ndim)]\n",
      "\u001B[36mFile \u001B[39m\u001B[32m~/miniconda3/envs/pru_dev2/envs/rl_env/lib/python3.13/site-packages/numpy/_core/numeric.py:1435\u001B[39m, in \u001B[36mnormalize_axis_tuple\u001B[39m\u001B[34m(axis, ndim, argname, allow_duplicate)\u001B[39m\n\u001B[32m   1433\u001B[39m         \u001B[38;5;28;01mpass\u001B[39;00m\n\u001B[32m   1434\u001B[39m \u001B[38;5;66;03m# Going via an iterator directly is slower than via list comprehension.\u001B[39;00m\n\u001B[32m-> \u001B[39m\u001B[32m1435\u001B[39m axis = \u001B[38;5;28mtuple\u001B[39m([\u001B[43mnormalize_axis_index\u001B[49m\u001B[43m(\u001B[49m\u001B[43max\u001B[49m\u001B[43m,\u001B[49m\u001B[43m \u001B[49m\u001B[43mndim\u001B[49m\u001B[43m,\u001B[49m\u001B[43m \u001B[49m\u001B[43margname\u001B[49m\u001B[43m)\u001B[49m \u001B[38;5;28;01mfor\u001B[39;00m ax \u001B[38;5;129;01min\u001B[39;00m axis])\n\u001B[32m   1436\u001B[39m \u001B[38;5;28;01mif\u001B[39;00m \u001B[38;5;129;01mnot\u001B[39;00m allow_duplicate \u001B[38;5;129;01mand\u001B[39;00m \u001B[38;5;28mlen\u001B[39m(\u001B[38;5;28mset\u001B[39m(axis)) != \u001B[38;5;28mlen\u001B[39m(axis):\n\u001B[32m   1437\u001B[39m     \u001B[38;5;28;01mif\u001B[39;00m argname:\n",
      "\u001B[31mAxisError\u001B[39m: axis 2 is out of bounds for array of dimension 2"
     ]
    }
   ],
   "execution_count": 66
  },
  {
   "metadata": {},
   "cell_type": "code",
   "source": "Y_val",
   "id": "b849758e899291de",
   "outputs": [],
   "execution_count": null
  },
  {
   "metadata": {},
   "cell_type": "code",
   "source": "",
   "id": "35aa31a37ad8769a",
   "outputs": [],
   "execution_count": null
  }
 ],
 "metadata": {
  "kernelspec": {
   "display_name": "Python 3",
   "language": "python",
   "name": "python3"
  },
  "language_info": {
   "codemirror_mode": {
    "name": "ipython",
    "version": 2
   },
   "file_extension": ".py",
   "mimetype": "text/x-python",
   "name": "python",
   "nbconvert_exporter": "python",
   "pygments_lexer": "ipython2",
   "version": "2.7.6"
  }
 },
 "nbformat": 4,
 "nbformat_minor": 5
}
