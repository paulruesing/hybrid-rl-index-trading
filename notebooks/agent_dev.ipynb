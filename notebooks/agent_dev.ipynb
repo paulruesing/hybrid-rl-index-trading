{
 "cells": [
  {
   "metadata": {},
   "cell_type": "markdown",
   "source": [
    "# Trading Agent Development\n",
    "Inspiration:\n",
    "- https://www.backtrader.com/blog/posts/2015-08-16-backtesting-with-almost-no-programming/backtesting-with-almost-no-programming/ (Backtrader Platform würde einige Funktionen bereitstellen)\n",
    "- https://github.com/tmorgan4/btgym_Kismuz?tab=readme-ov-file\n",
    "- "
   ],
   "id": "3a61fa017a74b412"
  },
  {
   "cell_type": "code",
   "id": "initial_id",
   "metadata": {
    "collapsed": true,
    "ExecuteTime": {
     "end_time": "2025-06-17T14:54:57.413650Z",
     "start_time": "2025-06-17T14:54:52.405363Z"
    }
   },
   "source": [
    "import src.utils.file_management as filemgmt\n",
    "import src.pipeline.preprocessing as preprocessing\n",
    "import src.pipeline.predictors as predictors\n",
    "from src.pipeline.predictors import LSTMPredictor\n",
    "from src.pipeline.financial_products import FutureProduct\n",
    "\n",
    "from itertools import product\n",
    "import gym\n",
    "from gym import spaces\n",
    "from typing import Union, Literal\n",
    "import numpy as np\n",
    "import pandas as pd\n",
    "import random\n",
    "import enum\n",
    "\n",
    "from pathlib import Path\n",
    "\n",
    "from tqdm import tqdm\n",
    "from alpha_vantage.timeseries import TimeSeries\n",
    "\n",
    "import torch\n",
    "import torch.nn as nn\n",
    "import torch.nn.functional as F\n",
    "import torch.optim as optim\n",
    "from torch.utils.data import Dataset, DataLoader\n",
    "from matplotlib.lines import Line2D\n",
    "\n",
    "import matplotlib.pyplot as plt"
   ],
   "outputs": [],
   "execution_count": 1
  },
  {
   "metadata": {},
   "cell_type": "markdown",
   "source": "## Initialisation",
   "id": "202dcdd118543d40"
  },
  {
   "metadata": {
    "ExecuteTime": {
     "end_time": "2025-06-17T14:54:57.450123Z",
     "start_time": "2025-06-17T14:54:57.426424Z"
    }
   },
   "cell_type": "code",
   "source": [
    "#matplotlib backend:\n",
    "try:\n",
    "    %matplotlib macosx\n",
    "except BaseException:\n",
    "    %matplotlib macosx\n",
    "    # sometimes takes two tries...\n",
    "    \n",
    "# opens in separate window\n",
    "\n",
    "#%matplotlib notebook\n",
    "# opens in notebook"
   ],
   "id": "93a9bfe2e258289c",
   "outputs": [],
   "execution_count": 2
  },
  {
   "metadata": {
    "ExecuteTime": {
     "end_time": "2025-06-17T14:54:57.549925Z",
     "start_time": "2025-06-17T14:54:57.547220Z"
    }
   },
   "cell_type": "code",
   "source": [
    "ROOT = Path().resolve().parent\n",
    "\n",
    "DATA = ROOT / \"data\"\n",
    "INTERPOLATED_PRICES = DATA / \"interpolated_prices\"\n",
    "\n",
    "SAVED_MODELS = DATA / \"saved_models\""
   ],
   "id": "95c4724aeb1b43bf",
   "outputs": [],
   "execution_count": 3
  },
  {
   "metadata": {
    "ExecuteTime": {
     "end_time": "2025-06-17T14:54:57.642372Z",
     "start_time": "2025-06-17T14:54:57.639903Z"
    }
   },
   "cell_type": "code",
   "source": [
    "SAVED_B1_PREDICTOR = SAVED_MODELS / \"predictor_b1\" / \"2025-05-22 10_03_41 LSTM Model RW68 FH14 Layers3 Size256 TrainL0.10641186928842217 ValL1.9110333621501923 TrainHR0.4860040545463562 ValHR0.5328466892242432.pt\"\n",
    "SAVED_B3_PREDICTOR = SAVED_MODELS / \"predictor_b3\" / \"2025-05-22 11_47_10 LSTM Model RW40 FH5 Layers3 Size128 TrainL0.36055382899940014 ValL1.9578219056129456 TrainHR0.547325074672699 ValHR0.529629647731781.pt\" \n",
    "SAVED_C1_PREDICTOR = SAVED_MODELS / \"predictor_c1\" / \"2025-05-22 11_27_18 LSTM Model RW24 FH3 Layers4 Size128 TrainL0.29682125337421894 ValL0.4320639967918396 TrainHR0.5574468374252319 ValHR0.5660377144813538.pt\""
   ],
   "id": "c883de70e02e9068",
   "outputs": [],
   "execution_count": 4
  },
  {
   "metadata": {
    "ExecuteTime": {
     "end_time": "2025-06-17T14:54:57.665429Z",
     "start_time": "2025-06-17T14:54:57.662039Z"
    }
   },
   "cell_type": "code",
   "source": [
    "ENV_PRICE_FILE = filemgmt.most_recent_file(INTERPOLATED_PRICES, '.csv', '15min')\n",
    "B1_PRICE_FILE = filemgmt.most_recent_file(INTERPOLATED_PRICES, '.csv', '60min')\n",
    "B3_PRICE_FILE = filemgmt.most_recent_file(INTERPOLATED_PRICES, '.csv', '1d')\n",
    "C1_PRICE_FILE = filemgmt.most_recent_file(INTERPOLATED_PRICES, '.csv', '7d')\n",
    "MEAN_ETF_INDEX_RATIO = 543.3079783216567  # because files are etf prices"
   ],
   "id": "3a33164351bad71b",
   "outputs": [],
   "execution_count": 5
  },
  {
   "metadata": {},
   "cell_type": "markdown",
   "source": "## Products",
   "id": "206fd94fcdccb638"
  },
  {
   "metadata": {},
   "cell_type": "code",
   "source": [
    "dax_long1 = FutureProduct(preprocessing.read_price_csv(ENV_PRICE_FILE) * MEAN_ETF_INDEX_RATIO,\n",
    "                         isin='DE000TT2CH77',\n",
    "                         date_base_price_tuple2=(\"2022-09-26 12:00:00\", 10300)\n",
    "                         # historic_date_future_price_tuple=(\"2022-09-26\", 6.49),\n",
    "                        )\n",
    "dax_long1.plot()\n",
    "dax_long1"
   ],
   "id": "6856e5aba248f8a7",
   "outputs": [],
   "execution_count": null
  },
  {
   "metadata": {},
   "cell_type": "code",
   "source": [
    "dax_long1 = FutureProduct(preprocessing.read_price_csv(ENV_PRICE_FILE) * MEAN_ETF_INDEX_RATIO,\n",
    "                         isin='DE000TT2CH77',\n",
    "                         date_base_price_tuple2=(\"2022-09-26 12:00:00\", 10300)\n",
    "                         # historic_date_future_price_tuple=(\"2022-09-26\", 6.49),\n",
    "                        )\n",
    "dax_long1.plot()\n",
    "dax_long1"
   ],
   "id": "19017d50781072c6",
   "outputs": [],
   "execution_count": null
  },
  {
   "metadata": {},
   "cell_type": "code",
   "source": [
    "dax_long2 = FutureProduct(preprocessing.read_price_csv(ENV_PRICE_FILE) * MEAN_ETF_INDEX_RATIO,\n",
    "                         isin='DE000HS3U0K3',\n",
    "                          direction='long',\n",
    "                        )\n",
    "dax_long2"
   ],
   "id": "83bf1aa3e90a9e61",
   "outputs": [],
   "execution_count": null
  },
  {
   "metadata": {},
   "cell_type": "code",
   "source": [
    "dax_short1 = FutureProduct(preprocessing.read_price_csv(ENV_PRICE_FILE) * MEAN_ETF_INDEX_RATIO,\n",
    "                         isin='DE000HT2PK31',\n",
    "                         #historic_date_future_price_tuple=(\"2024-01-08\", 1.31),\n",
    "                        )\n",
    "dax_short1.plot()\n",
    "dax_short1"
   ],
   "id": "12da0e5947ba9759",
   "outputs": [],
   "execution_count": null
  },
  {
   "metadata": {},
   "cell_type": "code",
   "source": [
    "dax_short2 = FutureProduct(preprocessing.read_price_csv(ENV_PRICE_FILE) * MEAN_ETF_INDEX_RATIO,\n",
    "                         isin='DE000HT2LDF5',\n",
    "                        )\n",
    "dax_short2"
   ],
   "id": "c142abb7399a4211",
   "outputs": [],
   "execution_count": null
  },
  {
   "metadata": {},
   "cell_type": "markdown",
   "source": "### Portfolio",
   "id": "de6cdbe804829e82"
  },
  {
   "metadata": {
    "ExecuteTime": {
     "end_time": "2025-06-17T14:54:57.697930Z",
     "start_time": "2025-06-17T14:54:57.686117Z"
    }
   },
   "cell_type": "code",
   "source": [
    "class FutureProductSet:\n",
    "    \"\"\"\n",
    "    A container class for managing and visualizing a collection of `FutureProduct` instances.\n",
    "\n",
    "    This class enables users to group multiple `FutureProduct` objects to design a comprehensive \n",
    "    set of leveraged products (e.g., certificates) for analysis or comparison. If no \n",
    "    `FutureProduct` instances are provided directly, the set can be initialized by specifying \n",
    "    leverage parameters to automatically create products.\n",
    "\n",
    "    Parameters\n",
    "    ----------\n",
    "    future_product_instances : list of FutureProduct, optional\n",
    "        A list of pre-defined `FutureProduct` objects to include in the set. If not provided,\n",
    "        the products will be automatically created using the specified leverage parameters.\n",
    "    underlying_price_series : pd.Series, optional\n",
    "        The time series of the underlying asset's price. Required if automatic product \n",
    "        generation is used.\n",
    "    base_price_inference_timestamp : str, optional\n",
    "        List of timestamps at which to infer the base price from the desired leverage.\n",
    "        Required for automatic product generation.\n",
    "    n_products_per_direction : int, optional\n",
    "        Number of products to generate per direction (long/short). Required if \n",
    "        `future_product_instances` is not provided.\n",
    "    lowest_leverage : float, optional\n",
    "        The lowest leverage value to include when generating products.\n",
    "    highest_leverage : float, optional\n",
    "        The highest leverage value to include when generating products.\n",
    "\n",
    "    Raises\n",
    "    ------\n",
    "    AttributeError\n",
    "        If `future_product_instances` is not provided and required parameters for automatic \n",
    "        initialization are missing.\n",
    "    \"\"\"\n",
    "    def __init__(self,\n",
    "                 future_product_instances: [FutureProduct] = None,\n",
    "                 underlying_price_series: pd.Series = None,\n",
    "                 base_price_inference_timestamps: [str] = None,\n",
    "                 n_products_per_direction: int = None,\n",
    "                 lowest_leverage: float = None,\n",
    "                 highest_leverage: float = None,\n",
    "                 ):\n",
    "        self._last_isin_counter = 0\n",
    "        \n",
    "        if future_product_instances is not None:\n",
    "            # convert product instances to list if necessary:\n",
    "            if not isinstance(future_product_instances, list): future_product_instances = [future_product_instances]\n",
    "            self.future_product_instances = future_product_instances\n",
    "        else:\n",
    "            # sanity check:\n",
    "            if underlying_price_series is None or n_products_per_direction is None or lowest_leverage is None or highest_leverage is None or base_price_inference_timestamps is None:\n",
    "                raise AttributeError(\"If no future_product_instances are provided all other arguments need to be defined for automatic product initialisation from desired leverages.\")\n",
    "            self.future_product_instances = self.initialise_products_from_leverage(underlying_price_series=underlying_price_series,\n",
    "                                                                            base_price_inference_timestamps=base_price_inference_timestamps if isinstance(base_price_inference_timestamps, list) else [base_price_inference_timestamps],\n",
    "                                                                            n_products_per_direction=n_products_per_direction, lowest_leverage=lowest_leverage, highest_leverage=highest_leverage)\n",
    "            \n",
    "        \n",
    "                    \n",
    "    def plot_leverages(self, plot_size=(15,10), leverage_lim=(0,10), show_legend=True):\n",
    "        \"\"\"\n",
    "        Plot the leverage development over time for all products in the set.\n",
    "\n",
    "        Leverage time series are displayed separately for long and short products.\n",
    "\n",
    "        Parameters\n",
    "        ----------\n",
    "        plot_size : tuple of int, default (15, 10)\n",
    "            The size of the plot in inches (width, height).\n",
    "        leverage_lim : tuple of float, default (0, 10)\n",
    "            The y-axis limits for the leverage plot.\n",
    "\n",
    "        Returns\n",
    "        -------\n",
    "        None\n",
    "        \"\"\"\n",
    "        fig, (long_ax, short_ax) = plt.subplots(2, 1, figsize=plot_size)\n",
    "        \n",
    "        # split by direction:\n",
    "        long_list = [product for product in self.future_product_instances if product.direction == 'long']\n",
    "        short_list = [product for product in self.future_product_instances if product.direction == 'short']\n",
    "        \n",
    "        for ax, product_list in zip([long_ax, short_ax], [long_list, short_list]):\n",
    "            # prepare list of colors:\n",
    "            cmap = plt.get_cmap('hsv')\n",
    "            colors = cmap(np.linspace(0, 1, len(product_list)))\n",
    "            \n",
    "            for product, color in zip(product_list, colors):\n",
    "                # plot each leverage:\n",
    "                ax.plot(product.date_index, product.leverage_series, color=color, label=f\"{product.isin if product.isin is not None else 'ISIN not provided'}\")\n",
    "\n",
    "            # formatting\n",
    "            if show_legend: ax.legend(loc='upper left')\n",
    "            ax.set_ylabel('Leverage [x]')\n",
    "            ax.set_xlabel('Date')\n",
    "            ax.set_ylim(leverage_lim)\n",
    "            ax.grid(color='grey')\n",
    "        long_ax.set_title('Long Products')\n",
    "        short_ax.set_title('Short Products')\n",
    "        fig.tight_layout()\n",
    "    \n",
    "    def generate_new_isin(self) -> str:\n",
    "        \"\"\" Generate new artificial ISIN while preventing duplicates. \"\"\"\n",
    "        if self._last_isin_counter > 9999: self._last_isin_counter = 0  # reset counter upon max displayable int\n",
    "        new_isin = f\"ARTIFICIAL{str(self._last_isin_counter).zfill(4)}\"\n",
    "        self._last_isin_counter += 1\n",
    "        return new_isin\n",
    "    \n",
    "    def initialise_products_from_leverage(self, underlying_price_series: pd.Series, base_price_inference_timestamps: [str], n_products_per_direction: int = 5, lowest_leverage: float = 1.0, highest_leverage: float = 5.0) -> [FutureProduct]:\n",
    "        \"\"\"\n",
    "        Generate a list of `FutureProduct` instances based on specified leverage settings.\n",
    "\n",
    "        This method creates both long and short products with evenly spaced leverage values \n",
    "        between `lowest_leverage` and `highest_leverage`. Each product's base price is \n",
    "        inferred from its desired leverage at the specified timestamp.\n",
    "\n",
    "        Parameters\n",
    "        ----------\n",
    "        underlying_price_series : pd.Series\n",
    "            The time series of the underlying asset's price.\n",
    "        base_price_inference_timestamps : [str]\n",
    "            List of timestamps at which to infer the base price from the desired leverage.\n",
    "        n_products_per_direction : int, default 5\n",
    "            The number of products to create for each direction (long and short).\n",
    "        lowest_leverage : float, default 1.0\n",
    "            The lowest leverage value for generated products.\n",
    "        highest_leverage : float, default 5.0\n",
    "            The highest leverage value for generated products.\n",
    "\n",
    "        Returns\n",
    "        -------\n",
    "        list of FutureProduct\n",
    "            A list of initialized `FutureProduct` instances with desired leverages.\n",
    "        \"\"\"\n",
    "        # direction and leverage lists:\n",
    "        desired_directions = ['long'] * n_products_per_direction + ['short'] * n_products_per_direction\n",
    "        desired_leverages = list(np.linspace(lowest_leverage, highest_leverage, n_products_per_direction)) * 2\n",
    "        \n",
    "        # initialise product list:\n",
    "        product_list = []\n",
    "        \n",
    "        # iterate over timestamps at which to guarantee leverages, i.e. initialise base prices:\n",
    "        for base_price_inference_timestamp in base_price_inference_timestamps:\n",
    "            temp_product_list = [FutureProduct(underlying_price_series=underlying_price_series, isin=self.generate_new_isin(), scrape_data_if_possible=False, direction=dir) for dir in desired_directions]\n",
    "            \n",
    "            # infer base price from leverages at base_price:\n",
    "            for ind, (product, leverage) in enumerate(tqdm(zip(temp_product_list, desired_leverages))):\n",
    "                product.get_base_price_from_leverage(date=base_price_inference_timestamp, leverage=leverage, use_as_1st_base_price_tuple=True)\n",
    "                \n",
    "                product.fix_initial_knockout()   # resolves initial KOs, does nothing if no initial KO present\n",
    "                \n",
    "                        \n",
    "                        \n",
    "            product_list += temp_product_list\n",
    "                    \n",
    "        return product_list\n",
    "    \n",
    "    \n",
    "    \n",
    "    ######### Properties #######\n",
    "    @property\n",
    "    def by_isin(self) -> FutureProduct:\n",
    "        \"\"\" Locate product from set by ISIN. \"\"\"\n",
    "        return {product.isin: product for product in self.future_product_instances}"
   ],
   "id": "ca8c47e8e8cb727d",
   "outputs": [],
   "execution_count": 6
  },
  {
   "metadata": {},
   "cell_type": "code",
   "source": [
    "portfolio = FutureProductSet(\n",
    "    underlying_price_series=preprocessing.read_price_csv(ENV_PRICE_FILE) * MEAN_ETF_INDEX_RATIO,\n",
    "    base_price_inference_timestamps=[\"2021-11-05 10:00:00\", \"2022-07-05 10:00:00\", \"2023-07-05 10:00:00\", \"2024-07-05 10:00:00\", \"2025-03-05 10:00:00\"],\n",
    "    n_products_per_direction=15,\n",
    "    lowest_leverage=1.0, highest_leverage=10.0)\n",
    "portfolio.plot_leverages(show_legend=False)"
   ],
   "id": "49ae8bb88b9ae8e5",
   "outputs": [],
   "execution_count": null
  },
  {
   "metadata": {
    "ExecuteTime": {
     "end_time": "2025-06-17T13:54:29.505086Z",
     "start_time": "2025-06-17T13:54:29.301923Z"
    }
   },
   "cell_type": "code",
   "outputs": [],
   "execution_count": 18,
   "source": "portfolio.by_isin['ARTIFICIAL0012'].plot()",
   "id": "7f686e3bb0fb442f"
  },
  {
   "metadata": {
    "ExecuteTime": {
     "end_time": "2025-06-17T14:09:35.954339Z",
     "start_time": "2025-06-17T14:09:35.950805Z"
    }
   },
   "cell_type": "code",
   "source": [
    "# current leverage property: equals leverage_series[timestamp]\n",
    "def get_product_from_leverage_span(self, date: str, direction: Literal['long', 'short'], leverage_span: (int, int)) -> FutureProduct:\n",
    "    \"\"\" Search for product with smallest leverage inside leverage_span. Raises KeyError if no produt found. \"\"\"\n",
    "    # search for products satisfying leverage and direction condition at specified date:\n",
    "    candidate_series = pd.Series({product.leverage_series[date].item(): product for product in self.future_product_instances if product.direction == direction and product.leverage_series[date].item() >= leverage_span[0] and product.leverage_series[date].item() <= leverage_span[1]}, name='Candidates')\n",
    "    # find and return product with lowest leverage\n",
    "    candidate_series.sort_index(ascending=True, inplace=True)\n",
    "    return candidate_series.iloc[0]"
   ],
   "id": "cb085ff5735965aa",
   "outputs": [],
   "execution_count": 32
  },
  {
   "metadata": {
    "ExecuteTime": {
     "end_time": "2025-06-17T14:10:23.667415Z",
     "start_time": "2025-06-17T14:10:23.299104Z"
    }
   },
   "cell_type": "code",
   "source": "get_product_from_leverage_span(portfolio, '2024-09-05 12:00:00', 'long', leverage_span=(2, 4)).plot()",
   "id": "d800d30bddf61e22",
   "outputs": [],
   "execution_count": 35
  },
  {
   "metadata": {},
   "cell_type": "code",
   "outputs": [],
   "execution_count": null,
   "source": "# exclude KO: check (leverage_series[timestamp] == 0)",
   "id": "3774accd3917cd8a"
  },
  {
   "metadata": {},
   "cell_type": "markdown",
   "source": "## Predictors",
   "id": "99632bb8fee3f270"
  },
  {
   "metadata": {
    "ExecuteTime": {
     "end_time": "2025-06-17T13:53:11.073343Z",
     "start_time": "2025-06-17T13:53:09.499807Z"
    }
   },
   "cell_type": "code",
   "source": [
    "b1_predictor = LSTMPredictor(model_load_file_path=SAVED_B1_PREDICTOR,  # based on this, the predictor infers the model's properties\n",
    "                             price_csv_path=B1_PRICE_FILE,\n",
    "                             daily_prediction_hour=20,  # these are necessary data properties which still need to be set\n",
    "                             predict_before_daily_prediction_hour=True,\n",
    "                             rolling_window_size=14*4+12,  # 1 week hindsight (4 days a 14 hours and 1 a 12 hours until 20.00)\n",
    "                             forecast_horizon=14,  # 1 day a 14 hours ahead\n",
    "                             sampling_rate_minutes=60)  # hourly\n",
    "#b1_predictor"
   ],
   "id": "75807374138ffa1",
   "outputs": [
    {
     "name": "stdout",
     "output_type": "stream",
     "text": [
      "No training epochs defined upon initialisation. Define LSTMPredictor.n_train_epochs to start training procedure.\n"
     ]
    }
   ],
   "execution_count": 11
  },
  {
   "metadata": {
    "ExecuteTime": {
     "end_time": "2025-06-17T13:53:11.202461Z",
     "start_time": "2025-06-17T13:53:11.193826Z"
    }
   },
   "cell_type": "code",
   "source": [
    "b3_predictor = LSTMPredictor(model_load_file_path=SAVED_B3_PREDICTOR,  # based on this, the predictor infers the model's properties\n",
    "                             price_csv_path=B3_PRICE_FILE,\n",
    "                             daily_prediction_hour=20,  # these are necessary data properties which still need to be set\n",
    "                             rolling_window_size=40,  # 2 months a 4 weeks a 5 days hindsight\n",
    "                             forecast_horizon=5,  # 1 week a 5 days ahead\n",
    "                             sampling_rate_minutes=60*14,  # one day from 8 to 22\n",
    "                             )\n",
    "#b3_predictor"
   ],
   "id": "4fd9bbdbce96b598",
   "outputs": [
    {
     "name": "stdout",
     "output_type": "stream",
     "text": [
      "No training epochs defined upon initialisation. Define LSTMPredictor.n_train_epochs to start training procedure.\n"
     ]
    }
   ],
   "execution_count": 12
  },
  {
   "metadata": {
    "ExecuteTime": {
     "end_time": "2025-06-17T13:53:11.392808Z",
     "start_time": "2025-06-17T13:53:11.383498Z"
    }
   },
   "cell_type": "code",
   "source": [
    "c1_predictor = LSTMPredictor(model_load_file_path=SAVED_C1_PREDICTOR,  # based on this, the predictor infers the model's properties\n",
    "                             price_csv_path=C1_PRICE_FILE,\n",
    "                             daily_prediction_hour=20,  # these are necessary data properties which still need to be set\n",
    "                             rolling_window_size=6*4,  # 6 months a 4 weeks hindsight\n",
    "                             forecast_horizon=3,  # 3 weeks ahead\n",
    "                             sampling_rate_minutes=5*14*60,  # 1 week a 5 days from 8 to 22\n",
    "                             )\n",
    "#c1_predictor"
   ],
   "id": "832087fb1d4512e2",
   "outputs": [
    {
     "name": "stdout",
     "output_type": "stream",
     "text": [
      "No training epochs defined upon initialisation. Define LSTMPredictor.n_train_epochs to start training procedure.\n"
     ]
    }
   ],
   "execution_count": 13
  },
  {
   "metadata": {},
   "cell_type": "markdown",
   "source": "### Example Prediction",
   "id": "a6524843c14af22"
  },
  {
   "metadata": {},
   "cell_type": "markdown",
   "source": [
    "## Environment\n",
    "https://github.com/tmorgan4/btgym_Kismuz/blob/master/btgym/strategy/base.py"
   ],
   "id": "c195f92d1606ac30"
  },
  {
   "metadata": {},
   "cell_type": "markdown",
   "source": "### V2 (Future Products)",
   "id": "10b639f48a43bad9"
  },
  {
   "metadata": {
    "ExecuteTime": {
     "end_time": "2025-06-17T13:54:50.246002Z",
     "start_time": "2025-06-17T13:54:50.224065Z"
    }
   },
   "cell_type": "code",
   "source": [
    "class RLTradingEnv(gym.Env):\n",
    "    \"\"\"\n",
    "    A trading environment for OpenAI gym.\n",
    "\n",
    "    Environment is called (stepped) every day in the provided price_data at all daily_prediction_times present in the predictor_instances.\n",
    "    \"\"\"\n",
    "    metadata = {'render.modes': ['human']}\n",
    "    def __init__(self,\n",
    "                 price_csv_path: Union[str, Path],\n",
    "                 price_sampling_rate_minutes: int = 1,\n",
    "                 price_column='close',\n",
    "                 date_column='date',\n",
    "                 predictor_instances: [LSTMPredictor] = None,  # to be imported for data preparation\n",
    "                 product_set: FutureProductSet = None,  # todo: to be imported for action space initialisation\n",
    "                 leverage_categories: [float] = (1.0, 2.0, 3.0, 4.0, 5.0),  # larger than last entry is highest category\n",
    "                 possible_trade_quantities: Literal['all', 'fixed', 'arbitrary'] = 'all',  # used to define action space\n",
    "                 starting_cash=100000,\n",
    "                 commission_rate=0.001,  # reflects a typical spread, because we can trade commission-free through wikifolio\n",
    "                 verbose=True\n",
    "                 ):\n",
    "        \"\"\"\n",
    "        TO BE DESCRIBED!\n",
    "        \"\"\"\n",
    "        super(RLTradingEnv, self).__init__()  # initialise base class\n",
    "        self.price_series = preprocessing.read_price_csv(csv_path=price_csv_path, date_column=date_column, price_column=price_column)\n",
    "\n",
    "        self.price_sampling_rate_minutes = price_sampling_rate_minutes\n",
    "        self.price_column = price_column\n",
    "        self.date_column = date_column\n",
    "\n",
    "        self.starting_cash = starting_cash\n",
    "        self.commission_rate = commission_rate\n",
    "        self.verbose = verbose\n",
    "\n",
    "        # current episode (sequence of steps)\n",
    "        self.current_episode = 0\n",
    "\n",
    "        # read in predictors:\n",
    "        self.predictor_instances = predictor_instances\n",
    "        for predictor in self.predictor_instances: predictor.verbose = False  # mute predictors to prevent unexpected console output\n",
    "        self._daily_prediction_hours = None  # important predictor setting for sampling\n",
    "        \n",
    "        # this influences the action space:\n",
    "        self._product_set = product_set\n",
    "        self._leverage_categories = leverage_categories\n",
    "        self._possible_trade_quantities = possible_trade_quantities\n",
    "        self._action_enum = None\n",
    "        \n",
    "        if possible_trade_quantities == 'all':\n",
    "            pass\n",
    "        elif possible_trade_quantities == 'fixed':\n",
    "            raise NotImplementedError(\"Fixed trading quantities are yet to be implemented.\")\n",
    "        elif possible_trade_quantities == 'arbitrary':\n",
    "            raise NotImplementedError(\"Arbitrary trading quantities are yet to be implemented.\")\n",
    "        else:\n",
    "            raise ValueError(\"possible_trade_quantities can only be 'all', 'fixed', 'arbitrary'\")\n",
    "\n",
    "        # step dates (property to be calculated upon read-out)\n",
    "        self._step_dates_list = None\n",
    "        self.current_step = 0; self.init_start_step()  # sets self.current_step to minimum value for predictors to be callable\n",
    "\n",
    "        # set of floats representing available information for agent:\n",
    "        self.observation_space = spaces.Box(low=-np.inf,\n",
    "                                            high=np.inf,\n",
    "                                            shape=(len(predictor_instances)+2,),\n",
    "                                            dtype=np.float16)\n",
    "        # contains floats of each predictor's output and two more for current cash and holding\n",
    "\n",
    "        # possible range of rewards for actions:\n",
    "        self.reward_range = (-np.inf, np.inf)\n",
    "\n",
    "        # initial conditions:\n",
    "        self.cash = self.starting_cash\n",
    "        self.shares = 0\n",
    "\n",
    "    def step(self, action):\n",
    "        \"\"\"\n",
    "        Execute an action, return the reward and move to the next status.\n",
    "        Takes action.\n",
    "        Returns observation (box), reward (float), done (bool, indicating whether episode is finished) and info (dict).\n",
    "        \"\"\"\n",
    "        # infer current balance:\n",
    "        balance = self.current_balance\n",
    "\n",
    "        # increase step\n",
    "        self.current_step += 1\n",
    "        if self.current_step == self.total_steps:  # if episode is finished\n",
    "            done = True\n",
    "            self.current_episode = self.next_episode()\n",
    "            self.init_start_step()\n",
    "        else: done = False\n",
    "\n",
    "        # take action:\n",
    "        self.take_action(action)\n",
    "\n",
    "        # compute status and calculate reward:\n",
    "        reward = self.current_balance - balance  # equals change of balance\n",
    "        # done = (self.current_step == self.total_steps - 1)  # see if episode is finished\n",
    "\n",
    "        # construct info dictionary:\n",
    "        info = { 'Step'  : self.current_step,\n",
    "                 'Time'  : self.current_step_timestamp.strftime('%Y-%m-%d %H:%M:%S'),\n",
    "                 'Reward' : round(reward, 2),\n",
    "                 'Action' : TradingActionsAll(action).name,\n",
    "                 'Shares' : self.shares,\n",
    "                 'Price'  : round(self.current_price, 2),\n",
    "                 'Cash'   : round(self.cash, 2),\n",
    "                 'Total'  : round(self.current_balance, 2) }\n",
    "\n",
    "        # if done: self.reset()  # happens automatically!\n",
    "        # current observation property constructs observation space\n",
    "        return self.current_observation, reward, done, info\n",
    "\n",
    "    def take_action(self, action):\n",
    "        \"\"\" Takes action and updates current balance. Hold has no implication. Considers commission_rate \"\"\"\n",
    "        if action == TradingActionsAll.Buy.value:  # buy all:\n",
    "            if self.shares == 0:  # only if no shares held:\n",
    "                price = self.current_price * (1 + self.commission_rate)\n",
    "                self.shares = int(self.cash / price)\n",
    "                self.cash -= self.shares * price\n",
    "                if self.verbose:\n",
    "                    print(f\"[STEP {self.current_step}] Bought at {self.current_price}\")\n",
    "                    print(f\"    Cash: {self.cash}, Shares: {self.shares}\")\n",
    "        elif action == TradingActionsAll.Sell.value:  # sell all:\n",
    "            if self.shares > 0:  # only if there are shares to sell:\n",
    "                price = self.current_price * (1 - self.commission_rate)\n",
    "                self.cash += self.shares * price\n",
    "                self.shares = 0\n",
    "                if self.verbose:\n",
    "                    print(f\"[STEP {self.current_step}] Sold at {self.current_price}\")\n",
    "                    print(f\"    Cash: {self.cash}, Shares: {self.shares}\")\n",
    "\n",
    "    def next_episode(self):\n",
    "        \"\"\" Select stock to be trained at beginning of episode. \"\"\"\n",
    "        return (self.current_episode + 1) % self.total_episodes\n",
    "\n",
    "    def reset(self):\n",
    "        \"\"\" Initialises environment when starting new episode. Returns next status. \"\"\"\n",
    "        self.init_start_step()\n",
    "        if self.verbose:  # info statement\n",
    "            print(f\"Starting episode {self.current_episode + 1}\", (f\"/ {self.total_episodes}\"))\n",
    "        self.cash = self.starting_cash\n",
    "        self.shares = 0\n",
    "        return self.current_observation\n",
    "\n",
    "    def get_current_predictor_input(self, predictor: LSTMPredictor) -> np.ndarray:\n",
    "        \"\"\" Sample price series and create rolling window view for predictor input. \"\"\"\n",
    "        # infer properties:\n",
    "        rolling_window_size = predictor.rolling_window_size\n",
    "        sampling_rate_minutes = predictor.sampling_rate_minutes\n",
    "        predict_before_daily_prediction_hour = predictor.predict_before_daily_prediction_hour\n",
    "\n",
    "        # calculate start int index for rolling window (if not predicting before daily prediction hour add 1 index:\n",
    "        start_index = int(self.current_step_int_index - rolling_window_size * sampling_rate_minutes / self.price_sampling_rate_minutes)\n",
    "\n",
    "        # sanity check:\n",
    "        if start_index < 0: raise ValueError(\"Rolling window size too large for current step.\")\n",
    "\n",
    "        # slice according to start and end index (adjusted by +1 if prediction should be after prediction hour) and sampling rate:\n",
    "        sampled_prices = self.price_series.iloc[start_index+(not predict_before_daily_prediction_hour):self.current_step_int_index+(not predict_before_daily_prediction_hour):int(sampling_rate_minutes / self.price_sampling_rate_minutes)]\n",
    "\n",
    "        return sampled_prices\n",
    "\n",
    "    def init_start_step(self):\n",
    "        \"\"\" Set current_step to minimum step for predictors to be callable. \"\"\"\n",
    "        self.current_step = 0\n",
    "        step_too_small = True\n",
    "        while step_too_small:\n",
    "            try:\n",
    "                # try to get predictor input:\n",
    "                _ = [self.get_current_predictor_input(predictor) for predictor in self.predictor_instances]\n",
    "                step_too_small = False  # if successful, step is sufficient\n",
    "            except ValueError:  # if current step too small for rolling window view, increase by 1\n",
    "                self.current_step += 1\n",
    "\n",
    "        if self.verbose:\n",
    "            print(f\"Starting at {self.current_step_date} although data is provided since {self.price_series.iloc[0:1].index.item().isoformat()[:10]} to have sufficient information for all predictors.\")\n",
    "\n",
    "    ################ Action Space Properties ################\n",
    "    @property\n",
    "    def product_set(self) -> FutureProductSet:\n",
    "        \"\"\" Products included in portfolio. \"\"\"\n",
    "        return self._product_set\n",
    "    @product_set.setter\n",
    "    def product_set(self, value: FutureProductSet):\n",
    "        \"\"\" product_set setter. Resets action space. \"\"\"\n",
    "        self._action_enum = None\n",
    "        self._product_set = value\n",
    "        \n",
    "    @property\n",
    "    def leverage_categories(self) -> [float]:\n",
    "        \"\"\" Leverage categories, list of floats defining leverage categorisation. Highest category is >LastEntry. Influences action space. \"\"\"\n",
    "        return self._leverage_categories\n",
    "    @leverage_categories.setter\n",
    "    def leverage_categories(self, value: [float]):\n",
    "        \"\"\" leverage_categories setter. Resets action space. \"\"\"\n",
    "        self._action_enum = None\n",
    "        self._leverage_categories = value\n",
    "    \n",
    "    @property\n",
    "    def possible_trade_quantities(self) -> Literal['all', 'fixed', 'arbitrary']:\n",
    "        \"\"\" Possible trade quantities. Influences action space. \"\"\"\n",
    "        # sanity check:\n",
    "        if self._possible_trade_quantities != 'all' and self._possible_trade_quantities != 'fixed' and self._possible_trade_quantities == 'arbitrary':\n",
    "            raise ValueError(\"possible_trade_quantities can only be 'all', 'fixed', 'arbitrary'. Please redefine.\")\n",
    "        return self._possible_trade_quantities\n",
    "    @possible_trade_quantities.setter\n",
    "    def possible_trade_quantities(self, value: Literal['all', 'fixed', 'arbitrary']):\n",
    "        \"\"\" possible_trade_quantities setter. Resets action space. \"\"\"\n",
    "        self._action_enum = None\n",
    "        self._possible_trade_quantities = value\n",
    "    \n",
    "    @property\n",
    "    def action_enum(self) -> enum.Enum:\n",
    "        \"\"\" Action enum class, dynamically created according to possible_trade_quantities, leverage_categories and product_set. \"\"\"\n",
    "        if self._action_enum is None:\n",
    "            # create action space labels: order is Buy Long, Sell Long, Buy Short, Sell Short for each leverage category\n",
    "            leverage_span_tuples = [(start, np.inf if ind+1 == len(self.leverage_categories) else self.leverage_categories[ind+1]) for ind, start in enumerate(self.leverage_categories)]\n",
    "            labels = ['Hold'] + [f\"{action} {dir} {start}x - {end}x\" for (start, end), dir , action in product(leverage_span_tuples, ['long', 'short'], ['Buy', 'Sell'])]\n",
    "            self._action_enum = enum.Enum('TradingActions', dict(zip(labels, range(len(labels)))))\n",
    "        return self._action_enum\n",
    "    \n",
    "    ################ Training Properties ################\n",
    "    @property\n",
    "    def total_episodes(self):\n",
    "        \"\"\" Total episodes equals amount of provided stock data frames. \"\"\"\n",
    "        # todo: method currently unnecessary\n",
    "        return 1\n",
    "\n",
    "    @property\n",
    "    def total_steps(self):\n",
    "        \"\"\" One step per day and distinct prediction hour. \"\"\"\n",
    "        return len(self.step_dates_list)\n",
    "\n",
    "    @property\n",
    "    def no_of_days(self):\n",
    "        \"\"\" Number of days in the provided price series. \"\"\"\n",
    "        return int(len(self.step_dates_list) / len(self.daily_prediction_hours))  # step dates list has multiple entries for multiple prediction hours\n",
    "\n",
    "    @property\n",
    "    def daily_prediction_hours(self):\n",
    "        if self._daily_prediction_hours is None:\n",
    "            self._daily_prediction_hours = {predictor.daily_prediction_hour for predictor in self.predictor_instances}  # at every distinct prediction hour (sets correct for duplicates)\n",
    "        return self._daily_prediction_hours\n",
    "\n",
    "    @property\n",
    "    def step_dates_list(self):\n",
    "        \"\"\" Dates for each day in the price series at each distinct prediction hour. \"\"\"\n",
    "        if self._step_dates_list is None:\n",
    "            grouped = self.price_series.groupby(by=[self.price_series.index.year, self.price_series.index.month, self.price_series.index.day]).min()\n",
    "\n",
    "            # multiple entries for each distinct prediction hour:\n",
    "            self._step_dates_list = [f\"{year}-{month}-{day}\" for (year, month, day), pred_hour in product(grouped.index, self.daily_prediction_hours)]\n",
    "\n",
    "            # if last date doesn't have entries until highest daily_prediction_hour, remove last day from list:\n",
    "            if self.price_series[self.step_dates_list[-1]].index.hour.max() < np.max(list(self.daily_prediction_hours)).item():\n",
    "                self._step_dates_list = self.step_dates_list[:-(len(self.daily_prediction_hours))]\n",
    "        return self._step_dates_list\n",
    "\n",
    "    @property\n",
    "    def current_observation(self):\n",
    "        \"\"\" Construct and return current observable status. Includes predictors output, cash and holding. \"\"\"\n",
    "        observation = np.array([], dtype=np.int64)\n",
    "        for predictor in self.predictor_instances:\n",
    "            # include each predictor's predicted potential:\n",
    "            input = self.get_current_predictor_input(predictor)\n",
    "            prices, _ = predictor.predict(input)\n",
    "            potential = (prices[-1] / input.iloc[-1] - 1).item()\n",
    "            observation = np.append(observation, [potential])\n",
    "\n",
    "        # include cash and current holding:\n",
    "        return np.append(observation, [self.cash, self.current_holding])\n",
    "\n",
    "    @property\n",
    "    def current_price(self):\n",
    "        \"\"\" Close price at the current step's time. \"\"\"\n",
    "        return self.price_series[self.current_step_timestamp].item()\n",
    "\n",
    "    @property\n",
    "    def current_prediction_hour(self):\n",
    "        return list(self.daily_prediction_hours)[(self.current_step % len(self.daily_prediction_hours))]\n",
    "\n",
    "    @property\n",
    "    def current_step_date(self):\n",
    "        return self.step_dates_list[self.current_step]\n",
    "\n",
    "    @property\n",
    "    def current_step_timestamp(self) -> pd.Timestamp:\n",
    "        \"\"\" Return timestamp of current step's datetime. \"\"\"\n",
    "        try:\n",
    "            return self.price_series[f\"{self.current_step_date} {f'0{self.current_prediction_hour}' if self.current_prediction_hour < 10 else self.current_prediction_hour}\"].iloc[0:1].index.item()\n",
    "        except KeyError:  # recursion with next step if IndexError (because then no data present for that prediction hour or day)\n",
    "            self.current_step += 1\n",
    "            return self.current_step_timestamp\n",
    "\n",
    "    @property\n",
    "    def current_step_int_index(self) -> int:\n",
    "        return np.argwhere(self.price_series[:self.current_step_timestamp])[-1].item()  # last index = index of current_step_timestamp\n",
    "\n",
    "    @property\n",
    "    def current_balance(self):\n",
    "        \"\"\" Current balance equals cash plus current holding. \"\"\"\n",
    "        return self.cash + self.current_holding\n",
    "\n",
    "    @property\n",
    "    def current_holding(self):\n",
    "        \"\"\" Current holding equals current shares times current price. \"\"\"\n",
    "        return self.shares * self.current_price"
   ],
   "id": "fc7babd0af461572",
   "outputs": [],
   "execution_count": 19
  },
  {
   "metadata": {
    "ExecuteTime": {
     "end_time": "2025-06-17T13:54:53.134432Z",
     "start_time": "2025-06-17T13:54:52.668047Z"
    }
   },
   "cell_type": "code",
   "source": [
    "self = RLTradingEnv(ENV_PRICE_FILE,\n",
    "                    price_sampling_rate_minutes=15,\n",
    "                    predictor_instances=(b1_predictor, b3_predictor, c1_predictor),\n",
    "                    product_set=portfolio)"
   ],
   "id": "5f701e1efb2bcadd",
   "outputs": [
    {
     "name": "stdout",
     "output_type": "stream",
     "text": [
      "Starting at 2015-4-9 although data is provided since 2014-10-23 to have sufficient information for all predictors.\n"
     ]
    }
   ],
   "execution_count": 20
  },
  {
   "metadata": {
    "ExecuteTime": {
     "end_time": "2025-06-17T13:54:53.240943Z",
     "start_time": "2025-06-17T13:54:53.236511Z"
    }
   },
   "cell_type": "code",
   "source": "self.action_enum",
   "id": "9915d1740b45ec83",
   "outputs": [
    {
     "data": {
      "text/plain": [
       "<enum 'TradingActions'>"
      ]
     },
     "execution_count": 21,
     "metadata": {},
     "output_type": "execute_result"
    }
   ],
   "execution_count": 21
  },
  {
   "metadata": {
    "ExecuteTime": {
     "end_time": "2025-06-17T07:35:54.943581Z",
     "start_time": "2025-06-17T07:35:54.939987Z"
    }
   },
   "cell_type": "code",
   "source": "def get_predictor_from_leverage_span(self, date: str, leverage_span: (int, int))",
   "id": "a3b857f847e86d2a",
   "outputs": [],
   "execution_count": 83
  },
  {
   "metadata": {
    "ExecuteTime": {
     "end_time": "2025-06-17T07:35:55.471238Z",
     "start_time": "2025-06-17T07:35:55.467679Z"
    }
   },
   "cell_type": "code",
   "source": "spans = action_enum(self)",
   "id": "631869e03dac59c4",
   "outputs": [],
   "execution_count": 84
  },
  {
   "metadata": {
    "ExecuteTime": {
     "end_time": "2025-06-17T07:35:56.442867Z",
     "start_time": "2025-06-17T07:35:56.438744Z"
    }
   },
   "cell_type": "code",
   "source": "spans",
   "id": "681e353ac896407e",
   "outputs": [
    {
     "data": {
      "text/plain": [
       "<enum 'TradingActions'>"
      ]
     },
     "execution_count": 85,
     "metadata": {},
     "output_type": "execute_result"
    }
   ],
   "execution_count": 85
  },
  {
   "metadata": {},
   "cell_type": "code",
   "outputs": [],
   "execution_count": null,
   "source": "",
   "id": "1843f78290cb3aed"
  },
  {
   "metadata": {
    "ExecuteTime": {
     "end_time": "2025-06-17T07:24:21.425573Z",
     "start_time": "2025-06-17T07:24:21.421591Z"
    }
   },
   "cell_type": "code",
   "source": "self.leverage_categories",
   "id": "f9db4053a3cf6c26",
   "outputs": [
    {
     "data": {
      "text/plain": [
       "(1.0, 2.0, 3.0, 4.0, 5.0)"
      ]
     },
     "execution_count": 24,
     "metadata": {},
     "output_type": "execute_result"
    }
   ],
   "execution_count": 24
  },
  {
   "metadata": {
    "ExecuteTime": {
     "end_time": "2025-06-17T07:24:28.993887Z",
     "start_time": "2025-06-17T07:24:28.989680Z"
    }
   },
   "cell_type": "code",
   "source": "self.possible_trade_quantities",
   "id": "959569176ea94722",
   "outputs": [
    {
     "data": {
      "text/plain": [
       "'all'"
      ]
     },
     "execution_count": 25,
     "metadata": {},
     "output_type": "execute_result"
    }
   ],
   "execution_count": 25
  },
  {
   "metadata": {
    "ExecuteTime": {
     "end_time": "2025-06-17T07:24:36.043037Z",
     "start_time": "2025-06-17T07:24:36.039490Z"
    }
   },
   "cell_type": "code",
   "source": "self.product_set",
   "id": "8e67ae264db99769",
   "outputs": [
    {
     "data": {
      "text/plain": [
       "<__main__.FutureProductSet at 0x125045e80>"
      ]
     },
     "execution_count": 26,
     "metadata": {},
     "output_type": "execute_result"
    }
   ],
   "execution_count": 26
  },
  {
   "metadata": {},
   "cell_type": "code",
   "outputs": [],
   "execution_count": null,
   "source": [
    "class TradingActionsAll(enum.Enum):\n",
    "    \"\"\" Actions for trading. Buy or sell all. No amount possible. \"\"\"\n",
    "    Hold = 0\n",
    "    Buy = 1\n",
    "    Sell = 2"
   ],
   "id": "2f0be820fe559a17"
  },
  {
   "metadata": {},
   "cell_type": "markdown",
   "source": "### V1 (Buy All)",
   "id": "7ffd2a4fc1c9ba2c"
  },
  {
   "metadata": {
    "ExecuteTime": {
     "end_time": "2025-06-15T15:40:39.019836Z",
     "start_time": "2025-06-03T15:11:44.838879Z"
    }
   },
   "cell_type": "code",
   "source": [
    "class TradingActionsAll(enum.Enum):\n",
    "    \"\"\" Actions for trading. Buy or sell all. No amount possible. \"\"\"\n",
    "    Hold = 0\n",
    "    Buy = 1\n",
    "    Sell = 2"
   ],
   "id": "12e4de0b74772a7e",
   "outputs": [],
   "execution_count": 20
  },
  {
   "metadata": {
    "ExecuteTime": {
     "end_time": "2025-06-15T15:40:39.019941Z",
     "start_time": "2025-06-03T15:17:51.458086Z"
    }
   },
   "cell_type": "code",
   "source": [
    "class RLTradingEnv(gym.Env):\n",
    "    \"\"\"\n",
    "    A trading environment for OpenAI gym.\n",
    "    \n",
    "    Environment is called (stepped) every day in the provided price_data at all daily_prediction_times present in the predictor_instances.\n",
    "    \"\"\"\n",
    "    metadata = {'render.modes': ['human']}\n",
    "    def __init__(self,\n",
    "                 price_csv_path: Union[str, Path],\n",
    "                 price_sampling_rate_minutes: int = 1,\n",
    "                 price_column='close',\n",
    "                 date_column='date',\n",
    "                 predictor_instances: [LSTMPredictor] = None,  # to be imported for data preparation\n",
    "                 # Todo: possible_products (i.e., which certificates)  # used to define action space\n",
    "                 possible_trade_quantities: Literal['all', 'fixed', 'arbitrary'] = 'all',  # used to define action space\n",
    "                 starting_cash=100000,\n",
    "                 commission_rate=0,\n",
    "                 verbose=True\n",
    "                 ):\n",
    "        \"\"\"\n",
    "        TO BE DESCRIBED!\n",
    "        \"\"\"\n",
    "        super(RLTradingEnv, self).__init__()  # initialise base class\n",
    "        self.price_series = preprocessing.read_price_csv(csv_path=price_csv_path, date_column=date_column, price_column=price_column)\n",
    "        \n",
    "        self.price_sampling_rate_minutes = price_sampling_rate_minutes\n",
    "        self.price_column = price_column\n",
    "        self.date_column = date_column\n",
    "\n",
    "        self.starting_cash = starting_cash\n",
    "        self.commission_rate = commission_rate\n",
    "        self.verbose = verbose\n",
    "\n",
    "        # current episode (sequence of steps)\n",
    "        self.current_episode = 0\n",
    "        \n",
    "        self.predictor_instances = predictor_instances\n",
    "        for predictor in self.predictor_instances: predictor.verbose = False  # mute predictors to prevent unexpected console output\n",
    "        self._daily_prediction_hours = None  # important predictor setting for sampling\n",
    "        '''\n",
    "        if predictor_instances is not None:\n",
    "            # necessary parameters for data preparation to construct observation space\n",
    "            if len(predictor_instances) == 1: predictor_instances = list(predictor_instances)\n",
    "            obs_param_tuples = [(predictor.rolling_window_size, predictor.sampling_rate_minutes, predictor.daily_prediction_hour, predictor.predict_before_daily_prediction_hour) for predictor in predictor_instances]\n",
    "        else:\n",
    "            raise AttributeError(\"Predictor instances need to be provided. Manual observation space definition not implemented yet.\")\n",
    "        \n",
    "        total_rolling_window_size = np.sum([params[0] for params in  obs_param_tuples])  # for observation space construction\n",
    "        if self.verbose: print(f\"Constructing observation space for {len(obs_param_tuples)} predictors.\\nProperties:\\n(rolling_window_size, sampling_rate_minutes, daily_prediction_hour, predict_before_daily_prediction_hour)\\n{obs_param_tuples}\")\n",
    "        '''\n",
    "        # step dates (property to be calculated upon read-out)\n",
    "        self._step_dates_list = None\n",
    "        self.current_step = 0; self.init_start_step()  # sets self.current_step to minimum value for predictors to be callable\n",
    "\n",
    "        # set of possible actions as discrete values:\n",
    "        if possible_trade_quantities == 'all':\n",
    "            self.action_space = spaces.Discrete(len(TradingActionsAll))\n",
    "        elif possible_trade_quantities == 'fixed':\n",
    "            raise NotImplementedError(\"Fixed trading quantities are yet to be implemented.\")\n",
    "        elif possible_trade_quantities == 'arbitrary':\n",
    "            raise NotImplementedError(\"Arbitrary trading quantities are yet to be implemented.\")\n",
    "        else:\n",
    "            raise ValueError(\"possible_trade_quantities can only be 'all', 'fixed', 'arbitrary'\")\n",
    "        \n",
    "        # set of floats representing available information for agent:\n",
    "        self.observation_space = spaces.Box(low=-np.inf,\n",
    "                                            high=np.inf,\n",
    "                                            shape=(len(predictor_instances)+2,),\n",
    "                                            dtype=np.float16)\n",
    "        # contains floats of each predictor's output and two more for current cash and holding\n",
    "\n",
    "        # possible range of rewards for actions:\n",
    "        self.reward_range = (-np.inf, np.inf)\n",
    "\n",
    "        # initial conditions:\n",
    "        self.cash = self.starting_cash\n",
    "        self.shares = 0\n",
    "\n",
    "    def step(self, action):\n",
    "        \"\"\"\n",
    "        Execute an action, return the reward and move to the next status.\n",
    "        Takes action.\n",
    "        Returns observation (box), reward (float), done (bool, indicating whether episode is finished) and info (dict).\n",
    "        \"\"\"\n",
    "        # infer current balance:\n",
    "        balance = self.current_balance\n",
    "\n",
    "        # increase step\n",
    "        self.current_step += 1\n",
    "        if self.current_step == self.total_steps:  # if episode is finished\n",
    "            done = True\n",
    "            self.current_episode = self.next_episode()\n",
    "            self.init_start_step()\n",
    "        else: done = False\n",
    "\n",
    "        # take action:\n",
    "        self.take_action(action)\n",
    "\n",
    "        # compute status and calculate reward:\n",
    "        reward = self.current_balance - balance  # equals change of balance\n",
    "        # done = (self.current_step == self.total_steps - 1)  # see if episode is finished\n",
    "\n",
    "        # construct info dictionary:\n",
    "        info = { 'Step'  : self.current_step,\n",
    "                 'Time'  : self.current_step_timestamp.strftime('%Y-%m-%d %H:%M:%S'),\n",
    "                 'Reward' : round(reward, 2),\n",
    "                 'Action' : TradingActionsAll(action).name,\n",
    "                 'Shares' : self.shares,\n",
    "                 'Price'  : round(self.current_price, 2),\n",
    "                 'Cash'   : round(self.cash, 2),\n",
    "                 'Total'  : round(self.current_balance, 2) }\n",
    "\n",
    "        # if done: self.reset()  # happens automatically!\n",
    "        # current observation property constructs observation space\n",
    "        return self.current_observation, reward, done, info\n",
    "\n",
    "    def take_action(self, action):\n",
    "        \"\"\" Takes action and updates current balance. Hold has no implication. Considers commission_rate \"\"\"\n",
    "        if action == TradingActionsAll.Buy.value:  # buy all:\n",
    "            if self.shares == 0:  # only if no shares held:\n",
    "                price = self.current_price * (1 + self.commission_rate)\n",
    "                self.shares = int(self.cash / price)\n",
    "                self.cash -= self.shares * price\n",
    "                if self.verbose:\n",
    "                    print(f\"[STEP {self.current_step}] Bought at {self.current_price}\")\n",
    "                    print(f\"    Cash: {self.cash}, Shares: {self.shares}\")\n",
    "        elif action == TradingActionsAll.Sell.value:  # sell all:\n",
    "            if self.shares > 0:  # only if there are shares to sell:\n",
    "                price = self.current_price * (1 - self.commission_rate)\n",
    "                self.cash += self.shares * price\n",
    "                self.shares = 0\n",
    "                if self.verbose:\n",
    "                    print(f\"[STEP {self.current_step}] Sold at {self.current_price}\")\n",
    "                    print(f\"    Cash: {self.cash}, Shares: {self.shares}\")\n",
    "\n",
    "    def next_episode(self):\n",
    "        \"\"\" Select stock to be trained at beginning of episode. \"\"\"\n",
    "        return (self.current_episode + 1) % self.total_episodes\n",
    "\n",
    "    def reset(self):\n",
    "        \"\"\" Initialises environment when starting new episode. Returns next status. \"\"\"\n",
    "        self.init_start_step()\n",
    "        if self.verbose:  # info statement\n",
    "            print(f\"Starting episode {self.current_episode + 1}\", (f\"/ {self.total_episodes}\"))\n",
    "        self.cash = self.starting_cash\n",
    "        self.shares = 0\n",
    "        return self.current_observation\n",
    "\n",
    "    def get_current_predictor_input(self, predictor: LSTMPredictor) -> np.ndarray:\n",
    "        \"\"\" Sample price series and create rolling window view for predictor input. \"\"\"\n",
    "        # infer properties:\n",
    "        rolling_window_size = predictor.rolling_window_size\n",
    "        sampling_rate_minutes = predictor.sampling_rate_minutes\n",
    "        predict_before_daily_prediction_hour = predictor.predict_before_daily_prediction_hour\n",
    "        \n",
    "        # calculate start int index for rolling window (if not predicting before daily prediction hour add 1 index:\n",
    "        start_index = int(self.current_step_int_index - rolling_window_size * sampling_rate_minutes / self.price_sampling_rate_minutes)\n",
    "        \n",
    "        # sanity check:\n",
    "        if start_index < 0: raise ValueError(\"Rolling window size too large for current step.\")\n",
    "        \n",
    "        # slice according to start and end index (adjusted by +1 if prediction should be after prediction hour) and sampling rate:\n",
    "        sampled_prices = self.price_series.iloc[start_index+(not predict_before_daily_prediction_hour):self.current_step_int_index+(not predict_before_daily_prediction_hour):int(sampling_rate_minutes / self.price_sampling_rate_minutes)]\n",
    "        \n",
    "        return sampled_prices\n",
    "    \n",
    "    def init_start_step(self):\n",
    "        \"\"\" Set current_step to minimum step for predictors to be callable. \"\"\"\n",
    "        self.current_step = 0\n",
    "        step_too_small = True\n",
    "        while step_too_small:\n",
    "            try:\n",
    "                # try to get predictor input:\n",
    "                _ = [self.get_current_predictor_input(predictor) for predictor in self.predictor_instances]\n",
    "                step_too_small = False  # if successful, step is sufficient\n",
    "            except ValueError:  # if current step too small for rolling window view, increase by 1\n",
    "                self.current_step += 1\n",
    "        \n",
    "        if self.verbose:\n",
    "            print(f\"Starting at {self.current_step_date} although data is provided since {self.price_series.iloc[0:1].index.item().isoformat()[:10]} to have sufficient information for all predictors.\")\n",
    "        \n",
    "    ################ properties ################\n",
    "    @property\n",
    "    def total_episodes(self):\n",
    "        \"\"\" Total episodes equals amount of provided stock data frames. \"\"\"\n",
    "        # todo: method currently unnecessary\n",
    "        return 1\n",
    "    \n",
    "    @property\n",
    "    def total_steps(self):\n",
    "        \"\"\" One step per day and distinct prediction hour. \"\"\"\n",
    "        return len(self.step_dates_list)\n",
    "    \n",
    "    @property\n",
    "    def no_of_days(self):\n",
    "        \"\"\" Number of days in the provided price series. \"\"\"\n",
    "        return int(len(self.step_dates_list) / len(self.daily_prediction_hours))  # step dates list has multiple entries for multiple prediction hours \n",
    "    \n",
    "    @property\n",
    "    def daily_prediction_hours(self):\n",
    "        if self._daily_prediction_hours is None:\n",
    "            self._daily_prediction_hours = {predictor.daily_prediction_hour for predictor in self.predictor_instances}  # at every distinct prediction hour (sets correct for duplicates)\n",
    "        return self._daily_prediction_hours\n",
    "            \n",
    "    @property\n",
    "    def step_dates_list(self):\n",
    "        \"\"\" Dates for each day in the price series at each distinct prediction hour. \"\"\"\n",
    "        if self._step_dates_list is None:\n",
    "            grouped = self.price_series.groupby(by=[self.price_series.index.year, self.price_series.index.month, self.price_series.index.day]).min()\n",
    "            \n",
    "            # multiple entries for each distinct prediction hour:\n",
    "            self._step_dates_list = [f\"{year}-{month}-{day}\" for (year, month, day), pred_hour in product(grouped.index, self.daily_prediction_hours)]\n",
    "            \n",
    "            # if last date doesn't have entries until highest daily_prediction_hour, remove last day from list:\n",
    "            if self.price_series[self.step_dates_list[-1]].index.hour.max() < np.max(list(self.daily_prediction_hours)).item():\n",
    "                self._step_dates_list = self.step_dates_list[:-(len(self.daily_prediction_hours))]\n",
    "        return self._step_dates_list\n",
    "    \n",
    "    @property\n",
    "    def current_observation(self):\n",
    "        \"\"\" Construct and return current observable status. Includes predictors output, cash and holding. \"\"\"\n",
    "        observation = np.array([], dtype=np.int64)\n",
    "        for predictor in self.predictor_instances:\n",
    "            # include each predictor's predicted potential:\n",
    "            input = self.get_current_predictor_input(predictor)\n",
    "            prices, _ = predictor.predict(input)\n",
    "            potential = (prices[-1] / input.iloc[-1] - 1).item()\n",
    "            observation = np.append(observation, [potential])\n",
    "        \n",
    "        # include cash and current holding:\n",
    "        return np.append(observation, [self.cash, self.current_holding])\n",
    "    \n",
    "    @property\n",
    "    def current_price(self):\n",
    "        \"\"\" Close price at the current step's time. \"\"\"\n",
    "        return self.price_series[self.current_step_timestamp].item()\n",
    "        \n",
    "    @property\n",
    "    def current_prediction_hour(self):\n",
    "        return list(self.daily_prediction_hours)[(self.current_step % len(self.daily_prediction_hours))]\n",
    "    \n",
    "    @property\n",
    "    def current_step_date(self):\n",
    "        return self.step_dates_list[self.current_step]\n",
    "    \n",
    "    @property\n",
    "    def current_step_timestamp(self) -> pd.Timestamp:\n",
    "        \"\"\" Return timestamp of current step's datetime. \"\"\"\n",
    "        try:\n",
    "            return self.price_series[f\"{self.current_step_date} {f'0{self.current_prediction_hour}' if self.current_prediction_hour < 10 else self.current_prediction_hour}\"].iloc[0:1].index.item()\n",
    "        except KeyError:  # recursion with next step if IndexError (because then no data present for that prediction hour or day)\n",
    "            self.current_step += 1\n",
    "            return self.current_step_timestamp\n",
    "        \n",
    "    @property\n",
    "    def current_step_int_index(self) -> int:\n",
    "        return np.argwhere(self.price_series[:self.current_step_timestamp])[-1].item()  # last index = index of current_step_timestamp\n",
    "\n",
    "    @property\n",
    "    def current_balance(self):\n",
    "        \"\"\" Current balance equals cash plus current holding. \"\"\"\n",
    "        return self.cash + self.current_holding\n",
    "    \n",
    "    @property\n",
    "    def current_holding(self):\n",
    "        \"\"\" Current holding equals current shares times current price. \"\"\"\n",
    "        return self.shares * self.current_price"
   ],
   "id": "2c79203da32b31c1",
   "outputs": [],
   "execution_count": 47
  },
  {
   "metadata": {},
   "cell_type": "markdown",
   "source": "### Testing",
   "id": "d5e83a50eb85df11"
  },
  {
   "metadata": {
    "ExecuteTime": {
     "end_time": "2025-06-15T15:40:39.020073Z",
     "start_time": "2025-06-03T15:17:52.618128Z"
    }
   },
   "cell_type": "code",
   "source": [
    "self = RLTradingEnv(ENV_PRICE_FILE,\n",
    "                    price_sampling_rate_minutes=15,\n",
    "                    predictor_instances=(b1_predictor, b3_predictor, c1_predictor))"
   ],
   "id": "9c8ce01a6998bd60",
   "outputs": [
    {
     "name": "stdout",
     "output_type": "stream",
     "text": [
      "Starting at 2015-4-9 although data is provided since 2014-10-23 to have sufficient information for all predictors.\n"
     ]
    }
   ],
   "execution_count": 48
  },
  {
   "metadata": {
    "ExecuteTime": {
     "end_time": "2025-06-15T15:40:39.020174Z",
     "start_time": "2025-06-03T15:11:45.861073Z"
    }
   },
   "cell_type": "code",
   "source": "self.current_observation",
   "id": "6107c05368ef231d",
   "outputs": [
    {
     "data": {
      "text/plain": [
       "array([-2.28104992e-04, -3.82095291e-03,  6.46601798e-03,  1.00000000e+05,\n",
       "        0.00000000e+00])"
      ]
     },
     "execution_count": 23,
     "metadata": {},
     "output_type": "execute_result"
    }
   ],
   "execution_count": 23
  },
  {
   "metadata": {
    "ExecuteTime": {
     "end_time": "2025-06-15T15:40:39.020292Z",
     "start_time": "2025-06-03T15:11:46.200139Z"
    }
   },
   "cell_type": "code",
   "source": "self.step(2)",
   "id": "b5d12caeffe29151",
   "outputs": [
    {
     "data": {
      "text/plain": [
       "(array([ 4.24305747e-04, -3.93783583e-03,  9.39044320e-03,  1.00000000e+05,\n",
       "         0.00000000e+00]),\n",
       " 0.0,\n",
       " False,\n",
       " {'Step': 121,\n",
       "  'Time': '2015-04-10 20:00:00',\n",
       "  'Reward': 0.0,\n",
       "  'Action': 'Sell',\n",
       "  'Shares': 0,\n",
       "  'Price': 22.84,\n",
       "  'Cash': 100000,\n",
       "  'Total': 100000.0})"
      ]
     },
     "execution_count": 24,
     "metadata": {},
     "output_type": "execute_result"
    }
   ],
   "execution_count": 24
  },
  {
   "metadata": {},
   "cell_type": "markdown",
   "source": "## Agent",
   "id": "2e7764e53f0e8e01"
  },
  {
   "metadata": {
    "ExecuteTime": {
     "end_time": "2025-06-15T15:40:39.020419Z",
     "start_time": "2025-06-03T15:18:01.872692Z"
    }
   },
   "cell_type": "code",
   "source": [
    "class ManualAgent:\n",
    "    \"\"\" Manual trading agent callable with RLTradingEnv observations. Base class. Feel free to override get_decision method. \"\"\"\n",
    "    def __init__(self,\n",
    "                 observation_types: [Literal['potential', 'tendency', 'cash', 'holding']],\n",
    "                 possible_trade_quantities: Literal['all', 'fixed', 'arbitrary'] = 'all',  # defines action space\n",
    "                 ):\n",
    "        self.observation_types = observation_types\n",
    "        # set of possible actions:\n",
    "        if possible_trade_quantities == 'all':\n",
    "            self.possible_actions = TradingActionsAll\n",
    "        elif possible_trade_quantities == 'fixed':\n",
    "            raise NotImplementedError(\"Fixed trading quantities are yet to be implemented.\")\n",
    "        elif possible_trade_quantities == 'arbitrary':\n",
    "            raise NotImplementedError(\"Arbitrary trading quantities are yet to be implemented.\")\n",
    "        else:\n",
    "            raise ValueError(\"possible_trade_quantities can only be 'all', 'fixed', 'arbitrary'\")\n",
    "        \n",
    "    def __call__(self, observation: np.ndarray):\n",
    "        \"\"\" Class is callable \"\"\"\n",
    "        return self.predict(observation)\n",
    "    \n",
    "    def get_decision(self, potential_estimates: [float], tendency_estimates: [int] = None, cash: float = None, holding: float = None) -> int:\n",
    "        \"\"\" Decision logic based on obsevations. \"\"\"\n",
    "        # average estimates: (todo: consider weighting here)        \n",
    "        avg_potential = np.mean(potential_estimates)\n",
    "        avg_tendency = np.mean(tendency_estimates)\n",
    "        \n",
    "        # select action:\n",
    "        if self.possible_actions == TradingActionsAll:\n",
    "            if avg_potential > 0.005: return TradingActionsAll.Buy.value\n",
    "            elif avg_potential < -0.005: return TradingActionsAll.Sell.value\n",
    "            else: return TradingActionsAll.Hold.value\n",
    "    \n",
    "    def predict(self, observation: np.ndarray) -> int:\n",
    "        \"\"\" Decide trading action based on observations. Leverages get_decision \"\"\"\n",
    "        # sanity check\n",
    "        if len(self.observation_types) != len(observation): raise ValueError(\"observation_types have to be specified (precisely) for each entry in observation array.\")\n",
    "        \n",
    "        # treat observations by type:\n",
    "        potential_estimates = np.array([], dtype=np.float64)\n",
    "        tendency_estimates = np.array([], dtype=np.float64)  # 1 should be up, 0 down\n",
    "        cash = holding = np.nan\n",
    "        for type, obs in zip(self.observation_types, observation):\n",
    "            if type == 'potential':\n",
    "                potential_estimates = np.append(potential_estimates, [obs])\n",
    "            elif type == 'tendency':\n",
    "                tendency_estimates = np.append(tendency_estimates, [obs])\n",
    "            elif type == 'cash':\n",
    "                cash = obs\n",
    "            elif type == 'holding':\n",
    "                holding = obs\n",
    "        \n",
    "        return self.get_decision(potential_estimates, tendency_estimates, cash, holding), np.nan  # return NaN at second pos because commonly DQN agents return also next state"
   ],
   "id": "d10799a8cd60c926",
   "outputs": [],
   "execution_count": 49
  },
  {
   "metadata": {},
   "cell_type": "markdown",
   "source": "## Run",
   "id": "32bfac58de6892c4"
  },
  {
   "metadata": {
    "ExecuteTime": {
     "end_time": "2025-06-15T15:40:39.020520Z",
     "start_time": "2025-06-03T15:18:03.562413Z"
    }
   },
   "cell_type": "code",
   "source": "agent = ManualAgent(observation_types=['potential', 'potential', 'potential', 'cash', 'holding'])",
   "id": "97a6127810f3be67",
   "outputs": [],
   "execution_count": 50
  },
  {
   "metadata": {
    "ExecuteTime": {
     "end_time": "2025-06-15T15:40:39.020610Z",
     "start_time": "2025-06-03T15:18:05.487658Z"
    }
   },
   "cell_type": "code",
   "source": "if self.price_series[self.step_dates_list[-1]].index.hour.max() < np.max(list(self.daily_prediction_hours)).item(): print(True)",
   "id": "93a3740e0ff2b8c9",
   "outputs": [],
   "execution_count": 51
  },
  {
   "metadata": {
    "ExecuteTime": {
     "end_time": "2025-06-15T15:40:39.020700Z",
     "start_time": "2025-06-03T15:26:32.406065Z"
    }
   },
   "cell_type": "code",
   "source": [
    "obs = self.reset()  # reset episode and fetch first observation\n",
    "self.verbose = False\n",
    "done = False  # episode termination criterion\n",
    "# initialise log frame\n",
    "log = pd.DataFrame()\n",
    "for ind in tqdm(range(self.current_step, self.total_steps)):\n",
    "    action, _ = agent.predict(obs)  # infer action\n",
    "    obs, _, done, info = self.step(action)  # retrieve new observation and info\n",
    "    \n",
    "    if done: break  # check whether episode is finished\n",
    "    log = pd.concat([log, pd.DataFrame(info, index=[info['Step']])])  # log info\n",
    "    \n",
    "log['Benchmark'] = self.starting_cash / log['Price'].iloc[0] * log['Price']  # construct benchmark return if HODL\n",
    "log"
   ],
   "id": "283dc4493e29a444",
   "outputs": [
    {
     "name": "stdout",
     "output_type": "stream",
     "text": [
      "Starting at 2015-4-9 although data is provided since 2014-10-23 to have sufficient information for all predictors.\n",
      "Starting episode 1 / 1\n"
     ]
    },
    {
     "name": "stderr",
     "output_type": "stream",
     "text": [
      "  0%|          | 0/2624 [00:00<?, ?it/s]/Users/paulrusing/miniconda3/envs/pru_dev2/envs/rl_env/lib/python3.13/site-packages/numpy/_core/fromnumeric.py:3860: RuntimeWarning: Mean of empty slice.\n",
      "  return _methods._mean(a, axis=axis, dtype=dtype,\n",
      "/Users/paulrusing/miniconda3/envs/pru_dev2/envs/rl_env/lib/python3.13/site-packages/numpy/_core/_methods.py:145: RuntimeWarning: invalid value encountered in scalar divide\n",
      "  ret = ret.dtype.type(ret / rcount)\n",
      " 56%|█████▋    | 1482/2624 [01:03<00:54, 20.95it/s]/Users/paulrusing/miniconda3/envs/pru_dev2/envs/rl_env/lib/python3.13/site-packages/numpy/_core/fromnumeric.py:3860: RuntimeWarning: Mean of empty slice.\n",
      "  return _methods._mean(a, axis=axis, dtype=dtype,\n",
      "/Users/paulrusing/miniconda3/envs/pru_dev2/envs/rl_env/lib/python3.13/site-packages/numpy/_core/_methods.py:145: RuntimeWarning: invalid value encountered in scalar divide\n",
      "  ret = ret.dtype.type(ret / rcount)\n",
      "100%|█████████▉| 2623/2624 [01:59<00:00, 21.96it/s]\n"
     ]
    },
    {
     "data": {
      "text/plain": [
       "      Step                 Time  Reward Action  Shares  Price       Cash  \\\n",
       "121    121  2015-04-10 20:00:00     0.0   Hold       0  22.84  100000.00   \n",
       "122    122  2015-04-13 20:00:00     0.0   Hold       0  22.66  100000.00   \n",
       "123    123  2015-04-14 20:00:00     0.0   Hold       0  22.69  100000.00   \n",
       "124    124  2015-04-15 20:00:00     0.0   Hold       0  22.70  100000.00   \n",
       "125    125  2015-04-16 20:00:00     0.0   Hold       0  22.35  100000.00   \n",
       "...    ...                  ...     ...    ...     ...    ...        ...   \n",
       "2740  2740  2025-04-24 20:00:00     0.0   Sell       0  41.24  368812.86   \n",
       "2741  2741  2025-04-25 20:00:00     0.0   Sell       0  41.21  368812.86   \n",
       "2742  2742  2025-04-28 20:00:00     0.0   Sell       0  41.48  368812.86   \n",
       "2743  2743  2025-04-29 20:00:00     0.0   Sell       0  41.90  368812.86   \n",
       "120    120  2015-04-09 20:00:00     0.0   Sell       0  22.58  368812.86   \n",
       "\n",
       "          Total      Benchmark  \n",
       "121   100000.00  100000.000000  \n",
       "122   100000.00   99211.908932  \n",
       "123   100000.00   99343.257443  \n",
       "124   100000.00   99387.040280  \n",
       "125   100000.00   97854.640981  \n",
       "...         ...            ...  \n",
       "2740  368812.86  180560.420315  \n",
       "2741  368812.86  180429.071804  \n",
       "2742  368812.86  181611.208406  \n",
       "2743  368812.86  183450.087566  \n",
       "120   368812.86   98861.646235  \n",
       "\n",
       "[2624 rows x 9 columns]"
      ],
      "text/html": [
       "<div>\n",
       "<style scoped>\n",
       "    .dataframe tbody tr th:only-of-type {\n",
       "        vertical-align: middle;\n",
       "    }\n",
       "\n",
       "    .dataframe tbody tr th {\n",
       "        vertical-align: top;\n",
       "    }\n",
       "\n",
       "    .dataframe thead th {\n",
       "        text-align: right;\n",
       "    }\n",
       "</style>\n",
       "<table border=\"1\" class=\"dataframe\">\n",
       "  <thead>\n",
       "    <tr style=\"text-align: right;\">\n",
       "      <th></th>\n",
       "      <th>Step</th>\n",
       "      <th>Time</th>\n",
       "      <th>Reward</th>\n",
       "      <th>Action</th>\n",
       "      <th>Shares</th>\n",
       "      <th>Price</th>\n",
       "      <th>Cash</th>\n",
       "      <th>Total</th>\n",
       "      <th>Benchmark</th>\n",
       "    </tr>\n",
       "  </thead>\n",
       "  <tbody>\n",
       "    <tr>\n",
       "      <th>121</th>\n",
       "      <td>121</td>\n",
       "      <td>2015-04-10 20:00:00</td>\n",
       "      <td>0.0</td>\n",
       "      <td>Hold</td>\n",
       "      <td>0</td>\n",
       "      <td>22.84</td>\n",
       "      <td>100000.00</td>\n",
       "      <td>100000.00</td>\n",
       "      <td>100000.000000</td>\n",
       "    </tr>\n",
       "    <tr>\n",
       "      <th>122</th>\n",
       "      <td>122</td>\n",
       "      <td>2015-04-13 20:00:00</td>\n",
       "      <td>0.0</td>\n",
       "      <td>Hold</td>\n",
       "      <td>0</td>\n",
       "      <td>22.66</td>\n",
       "      <td>100000.00</td>\n",
       "      <td>100000.00</td>\n",
       "      <td>99211.908932</td>\n",
       "    </tr>\n",
       "    <tr>\n",
       "      <th>123</th>\n",
       "      <td>123</td>\n",
       "      <td>2015-04-14 20:00:00</td>\n",
       "      <td>0.0</td>\n",
       "      <td>Hold</td>\n",
       "      <td>0</td>\n",
       "      <td>22.69</td>\n",
       "      <td>100000.00</td>\n",
       "      <td>100000.00</td>\n",
       "      <td>99343.257443</td>\n",
       "    </tr>\n",
       "    <tr>\n",
       "      <th>124</th>\n",
       "      <td>124</td>\n",
       "      <td>2015-04-15 20:00:00</td>\n",
       "      <td>0.0</td>\n",
       "      <td>Hold</td>\n",
       "      <td>0</td>\n",
       "      <td>22.70</td>\n",
       "      <td>100000.00</td>\n",
       "      <td>100000.00</td>\n",
       "      <td>99387.040280</td>\n",
       "    </tr>\n",
       "    <tr>\n",
       "      <th>125</th>\n",
       "      <td>125</td>\n",
       "      <td>2015-04-16 20:00:00</td>\n",
       "      <td>0.0</td>\n",
       "      <td>Hold</td>\n",
       "      <td>0</td>\n",
       "      <td>22.35</td>\n",
       "      <td>100000.00</td>\n",
       "      <td>100000.00</td>\n",
       "      <td>97854.640981</td>\n",
       "    </tr>\n",
       "    <tr>\n",
       "      <th>...</th>\n",
       "      <td>...</td>\n",
       "      <td>...</td>\n",
       "      <td>...</td>\n",
       "      <td>...</td>\n",
       "      <td>...</td>\n",
       "      <td>...</td>\n",
       "      <td>...</td>\n",
       "      <td>...</td>\n",
       "      <td>...</td>\n",
       "    </tr>\n",
       "    <tr>\n",
       "      <th>2740</th>\n",
       "      <td>2740</td>\n",
       "      <td>2025-04-24 20:00:00</td>\n",
       "      <td>0.0</td>\n",
       "      <td>Sell</td>\n",
       "      <td>0</td>\n",
       "      <td>41.24</td>\n",
       "      <td>368812.86</td>\n",
       "      <td>368812.86</td>\n",
       "      <td>180560.420315</td>\n",
       "    </tr>\n",
       "    <tr>\n",
       "      <th>2741</th>\n",
       "      <td>2741</td>\n",
       "      <td>2025-04-25 20:00:00</td>\n",
       "      <td>0.0</td>\n",
       "      <td>Sell</td>\n",
       "      <td>0</td>\n",
       "      <td>41.21</td>\n",
       "      <td>368812.86</td>\n",
       "      <td>368812.86</td>\n",
       "      <td>180429.071804</td>\n",
       "    </tr>\n",
       "    <tr>\n",
       "      <th>2742</th>\n",
       "      <td>2742</td>\n",
       "      <td>2025-04-28 20:00:00</td>\n",
       "      <td>0.0</td>\n",
       "      <td>Sell</td>\n",
       "      <td>0</td>\n",
       "      <td>41.48</td>\n",
       "      <td>368812.86</td>\n",
       "      <td>368812.86</td>\n",
       "      <td>181611.208406</td>\n",
       "    </tr>\n",
       "    <tr>\n",
       "      <th>2743</th>\n",
       "      <td>2743</td>\n",
       "      <td>2025-04-29 20:00:00</td>\n",
       "      <td>0.0</td>\n",
       "      <td>Sell</td>\n",
       "      <td>0</td>\n",
       "      <td>41.90</td>\n",
       "      <td>368812.86</td>\n",
       "      <td>368812.86</td>\n",
       "      <td>183450.087566</td>\n",
       "    </tr>\n",
       "    <tr>\n",
       "      <th>120</th>\n",
       "      <td>120</td>\n",
       "      <td>2015-04-09 20:00:00</td>\n",
       "      <td>0.0</td>\n",
       "      <td>Sell</td>\n",
       "      <td>0</td>\n",
       "      <td>22.58</td>\n",
       "      <td>368812.86</td>\n",
       "      <td>368812.86</td>\n",
       "      <td>98861.646235</td>\n",
       "    </tr>\n",
       "  </tbody>\n",
       "</table>\n",
       "<p>2624 rows × 9 columns</p>\n",
       "</div>"
      ]
     },
     "execution_count": 62,
     "metadata": {},
     "output_type": "execute_result"
    }
   ],
   "execution_count": 62
  },
  {
   "metadata": {
    "ExecuteTime": {
     "end_time": "2025-06-15T15:40:39.022117Z",
     "start_time": "2025-06-03T15:34:17.027307Z"
    }
   },
   "cell_type": "code",
   "source": "log = log.iloc[:-1]",
   "id": "94ddb241ca327cf8",
   "outputs": [],
   "execution_count": 70
  },
  {
   "metadata": {
    "ExecuteTime": {
     "end_time": "2025-06-15T15:40:39.022284Z",
     "start_time": "2025-06-03T15:35:00.310662Z"
    }
   },
   "cell_type": "code",
   "source": [
    "val_df = pd.DataFrame()\n",
    "val_df['Policy'] = log['Total'] / log['Benchmark'].iloc[0]\n",
    "val_df['Benchmark'] = log['Benchmark'] / log['Benchmark'].iloc[0]\n",
    "\n",
    "fig, ax = plt.subplots(figsize=(14, 7))\n",
    "dates = pd.to_datetime(log['Time'])\n",
    "ax.plot(dates, val_df['Policy'], color='green', label='Policy')\n",
    "ax.plot(dates, val_df['Benchmark'], color='red', label='Benchmark')\n",
    "ax.set_title('Normalized Policy vs. Benchmark')\n",
    "ax.set_xlabel('Date')\n",
    "ax.set_ylabel('Normalized Balance')\n",
    "ax.legend()\n",
    "\n",
    "plt.show()"
   ],
   "id": "b169e5f5dce589b5",
   "outputs": [
    {
     "data": {
      "text/plain": [
       "<Figure size 1400x700 with 1 Axes>"
      ],
      "image/png": "[encoded data removed]"
     },
     "metadata": {},
     "output_type": "display_data"
    }
   ],
   "execution_count": 75
  },
  {
   "metadata": {
    "ExecuteTime": {
     "end_time": "2025-06-15T15:40:39.022433Z",
     "start_time": "2025-06-03T15:12:11.438756Z"
    }
   },
   "cell_type": "code",
   "source": "self.current_step_date",
   "id": "eaee05b414f799f8",
   "outputs": [
    {
     "data": {
      "text/plain": [
       "'2025-4-30'"
      ]
     },
     "execution_count": 32,
     "metadata": {},
     "output_type": "execute_result"
    }
   ],
   "execution_count": 32
  },
  {
   "metadata": {
    "ExecuteTime": {
     "end_time": "2025-06-15T15:40:39.022565Z",
     "start_time": "2025-06-03T14:21:40.872168Z"
    }
   },
   "cell_type": "code",
   "source": "self.total_steps",
   "id": "b3704dc837864fb4",
   "outputs": [
    {
     "data": {
      "text/plain": [
       "2745"
      ]
     },
     "execution_count": 93,
     "metadata": {},
     "output_type": "execute_result"
    }
   ],
   "execution_count": 93
  },
  {
   "metadata": {
    "ExecuteTime": {
     "end_time": "2025-06-15T15:40:39.022687Z",
     "start_time": "2025-06-03T11:42:31.513058Z"
    }
   },
   "cell_type": "code",
   "source": "self.current_step = 410",
   "id": "c6bd9460fa76731e",
   "outputs": [],
   "execution_count": 36
  },
  {
   "metadata": {
    "ExecuteTime": {
     "end_time": "2025-06-15T15:40:39.022790Z",
     "start_time": "2025-06-03T11:37:43.302473Z"
    }
   },
   "cell_type": "code",
   "source": [
    "predictor = self.predictor_instances[0]\n",
    "input = self.get_current_predictor_input(predictor)\n",
    "\n",
    "prices, dates = predictor.predict(input)\n",
    "potential = (prices[-1] / input.iloc[-1] - 1).item()"
   ],
   "id": "5f90541bd1368e42",
   "outputs": [
    {
     "name": "stdout",
     "output_type": "stream",
     "text": [
      "Prices are expected to go UP!\n"
     ]
    },
    {
     "data": {
      "text/plain": [
       "<Figure size 1200x600 with 1 Axes>"
      ],
      "image/png": "[encoded data removed]"
     },
     "metadata": {},
     "output_type": "display_data"
    }
   ],
   "execution_count": 32
  },
  {
   "metadata": {
    "ExecuteTime": {
     "end_time": "2025-06-15T15:40:39.022906Z",
     "start_time": "2025-06-03T11:23:38.058782Z"
    }
   },
   "cell_type": "code",
   "source": "potential",
   "id": "faa37e9e0ab28460",
   "outputs": [
    {
     "data": {
      "text/plain": [
       "0.0003994251627850165"
      ]
     },
     "execution_count": 25,
     "metadata": {},
     "output_type": "execute_result"
    }
   ],
   "execution_count": 25
  }
 ],
 "metadata": {
  "kernelspec": {
   "display_name": "Python 3",
   "language": "python",
   "name": "python3"
  },
  "language_info": {
   "codemirror_mode": {
    "name": "ipython",
    "version": 2
   },
   "file_extension": ".py",
   "mimetype": "text/x-python",
   "name": "python",
   "nbconvert_exporter": "python",
   "pygments_lexer": "ipython2",
   "version": "2.7.6"
  }
 },
 "nbformat": 4,
 "nbformat_minor": 5
}
