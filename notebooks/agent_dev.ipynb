{
 "cells": [
  {
   "metadata": {},
   "cell_type": "markdown",
   "source": [
    "# Trading Agent Development\n",
    "Inspiration:\n",
    "- https://www.backtrader.com/blog/posts/2015-08-16-backtesting-with-almost-no-programming/backtesting-with-almost-no-programming/ (Backtrader Platform würde einige Funktionen bereitstellen)\n",
    "- https://github.com/tmorgan4/btgym_Kismuz?tab=readme-ov-file\n",
    "- "
   ],
   "id": "3a61fa017a74b412"
  },
  {
   "cell_type": "code",
   "id": "initial_id",
   "metadata": {
    "collapsed": true,
    "ExecuteTime": {
     "end_time": "2025-06-02T21:55:19.449966Z",
     "start_time": "2025-06-02T21:55:19.446858Z"
    }
   },
   "source": [
    "import src.utils.file_management as filemgmt\n",
    "import src.pipeline.preprocessing as preprocessing\n",
    "import src.pipeline.predictors as predictors\n",
    "from src.pipeline.predictors import LSTMPredictor\n",
    "\n",
    "from itertools import product\n",
    "import gym\n",
    "from gym import spaces\n",
    "from typing import Union, Literal\n",
    "import numpy as np\n",
    "import pandas as pd\n",
    "import random\n",
    "import enum\n",
    "\n",
    "from pathlib import Path\n",
    "\n",
    "from tqdm import tqdm\n",
    "from alpha_vantage.timeseries import TimeSeries\n",
    "\n",
    "import torch\n",
    "import torch.nn as nn\n",
    "import torch.nn.functional as F\n",
    "import torch.optim as optim\n",
    "from torch.utils.data import Dataset, DataLoader\n",
    "from matplotlib.lines import Line2D\n",
    "\n",
    "import matplotlib.pyplot as plt"
   ],
   "outputs": [],
   "execution_count": 15
  },
  {
   "metadata": {},
   "cell_type": "markdown",
   "source": "## Initialisation",
   "id": "202dcdd118543d40"
  },
  {
   "metadata": {
    "ExecuteTime": {
     "end_time": "2025-06-02T21:54:58.717490Z",
     "start_time": "2025-06-02T21:54:58.714860Z"
    }
   },
   "cell_type": "code",
   "source": [
    "ROOT = Path().resolve().parent\n",
    "\n",
    "DATA = ROOT / \"data\"\n",
    "INTERPOLATED_PRICES = DATA / \"interpolated_prices\"\n",
    "\n",
    "SAVED_MODELS = DATA / \"saved_models\""
   ],
   "id": "95c4724aeb1b43bf",
   "outputs": [],
   "execution_count": 3
  },
  {
   "metadata": {
    "ExecuteTime": {
     "end_time": "2025-06-02T21:54:58.730979Z",
     "start_time": "2025-06-02T21:54:58.728498Z"
    }
   },
   "cell_type": "code",
   "source": [
    "SAVED_B1_PREDICTOR = SAVED_MODELS / \"predictor_b1\" / \"2025-05-22 10_03_41 LSTM Model RW68 FH14 Layers3 Size256 TrainL0.10641186928842217 ValL1.9110333621501923 TrainHR0.4860040545463562 ValHR0.5328466892242432.pt\"\n",
    "SAVED_B3_PREDICTOR = SAVED_MODELS / \"predictor_b3\" / \"2025-05-22 11_47_10 LSTM Model RW40 FH5 Layers3 Size128 TrainL0.36055382899940014 ValL1.9578219056129456 TrainHR0.547325074672699 ValHR0.529629647731781.pt\" \n",
    "SAVED_C1_PREDICTOR = SAVED_MODELS / \"predictor_c1\" / \"2025-05-22 11_27_18 LSTM Model RW24 FH3 Layers4 Size128 TrainL0.29682125337421894 ValL0.4320639967918396 TrainHR0.5574468374252319 ValHR0.5660377144813538.pt\""
   ],
   "id": "c883de70e02e9068",
   "outputs": [],
   "execution_count": 4
  },
  {
   "metadata": {
    "ExecuteTime": {
     "end_time": "2025-06-02T21:54:58.749085Z",
     "start_time": "2025-06-02T21:54:58.745822Z"
    }
   },
   "cell_type": "code",
   "source": [
    "ENV_PRICE_FILE = filemgmt.most_recent_file(INTERPOLATED_PRICES, '.csv', '15min')\n",
    "B1_PRICE_FILE = filemgmt.most_recent_file(INTERPOLATED_PRICES, '.csv', '60min')\n",
    "B3_PRICE_FILE = filemgmt.most_recent_file(INTERPOLATED_PRICES, '.csv', '1d')\n",
    "C1_PRICE_FILE = filemgmt.most_recent_file(INTERPOLATED_PRICES, '.csv', '7d')"
   ],
   "id": "3a33164351bad71b",
   "outputs": [],
   "execution_count": 5
  },
  {
   "metadata": {},
   "cell_type": "markdown",
   "source": "## Predictors",
   "id": "99632bb8fee3f270"
  },
  {
   "metadata": {
    "ExecuteTime": {
     "end_time": "2025-06-02T21:55:00.111924Z",
     "start_time": "2025-06-02T21:54:58.764117Z"
    }
   },
   "cell_type": "code",
   "source": [
    "b1_predictor = LSTMPredictor(model_load_file_path=SAVED_B1_PREDICTOR,  # based on this, the predictor infers the model's properties\n",
    "                             price_csv_path=B1_PRICE_FILE,\n",
    "                             daily_prediction_hour=20,  # these are necessary data properties which still need to be set\n",
    "                             predict_before_daily_prediction_hour=True,\n",
    "                             rolling_window_size=68,\n",
    "                             forecast_horizon=14,\n",
    "                             sampling_rate_minutes=60)\n",
    "b1_predictor"
   ],
   "id": "75807374138ffa1",
   "outputs": [
    {
     "name": "stdout",
     "output_type": "stream",
     "text": [
      "No training epochs defined upon initialisation. Define LSTMPredictor.n_train_epochs to start training procedure.\n",
      "Created rolling window view based on rolling_window_size of 68 and forecast_horizon of 14 with a time unit of 60 minutes.\n",
      "Target values start at only observation between 20:00 and 21:00 daily.\n",
      "Resulting dataset consists of 2739 observations.\n",
      "Using last 20.0% of data for validation. Other data for training.\n",
      "This yields 2191 training and 548 validation observations.\n"
     ]
    },
    {
     "data": {
      "text/plain": [
       "------------------- LSTMPredictor Instance -------------------\n",
       "\n",
       "Data Attributes:\n",
       "- sampling rate in minutes: 60\n",
       "- daily prediction hour: 20:00\n",
       "- predicting at last observation before prediction hour: True\n",
       "- rolling window size: 68\n",
       "- forecast horizon: 14\n",
       "- validation split: 0.2\n",
       "- amount of training observations: 2191\n",
       "- amount of validation observations: 548\n",
       "\n",
       "Model Attributes:\n",
       "- hidden LSTM layers: 256\n",
       "- number of LSTM layers: 3\n",
       "- pre LSTM fully connected layer: False\n",
       "\n",
       "Model wasn't trained yet (or was imported)."
      ]
     },
     "execution_count": 6,
     "metadata": {},
     "output_type": "execute_result"
    }
   ],
   "execution_count": 6
  },
  {
   "metadata": {
    "ExecuteTime": {
     "end_time": "2025-06-02T21:55:00.297954Z",
     "start_time": "2025-06-02T21:55:00.281383Z"
    }
   },
   "cell_type": "code",
   "source": [
    "b3_predictor = LSTMPredictor(model_load_file_path=SAVED_B3_PREDICTOR,  # based on this, the predictor infers the model's properties\n",
    "                             price_csv_path=B3_PRICE_FILE,\n",
    "                             daily_prediction_hour=20,  # these are necessary data properties which still need to be set\n",
    "                             rolling_window_size=40,  # 2 months a 4 weeks a 5 days hindsight\n",
    "                             forecast_horizon=5,  # 1 week a 5 days ahead\n",
    "                             sampling_rate_minutes=60*14,  # one day from 8 to 22\n",
    "                             )\n",
    "b3_predictor"
   ],
   "id": "4fd9bbdbce96b598",
   "outputs": [
    {
     "name": "stdout",
     "output_type": "stream",
     "text": [
      "No training epochs defined upon initialisation. Define LSTMPredictor.n_train_epochs to start training procedure.\n",
      "Created rolling window view based on rolling_window_size of 40 and forecast_horizon of 5 with a time unit of 840 minutes.\n",
      "Target values start at only observation between 20:00 and 21:00 daily.\n",
      "Resulting dataset consists of 2700 observations.\n",
      "Using last 20.0% of data for validation. Other data for training.\n",
      "This yields 2160 training and 540 validation observations.\n"
     ]
    },
    {
     "data": {
      "text/plain": [
       "------------------- LSTMPredictor Instance -------------------\n",
       "\n",
       "Data Attributes:\n",
       "- sampling rate in minutes: 840\n",
       "- daily prediction hour: 20:00\n",
       "- predicting at last observation before prediction hour: False\n",
       "- rolling window size: 40\n",
       "- forecast horizon: 5\n",
       "- validation split: 0.2\n",
       "- amount of training observations: 2160\n",
       "- amount of validation observations: 540\n",
       "\n",
       "Model Attributes:\n",
       "- hidden LSTM layers: 128\n",
       "- number of LSTM layers: 3\n",
       "- pre LSTM fully connected layer: False\n",
       "\n",
       "Model wasn't trained yet (or was imported)."
      ]
     },
     "execution_count": 7,
     "metadata": {},
     "output_type": "execute_result"
    }
   ],
   "execution_count": 7
  },
  {
   "metadata": {
    "ExecuteTime": {
     "end_time": "2025-06-02T21:55:00.452775Z",
     "start_time": "2025-06-02T21:55:00.438399Z"
    }
   },
   "cell_type": "code",
   "source": [
    "c1_predictor = LSTMPredictor(model_load_file_path=SAVED_C1_PREDICTOR,  # based on this, the predictor infers the model's properties\n",
    "                             price_csv_path=C1_PRICE_FILE,\n",
    "                             daily_prediction_hour=20,  # these are necessary data properties which still need to be set\n",
    "                             rolling_window_size=40,  # 2 months hindsight\n",
    "                             forecast_horizon=5,  # 1 week ahead\n",
    "                             sampling_rate_minutes=5*14*60,  # 1 week a 5 days from 8 to 22\n",
    "                             )\n",
    "c1_predictor"
   ],
   "id": "832087fb1d4512e2",
   "outputs": [
    {
     "name": "stdout",
     "output_type": "stream",
     "text": [
      "No training epochs defined upon initialisation. Define LSTMPredictor.n_train_epochs to start training procedure.\n",
      "Created rolling window view based on rolling_window_size of 40 and forecast_horizon of 5 with a time unit of 4200 minutes.\n",
      "Target values start at only observation between 20:00 and 21:00 daily.\n",
      "Resulting dataset consists of 505 observations.\n",
      "Using last 20.0% of data for validation. Other data for training.\n",
      "This yields 404 training and 101 validation observations.\n"
     ]
    },
    {
     "data": {
      "text/plain": [
       "------------------- LSTMPredictor Instance -------------------\n",
       "\n",
       "Data Attributes:\n",
       "- sampling rate in minutes: 4200\n",
       "- daily prediction hour: 20:00\n",
       "- predicting at last observation before prediction hour: False\n",
       "- rolling window size: 40\n",
       "- forecast horizon: 5\n",
       "- validation split: 0.2\n",
       "- amount of training observations: 404\n",
       "- amount of validation observations: 101\n",
       "\n",
       "Model Attributes:\n",
       "- hidden LSTM layers: 128\n",
       "- number of LSTM layers: 4\n",
       "- pre LSTM fully connected layer: False\n",
       "\n",
       "Model wasn't trained yet (or was imported)."
      ]
     },
     "execution_count": 8,
     "metadata": {},
     "output_type": "execute_result"
    }
   ],
   "execution_count": 8
  },
  {
   "metadata": {},
   "cell_type": "markdown",
   "source": "### Example Prediction",
   "id": "a6524843c14af22"
  },
  {
   "metadata": {},
   "cell_type": "markdown",
   "source": [
    "## Environment\n",
    "https://github.com/tmorgan4/btgym_Kismuz/blob/master/btgym/strategy/base.py"
   ],
   "id": "c195f92d1606ac30"
  },
  {
   "metadata": {
    "ExecuteTime": {
     "end_time": "2025-06-02T21:55:03.059620Z",
     "start_time": "2025-06-02T21:55:03.057256Z"
    }
   },
   "cell_type": "code",
   "source": [
    "class TradingActionsAll(enum.Enum):\n",
    "    \"\"\" Actions for trading. Buy or sell all. No amount possible. \"\"\"\n",
    "    Hold = 0\n",
    "    Buy = 1\n",
    "    Sell = 2"
   ],
   "id": "12e4de0b74772a7e",
   "outputs": [],
   "execution_count": 9
  },
  {
   "metadata": {
    "ExecuteTime": {
     "end_time": "2025-06-02T21:55:03.375997Z",
     "start_time": "2025-06-02T21:55:03.373874Z"
    }
   },
   "cell_type": "code",
   "source": "# Todo: observation space with predictor data",
   "id": "f450fe23aaa5afc5",
   "outputs": [],
   "execution_count": 10
  },
  {
   "metadata": {
    "ExecuteTime": {
     "end_time": "2025-06-02T21:55:48.713614Z",
     "start_time": "2025-06-02T21:55:48.698174Z"
    }
   },
   "cell_type": "code",
   "source": [
    "class RLTradingEnv(gym.Env):\n",
    "    \"\"\"\n",
    "    A trading environment for OpenAI gym.\n",
    "    \n",
    "    Environment is called (stepped) every day in the provided price_data at all daily_prediction_times present in the predictor_instances.\n",
    "    \"\"\"\n",
    "    metadata = {'render.modes': ['human']}\n",
    "    def __init__(self,\n",
    "                 price_csv_path: Union[str, Path],\n",
    "                 price_sampling_rate_minutes: int = 1,\n",
    "                 price_column='close',\n",
    "                 date_column='date',\n",
    "                 predictor_instances: [LSTMPredictor] = None,  # to be imported for data preparation\n",
    "                 # Todo: possible_products (i.e., which certificates)  # used to define action space\n",
    "                 possible_trade_quantities: Literal['all', 'fixed', 'arbitrary'] = 'all',  # used to define action space\n",
    "                 starting_cash=100000,\n",
    "                 commission_rate=0,\n",
    "                 verbose=True\n",
    "                 ):\n",
    "        \"\"\"\n",
    "        TO BE DESCRIBED!\n",
    "        \"\"\"\n",
    "        super(RLTradingEnv, self).__init__()  # initialise base class\n",
    "        self.price_series = preprocessing.read_price_csv(csv_path=price_csv_path, date_column=date_column, price_column=price_column)\n",
    "        \n",
    "        self.price_sampling_rate_minutes = price_sampling_rate_minutes\n",
    "        self.price_column = price_column\n",
    "        self.date_column = date_column\n",
    "\n",
    "        self.starting_cash = starting_cash\n",
    "        self.commission_rate = commission_rate\n",
    "        self.verbose = verbose\n",
    "\n",
    "        # current episode (sequence of steps)\n",
    "        self.current_episode = 0\n",
    "        \n",
    "        self.predictor_instances = predictor_instances\n",
    "        self._daily_prediction_hours = None\n",
    "        '''\n",
    "        if predictor_instances is not None:\n",
    "            # necessary parameters for data preparation to construct observation space\n",
    "            if len(predictor_instances) == 1: predictor_instances = list(predictor_instances)\n",
    "            obs_param_tuples = [(predictor.rolling_window_size, predictor.sampling_rate_minutes, predictor.daily_prediction_hour, predictor.predict_before_daily_prediction_hour) for predictor in predictor_instances]\n",
    "        else:\n",
    "            raise AttributeError(\"Predictor instances need to be provided. Manual observation space definition not implemented yet.\")\n",
    "        \n",
    "        total_rolling_window_size = np.sum([params[0] for params in  obs_param_tuples])  # for observation space construction\n",
    "        if self.verbose: print(f\"Constructing observation space for {len(obs_param_tuples)} predictors.\\nProperties:\\n(rolling_window_size, sampling_rate_minutes, daily_prediction_hour, predict_before_daily_prediction_hour)\\n{obs_param_tuples}\")\n",
    "        '''\n",
    "        # step dates (property to be calculated upon read-out)\n",
    "        self._step_dates_list = None\n",
    "        \n",
    "        # current step (status and actions)\n",
    "        self.current_step = 0\n",
    "        \n",
    "\n",
    "        # set of possible actions as discrete values:\n",
    "        if possible_trade_quantities == 'all':\n",
    "            self.action_space = spaces.Discrete(len(TradingActionsAll))\n",
    "        elif possible_trade_quantities == 'fixed':\n",
    "            raise NotImplementedError(\"Fixed trading quantities are yet to be implemented.\")\n",
    "        elif possible_trade_quantities == 'arbitrary':\n",
    "            raise NotImplementedError(\"Arbitrary trading quantities are yet to be implemented.\")\n",
    "        else:\n",
    "            raise ValueError(\"possible_trade_quantities can only be 'all', 'fixed', 'arbitrary'\")\n",
    "        \n",
    "        # set of floats representing available information for agent:\n",
    "        self.observation_space = spaces.Box(low=-np.inf,\n",
    "                                            high=np.inf,\n",
    "                                            shape=(len(predictor_instances)+3,),\n",
    "                                            dtype=np.float16)\n",
    "        # contains floats of each predictor's output and three more for (cash, price and action)\n",
    "\n",
    "        # possible range of rewards for actions:\n",
    "        self.reward_range = (-np.inf, np.inf)\n",
    "\n",
    "        # initial conditions:\n",
    "        self.cash = self.starting_cash\n",
    "        self.shares = 0\n",
    "\n",
    "    def step(self, action):\n",
    "        \"\"\"\n",
    "        Execute an action, return the reward and move to the next status.\n",
    "        Takes action.\n",
    "        Returns observation (box), reward (float), done (bool, indicating whether episode is finished) and info (dict).\n",
    "        \"\"\"\n",
    "        # infer current balance:\n",
    "        balance = self.current_balance\n",
    "\n",
    "        # increase step\n",
    "        self.current_step += 1\n",
    "        if self.current_step == self.total_steps:  # if episode is finished\n",
    "            self.current_episode = self.next_episode()\n",
    "            self.current_step = 0  # reset current step\n",
    "\n",
    "        # take action:\n",
    "        self.take_action(action)\n",
    "\n",
    "        # compute status and calculate reward:\n",
    "        obs = self.next_observation(action)\n",
    "        reward = self.current_balance - balance  # equals change of balance\n",
    "        done = (self.current_step == self.total_steps - 1)  # see if episode is finished\n",
    "\n",
    "        # construct info dictionary:\n",
    "        info = { 'Step'  : self.current_step,\n",
    "                 'Reward' : round(reward, 2),\n",
    "                 'Action' : TradingActionsAll(action).name,\n",
    "                 'Shares' : self.shares,\n",
    "                 'Close'  : round(self.current_price, 2),\n",
    "                 'Cash'   : round(self.cash, 2),\n",
    "                 'Total'  : round(self.current_balance, 2) }\n",
    "\n",
    "        # if done: self.reset()  # happens automatically!\n",
    "\n",
    "        return obs, reward, done, info\n",
    "\n",
    "    def take_action(self, action):\n",
    "        \"\"\" Takes action and updates current balance. Hold has no implication. Considers commission_rate \"\"\"\n",
    "        if action == TradingActionsAll.Buy.value:  # buy all:\n",
    "            if self.shares == 0:  # only if no shares held:\n",
    "                price = self.current_price * (1 + self.commission_rate)\n",
    "                self.shares = int(self.cash / price)\n",
    "                self.cash -= self.shares * price\n",
    "                if self.verbose:\n",
    "                    print(f\"[STEP {self.current_step}] Bought at {self.current_price}\")\n",
    "                    print(f\"    Cash: {self.cash}, Shares: {self.shares}\")\n",
    "        elif action == TradingActionsAll.Sell.value:  # sell all:\n",
    "            if self.shares > 0:  # only if there are shares to sell:\n",
    "                price = self.current_price * (1 - self.commission_rate)\n",
    "                self.cash += self.shares * price\n",
    "                self.shares = 0\n",
    "                if self.verbose:\n",
    "                    print(f\"[STEP {self.current_step}] Sold at {self.current_price}\")\n",
    "                    print(f\"    Cash: {self.cash}, Shares: {self.shares}\")\n",
    "    \n",
    "    # todo: call predictors and construct observation space\n",
    "    def next_observation(self, action):\n",
    "        \"\"\" Construct and return new observable status. Reads current indicators (for sample_days), cash, balance and action. \"\"\"\n",
    "        observation = np.array([], dtype=np.int64)\n",
    "        # todo: iterate over predictors\n",
    "        for i in range(self.sample_days, 0, -1):\n",
    "            observation = np.append(observation, list(self.current_indicators.iloc[self.current_step - i + 1, :]))\n",
    "            \n",
    "        # todo: return all information\n",
    "        return np.append(observation, [self.cash, self.shares * self.current_price, action])\n",
    "\n",
    "    def next_episode(self):\n",
    "        \"\"\" Select stock to be trained at beginning of episode. \"\"\"\n",
    "        return (self.current_episode + 1) % self.total_episodes\n",
    "\n",
    "    def reset(self):\n",
    "        \"\"\" Initialises environment when starting new episode. Returns next status. \"\"\"\n",
    "        if self.verbose:  # info statement\n",
    "            print(f\"Starting episode {self.current_episode + 1}\", (f\"/{self.total_episodes}\"))\n",
    "        self.cash = self.starting_cash\n",
    "        self.shares = 0\n",
    "        return self.next_observation(TradingActionsAll.Hold.value)\n",
    "\n",
    "    def get_current_predictor_input(self, rolling_window_size: int, sampling_rate_minutes: int, predict_before_daily_prediction_hour: bool = False) -> np.ndarray:\n",
    "        \"\"\" Sample price series and create rolling window view for predictor input. \"\"\"\n",
    "        # calculate start int index for rolling window (if not predicting before daily prediction hour add 1 index:\n",
    "        start_index = int(self.current_step_int_index - rolling_window_size * sampling_rate_minutes / self.price_sampling_rate_minutes)\n",
    "        \n",
    "        # sanity check:\n",
    "        if start_index < 0: raise ValueError(\"Rolling window size too large for current step.\")\n",
    "        \n",
    "        # slice according to start and end index (adjusted by +1 if prediction should be after prediction hour) and sampling rate:\n",
    "        sampled_prices = self.price_series.iloc[start_index+(not predict_before_daily_prediction_hour):self.current_step_int_index+(not predict_before_daily_prediction_hour):int(sampling_rate_minutes / self.price_sampling_rate_minutes)]\n",
    "        \n",
    "        return sampled_prices\n",
    "\n",
    "    ################ properties ################\n",
    "    @property\n",
    "    def total_episodes(self):\n",
    "        \"\"\" Total episodes equals amount of provided stock data frames. \"\"\"\n",
    "        # todo: method currently unnecessary\n",
    "        return 1\n",
    "\n",
    "    @property\n",
    "    def total_steps(self):\n",
    "        \"\"\" One step per day and distinct prediction hour. \"\"\"\n",
    "        return len(self.step_dates_list)\n",
    "    \n",
    "    @property\n",
    "    def no_of_days(self):\n",
    "        \"\"\" Number of days in the provided price series. \"\"\"\n",
    "        return int(len(self.step_dates_list) / len(self.daily_prediction_hours))  # step dates list has multiple entries for multiple prediction hours \n",
    "    \n",
    "    @property\n",
    "    def daily_prediction_hours(self):\n",
    "        if self._daily_prediction_hours is None:\n",
    "            self._daily_prediction_hours = {predictor.daily_prediction_hour for predictor in self.predictor_instances}  # at every distinct prediction hour (sets correct for duplicates)\n",
    "        return self._daily_prediction_hours\n",
    "            \n",
    "    @property\n",
    "    def step_dates_list(self):\n",
    "        \"\"\" Dates for each day in the price series at each distinct prediction hour. \"\"\"\n",
    "        if self._step_dates_list is None:\n",
    "            grouped = self.price_series.groupby(by=[self.price_series.index.year, self.price_series.index.month, self.price_series.index.day]).min()\n",
    "            # multiple entries for each distinct prediction hour:\n",
    "            self._step_dates_list = [f\"{year}-{month}-{day}\" for (year, month, day), pred_hour in product(grouped.index, self.daily_prediction_hours)]\n",
    "        return self._step_dates_list\n",
    "    \n",
    "    @property\n",
    "    def current_price(self):\n",
    "        \"\"\" Close price at the current step's time. \"\"\"\n",
    "        return self.price_series[self.current_step_date_with_time].item()\n",
    "        \n",
    "    @property\n",
    "    def current_prediction_hour(self):\n",
    "        return list(self.daily_prediction_hours)[(self.current_step % len(self.daily_prediction_hours))]\n",
    "    \n",
    "    @property\n",
    "    def current_step_date(self):\n",
    "        return self.step_dates_list[self.current_step]\n",
    "    \n",
    "    @property\n",
    "    def current_step_date_with_time(self) -> pd.Timestamp:\n",
    "        \"\"\" Return timestamp of current step's datetime. \"\"\"\n",
    "        try:\n",
    "            return self.price_series[f\"{self.current_step_date} {f'0{self.current_prediction_hour}' if self.current_prediction_hour < 10 else self.current_prediction_hour}\"].iloc[0:1].index.item()\n",
    "        except KeyError:  # recursion with next step if IndexError (because then no data present for that prediction hour or day)\n",
    "            self.current_step += 1\n",
    "            return self.current_step_date_with_time\n",
    "        \n",
    "    @property\n",
    "    def current_step_int_index(self) -> int:\n",
    "        return np.argwhere(self.price_series[:self.current_step_date_with_time])[-1].item()  # last index = index of current_step_date_with_time\n",
    "\n",
    "    @property\n",
    "    def current_balance(self):\n",
    "        \"\"\" Current balance equals cash plus current shares times current price. \"\"\"\n",
    "        return self.cash + (self.shares * self.current_price)"
   ],
   "id": "2c79203da32b31c1",
   "outputs": [],
   "execution_count": 21
  },
  {
   "metadata": {
    "ExecuteTime": {
     "end_time": "2025-06-02T21:55:49.175437Z",
     "start_time": "2025-06-02T21:55:49.044726Z"
    }
   },
   "cell_type": "code",
   "source": [
    "self = RLTradingEnv(ENV_PRICE_FILE,\n",
    "                    price_sampling_rate_minutes=15,\n",
    "                    predictor_instances=(b1_predictor, b3_predictor, c1_predictor))"
   ],
   "id": "9c8ce01a6998bd60",
   "outputs": [],
   "execution_count": 22
  },
  {
   "metadata": {
    "ExecuteTime": {
     "end_time": "2025-06-02T21:55:49.482216Z",
     "start_time": "2025-06-02T21:55:49.446646Z"
    }
   },
   "cell_type": "code",
   "source": "self.current_step_int_index",
   "id": "6107c05368ef231d",
   "outputs": [
    {
     "data": {
      "text/plain": [
       "16"
      ]
     },
     "execution_count": 23,
     "metadata": {},
     "output_type": "execute_result"
    }
   ],
   "execution_count": 23
  },
  {
   "metadata": {},
   "cell_type": "code",
   "outputs": [],
   "execution_count": null,
   "source": "self.step = 510",
   "id": "c6bd9460fa76731e"
  },
  {
   "metadata": {
    "ExecuteTime": {
     "end_time": "2025-06-02T21:58:23.375893Z",
     "start_time": "2025-06-02T21:58:23.128869Z"
    }
   },
   "cell_type": "code",
   "source": [
    "predictor = self.predictor_instances[0]\n",
    "input = self.get_current_predictor_input(predictor.rolling_window_size, sampling_rate_minutes=predictor.sampling_rate_minutes, predict_before_daily_prediction_hour=predictor.predict_before_daily_prediction_hour)\n",
    "\n",
    "prices, dates, tendency = predictor.predict(input, return_tendency=True)"
   ],
   "id": "5f90541bd1368e42",
   "outputs": [
    {
     "name": "stdout",
     "output_type": "stream",
     "text": [
      "Prices are expected to go UP!\n"
     ]
    },
    {
     "data": {
      "text/plain": [
       "<Figure size 1200x600 with 1 Axes>"
      ],
      "image/png": "[encoded data removed]"
     },
     "metadata": {},
     "output_type": "display_data"
    }
   ],
   "execution_count": 41
  },
  {
   "metadata": {
    "ExecuteTime": {
     "end_time": "2025-06-02T21:58:28.434722Z",
     "start_time": "2025-06-02T21:58:28.431630Z"
    }
   },
   "cell_type": "code",
   "source": "tendency",
   "id": "faa37e9e0ab28460",
   "outputs": [
    {
     "data": {
      "text/plain": [
       "'up'"
      ]
     },
     "execution_count": 42,
     "metadata": {},
     "output_type": "execute_result"
    }
   ],
   "execution_count": 42
  }
 ],
 "metadata": {
  "kernelspec": {
   "display_name": "Python 3",
   "language": "python",
   "name": "python3"
  },
  "language_info": {
   "codemirror_mode": {
    "name": "ipython",
    "version": 2
   },
   "file_extension": ".py",
   "mimetype": "text/x-python",
   "name": "python",
   "nbconvert_exporter": "python",
   "pygments_lexer": "ipython2",
   "version": "2.7.6"
  }
 },
 "nbformat": 4,
 "nbformat_minor": 5
}
