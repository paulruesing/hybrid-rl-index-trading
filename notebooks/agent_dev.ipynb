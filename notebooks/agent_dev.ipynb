{
 "cells": [
  {
   "metadata": {},
   "cell_type": "markdown",
   "source": [
    "# Trading Agent Development\n",
    "Inspiration:\n",
    "- https://www.backtrader.com/blog/posts/2015-08-16-backtesting-with-almost-no-programming/backtesting-with-almost-no-programming/ (Backtrader Platform würde einige Funktionen bereitstellen)\n",
    "- https://github.com/tmorgan4/btgym_Kismuz?tab=readme-ov-file\n",
    "- "
   ],
   "id": "3a61fa017a74b412"
  },
  {
   "cell_type": "code",
   "id": "initial_id",
   "metadata": {
    "collapsed": true,
    "ExecuteTime": {
     "end_time": "2025-06-24T10:13:21.881342Z",
     "start_time": "2025-06-24T10:13:21.861880Z"
    }
   },
   "source": [
    "import src.utils.file_management as filemgmt\n",
    "import src.pipeline.preprocessing as preprocessing\n",
    "import src.pipeline.predictors as predictors\n",
    "from src.pipeline.predictors import LSTMPredictor\n",
    "from src.pipeline.rl_environments import RLTradingEnv\n",
    "from src.pipeline.rl_agents import MultiProductAgent \n",
    "from src.pipeline.financial_products import KOCertificate, KOCertificateSet\n",
    "\n",
    "from itertools import product\n",
    "import gym\n",
    "from gym import spaces\n",
    "from typing import Union, Literal\n",
    "import numpy as np\n",
    "import pandas as pd\n",
    "import random\n",
    "import enum\n",
    "\n",
    "from pathlib import Path\n",
    "\n",
    "from tqdm import tqdm\n",
    "from alpha_vantage.timeseries import TimeSeries\n",
    "\n",
    "import torch\n",
    "import torch.nn as nn\n",
    "import torch.nn.functional as F\n",
    "import torch.optim as optim\n",
    "from torch.utils.data import Dataset, DataLoader\n",
    "from matplotlib.lines import Line2D\n",
    "\n",
    "import matplotlib.pyplot as plt"
   ],
   "outputs": [],
   "execution_count": 16
  },
  {
   "metadata": {},
   "cell_type": "markdown",
   "source": "## Initialisation",
   "id": "202dcdd118543d40"
  },
  {
   "metadata": {
    "ExecuteTime": {
     "end_time": "2025-06-24T09:56:09.026345Z",
     "start_time": "2025-06-24T09:56:08.978526Z"
    }
   },
   "cell_type": "code",
   "source": [
    "#matplotlib backend:\n",
    "try:\n",
    "    %matplotlib macosx\n",
    "except BaseException:\n",
    "    %matplotlib macosx\n",
    "    # sometimes takes two tries...\n",
    "    \n",
    "# opens in separate window\n",
    "\n",
    "#%matplotlib notebook\n",
    "# opens in notebook"
   ],
   "id": "93a9bfe2e258289c",
   "outputs": [],
   "execution_count": 2
  },
  {
   "metadata": {
    "ExecuteTime": {
     "end_time": "2025-06-24T09:56:09.285378Z",
     "start_time": "2025-06-24T09:56:09.282766Z"
    }
   },
   "cell_type": "code",
   "source": [
    "ROOT = Path().resolve().parent\n",
    "\n",
    "DATA = ROOT / \"data\"\n",
    "INTERPOLATED_PRICES = DATA / \"interpolated_prices\"\n",
    "#INTERPOLATED_SMOOTHED_PRICES = DATA / \"interpolated_smoothed_prices\"\n",
    "\n",
    "SAVED_MODELS = DATA / \"saved_models\""
   ],
   "id": "95c4724aeb1b43bf",
   "outputs": [],
   "execution_count": 3
  },
  {
   "metadata": {
    "ExecuteTime": {
     "end_time": "2025-06-24T09:56:09.732890Z",
     "start_time": "2025-06-24T09:56:09.729932Z"
    }
   },
   "cell_type": "code",
   "source": [
    "#SAVED_MA_A2_PREDICTOR = SAVED_MODELS / \"smoothed_data\" / \"predictor_a2\" / \"2025-06-24 08_15_45 LSTM Model RW32 FH16 Layers3 Size128 TrainL0.0391070676560048 ValL4.186663746833801 TrainHR0.5056179761886597 ValHR0.5342960357666016.pt\"\n",
    "SAVED_B1_PREDICTOR = SAVED_MODELS / \"predictor_b1\" / \"2025-05-22 10_03_41 LSTM Model RW68 FH14 Layers3 Size256 TrainL0.10641186928842217 ValL1.9110333621501923 TrainHR0.4860040545463562 ValHR0.5328466892242432.pt\"\n",
    "#SAVED_MA_B1_PREDICTOR = SAVED_MODELS / \"smoothed_data\" / \"predictor_b1\" / \"2025-06-24 01_24_08 LSTM Model RW64 FH14 Layers3 Size256 TrainL0.08817749086301774 ValL4.741025149822235 TrainHR0.494169682264328 ValHR0.505415141582489.pt\"\n",
    "SAVED_B3_PREDICTOR = SAVED_MODELS / \"predictor_b3\" / \"2025-05-22 11_47_10 LSTM Model RW40 FH5 Layers3 Size128 TrainL0.36055382899940014 ValL1.9578219056129456 TrainHR0.547325074672699 ValHR0.529629647731781.pt\"\n",
    "#SAVED_MA_B3_PREDICTOR = SAVED_MODELS / \"smoothed_data\" / \"predictor_b3\" / \"2025-06-24 00_51_15 LSTM Model RW40 FH5 Layers4 Size256 TrainL0.19968504621647298 ValL2.088192492723465 TrainHR0.6400325894355774 ValHR0.5714285969734192.pt\"\n",
    "SAVED_C1_PREDICTOR = SAVED_MODELS / \"predictor_c1\" / \"2025-05-22 11_27_18 LSTM Model RW24 FH3 Layers4 Size128 TrainL0.29682125337421894 ValL0.4320639967918396 TrainHR0.5574468374252319 ValHR0.5660377144813538.pt\"\n",
    "#SAVED_MA_C1_PREDICTOR = SAVED_MODELS / \"smoothed_data\" / \"predictor_c1\" / \"2025-06-23 23_27_16 LSTM Model RW24 FH3 Layers4 Size128 TrainL0.15201090183109045 ValL0.37886202335357666 TrainHR0.6189473867416382 ValHR0.49056604504585266.pt\""
   ],
   "id": "c883de70e02e9068",
   "outputs": [],
   "execution_count": 4
  },
  {
   "metadata": {
    "ExecuteTime": {
     "end_time": "2025-06-24T09:56:09.883174Z",
     "start_time": "2025-06-24T09:56:09.879830Z"
    }
   },
   "cell_type": "code",
   "source": [
    "ENV_PRICE_FILE = filemgmt.most_recent_file(INTERPOLATED_PRICES, '.csv', '15min')  #filemgmt.most_recent_file(INTERPOLATED_PRICES, '.csv', '15min')\n",
    "B1_PRICE_FILE = filemgmt.most_recent_file(INTERPOLATED_PRICES, '.csv', '60min')\n",
    "B3_PRICE_FILE = filemgmt.most_recent_file(INTERPOLATED_PRICES, '.csv', '1d')\n",
    "C1_PRICE_FILE = filemgmt.most_recent_file(INTERPOLATED_PRICES, '.csv', '7d')\n",
    "MEAN_ETF_INDEX_RATIO = 543.3079783216567  # because files are etf prices"
   ],
   "id": "3a33164351bad71b",
   "outputs": [],
   "execution_count": 5
  },
  {
   "metadata": {},
   "cell_type": "markdown",
   "source": "## Products",
   "id": "206fd94fcdccb638"
  },
  {
   "metadata": {},
   "cell_type": "code",
   "source": [
    "dax_long1 = KOCertificate(preprocessing.read_price_csv(ENV_PRICE_FILE) * MEAN_ETF_INDEX_RATIO,\n",
    "                         isin='DE000TT2CH77',\n",
    "                         date_base_price_tuple2=(\"2022-09-26 12:00:00\", 10300)\n",
    "                         # historic_date_future_price_tuple=(\"2022-09-26\", 6.49),\n",
    "                        )\n",
    "dax_long1.plot()\n",
    "dax_long1"
   ],
   "id": "6856e5aba248f8a7",
   "outputs": [],
   "execution_count": null
  },
  {
   "metadata": {},
   "cell_type": "code",
   "source": [
    "dax_long1 = KOCertificate(preprocessing.read_price_csv(ENV_PRICE_FILE) * MEAN_ETF_INDEX_RATIO,\n",
    "                         isin='DE000TT2CH77',\n",
    "                         date_base_price_tuple2=(\"2022-09-26 12:00:00\", 10300)\n",
    "                         # historic_date_future_price_tuple=(\"2022-09-26\", 6.49),\n",
    "                        )\n",
    "dax_long1.plot()\n",
    "dax_long1"
   ],
   "id": "19017d50781072c6",
   "outputs": [],
   "execution_count": null
  },
  {
   "metadata": {},
   "cell_type": "code",
   "source": [
    "dax_long2 = KOCertificate(preprocessing.read_price_csv(ENV_PRICE_FILE) * MEAN_ETF_INDEX_RATIO,\n",
    "                         isin='DE000HS3U0K3',\n",
    "                          direction='long',\n",
    "                        )\n",
    "dax_long2"
   ],
   "id": "83bf1aa3e90a9e61",
   "outputs": [],
   "execution_count": null
  },
  {
   "metadata": {},
   "cell_type": "code",
   "source": [
    "dax_short1 = KOCertificate(preprocessing.read_price_csv(ENV_PRICE_FILE) * MEAN_ETF_INDEX_RATIO,\n",
    "                         isin='DE000HT2PK31',\n",
    "                         #historic_date_future_price_tuple=(\"2024-01-08\", 1.31),\n",
    "                        )\n",
    "dax_short1.plot()\n",
    "dax_short1"
   ],
   "id": "12da0e5947ba9759",
   "outputs": [],
   "execution_count": null
  },
  {
   "metadata": {},
   "cell_type": "code",
   "source": [
    "dax_short2 = KOCertificate(preprocessing.read_price_csv(ENV_PRICE_FILE) * MEAN_ETF_INDEX_RATIO,\n",
    "                         isin='DE000HT2LDF5',\n",
    "                        )\n",
    "dax_short2"
   ],
   "id": "c142abb7399a4211",
   "outputs": [],
   "execution_count": null
  },
  {
   "metadata": {},
   "cell_type": "markdown",
   "source": "### Portfolio",
   "id": "de6cdbe804829e82"
  },
  {
   "metadata": {
    "ExecuteTime": {
     "end_time": "2025-06-24T09:56:18.995871Z",
     "start_time": "2025-06-24T09:56:16.740878Z"
    }
   },
   "cell_type": "code",
   "source": [
    "portfolio = KOCertificateSet(\n",
    "    underlying_price_series=preprocessing.read_price_csv(ENV_PRICE_FILE) * MEAN_ETF_INDEX_RATIO,\n",
    "    base_price_inference_timestamps=[\"2020-07-06 10:00:00\", \"2022-07-05 10:00:00\", \"2024-01-05 10:00:00\"], # \"2023-07-05 10:00:00\", \"2024-07-05 10:00:00\", \"2025-03-05 10:00:00\"],\n",
    "    n_products_per_direction=15,\n",
    "    lowest_leverage=1.0, highest_leverage=10.0)\n"
   ],
   "id": "49ae8bb88b9ae8e5",
   "outputs": [
    {
     "name": "stderr",
     "output_type": "stream",
     "text": [
      "30it [00:00, 62.49it/s]\n",
      "30it [00:00, 64.72it/s]\n",
      "30it [00:00, 53.41it/s]\n"
     ]
    }
   ],
   "execution_count": 6
  },
  {
   "metadata": {
    "ExecuteTime": {
     "end_time": "2025-06-24T09:42:56.983915Z",
     "start_time": "2025-06-24T09:42:54.731058Z"
    }
   },
   "cell_type": "code",
   "source": [
    "portfolio.future_product_instances += portfolio.initialise_products_from_leverage(underlying_price_series=preprocessing.read_price_csv(ENV_PRICE_FILE) * MEAN_ETF_INDEX_RATIO,\n",
    "    base_price_inference_timestamps=[\"2017-12-08 10:00:00\", \"2018-07-05 10:00:00\"],\n",
    "    n_products_per_direction=15, issue_date=\"2017-01-01 10:00:00\",\n",
    "    lowest_leverage=1.0, highest_leverage=10.0)"
   ],
   "id": "fa02bde923d2c5e6",
   "outputs": [
    {
     "name": "stderr",
     "output_type": "stream",
     "text": [
      "30it [00:00, 32.88it/s]\n",
      "30it [00:00, 35.12it/s]\n"
     ]
    }
   ],
   "execution_count": 103
  },
  {
   "metadata": {
    "ExecuteTime": {
     "end_time": "2025-06-24T09:43:00.660856Z",
     "start_time": "2025-06-24T09:42:57.017306Z"
    }
   },
   "cell_type": "code",
   "source": [
    "portfolio.future_product_instances += portfolio.initialise_products_from_leverage(underlying_price_series=preprocessing.read_price_csv(ENV_PRICE_FILE) * MEAN_ETF_INDEX_RATIO,\n",
    "    base_price_inference_timestamps=[\"2021-07-06 10:00:00\", \"2023-07-05 10:00:00\", \"2024-07-05 10:00:00\", \"2025-03-05 10:00:00\"],\n",
    "    n_products_per_direction=15, issue_date=\"2020-06-01 10:00:00\",\n",
    "    lowest_leverage=1.0, highest_leverage=10.0)"
   ],
   "id": "83b8c54933868b8",
   "outputs": [
    {
     "name": "stderr",
     "output_type": "stream",
     "text": [
      "30it [00:00, 49.30it/s]\n",
      "30it [00:00, 51.77it/s]\n",
      "30it [00:00, 43.75it/s]\n",
      "30it [00:00, 40.92it/s]\n"
     ]
    }
   ],
   "execution_count": 104
  },
  {
   "metadata": {
    "ExecuteTime": {
     "end_time": "2025-06-24T09:43:02.923969Z",
     "start_time": "2025-06-24T09:43:00.686947Z"
    }
   },
   "cell_type": "code",
   "source": [
    "portfolio.future_product_instances += portfolio.initialise_products_from_leverage(underlying_price_series=preprocessing.read_price_csv(ENV_PRICE_FILE) * MEAN_ETF_INDEX_RATIO,\n",
    "    base_price_inference_timestamps=[\"2023-05-05 10:00:00\", \"2024-07-05 10:00:00\", \"2025-03-05 10:00:00\"],\n",
    "    n_products_per_direction=15, issue_date=\"2022-12-01 10:00:00\",\n",
    "    lowest_leverage=1.0, highest_leverage=10.0)"
   ],
   "id": "d152af4b9c5d4800",
   "outputs": [
    {
     "name": "stderr",
     "output_type": "stream",
     "text": [
      "30it [00:00, 85.13it/s]\n",
      "30it [00:00, 73.84it/s]\n",
      "30it [00:00, 60.89it/s]\n"
     ]
    }
   ],
   "execution_count": 105
  },
  {
   "metadata": {
    "ExecuteTime": {
     "end_time": "2025-06-24T09:43:04.258849Z",
     "start_time": "2025-06-24T09:43:02.952020Z"
    }
   },
   "cell_type": "code",
   "source": [
    "portfolio.future_product_instances += portfolio.initialise_products_from_leverage(underlying_price_series=preprocessing.read_price_csv(ENV_PRICE_FILE) * MEAN_ETF_INDEX_RATIO,\n",
    "    base_price_inference_timestamps=[\"2025-03-05 10:00:00\"],\n",
    "    n_products_per_direction=15, issue_date=\"2024-03-03 10:00:00\",\n",
    "    lowest_leverage=1.0, highest_leverage=10.0)"
   ],
   "id": "aeae98257004f3f",
   "outputs": [
    {
     "name": "stderr",
     "output_type": "stream",
     "text": [
      "30it [00:00, 83.29it/s]\n"
     ]
    }
   ],
   "execution_count": 106
  },
  {
   "metadata": {
    "ExecuteTime": {
     "end_time": "2025-06-24T09:43:05.795253Z",
     "start_time": "2025-06-24T09:43:04.289687Z"
    }
   },
   "cell_type": "code",
   "source": [
    "portfolio.future_product_instances += portfolio.initialise_products_from_leverage(underlying_price_series=preprocessing.read_price_csv(ENV_PRICE_FILE) * MEAN_ETF_INDEX_RATIO,\n",
    "    base_price_inference_timestamps=[\"2025-03-07 12:00:00\"],\n",
    "    n_products_per_direction=15, issue_date=\"2024-03-03 10:00:00\",\n",
    "    lowest_leverage=1.0, highest_leverage=10.0)"
   ],
   "id": "ba805e912c5a11ea",
   "outputs": [
    {
     "name": "stderr",
     "output_type": "stream",
     "text": [
      "30it [00:00, 87.57it/s]\n"
     ]
    }
   ],
   "execution_count": 107
  },
  {
   "metadata": {
    "ExecuteTime": {
     "end_time": "2025-06-23T10:36:21.581103Z",
     "start_time": "2025-06-23T10:36:15.337660Z"
    }
   },
   "cell_type": "code",
   "source": "portfolio.plot_leverages()",
   "id": "851fd35b28c1363c",
   "outputs": [],
   "execution_count": 48
  },
  {
   "metadata": {
    "ExecuteTime": {
     "end_time": "2025-06-24T09:56:22.612893Z",
     "start_time": "2025-06-24T09:56:22.501038Z"
    }
   },
   "cell_type": "code",
   "source": "{product.isin: product.base_price_change_per_annum for product in portfolio.future_product_instances}",
   "id": "caa50c4d403f64b1",
   "outputs": [
    {
     "data": {
      "text/plain": [
       "{'ARTIFLO0000': 0.02,\n",
       " 'ARTIFLO0001': 0.02,\n",
       " 'ARTIFLO0002': 0.02,\n",
       " 'ARTIFLO0003': 0.02,\n",
       " 'ARTIFLO0004': 0.02,\n",
       " 'ARTIFLO0005': 0.02,\n",
       " 'ARTIFLO0006': 0.02,\n",
       " 'ARTIFLO0007': 0.02,\n",
       " 'ARTIFLO0008': 0.02,\n",
       " 'ARTIFLO0009': 0.02,\n",
       " 'ARTIFLO0010': 0.02,\n",
       " 'ARTIFLO0011': 0.02,\n",
       " 'ARTIFLO0012': 0.02,\n",
       " 'ARTIFLO0013': 0.02,\n",
       " 'ARTIFLO0014': 0.02,\n",
       " 'ARTIFSH0015': -0.02,\n",
       " 'ARTIFSH0016': -0.02,\n",
       " 'ARTIFSH0017': -0.02,\n",
       " 'ARTIFSH0018': -0.02,\n",
       " 'ARTIFSH0019': -0.02,\n",
       " 'ARTIFSH0020': -0.02,\n",
       " 'ARTIFSH0021': -0.02,\n",
       " 'ARTIFSH0022': -0.02,\n",
       " 'ARTIFSH0023': -0.02,\n",
       " 'ARTIFSH0024': -0.02,\n",
       " 'ARTIFSH0025': -0.02,\n",
       " 'ARTIFSH0026': -0.02,\n",
       " 'ARTIFSH0027': -0.02,\n",
       " 'ARTIFSH0028': -0.02,\n",
       " 'ARTIFSH0029': -0.02,\n",
       " 'ARTIFLO0030': 0.02,\n",
       " 'ARTIFLO0031': 0.02,\n",
       " 'ARTIFLO0032': 0.02,\n",
       " 'ARTIFLO0033': 0.02,\n",
       " 'ARTIFLO0034': 0.02,\n",
       " 'ARTIFLO0035': 0.02,\n",
       " 'ARTIFLO0036': 0.02,\n",
       " 'ARTIFLO0037': 0.02,\n",
       " 'ARTIFLO0038': 0.02,\n",
       " 'ARTIFLO0039': 0.02,\n",
       " 'ARTIFLO0040': 0.02,\n",
       " 'ARTIFLO0041': 0.02,\n",
       " 'ARTIFLO0042': 0.02,\n",
       " 'ARTIFLO0043': 0.02,\n",
       " 'ARTIFLO0044': 0.02,\n",
       " 'ARTIFSH0045': -0.02,\n",
       " 'ARTIFSH0046': -0.02,\n",
       " 'ARTIFSH0047': -0.02,\n",
       " 'ARTIFSH0048': -0.02,\n",
       " 'ARTIFSH0049': -0.02,\n",
       " 'ARTIFSH0050': -0.02,\n",
       " 'ARTIFSH0051': -0.02,\n",
       " 'ARTIFSH0052': -0.02,\n",
       " 'ARTIFSH0053': -0.02,\n",
       " 'ARTIFSH0054': -0.02,\n",
       " 'ARTIFSH0055': -0.02,\n",
       " 'ARTIFSH0056': -0.02,\n",
       " 'ARTIFSH0057': -0.02,\n",
       " 'ARTIFSH0058': -0.02,\n",
       " 'ARTIFSH0059': -0.02,\n",
       " 'ARTIFLO0060': 0.02,\n",
       " 'ARTIFLO0061': 0.02,\n",
       " 'ARTIFLO0062': 0.02,\n",
       " 'ARTIFLO0063': 0.02,\n",
       " 'ARTIFLO0064': 0.02,\n",
       " 'ARTIFLO0065': 0.02,\n",
       " 'ARTIFLO0066': 0.02,\n",
       " 'ARTIFLO0067': 0.02,\n",
       " 'ARTIFLO0068': 0.03846153846153855,\n",
       " 'ARTIFLO0069': 0.03846153846153855,\n",
       " 'ARTIFLO0070': 0.03846153846153855,\n",
       " 'ARTIFLO0071': 0.03846153846153855,\n",
       " 'ARTIFLO0072': 0.03846153846153855,\n",
       " 'ARTIFLO0073': 0.03846153846153855,\n",
       " 'ARTIFLO0074': 0.03846153846153855,\n",
       " 'ARTIFSH0075': -0.02,\n",
       " 'ARTIFSH0076': -0.02,\n",
       " 'ARTIFSH0077': -0.02,\n",
       " 'ARTIFSH0078': -0.02,\n",
       " 'ARTIFSH0079': -0.02,\n",
       " 'ARTIFSH0080': -0.02,\n",
       " 'ARTIFSH0081': -0.02,\n",
       " 'ARTIFSH0082': -0.02,\n",
       " 'ARTIFSH0083': -0.02,\n",
       " 'ARTIFSH0084': -0.02,\n",
       " 'ARTIFSH0085': -0.02,\n",
       " 'ARTIFSH0086': -0.02,\n",
       " 'ARTIFSH0087': -0.02,\n",
       " 'ARTIFSH0088': -0.02,\n",
       " 'ARTIFSH0089': -0.02}"
      ]
     },
     "execution_count": 7,
     "metadata": {},
     "output_type": "execute_result"
    }
   ],
   "execution_count": 7
  },
  {
   "metadata": {
    "ExecuteTime": {
     "end_time": "2025-06-24T09:42:46.714224Z",
     "start_time": "2025-06-24T09:42:42.053183Z"
    }
   },
   "cell_type": "code",
   "source": "avail_frame = portfolio.get_leverage_availability(\"long\", hour_minute_to_check=(20, 0))",
   "id": "ffb09083e85b3d9e",
   "outputs": [
    {
     "name": "stdout",
     "output_type": "stream",
     "text": [
      "Availability of leverage >1.0: 99.85559566787003 %\n",
      "Availability of leverage >2.0: 91.6606498194946 %\n",
      "Availability of leverage >3.0: 49.96389891696751 %\n",
      "Availability of leverage >4.0: 32.34657039711191 %\n"
     ]
    }
   ],
   "execution_count": 102
  },
  {
   "metadata": {
    "ExecuteTime": {
     "end_time": "2025-06-24T09:43:13.664638Z",
     "start_time": "2025-06-24T09:43:05.844959Z"
    }
   },
   "cell_type": "code",
   "source": "avail_frame = portfolio.get_leverage_availability(\"short\", hour_minute_to_check=(20, 0))",
   "id": "1e58740aff20630f",
   "outputs": [
    {
     "name": "stdout",
     "output_type": "stream",
     "text": [
      "Availability of leverage >1.0: 100.0 %\n",
      "Availability of leverage >2.0: 97.14801444043322 %\n",
      "Availability of leverage >3.0: 81.44404332129965 %\n",
      "Availability of leverage >4.0: 67.25631768953069 %\n"
     ]
    }
   ],
   "execution_count": 108
  },
  {
   "metadata": {},
   "cell_type": "markdown",
   "source": "## Predictors",
   "id": "99632bb8fee3f270"
  },
  {
   "metadata": {
    "ExecuteTime": {
     "end_time": "2025-06-24T09:43:19.217580Z",
     "start_time": "2025-06-24T09:43:19.195468Z"
    }
   },
   "cell_type": "code",
   "source": [
    "'''a2_predictor = LSTMPredictor(model_load_file_path=SAVED_A2_PREDICTOR,  # based on this, the predictor infers the model's properties\n",
    "                             price_csv_path=B1_PRICE_FILE,\n",
    "                             daily_prediction_hour=16,  # these are necessary data properties which still need to be set\n",
    "                             predict_before_daily_prediction_hour=False,\n",
    "                             rolling_window_size=32,  # 8 hours behind\n",
    "                             forecast_horizon=16,  # 4 hours ahead\n",
    "                             sampling_rate_minutes=15)  # quarter\n",
    "a2_predictor'''"
   ],
   "id": "3a5555495c82b870",
   "outputs": [
    {
     "ename": "NameError",
     "evalue": "name 'SAVED_A2_PREDICTOR' is not defined",
     "output_type": "error",
     "traceback": [
      "\u001B[31m---------------------------------------------------------------------------\u001B[39m",
      "\u001B[31mNameError\u001B[39m                                 Traceback (most recent call last)",
      "\u001B[36mCell\u001B[39m\u001B[36m \u001B[39m\u001B[32mIn[109]\u001B[39m\u001B[32m, line 1\u001B[39m\n\u001B[32m----> \u001B[39m\u001B[32m1\u001B[39m a2_predictor = LSTMPredictor(model_load_file_path=\u001B[43mSAVED_A2_PREDICTOR\u001B[49m,  \u001B[38;5;66;03m# based on this, the predictor infers the model's properties\u001B[39;00m\n\u001B[32m      2\u001B[39m                              price_csv_path=B1_PRICE_FILE,\n\u001B[32m      3\u001B[39m                              daily_prediction_hour=\u001B[32m16\u001B[39m,  \u001B[38;5;66;03m# these are necessary data properties which still need to be set\u001B[39;00m\n\u001B[32m      4\u001B[39m                              predict_before_daily_prediction_hour=\u001B[38;5;28;01mFalse\u001B[39;00m,\n\u001B[32m      5\u001B[39m                              rolling_window_size=\u001B[32m32\u001B[39m,  \u001B[38;5;66;03m# 8 hours behind\u001B[39;00m\n\u001B[32m      6\u001B[39m                              forecast_horizon=\u001B[32m16\u001B[39m,  \u001B[38;5;66;03m# 4 hours ahead\u001B[39;00m\n\u001B[32m      7\u001B[39m                              sampling_rate_minutes=\u001B[32m15\u001B[39m)  \u001B[38;5;66;03m# quarter\u001B[39;00m\n\u001B[32m      8\u001B[39m a2_predictor\n",
      "\u001B[31mNameError\u001B[39m: name 'SAVED_A2_PREDICTOR' is not defined"
     ]
    }
   ],
   "execution_count": 109
  },
  {
   "metadata": {
    "ExecuteTime": {
     "end_time": "2025-06-24T10:00:05.766416Z",
     "start_time": "2025-06-24T10:00:03.728641Z"
    }
   },
   "cell_type": "code",
   "source": [
    "b1_predictor = LSTMPredictor(model_load_file_path=SAVED_B1_PREDICTOR,  # based on this, the predictor infers the model's properties\n",
    "                             price_csv_path=B1_PRICE_FILE,\n",
    "                             daily_prediction_hour=16,  # these are necessary data properties which still need to be set\n",
    "                             predict_before_daily_prediction_hour=True,\n",
    "                             rolling_window_size=14*4+8,  # 1 week hindsight (4 days a 14 hours and 1 a 8 hours until 16.00)\n",
    "                             forecast_horizon=14,  # 1 day a 14 hours ahead\n",
    "                             sampling_rate_minutes=60)  # hourly\n",
    "b1_predictor"
   ],
   "id": "75807374138ffa1",
   "outputs": [
    {
     "name": "stdout",
     "output_type": "stream",
     "text": [
      "No training epochs defined upon initialisation. Define LSTMPredictor.n_train_epochs to start training procedure.\n",
      "Created rolling window view based on rolling_window_size of 64 and forecast_horizon of 14 with a time unit of 60 minutes.\n",
      "Target values start at only observation between 16:00 and 17:00 daily.\n",
      "Resulting dataset consists of 2764 observations.\n",
      "Using last 20.0% of data for validation. Other data for training.\n",
      "This yields 2211 training and 553 validation observations.\n"
     ]
    },
    {
     "data": {
      "text/plain": [
       "------------------- LSTMPredictor Instance -------------------\n",
       "\n",
       "Data Attributes:\n",
       "- sampling rate: 60 min (= 1.0 h = 0.07142857142857142 d)\n",
       "- rolling window size: 64\n",
       "- forecast horizon: 14\n",
       "- daily prediction hour: 16:00\n",
       "- predicting at last observation before prediction hour: True\n",
       "- validation split: 0.2\n",
       "- amount of training observations: 2211\n",
       "- amount of validation observations: 553\n",
       "\n",
       "Model Attributes:\n",
       "- hidden LSTM layers: 256\n",
       "- number of LSTM layers: 3\n",
       "- pre LSTM fully connected layer: False\n",
       "\n",
       "Model wasn't trained yet (or was imported)."
      ]
     },
     "execution_count": 10,
     "metadata": {},
     "output_type": "execute_result"
    }
   ],
   "execution_count": 10
  },
  {
   "metadata": {
    "ExecuteTime": {
     "end_time": "2025-06-24T10:00:07.310729Z",
     "start_time": "2025-06-24T10:00:07.294184Z"
    }
   },
   "cell_type": "code",
   "source": [
    "b3_predictor = LSTMPredictor(model_load_file_path=SAVED_B3_PREDICTOR,  # based on this, the predictor infers the model's properties\n",
    "                             price_csv_path=B3_PRICE_FILE,\n",
    "                             daily_prediction_hour=16,  # these are necessary data properties which still need to be set\n",
    "                             rolling_window_size=2*4*5,  # 2 months a 4 weeks a 5 days hindsight\n",
    "                             forecast_horizon=5,  # 1 week a 5 days ahead\n",
    "                             sampling_rate_minutes=60*14,  # one day from 8 to 22\n",
    "                             )\n",
    "b3_predictor"
   ],
   "id": "4fd9bbdbce96b598",
   "outputs": [
    {
     "name": "stdout",
     "output_type": "stream",
     "text": [
      "No training epochs defined upon initialisation. Define LSTMPredictor.n_train_epochs to start training procedure.\n",
      "Created rolling window view based on rolling_window_size of 40 and forecast_horizon of 5 with a time unit of 840 minutes.\n",
      "Target values start at only observation between 16:00 and 17:00 daily.\n",
      "Resulting dataset consists of 2726 observations.\n",
      "Using last 20.0% of data for validation. Other data for training.\n",
      "This yields 2180 training and 546 validation observations.\n"
     ]
    },
    {
     "data": {
      "text/plain": [
       "------------------- LSTMPredictor Instance -------------------\n",
       "\n",
       "Data Attributes:\n",
       "- sampling rate: 840 min (= 14.0 h = 1.0 d)\n",
       "- rolling window size: 40\n",
       "- forecast horizon: 5\n",
       "- daily prediction hour: 16:00\n",
       "- predicting at last observation before prediction hour: False\n",
       "- validation split: 0.2\n",
       "- amount of training observations: 2180\n",
       "- amount of validation observations: 546\n",
       "\n",
       "Model Attributes:\n",
       "- hidden LSTM layers: 128\n",
       "- number of LSTM layers: 3\n",
       "- pre LSTM fully connected layer: False\n",
       "\n",
       "Model wasn't trained yet (or was imported)."
      ]
     },
     "execution_count": 11,
     "metadata": {},
     "output_type": "execute_result"
    }
   ],
   "execution_count": 11
  },
  {
   "metadata": {
    "ExecuteTime": {
     "end_time": "2025-06-24T10:00:11.807181Z",
     "start_time": "2025-06-24T10:00:07.646025Z"
    }
   },
   "cell_type": "code",
   "source": "b1_predictor.plot_prediction_overview()",
   "id": "30060c33ad0eaaa1",
   "outputs": [
    {
     "name": "stdout",
     "output_type": "stream",
     "text": [
      "Using CPU\n"
     ]
    },
    {
     "name": "stderr",
     "output_type": "stream",
     "text": [
      " 40%|████      | 222/553 [00:03<00:05, 62.07it/s]\n"
     ]
    },
    {
     "ename": "KeyboardInterrupt",
     "evalue": "",
     "output_type": "error",
     "traceback": [
      "\u001B[31m---------------------------------------------------------------------------\u001B[39m",
      "\u001B[31mKeyboardInterrupt\u001B[39m                         Traceback (most recent call last)",
      "\u001B[36mCell\u001B[39m\u001B[36m \u001B[39m\u001B[32mIn[12]\u001B[39m\u001B[32m, line 1\u001B[39m\n\u001B[32m----> \u001B[39m\u001B[32m1\u001B[39m \u001B[43mb1_predictor\u001B[49m\u001B[43m.\u001B[49m\u001B[43mplot_prediction_overview\u001B[49m\u001B[43m(\u001B[49m\u001B[43m)\u001B[49m\n",
      "\u001B[36mFile \u001B[39m\u001B[32m~/Library/Mobile Documents/com~apple~CloudDocs/PR iCloud/Work/Personal/Programming/Github Repos/hybrid-rl-index-trading/src/pipeline/predictors.py:948\u001B[39m, in \u001B[36mLSTMPredictor.plot_prediction_overview\u001B[39m\u001B[34m(self, data_split, day_slice, X_color, Y_color, pred_color, plot_size)\u001B[39m\n\u001B[32m    945\u001B[39m predictions_per_day = \u001B[32m1\u001B[39m\n\u001B[32m    947\u001B[39m \u001B[38;5;66;03m# select training or validation data:\u001B[39;00m\n\u001B[32m--> \u001B[39m\u001B[32m948\u001B[39m predictions = \u001B[38;5;28mself\u001B[39m.predictions_train \u001B[38;5;28;01mif\u001B[39;00m data_split == \u001B[33m'\u001B[39m\u001B[33mtraining\u001B[39m\u001B[33m'\u001B[39m \u001B[38;5;28;01melse\u001B[39;00m \u001B[38;5;28;43mself\u001B[39;49m\u001B[43m.\u001B[49m\u001B[43mpredictions_val\u001B[49m\n\u001B[32m    949\u001B[39m X_dates = \u001B[38;5;28mself\u001B[39m.X_dates_train \u001B[38;5;28;01mif\u001B[39;00m data_split == \u001B[33m'\u001B[39m\u001B[33mtraining\u001B[39m\u001B[33m'\u001B[39m \u001B[38;5;28;01melse\u001B[39;00m \u001B[38;5;28mself\u001B[39m.X_dates_val\n\u001B[32m    950\u001B[39m X = \u001B[38;5;28mself\u001B[39m.X_train \u001B[38;5;28;01mif\u001B[39;00m data_split == \u001B[33m'\u001B[39m\u001B[33mtraining\u001B[39m\u001B[33m'\u001B[39m \u001B[38;5;28;01melse\u001B[39;00m \u001B[38;5;28mself\u001B[39m.X_val\n",
      "\u001B[36mFile \u001B[39m\u001B[32m~/Library/Mobile Documents/com~apple~CloudDocs/PR iCloud/Work/Personal/Programming/Github Repos/hybrid-rl-index-trading/src/pipeline/predictors.py:759\u001B[39m, in \u001B[36mLSTMPredictor.predictions_val\u001B[39m\u001B[34m(self)\u001B[39m\n\u001B[32m    756\u001B[39m \u001B[38;5;129m@property\u001B[39m\n\u001B[32m    757\u001B[39m \u001B[38;5;28;01mdef\u001B[39;00m\u001B[38;5;250m \u001B[39m\u001B[34mpredictions_val\u001B[39m(\u001B[38;5;28mself\u001B[39m):\n\u001B[32m    758\u001B[39m     \u001B[38;5;28;01mif\u001B[39;00m \u001B[38;5;28mself\u001B[39m._predictions_val \u001B[38;5;129;01mis\u001B[39;00m \u001B[38;5;28;01mNone\u001B[39;00m:\n\u001B[32m--> \u001B[39m\u001B[32m759\u001B[39m         \u001B[38;5;28mself\u001B[39m._predictions_val = \u001B[38;5;28;43mself\u001B[39;49m\u001B[43m.\u001B[49m\u001B[43mlstm_model\u001B[49m\u001B[43m.\u001B[49m\u001B[43mpredict\u001B[49m\u001B[43m(\u001B[49m\u001B[38;5;28;43mself\u001B[39;49m\u001B[43m.\u001B[49m\u001B[43mdataloader_val\u001B[49m\u001B[43m,\u001B[49m\u001B[43m \u001B[49m\u001B[43mdevice\u001B[49m\u001B[43m=\u001B[49m\u001B[38;5;28;43mself\u001B[39;49m\u001B[43m.\u001B[49m\u001B[43mdevice\u001B[49m\u001B[43m)\u001B[49m\n\u001B[32m    760\u001B[39m     \u001B[38;5;28;01mreturn\u001B[39;00m \u001B[38;5;28mself\u001B[39m._predictions_val\n",
      "\u001B[36mFile \u001B[39m\u001B[32m~/Library/Mobile Documents/com~apple~CloudDocs/PR iCloud/Work/Personal/Programming/Github Repos/hybrid-rl-index-trading/src/pipeline/predictors.py:217\u001B[39m, in \u001B[36mLSTMModel.predict\u001B[39m\u001B[34m(self, dataloader, device)\u001B[39m\n\u001B[32m    215\u001B[39m \u001B[38;5;28;01mfor\u001B[39;00m idx, (x, y) \u001B[38;5;129;01min\u001B[39;00m \u001B[38;5;28menumerate\u001B[39m(tqdm(temp_loader)):\n\u001B[32m    216\u001B[39m     x = x.to(device)\n\u001B[32m--> \u001B[39m\u001B[32m217\u001B[39m     out = \u001B[38;5;28;43mself\u001B[39;49m\u001B[43m(\u001B[49m\u001B[43mx\u001B[49m\u001B[43m)\u001B[49m  \u001B[38;5;66;03m# run model\u001B[39;00m\n\u001B[32m    218\u001B[39m     out = out.cpu().detach().numpy()\n\u001B[32m    219\u001B[39m     \u001B[38;5;28;01mif\u001B[39;00m idx == \u001B[32m0\u001B[39m: predictions = np.array(out); \u001B[38;5;28;01mcontinue\u001B[39;00m  \u001B[38;5;66;03m# initialise array upon first iteration\u001B[39;00m\n",
      "\u001B[36mFile \u001B[39m\u001B[32m~/miniconda3/envs/pru_dev2/envs/rl_env/lib/python3.13/site-packages/torch/nn/modules/module.py:1739\u001B[39m, in \u001B[36mModule._wrapped_call_impl\u001B[39m\u001B[34m(self, *args, **kwargs)\u001B[39m\n\u001B[32m   1737\u001B[39m     \u001B[38;5;28;01mreturn\u001B[39;00m \u001B[38;5;28mself\u001B[39m._compiled_call_impl(*args, **kwargs)  \u001B[38;5;66;03m# type: ignore[misc]\u001B[39;00m\n\u001B[32m   1738\u001B[39m \u001B[38;5;28;01melse\u001B[39;00m:\n\u001B[32m-> \u001B[39m\u001B[32m1739\u001B[39m     \u001B[38;5;28;01mreturn\u001B[39;00m \u001B[38;5;28;43mself\u001B[39;49m\u001B[43m.\u001B[49m\u001B[43m_call_impl\u001B[49m\u001B[43m(\u001B[49m\u001B[43m*\u001B[49m\u001B[43margs\u001B[49m\u001B[43m,\u001B[49m\u001B[43m \u001B[49m\u001B[43m*\u001B[49m\u001B[43m*\u001B[49m\u001B[43mkwargs\u001B[49m\u001B[43m)\u001B[49m\n",
      "\u001B[36mFile \u001B[39m\u001B[32m~/miniconda3/envs/pru_dev2/envs/rl_env/lib/python3.13/site-packages/torch/nn/modules/module.py:1750\u001B[39m, in \u001B[36mModule._call_impl\u001B[39m\u001B[34m(self, *args, **kwargs)\u001B[39m\n\u001B[32m   1745\u001B[39m \u001B[38;5;66;03m# If we don't have any hooks, we want to skip the rest of the logic in\u001B[39;00m\n\u001B[32m   1746\u001B[39m \u001B[38;5;66;03m# this function, and just call forward.\u001B[39;00m\n\u001B[32m   1747\u001B[39m \u001B[38;5;28;01mif\u001B[39;00m \u001B[38;5;129;01mnot\u001B[39;00m (\u001B[38;5;28mself\u001B[39m._backward_hooks \u001B[38;5;129;01mor\u001B[39;00m \u001B[38;5;28mself\u001B[39m._backward_pre_hooks \u001B[38;5;129;01mor\u001B[39;00m \u001B[38;5;28mself\u001B[39m._forward_hooks \u001B[38;5;129;01mor\u001B[39;00m \u001B[38;5;28mself\u001B[39m._forward_pre_hooks\n\u001B[32m   1748\u001B[39m         \u001B[38;5;129;01mor\u001B[39;00m _global_backward_pre_hooks \u001B[38;5;129;01mor\u001B[39;00m _global_backward_hooks\n\u001B[32m   1749\u001B[39m         \u001B[38;5;129;01mor\u001B[39;00m _global_forward_hooks \u001B[38;5;129;01mor\u001B[39;00m _global_forward_pre_hooks):\n\u001B[32m-> \u001B[39m\u001B[32m1750\u001B[39m     \u001B[38;5;28;01mreturn\u001B[39;00m \u001B[43mforward_call\u001B[49m\u001B[43m(\u001B[49m\u001B[43m*\u001B[49m\u001B[43margs\u001B[49m\u001B[43m,\u001B[49m\u001B[43m \u001B[49m\u001B[43m*\u001B[49m\u001B[43m*\u001B[49m\u001B[43mkwargs\u001B[49m\u001B[43m)\u001B[49m\n\u001B[32m   1752\u001B[39m result = \u001B[38;5;28;01mNone\u001B[39;00m\n\u001B[32m   1753\u001B[39m called_always_called_hooks = \u001B[38;5;28mset\u001B[39m()\n",
      "\u001B[36mFile \u001B[39m\u001B[32m~/Library/Mobile Documents/com~apple~CloudDocs/PR iCloud/Work/Personal/Programming/Github Repos/hybrid-rl-index-trading/src/pipeline/predictors.py:144\u001B[39m, in \u001B[36mLSTMModel.forward\u001B[39m\u001B[34m(self, x)\u001B[39m\n\u001B[32m    142\u001B[39m         lstm_out, (h_n, c_n) = \u001B[38;5;28mself\u001B[39m.lstm(temp_x)  \u001B[38;5;66;03m# compute first step and get hidden and cell states\u001B[39;00m\n\u001B[32m    143\u001B[39m     \u001B[38;5;28;01melse\u001B[39;00m:  \u001B[38;5;66;03m# further iterations\u001B[39;00m\n\u001B[32m--> \u001B[39m\u001B[32m144\u001B[39m         lstm_out, (h_n, c_n) = \u001B[38;5;28;43mself\u001B[39;49m\u001B[43m.\u001B[49m\u001B[43mlstm\u001B[49m\u001B[43m(\u001B[49m\u001B[43mtemp_x\u001B[49m\u001B[43m[\u001B[49m\u001B[43m:\u001B[49m\u001B[43m,\u001B[49m\u001B[43m \u001B[49m\u001B[43m-\u001B[49m\u001B[32;43m1\u001B[39;49m\u001B[43m]\u001B[49m\u001B[43m.\u001B[49m\u001B[43munsqueeze\u001B[49m\u001B[43m(\u001B[49m\u001B[32;43m1\u001B[39;49m\u001B[43m)\u001B[49m\u001B[43m,\u001B[49m\u001B[43m \u001B[49m\u001B[43m(\u001B[49m\n\u001B[32m    145\u001B[39m \u001B[43m        \u001B[49m\u001B[43mh_n\u001B[49m\u001B[43m,\u001B[49m\u001B[43m \u001B[49m\u001B[43mc_n\u001B[49m\u001B[43m)\u001B[49m\u001B[43m)\u001B[49m  \u001B[38;5;66;03m# compute new information and leverage previous hidden and cell states\u001B[39;00m\n\u001B[32m    146\u001B[39m \u001B[38;5;28;01melse\u001B[39;00m:\n\u001B[32m    147\u001B[39m     lstm_out, (h_n, c_n) = \u001B[38;5;28mself\u001B[39m.lstm(temp_x)\n",
      "\u001B[36mFile \u001B[39m\u001B[32m~/miniconda3/envs/pru_dev2/envs/rl_env/lib/python3.13/site-packages/torch/nn/modules/module.py:1739\u001B[39m, in \u001B[36mModule._wrapped_call_impl\u001B[39m\u001B[34m(self, *args, **kwargs)\u001B[39m\n\u001B[32m   1737\u001B[39m     \u001B[38;5;28;01mreturn\u001B[39;00m \u001B[38;5;28mself\u001B[39m._compiled_call_impl(*args, **kwargs)  \u001B[38;5;66;03m# type: ignore[misc]\u001B[39;00m\n\u001B[32m   1738\u001B[39m \u001B[38;5;28;01melse\u001B[39;00m:\n\u001B[32m-> \u001B[39m\u001B[32m1739\u001B[39m     \u001B[38;5;28;01mreturn\u001B[39;00m \u001B[38;5;28;43mself\u001B[39;49m\u001B[43m.\u001B[49m\u001B[43m_call_impl\u001B[49m\u001B[43m(\u001B[49m\u001B[43m*\u001B[49m\u001B[43margs\u001B[49m\u001B[43m,\u001B[49m\u001B[43m \u001B[49m\u001B[43m*\u001B[49m\u001B[43m*\u001B[49m\u001B[43mkwargs\u001B[49m\u001B[43m)\u001B[49m\n",
      "\u001B[36mFile \u001B[39m\u001B[32m~/miniconda3/envs/pru_dev2/envs/rl_env/lib/python3.13/site-packages/torch/nn/modules/module.py:1750\u001B[39m, in \u001B[36mModule._call_impl\u001B[39m\u001B[34m(self, *args, **kwargs)\u001B[39m\n\u001B[32m   1745\u001B[39m \u001B[38;5;66;03m# If we don't have any hooks, we want to skip the rest of the logic in\u001B[39;00m\n\u001B[32m   1746\u001B[39m \u001B[38;5;66;03m# this function, and just call forward.\u001B[39;00m\n\u001B[32m   1747\u001B[39m \u001B[38;5;28;01mif\u001B[39;00m \u001B[38;5;129;01mnot\u001B[39;00m (\u001B[38;5;28mself\u001B[39m._backward_hooks \u001B[38;5;129;01mor\u001B[39;00m \u001B[38;5;28mself\u001B[39m._backward_pre_hooks \u001B[38;5;129;01mor\u001B[39;00m \u001B[38;5;28mself\u001B[39m._forward_hooks \u001B[38;5;129;01mor\u001B[39;00m \u001B[38;5;28mself\u001B[39m._forward_pre_hooks\n\u001B[32m   1748\u001B[39m         \u001B[38;5;129;01mor\u001B[39;00m _global_backward_pre_hooks \u001B[38;5;129;01mor\u001B[39;00m _global_backward_hooks\n\u001B[32m   1749\u001B[39m         \u001B[38;5;129;01mor\u001B[39;00m _global_forward_hooks \u001B[38;5;129;01mor\u001B[39;00m _global_forward_pre_hooks):\n\u001B[32m-> \u001B[39m\u001B[32m1750\u001B[39m     \u001B[38;5;28;01mreturn\u001B[39;00m \u001B[43mforward_call\u001B[49m\u001B[43m(\u001B[49m\u001B[43m*\u001B[49m\u001B[43margs\u001B[49m\u001B[43m,\u001B[49m\u001B[43m \u001B[49m\u001B[43m*\u001B[49m\u001B[43m*\u001B[49m\u001B[43mkwargs\u001B[49m\u001B[43m)\u001B[49m\n\u001B[32m   1752\u001B[39m result = \u001B[38;5;28;01mNone\u001B[39;00m\n\u001B[32m   1753\u001B[39m called_always_called_hooks = \u001B[38;5;28mset\u001B[39m()\n",
      "\u001B[36mFile \u001B[39m\u001B[32m~/miniconda3/envs/pru_dev2/envs/rl_env/lib/python3.13/site-packages/torch/nn/modules/rnn.py:1124\u001B[39m, in \u001B[36mLSTM.forward\u001B[39m\u001B[34m(self, input, hx)\u001B[39m\n\u001B[32m   1121\u001B[39m         hx = \u001B[38;5;28mself\u001B[39m.permute_hidden(hx, sorted_indices)\n\u001B[32m   1123\u001B[39m \u001B[38;5;28;01mif\u001B[39;00m batch_sizes \u001B[38;5;129;01mis\u001B[39;00m \u001B[38;5;28;01mNone\u001B[39;00m:\n\u001B[32m-> \u001B[39m\u001B[32m1124\u001B[39m     result = \u001B[43m_VF\u001B[49m\u001B[43m.\u001B[49m\u001B[43mlstm\u001B[49m\u001B[43m(\u001B[49m\n\u001B[32m   1125\u001B[39m \u001B[43m        \u001B[49m\u001B[38;5;28;43minput\u001B[39;49m\u001B[43m,\u001B[49m\n\u001B[32m   1126\u001B[39m \u001B[43m        \u001B[49m\u001B[43mhx\u001B[49m\u001B[43m,\u001B[49m\n\u001B[32m   1127\u001B[39m \u001B[43m        \u001B[49m\u001B[38;5;28;43mself\u001B[39;49m\u001B[43m.\u001B[49m\u001B[43m_flat_weights\u001B[49m\u001B[43m,\u001B[49m\u001B[43m  \u001B[49m\u001B[38;5;66;43;03m# type: ignore[arg-type]\u001B[39;49;00m\n\u001B[32m   1128\u001B[39m \u001B[43m        \u001B[49m\u001B[38;5;28;43mself\u001B[39;49m\u001B[43m.\u001B[49m\u001B[43mbias\u001B[49m\u001B[43m,\u001B[49m\n\u001B[32m   1129\u001B[39m \u001B[43m        \u001B[49m\u001B[38;5;28;43mself\u001B[39;49m\u001B[43m.\u001B[49m\u001B[43mnum_layers\u001B[49m\u001B[43m,\u001B[49m\n\u001B[32m   1130\u001B[39m \u001B[43m        \u001B[49m\u001B[38;5;28;43mself\u001B[39;49m\u001B[43m.\u001B[49m\u001B[43mdropout\u001B[49m\u001B[43m,\u001B[49m\n\u001B[32m   1131\u001B[39m \u001B[43m        \u001B[49m\u001B[38;5;28;43mself\u001B[39;49m\u001B[43m.\u001B[49m\u001B[43mtraining\u001B[49m\u001B[43m,\u001B[49m\n\u001B[32m   1132\u001B[39m \u001B[43m        \u001B[49m\u001B[38;5;28;43mself\u001B[39;49m\u001B[43m.\u001B[49m\u001B[43mbidirectional\u001B[49m\u001B[43m,\u001B[49m\n\u001B[32m   1133\u001B[39m \u001B[43m        \u001B[49m\u001B[38;5;28;43mself\u001B[39;49m\u001B[43m.\u001B[49m\u001B[43mbatch_first\u001B[49m\u001B[43m,\u001B[49m\n\u001B[32m   1134\u001B[39m \u001B[43m    \u001B[49m\u001B[43m)\u001B[49m\n\u001B[32m   1135\u001B[39m \u001B[38;5;28;01melse\u001B[39;00m:\n\u001B[32m   1136\u001B[39m     result = _VF.lstm(\n\u001B[32m   1137\u001B[39m         \u001B[38;5;28minput\u001B[39m,\n\u001B[32m   1138\u001B[39m         batch_sizes,\n\u001B[32m   (...)\u001B[39m\u001B[32m   1145\u001B[39m         \u001B[38;5;28mself\u001B[39m.bidirectional,\n\u001B[32m   1146\u001B[39m     )\n",
      "\u001B[31mKeyboardInterrupt\u001B[39m: "
     ]
    }
   ],
   "execution_count": 12
  },
  {
   "metadata": {
    "ExecuteTime": {
     "end_time": "2025-06-24T10:00:12.787108Z",
     "start_time": "2025-06-24T10:00:12.772480Z"
    }
   },
   "cell_type": "code",
   "source": [
    "c1_predictor = LSTMPredictor(model_load_file_path=SAVED_C1_PREDICTOR,  # based on this, the predictor infers the model's properties\n",
    "                             price_csv_path=C1_PRICE_FILE,\n",
    "                             daily_prediction_hour=16,  # these are necessary data properties which still need to be set\n",
    "                             rolling_window_size=6*4,  # 6 months a 4 weeks hindsight\n",
    "                             forecast_horizon=3,  # 3 weeks ahead\n",
    "                             sampling_rate_minutes=5*14*60,  # 1 week a 5 days from 8 to 22\n",
    "                             )\n",
    "c1_predictor"
   ],
   "id": "832087fb1d4512e2",
   "outputs": [
    {
     "name": "stdout",
     "output_type": "stream",
     "text": [
      "No training epochs defined upon initialisation. Define LSTMPredictor.n_train_epochs to start training procedure.\n",
      "Created rolling window view based on rolling_window_size of 24 and forecast_horizon of 3 with a time unit of 4200 minutes.\n",
      "Target values start at only observation between 16:00 and 17:00 daily.\n",
      "Resulting dataset consists of 528 observations.\n",
      "Using last 20.0% of data for validation. Other data for training.\n",
      "This yields 422 training and 106 validation observations.\n"
     ]
    },
    {
     "data": {
      "text/plain": [
       "------------------- LSTMPredictor Instance -------------------\n",
       "\n",
       "Data Attributes:\n",
       "- sampling rate: 4200 min (= 70.0 h = 5.0 d)\n",
       "- rolling window size: 24\n",
       "- forecast horizon: 3\n",
       "- daily prediction hour: 16:00\n",
       "- predicting at last observation before prediction hour: False\n",
       "- validation split: 0.2\n",
       "- amount of training observations: 422\n",
       "- amount of validation observations: 106\n",
       "\n",
       "Model Attributes:\n",
       "- hidden LSTM layers: 128\n",
       "- number of LSTM layers: 4\n",
       "- pre LSTM fully connected layer: False\n",
       "\n",
       "Model wasn't trained yet (or was imported)."
      ]
     },
     "execution_count": 13,
     "metadata": {},
     "output_type": "execute_result"
    }
   ],
   "execution_count": 13
  },
  {
   "metadata": {},
   "cell_type": "markdown",
   "source": "### Example Prediction",
   "id": "a6524843c14af22"
  },
  {
   "metadata": {},
   "cell_type": "markdown",
   "source": [
    "## Environment\n",
    "https://github.com/tmorgan4/btgym_Kismuz/blob/master/btgym/strategy/base.py"
   ],
   "id": "c195f92d1606ac30"
  },
  {
   "metadata": {},
   "cell_type": "markdown",
   "source": [
    "### V2 (Future Products\n",
    "- fixed ratio of portfolio can be invested in each category (leverage and direction)"
   ],
   "id": "10b639f48a43bad9"
  },
  {
   "metadata": {
    "ExecuteTime": {
     "end_time": "2025-06-24T10:00:25.106035Z",
     "start_time": "2025-06-24T10:00:24.723458Z"
    }
   },
   "cell_type": "code",
   "source": [
    "self = RLTradingEnv(ENV_PRICE_FILE,\n",
    "                    price_sampling_rate_minutes=15,\n",
    "                    predictor_instances=(b3_predictor, c1_predictor),\n",
    "                    product_set=portfolio, trading_quantity_per_leverage_factor=.5,\n",
    "                    include_open_leverage_category=False,\n",
    "                    leverage_categories=(1.0, 1.5, 2.0, 2.5, 3.0, 3.5, 4.0, 4.5, 5.0))#, 5.5, 6.0, 6.5, 7.0))"
   ],
   "id": "5f701e1efb2bcadd",
   "outputs": [
    {
     "name": "stdout",
     "output_type": "stream",
     "text": [
      "Starting at 2015-4-9 although data is provided since 2014-10-23 to have sufficient information for all predictors.\n"
     ]
    }
   ],
   "execution_count": 14
  },
  {
   "metadata": {
    "ExecuteTime": {
     "end_time": "2025-06-24T10:00:26.721926Z",
     "start_time": "2025-06-24T10:00:26.716105Z"
    }
   },
   "cell_type": "code",
   "source": "self.action_enum_dict",
   "id": "4b2916d10b9e9bc0",
   "outputs": [
    {
     "data": {
      "text/plain": [
       "{0: 'Hold',\n",
       " 1: 'Buy long 1.0x - 1.5x',\n",
       " 2: 'Sell long 1.0x - 1.5x',\n",
       " 3: 'Buy short 1.0x - 1.5x',\n",
       " 4: 'Sell short 1.0x - 1.5x',\n",
       " 5: 'Buy long 1.5x - 2.0x',\n",
       " 6: 'Sell long 1.5x - 2.0x',\n",
       " 7: 'Buy short 1.5x - 2.0x',\n",
       " 8: 'Sell short 1.5x - 2.0x',\n",
       " 9: 'Buy long 2.0x - 2.5x',\n",
       " 10: 'Sell long 2.0x - 2.5x',\n",
       " 11: 'Buy short 2.0x - 2.5x',\n",
       " 12: 'Sell short 2.0x - 2.5x',\n",
       " 13: 'Buy long 2.5x - 3.0x',\n",
       " 14: 'Sell long 2.5x - 3.0x',\n",
       " 15: 'Buy short 2.5x - 3.0x',\n",
       " 16: 'Sell short 2.5x - 3.0x',\n",
       " 17: 'Buy long 3.0x - 3.5x',\n",
       " 18: 'Sell long 3.0x - 3.5x',\n",
       " 19: 'Buy short 3.0x - 3.5x',\n",
       " 20: 'Sell short 3.0x - 3.5x',\n",
       " 21: 'Buy long 3.5x - 4.0x',\n",
       " 22: 'Sell long 3.5x - 4.0x',\n",
       " 23: 'Buy short 3.5x - 4.0x',\n",
       " 24: 'Sell short 3.5x - 4.0x',\n",
       " 25: 'Buy long 4.0x - 4.5x',\n",
       " 26: 'Sell long 4.0x - 4.5x',\n",
       " 27: 'Buy short 4.0x - 4.5x',\n",
       " 28: 'Sell short 4.0x - 4.5x',\n",
       " 29: 'Buy long 4.5x - 5.0x',\n",
       " 30: 'Sell long 4.5x - 5.0x',\n",
       " 31: 'Buy short 4.5x - 5.0x',\n",
       " 32: 'Sell short 4.5x - 5.0x'}"
      ]
     },
     "execution_count": 15,
     "metadata": {},
     "output_type": "execute_result"
    }
   ],
   "execution_count": 15
  },
  {
   "metadata": {
    "ExecuteTime": {
     "end_time": "2025-06-22T16:43:16.552045Z",
     "start_time": "2025-06-22T16:43:16.550505Z"
    }
   },
   "cell_type": "code",
   "source": "",
   "id": "efcfab38d004b84b",
   "outputs": [],
   "execution_count": null
  },
  {
   "metadata": {
    "ExecuteTime": {
     "end_time": "2025-06-24T09:45:04.123456Z",
     "start_time": "2025-06-24T09:45:02.301990Z"
    }
   },
   "cell_type": "code",
   "source": [
    "obs, _, _, info = self.step(1)\n",
    "print(obs)\n",
    "print(info)\n",
    "self.open_positions"
   ],
   "id": "dee65ba5b4f31000",
   "outputs": [
    {
     "name": "stdout",
     "output_type": "stream",
     "text": [
      "[STEP 127] Bought 8.0 shares of ARTIFLO0000 (long with leverage in (1.0, 2.0)) at 12012.817716844156.\n",
      "    Cash: 611624.2178693948, Holding: 363201.5439305113\n",
      "[-9.12100080e-03  7.73821181e-03  6.11624218e+05  3.63201544e+05]\n",
      "{'Step': 127, 'Time': '2015-04-20 16:00:00', 'Reward': -69.97, 'Action': 'Buy long 1.0x - 2.0x', 'Avg. Expected Potential': -0.0006913944940260541, 'Total Exposure': 0.4924292061295572, 'Cash': 611624.22, 'Total': 974825.76}\n"
     ]
    },
    {
     "data": {
      "text/plain": [
       "             Shares  Leverage         Price Direction  % Portfolio\n",
       "ARTIFLO0000     8.0  1.000000  12000.816900      long     9.848584\n",
       "ARTIFLO0006    64.0  4.452563   2695.260642      long    17.695130\n",
       "ARTIFSH0058    32.0  4.055258   2959.322740     short     9.714385"
      ],
      "text/html": [
       "<div>\n",
       "<style scoped>\n",
       "    .dataframe tbody tr th:only-of-type {\n",
       "        vertical-align: middle;\n",
       "    }\n",
       "\n",
       "    .dataframe tbody tr th {\n",
       "        vertical-align: top;\n",
       "    }\n",
       "\n",
       "    .dataframe thead th {\n",
       "        text-align: right;\n",
       "    }\n",
       "</style>\n",
       "<table border=\"1\" class=\"dataframe\">\n",
       "  <thead>\n",
       "    <tr style=\"text-align: right;\">\n",
       "      <th></th>\n",
       "      <th>Shares</th>\n",
       "      <th>Leverage</th>\n",
       "      <th>Price</th>\n",
       "      <th>Direction</th>\n",
       "      <th>% Portfolio</th>\n",
       "    </tr>\n",
       "  </thead>\n",
       "  <tbody>\n",
       "    <tr>\n",
       "      <th>ARTIFLO0000</th>\n",
       "      <td>8.0</td>\n",
       "      <td>1.000000</td>\n",
       "      <td>12000.816900</td>\n",
       "      <td>long</td>\n",
       "      <td>9.848584</td>\n",
       "    </tr>\n",
       "    <tr>\n",
       "      <th>ARTIFLO0006</th>\n",
       "      <td>64.0</td>\n",
       "      <td>4.452563</td>\n",
       "      <td>2695.260642</td>\n",
       "      <td>long</td>\n",
       "      <td>17.695130</td>\n",
       "    </tr>\n",
       "    <tr>\n",
       "      <th>ARTIFSH0058</th>\n",
       "      <td>32.0</td>\n",
       "      <td>4.055258</td>\n",
       "      <td>2959.322740</td>\n",
       "      <td>short</td>\n",
       "      <td>9.714385</td>\n",
       "    </tr>\n",
       "  </tbody>\n",
       "</table>\n",
       "</div>"
      ]
     },
     "execution_count": 122,
     "metadata": {},
     "output_type": "execute_result"
    }
   ],
   "execution_count": 122
  },
  {
   "metadata": {},
   "cell_type": "markdown",
   "source": "## Agent",
   "id": "2e7764e53f0e8e01"
  },
  {
   "metadata": {},
   "cell_type": "markdown",
   "source": "## Run",
   "id": "32bfac58de6892c4"
  },
  {
   "metadata": {
    "ExecuteTime": {
     "end_time": "2025-06-24T10:13:29.839710Z",
     "start_time": "2025-06-24T10:13:29.836262Z"
    }
   },
   "cell_type": "code",
   "source": [
    "agent = MultiProductAgent(observation_types=['potential']*len(self.predictor_instances) + ['cash', 'holding'],\n",
    "                          n_leverage_categories=len(self.leverage_categories),\n",
    "                          abs_potential_treshold_steps=(.0025, .0075, .035),\n",
    "                          include_open_leverage_category=self.include_open_leverage_category)"
   ],
   "id": "97a6127810f3be67",
   "outputs": [],
   "execution_count": 17
  },
  {
   "metadata": {
    "ExecuteTime": {
     "end_time": "2025-06-24T10:13:33.266213Z",
     "start_time": "2025-06-24T10:13:33.254140Z"
    }
   },
   "cell_type": "code",
   "source": "agent",
   "id": "2f11d6d3d70ca26c",
   "outputs": [
    {
     "data": {
      "text/plain": [
       "------------------- KOCertificate Instance -------------------\n",
       "\n",
       "Threshold-action mapping:\n",
       "      -inf < potential < -0.03500  -->  action 3\n",
       "  -0.03500 < potential < -0.03107  -->  action 7\n",
       "  -0.03107 < potential < -0.02714  -->  action 11\n",
       "  -0.02714 < potential < -0.02321  -->  action 15\n",
       "  -0.02321 < potential < -0.01929  -->  action 19\n",
       "  -0.01929 < potential < -0.01536  -->  action 23\n",
       "  -0.01536 < potential < -0.01143  -->  action 27\n",
       "  -0.01143 < potential < -0.00750  -->  action 31\n",
       "  -0.00750 < potential < -0.00687  -->  action 2\n",
       "  -0.00687 < potential < -0.00625  -->  action 6\n",
       "  -0.00625 < potential < -0.00562  -->  action 10\n",
       "  -0.00562 < potential < -0.00500  -->  action 14\n",
       "  -0.00500 < potential < -0.00437  -->  action 18\n",
       "  -0.00437 < potential < -0.00375  -->  action 22\n",
       "  -0.00375 < potential < -0.00313  -->  action 26\n",
       "  -0.00313 < potential < -0.00250  -->  action 30\n",
       "  -0.00250 < potential <  0.00250  -->  action 0\n",
       "   0.00250 < potential <  0.00313  -->  action 4\n",
       "   0.00313 < potential <  0.00375  -->  action 8\n",
       "   0.00375 < potential <  0.00437  -->  action 12\n",
       "   0.00437 < potential <  0.00500  -->  action 16\n",
       "   0.00500 < potential <  0.00562  -->  action 20\n",
       "   0.00562 < potential <  0.00625  -->  action 24\n",
       "   0.00625 < potential <  0.00687  -->  action 28\n",
       "   0.00687 < potential <  0.00750  -->  action 32\n",
       "   0.00750 < potential <  0.01143  -->  action 1\n",
       "   0.01143 < potential <  0.01536  -->  action 5\n",
       "   0.01536 < potential <  0.01929  -->  action 9\n",
       "   0.01929 < potential <  0.02321  -->  action 13\n",
       "   0.02321 < potential <  0.02714  -->  action 17\n",
       "   0.02714 < potential <  0.03107  -->  action 21\n",
       "   0.03107 < potential <  0.03500  -->  action 25\n",
       "   0.03500 < potential <      inf  -->  action 29"
      ]
     },
     "execution_count": 18,
     "metadata": {},
     "output_type": "execute_result"
    }
   ],
   "execution_count": 18
  },
  {
   "metadata": {
    "ExecuteTime": {
     "end_time": "2025-06-24T09:51:50.997124Z",
     "start_time": "2025-06-24T09:48:23.581758Z"
    }
   },
   "cell_type": "code",
   "source": [
    "obs = self.reset()  # reset episode and fetch first observation\n",
    "self.verbose = False\n",
    "done = False  # episode termination criterion\n",
    "\n",
    "# initialise log frame\n",
    "log = pd.DataFrame()\n",
    "for ind in tqdm(range(self.current_step, self.total_steps)):\n",
    "    action, _ = agent.predict(obs)  # infer action\n",
    "    obs, _, done, info = self.step(action)  # retrieve new observation and info\n",
    "    \n",
    "    if done: break  # check whether episode is finished\n",
    "    log = pd.concat([log, pd.DataFrame(info, index=[info['Step']])])  # log info"
   ],
   "id": "87b6d803f8ac7bbe",
   "outputs": [
    {
     "name": "stderr",
     "output_type": "stream",
     "text": [
      "  0%|          | 0/2650 [00:00<?, ?it/s]/Users/paulrusing/miniconda3/envs/pru_dev2/envs/rl_env/lib/python3.13/site-packages/numpy/_core/fromnumeric.py:3860: RuntimeWarning: Mean of empty slice.\n",
      "  return _methods._mean(a, axis=axis, dtype=dtype,\n",
      "/Users/paulrusing/miniconda3/envs/pru_dev2/envs/rl_env/lib/python3.13/site-packages/numpy/_core/_methods.py:145: RuntimeWarning: invalid value encountered in scalar divide\n",
      "  ret = ret.dtype.type(ret / rcount)\n",
      "  1%|          | 16/2650 [00:00<00:57, 45.78it/s]"
     ]
    },
    {
     "name": "stdout",
     "output_type": "stream",
     "text": [
      "No product with leverage inside (6.5, 7.0) found. Using next smaller leverage.\n"
     ]
    },
    {
     "name": "stderr",
     "output_type": "stream",
     "text": [
      "  1%|          | 21/2650 [00:01<05:52,  7.46it/s]/Users/paulrusing/miniconda3/envs/pru_dev2/envs/rl_env/lib/python3.13/site-packages/numpy/_core/fromnumeric.py:3860: RuntimeWarning: Mean of empty slice.\n",
      "  return _methods._mean(a, axis=axis, dtype=dtype,\n",
      "/Users/paulrusing/miniconda3/envs/pru_dev2/envs/rl_env/lib/python3.13/site-packages/numpy/_core/_methods.py:145: RuntimeWarning: invalid value encountered in scalar divide\n",
      "  ret = ret.dtype.type(ret / rcount)\n",
      "/Users/paulrusing/miniconda3/envs/pru_dev2/envs/rl_env/lib/python3.13/site-packages/numpy/_core/fromnumeric.py:3860: RuntimeWarning: Mean of empty slice.\n",
      "  return _methods._mean(a, axis=axis, dtype=dtype,\n",
      "/Users/paulrusing/miniconda3/envs/pru_dev2/envs/rl_env/lib/python3.13/site-packages/numpy/_core/_methods.py:145: RuntimeWarning: invalid value encountered in scalar divide\n",
      "  ret = ret.dtype.type(ret / rcount)\n",
      "/Users/paulrusing/miniconda3/envs/pru_dev2/envs/rl_env/lib/python3.13/site-packages/numpy/_core/fromnumeric.py:3860: RuntimeWarning: Mean of empty slice.\n",
      "  return _methods._mean(a, axis=axis, dtype=dtype,\n",
      "/Users/paulrusing/miniconda3/envs/pru_dev2/envs/rl_env/lib/python3.13/site-packages/numpy/_core/_methods.py:145: RuntimeWarning: invalid value encountered in scalar divide\n",
      "  ret = ret.dtype.type(ret / rcount)\n",
      "  1%|          | 24/2650 [00:07<22:57,  1.91it/s]/Users/paulrusing/miniconda3/envs/pru_dev2/envs/rl_env/lib/python3.13/site-packages/numpy/_core/fromnumeric.py:3860: RuntimeWarning: Mean of empty slice.\n",
      "  return _methods._mean(a, axis=axis, dtype=dtype,\n",
      "/Users/paulrusing/miniconda3/envs/pru_dev2/envs/rl_env/lib/python3.13/site-packages/numpy/_core/_methods.py:145: RuntimeWarning: invalid value encountered in scalar divide\n",
      "  ret = ret.dtype.type(ret / rcount)\n",
      "/Users/paulrusing/miniconda3/envs/pru_dev2/envs/rl_env/lib/python3.13/site-packages/numpy/_core/fromnumeric.py:3860: RuntimeWarning: Mean of empty slice.\n",
      "  return _methods._mean(a, axis=axis, dtype=dtype,\n",
      "/Users/paulrusing/miniconda3/envs/pru_dev2/envs/rl_env/lib/python3.13/site-packages/numpy/_core/_methods.py:145: RuntimeWarning: invalid value encountered in scalar divide\n",
      "  ret = ret.dtype.type(ret / rcount)\n",
      "  1%|          | 26/2650 [00:10<32:44,  1.34it/s]/Users/paulrusing/miniconda3/envs/pru_dev2/envs/rl_env/lib/python3.13/site-packages/numpy/_core/fromnumeric.py:3860: RuntimeWarning: Mean of empty slice.\n",
      "  return _methods._mean(a, axis=axis, dtype=dtype,\n",
      "/Users/paulrusing/miniconda3/envs/pru_dev2/envs/rl_env/lib/python3.13/site-packages/numpy/_core/_methods.py:145: RuntimeWarning: invalid value encountered in scalar divide\n",
      "  ret = ret.dtype.type(ret / rcount)\n",
      "/Users/paulrusing/miniconda3/envs/pru_dev2/envs/rl_env/lib/python3.13/site-packages/numpy/_core/fromnumeric.py:3860: RuntimeWarning: Mean of empty slice.\n",
      "  return _methods._mean(a, axis=axis, dtype=dtype,\n",
      "/Users/paulrusing/miniconda3/envs/pru_dev2/envs/rl_env/lib/python3.13/site-packages/numpy/_core/_methods.py:145: RuntimeWarning: invalid value encountered in scalar divide\n",
      "  ret = ret.dtype.type(ret / rcount)\n",
      "  1%|          | 28/2650 [00:12<37:26,  1.17it/s]/Users/paulrusing/miniconda3/envs/pru_dev2/envs/rl_env/lib/python3.13/site-packages/numpy/_core/fromnumeric.py:3860: RuntimeWarning: Mean of empty slice.\n",
      "  return _methods._mean(a, axis=axis, dtype=dtype,\n",
      "/Users/paulrusing/miniconda3/envs/pru_dev2/envs/rl_env/lib/python3.13/site-packages/numpy/_core/_methods.py:145: RuntimeWarning: invalid value encountered in scalar divide\n",
      "  ret = ret.dtype.type(ret / rcount)\n",
      "  1%|          | 29/2650 [00:14<40:47,  1.07it/s]/Users/paulrusing/miniconda3/envs/pru_dev2/envs/rl_env/lib/python3.13/site-packages/numpy/_core/fromnumeric.py:3860: RuntimeWarning: Mean of empty slice.\n",
      "  return _methods._mean(a, axis=axis, dtype=dtype,\n",
      "/Users/paulrusing/miniconda3/envs/pru_dev2/envs/rl_env/lib/python3.13/site-packages/numpy/_core/_methods.py:145: RuntimeWarning: invalid value encountered in scalar divide\n",
      "  ret = ret.dtype.type(ret / rcount)\n",
      "  1%|          | 30/2650 [00:15<44:21,  1.02s/it]/Users/paulrusing/miniconda3/envs/pru_dev2/envs/rl_env/lib/python3.13/site-packages/numpy/_core/fromnumeric.py:3860: RuntimeWarning: Mean of empty slice.\n",
      "  return _methods._mean(a, axis=axis, dtype=dtype,\n",
      "/Users/paulrusing/miniconda3/envs/pru_dev2/envs/rl_env/lib/python3.13/site-packages/numpy/_core/_methods.py:145: RuntimeWarning: invalid value encountered in scalar divide\n",
      "  ret = ret.dtype.type(ret / rcount)\n",
      "  1%|          | 31/2650 [00:17<47:17,  1.08s/it]/Users/paulrusing/miniconda3/envs/pru_dev2/envs/rl_env/lib/python3.13/site-packages/numpy/_core/fromnumeric.py:3860: RuntimeWarning: Mean of empty slice.\n",
      "  return _methods._mean(a, axis=axis, dtype=dtype,\n",
      "/Users/paulrusing/miniconda3/envs/pru_dev2/envs/rl_env/lib/python3.13/site-packages/numpy/_core/_methods.py:145: RuntimeWarning: invalid value encountered in scalar divide\n",
      "  ret = ret.dtype.type(ret / rcount)\n",
      "  1%|          | 32/2650 [00:18<45:13,  1.04s/it]/Users/paulrusing/miniconda3/envs/pru_dev2/envs/rl_env/lib/python3.13/site-packages/numpy/_core/fromnumeric.py:3860: RuntimeWarning: Mean of empty slice.\n",
      "  return _methods._mean(a, axis=axis, dtype=dtype,\n",
      "/Users/paulrusing/miniconda3/envs/pru_dev2/envs/rl_env/lib/python3.13/site-packages/numpy/_core/_methods.py:145: RuntimeWarning: invalid value encountered in scalar divide\n",
      "  ret = ret.dtype.type(ret / rcount)\n",
      "  1%|          | 33/2650 [00:19<48:44,  1.12s/it]/Users/paulrusing/miniconda3/envs/pru_dev2/envs/rl_env/lib/python3.13/site-packages/numpy/_core/fromnumeric.py:3860: RuntimeWarning: Mean of empty slice.\n",
      "  return _methods._mean(a, axis=axis, dtype=dtype,\n",
      "/Users/paulrusing/miniconda3/envs/pru_dev2/envs/rl_env/lib/python3.13/site-packages/numpy/_core/_methods.py:145: RuntimeWarning: invalid value encountered in scalar divide\n",
      "  ret = ret.dtype.type(ret / rcount)\n"
     ]
    },
    {
     "name": "stdout",
     "output_type": "stream",
     "text": [
      "No product with leverage inside (6.5, 7.0) found. Using next smaller leverage.\n"
     ]
    },
    {
     "name": "stderr",
     "output_type": "stream",
     "text": [
      "  1%|▏         | 34/2650 [00:20<45:46,  1.05s/it]/Users/paulrusing/miniconda3/envs/pru_dev2/envs/rl_env/lib/python3.13/site-packages/numpy/_core/fromnumeric.py:3860: RuntimeWarning: Mean of empty slice.\n",
      "  return _methods._mean(a, axis=axis, dtype=dtype,\n",
      "/Users/paulrusing/miniconda3/envs/pru_dev2/envs/rl_env/lib/python3.13/site-packages/numpy/_core/_methods.py:145: RuntimeWarning: invalid value encountered in scalar divide\n",
      "  ret = ret.dtype.type(ret / rcount)\n",
      "  1%|▏         | 35/2650 [00:21<49:17,  1.13s/it]/Users/paulrusing/miniconda3/envs/pru_dev2/envs/rl_env/lib/python3.13/site-packages/numpy/_core/fromnumeric.py:3860: RuntimeWarning: Mean of empty slice.\n",
      "  return _methods._mean(a, axis=axis, dtype=dtype,\n",
      "/Users/paulrusing/miniconda3/envs/pru_dev2/envs/rl_env/lib/python3.13/site-packages/numpy/_core/_methods.py:145: RuntimeWarning: invalid value encountered in scalar divide\n",
      "  ret = ret.dtype.type(ret / rcount)\n",
      "  1%|▏         | 36/2650 [00:23<52:04,  1.20s/it]/Users/paulrusing/miniconda3/envs/pru_dev2/envs/rl_env/lib/python3.13/site-packages/numpy/_core/fromnumeric.py:3860: RuntimeWarning: Mean of empty slice.\n",
      "  return _methods._mean(a, axis=axis, dtype=dtype,\n",
      "/Users/paulrusing/miniconda3/envs/pru_dev2/envs/rl_env/lib/python3.13/site-packages/numpy/_core/_methods.py:145: RuntimeWarning: invalid value encountered in scalar divide\n",
      "  ret = ret.dtype.type(ret / rcount)\n",
      "  1%|▏         | 37/2650 [00:23<47:27,  1.09s/it]/Users/paulrusing/miniconda3/envs/pru_dev2/envs/rl_env/lib/python3.13/site-packages/numpy/_core/fromnumeric.py:3860: RuntimeWarning: Mean of empty slice.\n",
      "  return _methods._mean(a, axis=axis, dtype=dtype,\n",
      "/Users/paulrusing/miniconda3/envs/pru_dev2/envs/rl_env/lib/python3.13/site-packages/numpy/_core/_methods.py:145: RuntimeWarning: invalid value encountered in scalar divide\n",
      "  ret = ret.dtype.type(ret / rcount)\n",
      "  1%|▏         | 38/2650 [00:25<50:42,  1.16s/it]/Users/paulrusing/miniconda3/envs/pru_dev2/envs/rl_env/lib/python3.13/site-packages/numpy/_core/fromnumeric.py:3860: RuntimeWarning: Mean of empty slice.\n",
      "  return _methods._mean(a, axis=axis, dtype=dtype,\n",
      "/Users/paulrusing/miniconda3/envs/pru_dev2/envs/rl_env/lib/python3.13/site-packages/numpy/_core/_methods.py:145: RuntimeWarning: invalid value encountered in scalar divide\n",
      "  ret = ret.dtype.type(ret / rcount)\n",
      "  1%|▏         | 39/2650 [00:26<46:23,  1.07s/it]/Users/paulrusing/miniconda3/envs/pru_dev2/envs/rl_env/lib/python3.13/site-packages/numpy/_core/fromnumeric.py:3860: RuntimeWarning: Mean of empty slice.\n",
      "  return _methods._mean(a, axis=axis, dtype=dtype,\n",
      "/Users/paulrusing/miniconda3/envs/pru_dev2/envs/rl_env/lib/python3.13/site-packages/numpy/_core/_methods.py:145: RuntimeWarning: invalid value encountered in scalar divide\n",
      "  ret = ret.dtype.type(ret / rcount)\n",
      "  2%|▏         | 40/2650 [00:27<49:53,  1.15s/it]/Users/paulrusing/miniconda3/envs/pru_dev2/envs/rl_env/lib/python3.13/site-packages/numpy/_core/fromnumeric.py:3860: RuntimeWarning: Mean of empty slice.\n",
      "  return _methods._mean(a, axis=axis, dtype=dtype,\n",
      "/Users/paulrusing/miniconda3/envs/pru_dev2/envs/rl_env/lib/python3.13/site-packages/numpy/_core/_methods.py:145: RuntimeWarning: invalid value encountered in scalar divide\n",
      "  ret = ret.dtype.type(ret / rcount)\n",
      "  2%|▏         | 41/2650 [00:27<42:27,  1.02it/s]/Users/paulrusing/miniconda3/envs/pru_dev2/envs/rl_env/lib/python3.13/site-packages/numpy/_core/fromnumeric.py:3860: RuntimeWarning: Mean of empty slice.\n",
      "  return _methods._mean(a, axis=axis, dtype=dtype,\n",
      "/Users/paulrusing/miniconda3/envs/pru_dev2/envs/rl_env/lib/python3.13/site-packages/numpy/_core/_methods.py:145: RuntimeWarning: invalid value encountered in scalar divide\n",
      "  ret = ret.dtype.type(ret / rcount)\n"
     ]
    },
    {
     "name": "stdout",
     "output_type": "stream",
     "text": [
      "No product with leverage inside (6.0, 6.5) found. Using next smaller leverage.\n"
     ]
    },
    {
     "name": "stderr",
     "output_type": "stream",
     "text": [
      "  2%|▏         | 44/2650 [00:28<25:45,  1.69it/s]/Users/paulrusing/miniconda3/envs/pru_dev2/envs/rl_env/lib/python3.13/site-packages/numpy/_core/fromnumeric.py:3860: RuntimeWarning: Mean of empty slice.\n",
      "  return _methods._mean(a, axis=axis, dtype=dtype,\n",
      "/Users/paulrusing/miniconda3/envs/pru_dev2/envs/rl_env/lib/python3.13/site-packages/numpy/_core/_methods.py:145: RuntimeWarning: invalid value encountered in scalar divide\n",
      "  ret = ret.dtype.type(ret / rcount)\n"
     ]
    },
    {
     "name": "stdout",
     "output_type": "stream",
     "text": [
      "No product with leverage inside (6.5, 7.0) found. Using next smaller leverage.\n"
     ]
    },
    {
     "name": "stderr",
     "output_type": "stream",
     "text": [
      "  2%|▏         | 45/2650 [00:29<27:53,  1.56it/s]/Users/paulrusing/miniconda3/envs/pru_dev2/envs/rl_env/lib/python3.13/site-packages/numpy/_core/fromnumeric.py:3860: RuntimeWarning: Mean of empty slice.\n",
      "  return _methods._mean(a, axis=axis, dtype=dtype,\n",
      "/Users/paulrusing/miniconda3/envs/pru_dev2/envs/rl_env/lib/python3.13/site-packages/numpy/_core/_methods.py:145: RuntimeWarning: invalid value encountered in scalar divide\n",
      "  ret = ret.dtype.type(ret / rcount)\n"
     ]
    },
    {
     "name": "stdout",
     "output_type": "stream",
     "text": [
      "No product with leverage inside (6.5, 7.0) found. Using next smaller leverage.\n"
     ]
    },
    {
     "name": "stderr",
     "output_type": "stream",
     "text": [
      "  2%|▏         | 46/2650 [00:30<29:49,  1.45it/s]/Users/paulrusing/miniconda3/envs/pru_dev2/envs/rl_env/lib/python3.13/site-packages/numpy/_core/fromnumeric.py:3860: RuntimeWarning: Mean of empty slice.\n",
      "  return _methods._mean(a, axis=axis, dtype=dtype,\n",
      "/Users/paulrusing/miniconda3/envs/pru_dev2/envs/rl_env/lib/python3.13/site-packages/numpy/_core/_methods.py:145: RuntimeWarning: invalid value encountered in scalar divide\n",
      "  ret = ret.dtype.type(ret / rcount)\n",
      "  2%|▏         | 47/2650 [00:31<31:21,  1.38it/s]/Users/paulrusing/miniconda3/envs/pru_dev2/envs/rl_env/lib/python3.13/site-packages/numpy/_core/fromnumeric.py:3860: RuntimeWarning: Mean of empty slice.\n",
      "  return _methods._mean(a, axis=axis, dtype=dtype,\n",
      "/Users/paulrusing/miniconda3/envs/pru_dev2/envs/rl_env/lib/python3.13/site-packages/numpy/_core/_methods.py:145: RuntimeWarning: invalid value encountered in scalar divide\n",
      "  ret = ret.dtype.type(ret / rcount)\n",
      "  2%|▏         | 48/2650 [00:32<38:32,  1.12it/s]/Users/paulrusing/miniconda3/envs/pru_dev2/envs/rl_env/lib/python3.13/site-packages/numpy/_core/fromnumeric.py:3860: RuntimeWarning: Mean of empty slice.\n",
      "  return _methods._mean(a, axis=axis, dtype=dtype,\n",
      "/Users/paulrusing/miniconda3/envs/pru_dev2/envs/rl_env/lib/python3.13/site-packages/numpy/_core/_methods.py:145: RuntimeWarning: invalid value encountered in scalar divide\n",
      "  ret = ret.dtype.type(ret / rcount)\n"
     ]
    },
    {
     "name": "stdout",
     "output_type": "stream",
     "text": [
      "No product with leverage inside (6.5, 7.0) found. Using next smaller leverage.\n"
     ]
    },
    {
     "name": "stderr",
     "output_type": "stream",
     "text": [
      "  2%|▏         | 49/2650 [00:33<37:59,  1.14it/s]/Users/paulrusing/miniconda3/envs/pru_dev2/envs/rl_env/lib/python3.13/site-packages/numpy/_core/fromnumeric.py:3860: RuntimeWarning: Mean of empty slice.\n",
      "  return _methods._mean(a, axis=axis, dtype=dtype,\n",
      "/Users/paulrusing/miniconda3/envs/pru_dev2/envs/rl_env/lib/python3.13/site-packages/numpy/_core/_methods.py:145: RuntimeWarning: invalid value encountered in scalar divide\n",
      "  ret = ret.dtype.type(ret / rcount)\n"
     ]
    },
    {
     "name": "stdout",
     "output_type": "stream",
     "text": [
      "No product with leverage inside (6.5, 7.0) found. Using next smaller leverage.\n"
     ]
    },
    {
     "name": "stderr",
     "output_type": "stream",
     "text": [
      "  2%|▏         | 50/2650 [00:34<37:27,  1.16it/s]/Users/paulrusing/miniconda3/envs/pru_dev2/envs/rl_env/lib/python3.13/site-packages/numpy/_core/fromnumeric.py:3860: RuntimeWarning: Mean of empty slice.\n",
      "  return _methods._mean(a, axis=axis, dtype=dtype,\n",
      "/Users/paulrusing/miniconda3/envs/pru_dev2/envs/rl_env/lib/python3.13/site-packages/numpy/_core/_methods.py:145: RuntimeWarning: invalid value encountered in scalar divide\n",
      "  ret = ret.dtype.type(ret / rcount)\n"
     ]
    },
    {
     "name": "stdout",
     "output_type": "stream",
     "text": [
      "No product with leverage inside (6.5, 7.0) found. Using next smaller leverage.\n"
     ]
    },
    {
     "name": "stderr",
     "output_type": "stream",
     "text": [
      "  2%|▏         | 51/2650 [00:35<37:07,  1.17it/s]/Users/paulrusing/miniconda3/envs/pru_dev2/envs/rl_env/lib/python3.13/site-packages/numpy/_core/fromnumeric.py:3860: RuntimeWarning: Mean of empty slice.\n",
      "  return _methods._mean(a, axis=axis, dtype=dtype,\n",
      "/Users/paulrusing/miniconda3/envs/pru_dev2/envs/rl_env/lib/python3.13/site-packages/numpy/_core/_methods.py:145: RuntimeWarning: invalid value encountered in scalar divide\n",
      "  ret = ret.dtype.type(ret / rcount)\n"
     ]
    },
    {
     "name": "stdout",
     "output_type": "stream",
     "text": [
      "No product with leverage inside (6.5, 7.0) found. Using next smaller leverage.\n"
     ]
    },
    {
     "name": "stderr",
     "output_type": "stream",
     "text": [
      "  2%|▏         | 52/2650 [00:36<36:51,  1.17it/s]/Users/paulrusing/miniconda3/envs/pru_dev2/envs/rl_env/lib/python3.13/site-packages/numpy/_core/fromnumeric.py:3860: RuntimeWarning: Mean of empty slice.\n",
      "  return _methods._mean(a, axis=axis, dtype=dtype,\n",
      "/Users/paulrusing/miniconda3/envs/pru_dev2/envs/rl_env/lib/python3.13/site-packages/numpy/_core/_methods.py:145: RuntimeWarning: invalid value encountered in scalar divide\n",
      "  ret = ret.dtype.type(ret / rcount)\n",
      "  2%|▏         | 53/2650 [00:37<43:14,  1.00it/s]/Users/paulrusing/miniconda3/envs/pru_dev2/envs/rl_env/lib/python3.13/site-packages/numpy/_core/fromnumeric.py:3860: RuntimeWarning: Mean of empty slice.\n",
      "  return _methods._mean(a, axis=axis, dtype=dtype,\n",
      "/Users/paulrusing/miniconda3/envs/pru_dev2/envs/rl_env/lib/python3.13/site-packages/numpy/_core/_methods.py:145: RuntimeWarning: invalid value encountered in scalar divide\n",
      "  ret = ret.dtype.type(ret / rcount)\n"
     ]
    },
    {
     "name": "stdout",
     "output_type": "stream",
     "text": [
      "No product with leverage inside (6.5, 7.0) found. Using next smaller leverage.\n"
     ]
    },
    {
     "name": "stderr",
     "output_type": "stream",
     "text": [
      "  2%|▏         | 54/2650 [00:38<41:09,  1.05it/s]/Users/paulrusing/miniconda3/envs/pru_dev2/envs/rl_env/lib/python3.13/site-packages/numpy/_core/fromnumeric.py:3860: RuntimeWarning: Mean of empty slice.\n",
      "  return _methods._mean(a, axis=axis, dtype=dtype,\n",
      "/Users/paulrusing/miniconda3/envs/pru_dev2/envs/rl_env/lib/python3.13/site-packages/numpy/_core/_methods.py:145: RuntimeWarning: invalid value encountered in scalar divide\n",
      "  ret = ret.dtype.type(ret / rcount)\n",
      "  2%|▏         | 55/2650 [00:39<39:37,  1.09it/s]/Users/paulrusing/miniconda3/envs/pru_dev2/envs/rl_env/lib/python3.13/site-packages/numpy/_core/fromnumeric.py:3860: RuntimeWarning: Mean of empty slice.\n",
      "  return _methods._mean(a, axis=axis, dtype=dtype,\n",
      "/Users/paulrusing/miniconda3/envs/pru_dev2/envs/rl_env/lib/python3.13/site-packages/numpy/_core/_methods.py:145: RuntimeWarning: invalid value encountered in scalar divide\n",
      "  ret = ret.dtype.type(ret / rcount)\n",
      "  2%|▏         | 56/2650 [00:39<38:28,  1.12it/s]/Users/paulrusing/miniconda3/envs/pru_dev2/envs/rl_env/lib/python3.13/site-packages/numpy/_core/fromnumeric.py:3860: RuntimeWarning: Mean of empty slice.\n",
      "  return _methods._mean(a, axis=axis, dtype=dtype,\n",
      "/Users/paulrusing/miniconda3/envs/pru_dev2/envs/rl_env/lib/python3.13/site-packages/numpy/_core/_methods.py:145: RuntimeWarning: invalid value encountered in scalar divide\n",
      "  ret = ret.dtype.type(ret / rcount)\n",
      "  2%|▏         | 57/2650 [00:41<44:32,  1.03s/it]/Users/paulrusing/miniconda3/envs/pru_dev2/envs/rl_env/lib/python3.13/site-packages/numpy/_core/fromnumeric.py:3860: RuntimeWarning: Mean of empty slice.\n",
      "  return _methods._mean(a, axis=axis, dtype=dtype,\n",
      "/Users/paulrusing/miniconda3/envs/pru_dev2/envs/rl_env/lib/python3.13/site-packages/numpy/_core/_methods.py:145: RuntimeWarning: invalid value encountered in scalar divide\n",
      "  ret = ret.dtype.type(ret / rcount)\n"
     ]
    },
    {
     "name": "stdout",
     "output_type": "stream",
     "text": [
      "No product with leverage inside (6.0, 6.5) found. Using next smaller leverage.\n"
     ]
    },
    {
     "name": "stderr",
     "output_type": "stream",
     "text": [
      "  2%|▏         | 58/2650 [00:42<41:50,  1.03it/s]/Users/paulrusing/miniconda3/envs/pru_dev2/envs/rl_env/lib/python3.13/site-packages/numpy/_core/fromnumeric.py:3860: RuntimeWarning: Mean of empty slice.\n",
      "  return _methods._mean(a, axis=axis, dtype=dtype,\n",
      "/Users/paulrusing/miniconda3/envs/pru_dev2/envs/rl_env/lib/python3.13/site-packages/numpy/_core/_methods.py:145: RuntimeWarning: invalid value encountered in scalar divide\n",
      "  ret = ret.dtype.type(ret / rcount)\n"
     ]
    },
    {
     "name": "stdout",
     "output_type": "stream",
     "text": [
      "No product with leverage inside (6.0, 6.5) found. Using next smaller leverage.\n"
     ]
    },
    {
     "name": "stderr",
     "output_type": "stream",
     "text": [
      "  2%|▏         | 59/2650 [00:42<40:10,  1.08it/s]/Users/paulrusing/miniconda3/envs/pru_dev2/envs/rl_env/lib/python3.13/site-packages/numpy/_core/fromnumeric.py:3860: RuntimeWarning: Mean of empty slice.\n",
      "  return _methods._mean(a, axis=axis, dtype=dtype,\n",
      "/Users/paulrusing/miniconda3/envs/pru_dev2/envs/rl_env/lib/python3.13/site-packages/numpy/_core/_methods.py:145: RuntimeWarning: invalid value encountered in scalar divide\n",
      "  ret = ret.dtype.type(ret / rcount)\n"
     ]
    },
    {
     "name": "stdout",
     "output_type": "stream",
     "text": [
      "No product with leverage inside (5.0, 5.5) found. Using next smaller leverage.\n"
     ]
    },
    {
     "name": "stderr",
     "output_type": "stream",
     "text": [
      "  2%|▏         | 60/2650 [00:43<38:53,  1.11it/s]/Users/paulrusing/miniconda3/envs/pru_dev2/envs/rl_env/lib/python3.13/site-packages/numpy/_core/fromnumeric.py:3860: RuntimeWarning: Mean of empty slice.\n",
      "  return _methods._mean(a, axis=axis, dtype=dtype,\n",
      "/Users/paulrusing/miniconda3/envs/pru_dev2/envs/rl_env/lib/python3.13/site-packages/numpy/_core/_methods.py:145: RuntimeWarning: invalid value encountered in scalar divide\n",
      "  ret = ret.dtype.type(ret / rcount)\n"
     ]
    },
    {
     "name": "stdout",
     "output_type": "stream",
     "text": [
      "No product with leverage inside (6.0, 6.5) found. Using next smaller leverage.\n"
     ]
    },
    {
     "name": "stderr",
     "output_type": "stream",
     "text": [
      "  2%|▏         | 61/2650 [00:44<38:03,  1.13it/s]/Users/paulrusing/miniconda3/envs/pru_dev2/envs/rl_env/lib/python3.13/site-packages/numpy/_core/fromnumeric.py:3860: RuntimeWarning: Mean of empty slice.\n",
      "  return _methods._mean(a, axis=axis, dtype=dtype,\n",
      "/Users/paulrusing/miniconda3/envs/pru_dev2/envs/rl_env/lib/python3.13/site-packages/numpy/_core/_methods.py:145: RuntimeWarning: invalid value encountered in scalar divide\n",
      "  ret = ret.dtype.type(ret / rcount)\n"
     ]
    },
    {
     "name": "stdout",
     "output_type": "stream",
     "text": [
      "No product with leverage inside (6.5, 7.0) found. Using next smaller leverage.\n"
     ]
    },
    {
     "name": "stderr",
     "output_type": "stream",
     "text": [
      "  2%|▏         | 62/2650 [00:45<37:28,  1.15it/s]/Users/paulrusing/miniconda3/envs/pru_dev2/envs/rl_env/lib/python3.13/site-packages/numpy/_core/fromnumeric.py:3860: RuntimeWarning: Mean of empty slice.\n",
      "  return _methods._mean(a, axis=axis, dtype=dtype,\n",
      "/Users/paulrusing/miniconda3/envs/pru_dev2/envs/rl_env/lib/python3.13/site-packages/numpy/_core/_methods.py:145: RuntimeWarning: invalid value encountered in scalar divide\n",
      "  ret = ret.dtype.type(ret / rcount)\n",
      "  2%|▏         | 63/2650 [00:46<36:55,  1.17it/s]/Users/paulrusing/miniconda3/envs/pru_dev2/envs/rl_env/lib/python3.13/site-packages/numpy/_core/fromnumeric.py:3860: RuntimeWarning: Mean of empty slice.\n",
      "  return _methods._mean(a, axis=axis, dtype=dtype,\n",
      "/Users/paulrusing/miniconda3/envs/pru_dev2/envs/rl_env/lib/python3.13/site-packages/numpy/_core/_methods.py:145: RuntimeWarning: invalid value encountered in scalar divide\n",
      "  ret = ret.dtype.type(ret / rcount)\n",
      "  2%|▏         | 64/2650 [00:47<36:31,  1.18it/s]/Users/paulrusing/miniconda3/envs/pru_dev2/envs/rl_env/lib/python3.13/site-packages/numpy/_core/fromnumeric.py:3860: RuntimeWarning: Mean of empty slice.\n",
      "  return _methods._mean(a, axis=axis, dtype=dtype,\n",
      "/Users/paulrusing/miniconda3/envs/pru_dev2/envs/rl_env/lib/python3.13/site-packages/numpy/_core/_methods.py:145: RuntimeWarning: invalid value encountered in scalar divide\n",
      "  ret = ret.dtype.type(ret / rcount)\n"
     ]
    },
    {
     "name": "stdout",
     "output_type": "stream",
     "text": [
      "No product with leverage inside (6.5, 7.0) found. Using next smaller leverage.\n"
     ]
    },
    {
     "name": "stderr",
     "output_type": "stream",
     "text": [
      "  2%|▏         | 65/2650 [00:47<36:25,  1.18it/s]/Users/paulrusing/miniconda3/envs/pru_dev2/envs/rl_env/lib/python3.13/site-packages/numpy/_core/fromnumeric.py:3860: RuntimeWarning: Mean of empty slice.\n",
      "  return _methods._mean(a, axis=axis, dtype=dtype,\n",
      "/Users/paulrusing/miniconda3/envs/pru_dev2/envs/rl_env/lib/python3.13/site-packages/numpy/_core/_methods.py:145: RuntimeWarning: invalid value encountered in scalar divide\n",
      "  ret = ret.dtype.type(ret / rcount)\n"
     ]
    },
    {
     "name": "stdout",
     "output_type": "stream",
     "text": [
      "No product with leverage inside (6.5, 7.0) found. Using next smaller leverage.\n"
     ]
    },
    {
     "name": "stderr",
     "output_type": "stream",
     "text": [
      "  2%|▏         | 66/2650 [00:48<36:16,  1.19it/s]/Users/paulrusing/miniconda3/envs/pru_dev2/envs/rl_env/lib/python3.13/site-packages/numpy/_core/fromnumeric.py:3860: RuntimeWarning: Mean of empty slice.\n",
      "  return _methods._mean(a, axis=axis, dtype=dtype,\n",
      "/Users/paulrusing/miniconda3/envs/pru_dev2/envs/rl_env/lib/python3.13/site-packages/numpy/_core/_methods.py:145: RuntimeWarning: invalid value encountered in scalar divide\n",
      "  ret = ret.dtype.type(ret / rcount)\n",
      "  3%|▎         | 67/2650 [00:49<36:10,  1.19it/s]/Users/paulrusing/miniconda3/envs/pru_dev2/envs/rl_env/lib/python3.13/site-packages/numpy/_core/fromnumeric.py:3860: RuntimeWarning: Mean of empty slice.\n",
      "  return _methods._mean(a, axis=axis, dtype=dtype,\n",
      "/Users/paulrusing/miniconda3/envs/pru_dev2/envs/rl_env/lib/python3.13/site-packages/numpy/_core/_methods.py:145: RuntimeWarning: invalid value encountered in scalar divide\n",
      "  ret = ret.dtype.type(ret / rcount)\n",
      "  3%|▎         | 68/2650 [00:50<32:39,  1.32it/s]/Users/paulrusing/miniconda3/envs/pru_dev2/envs/rl_env/lib/python3.13/site-packages/numpy/_core/fromnumeric.py:3860: RuntimeWarning: Mean of empty slice.\n",
      "  return _methods._mean(a, axis=axis, dtype=dtype,\n",
      "/Users/paulrusing/miniconda3/envs/pru_dev2/envs/rl_env/lib/python3.13/site-packages/numpy/_core/_methods.py:145: RuntimeWarning: invalid value encountered in scalar divide\n",
      "  ret = ret.dtype.type(ret / rcount)\n",
      "  3%|▎         | 69/2650 [00:50<33:30,  1.28it/s]/Users/paulrusing/miniconda3/envs/pru_dev2/envs/rl_env/lib/python3.13/site-packages/numpy/_core/fromnumeric.py:3860: RuntimeWarning: Mean of empty slice.\n",
      "  return _methods._mean(a, axis=axis, dtype=dtype,\n",
      "/Users/paulrusing/miniconda3/envs/pru_dev2/envs/rl_env/lib/python3.13/site-packages/numpy/_core/_methods.py:145: RuntimeWarning: invalid value encountered in scalar divide\n",
      "  ret = ret.dtype.type(ret / rcount)\n",
      "  3%|▎         | 70/2650 [00:52<41:08,  1.04it/s]/Users/paulrusing/miniconda3/envs/pru_dev2/envs/rl_env/lib/python3.13/site-packages/numpy/_core/fromnumeric.py:3860: RuntimeWarning: Mean of empty slice.\n",
      "  return _methods._mean(a, axis=axis, dtype=dtype,\n",
      "/Users/paulrusing/miniconda3/envs/pru_dev2/envs/rl_env/lib/python3.13/site-packages/numpy/_core/_methods.py:145: RuntimeWarning: invalid value encountered in scalar divide\n",
      "  ret = ret.dtype.type(ret / rcount)\n",
      "  3%|▎         | 71/2650 [00:53<46:15,  1.08s/it]/Users/paulrusing/miniconda3/envs/pru_dev2/envs/rl_env/lib/python3.13/site-packages/numpy/_core/fromnumeric.py:3860: RuntimeWarning: Mean of empty slice.\n",
      "  return _methods._mean(a, axis=axis, dtype=dtype,\n",
      "/Users/paulrusing/miniconda3/envs/pru_dev2/envs/rl_env/lib/python3.13/site-packages/numpy/_core/_methods.py:145: RuntimeWarning: invalid value encountered in scalar divide\n",
      "  ret = ret.dtype.type(ret / rcount)\n",
      "  3%|▎         | 72/2650 [00:55<49:43,  1.16s/it]/Users/paulrusing/miniconda3/envs/pru_dev2/envs/rl_env/lib/python3.13/site-packages/numpy/_core/fromnumeric.py:3860: RuntimeWarning: Mean of empty slice.\n",
      "  return _methods._mean(a, axis=axis, dtype=dtype,\n",
      "/Users/paulrusing/miniconda3/envs/pru_dev2/envs/rl_env/lib/python3.13/site-packages/numpy/_core/_methods.py:145: RuntimeWarning: invalid value encountered in scalar divide\n",
      "  ret = ret.dtype.type(ret / rcount)\n"
     ]
    },
    {
     "name": "stdout",
     "output_type": "stream",
     "text": [
      "No product with leverage inside (6.5, 7.0) found. Using next smaller leverage.\n"
     ]
    },
    {
     "name": "stderr",
     "output_type": "stream",
     "text": [
      "  3%|▎         | 73/2650 [00:55<45:30,  1.06s/it]/Users/paulrusing/miniconda3/envs/pru_dev2/envs/rl_env/lib/python3.13/site-packages/numpy/_core/fromnumeric.py:3860: RuntimeWarning: Mean of empty slice.\n",
      "  return _methods._mean(a, axis=axis, dtype=dtype,\n",
      "/Users/paulrusing/miniconda3/envs/pru_dev2/envs/rl_env/lib/python3.13/site-packages/numpy/_core/_methods.py:145: RuntimeWarning: invalid value encountered in scalar divide\n",
      "  ret = ret.dtype.type(ret / rcount)\n"
     ]
    },
    {
     "name": "stdout",
     "output_type": "stream",
     "text": [
      "No product with leverage inside (5.5, 6.0) found. Using next smaller leverage.\n"
     ]
    },
    {
     "name": "stderr",
     "output_type": "stream",
     "text": [
      "  3%|▎         | 74/2650 [00:56<42:32,  1.01it/s]/Users/paulrusing/miniconda3/envs/pru_dev2/envs/rl_env/lib/python3.13/site-packages/numpy/_core/fromnumeric.py:3860: RuntimeWarning: Mean of empty slice.\n",
      "  return _methods._mean(a, axis=axis, dtype=dtype,\n",
      "/Users/paulrusing/miniconda3/envs/pru_dev2/envs/rl_env/lib/python3.13/site-packages/numpy/_core/_methods.py:145: RuntimeWarning: invalid value encountered in scalar divide\n",
      "  ret = ret.dtype.type(ret / rcount)\n"
     ]
    },
    {
     "name": "stdout",
     "output_type": "stream",
     "text": [
      "No product with leverage inside (5.5, 6.0) found. Using next smaller leverage.\n"
     ]
    },
    {
     "name": "stderr",
     "output_type": "stream",
     "text": [
      "  3%|▎         | 75/2650 [00:57<40:26,  1.06it/s]/Users/paulrusing/miniconda3/envs/pru_dev2/envs/rl_env/lib/python3.13/site-packages/numpy/_core/fromnumeric.py:3860: RuntimeWarning: Mean of empty slice.\n",
      "  return _methods._mean(a, axis=axis, dtype=dtype,\n",
      "/Users/paulrusing/miniconda3/envs/pru_dev2/envs/rl_env/lib/python3.13/site-packages/numpy/_core/_methods.py:145: RuntimeWarning: invalid value encountered in scalar divide\n",
      "  ret = ret.dtype.type(ret / rcount)\n"
     ]
    },
    {
     "name": "stdout",
     "output_type": "stream",
     "text": [
      "No product with leverage inside (6.0, 6.5) found. Using next smaller leverage.\n"
     ]
    },
    {
     "name": "stderr",
     "output_type": "stream",
     "text": [
      "  3%|▎         | 76/2650 [00:58<39:05,  1.10it/s]/Users/paulrusing/miniconda3/envs/pru_dev2/envs/rl_env/lib/python3.13/site-packages/numpy/_core/fromnumeric.py:3860: RuntimeWarning: Mean of empty slice.\n",
      "  return _methods._mean(a, axis=axis, dtype=dtype,\n",
      "/Users/paulrusing/miniconda3/envs/pru_dev2/envs/rl_env/lib/python3.13/site-packages/numpy/_core/_methods.py:145: RuntimeWarning: invalid value encountered in scalar divide\n",
      "  ret = ret.dtype.type(ret / rcount)\n",
      "  3%|▎         | 77/2650 [00:59<44:44,  1.04s/it]/Users/paulrusing/miniconda3/envs/pru_dev2/envs/rl_env/lib/python3.13/site-packages/numpy/_core/fromnumeric.py:3860: RuntimeWarning: Mean of empty slice.\n",
      "  return _methods._mean(a, axis=axis, dtype=dtype,\n",
      "/Users/paulrusing/miniconda3/envs/pru_dev2/envs/rl_env/lib/python3.13/site-packages/numpy/_core/_methods.py:145: RuntimeWarning: invalid value encountered in scalar divide\n",
      "  ret = ret.dtype.type(ret / rcount)\n",
      "  3%|▎         | 78/2650 [01:01<48:39,  1.13s/it]/Users/paulrusing/miniconda3/envs/pru_dev2/envs/rl_env/lib/python3.13/site-packages/numpy/_core/fromnumeric.py:3860: RuntimeWarning: Mean of empty slice.\n",
      "  return _methods._mean(a, axis=axis, dtype=dtype,\n",
      "/Users/paulrusing/miniconda3/envs/pru_dev2/envs/rl_env/lib/python3.13/site-packages/numpy/_core/_methods.py:145: RuntimeWarning: invalid value encountered in scalar divide\n",
      "  ret = ret.dtype.type(ret / rcount)\n",
      "  3%|▎         | 79/2650 [01:02<51:31,  1.20s/it]/Users/paulrusing/miniconda3/envs/pru_dev2/envs/rl_env/lib/python3.13/site-packages/numpy/_core/fromnumeric.py:3860: RuntimeWarning: Mean of empty slice.\n",
      "  return _methods._mean(a, axis=axis, dtype=dtype,\n",
      "/Users/paulrusing/miniconda3/envs/pru_dev2/envs/rl_env/lib/python3.13/site-packages/numpy/_core/_methods.py:145: RuntimeWarning: invalid value encountered in scalar divide\n",
      "  ret = ret.dtype.type(ret / rcount)\n",
      "  3%|▎         | 80/2650 [01:03<53:17,  1.24s/it]/Users/paulrusing/miniconda3/envs/pru_dev2/envs/rl_env/lib/python3.13/site-packages/numpy/_core/fromnumeric.py:3860: RuntimeWarning: Mean of empty slice.\n",
      "  return _methods._mean(a, axis=axis, dtype=dtype,\n",
      "/Users/paulrusing/miniconda3/envs/pru_dev2/envs/rl_env/lib/python3.13/site-packages/numpy/_core/_methods.py:145: RuntimeWarning: invalid value encountered in scalar divide\n",
      "  ret = ret.dtype.type(ret / rcount)\n",
      "  3%|▎         | 81/2650 [01:04<48:02,  1.12s/it]/Users/paulrusing/miniconda3/envs/pru_dev2/envs/rl_env/lib/python3.13/site-packages/numpy/_core/fromnumeric.py:3860: RuntimeWarning: Mean of empty slice.\n",
      "  return _methods._mean(a, axis=axis, dtype=dtype,\n",
      "/Users/paulrusing/miniconda3/envs/pru_dev2/envs/rl_env/lib/python3.13/site-packages/numpy/_core/_methods.py:145: RuntimeWarning: invalid value encountered in scalar divide\n",
      "  ret = ret.dtype.type(ret / rcount)\n",
      "  3%|▎         | 82/2650 [01:05<44:09,  1.03s/it]/Users/paulrusing/miniconda3/envs/pru_dev2/envs/rl_env/lib/python3.13/site-packages/numpy/_core/fromnumeric.py:3860: RuntimeWarning: Mean of empty slice.\n",
      "  return _methods._mean(a, axis=axis, dtype=dtype,\n",
      "/Users/paulrusing/miniconda3/envs/pru_dev2/envs/rl_env/lib/python3.13/site-packages/numpy/_core/_methods.py:145: RuntimeWarning: invalid value encountered in scalar divide\n",
      "  ret = ret.dtype.type(ret / rcount)\n",
      "  3%|▎         | 83/2650 [01:06<41:28,  1.03it/s]/Users/paulrusing/miniconda3/envs/pru_dev2/envs/rl_env/lib/python3.13/site-packages/numpy/_core/fromnumeric.py:3860: RuntimeWarning: Mean of empty slice.\n",
      "  return _methods._mean(a, axis=axis, dtype=dtype,\n",
      "/Users/paulrusing/miniconda3/envs/pru_dev2/envs/rl_env/lib/python3.13/site-packages/numpy/_core/_methods.py:145: RuntimeWarning: invalid value encountered in scalar divide\n",
      "  ret = ret.dtype.type(ret / rcount)\n",
      "  3%|▎         | 84/2650 [01:07<46:22,  1.08s/it]/Users/paulrusing/miniconda3/envs/pru_dev2/envs/rl_env/lib/python3.13/site-packages/numpy/_core/fromnumeric.py:3860: RuntimeWarning: Mean of empty slice.\n",
      "  return _methods._mean(a, axis=axis, dtype=dtype,\n",
      "/Users/paulrusing/miniconda3/envs/pru_dev2/envs/rl_env/lib/python3.13/site-packages/numpy/_core/_methods.py:145: RuntimeWarning: invalid value encountered in scalar divide\n",
      "  ret = ret.dtype.type(ret / rcount)\n",
      "  3%|▎         | 85/2650 [01:08<49:48,  1.17s/it]/Users/paulrusing/miniconda3/envs/pru_dev2/envs/rl_env/lib/python3.13/site-packages/numpy/_core/fromnumeric.py:3860: RuntimeWarning: Mean of empty slice.\n",
      "  return _methods._mean(a, axis=axis, dtype=dtype,\n",
      "/Users/paulrusing/miniconda3/envs/pru_dev2/envs/rl_env/lib/python3.13/site-packages/numpy/_core/_methods.py:145: RuntimeWarning: invalid value encountered in scalar divide\n",
      "  ret = ret.dtype.type(ret / rcount)\n",
      "  3%|▎         | 86/2650 [01:10<52:17,  1.22s/it]/Users/paulrusing/miniconda3/envs/pru_dev2/envs/rl_env/lib/python3.13/site-packages/numpy/_core/fromnumeric.py:3860: RuntimeWarning: Mean of empty slice.\n",
      "  return _methods._mean(a, axis=axis, dtype=dtype,\n",
      "/Users/paulrusing/miniconda3/envs/pru_dev2/envs/rl_env/lib/python3.13/site-packages/numpy/_core/_methods.py:145: RuntimeWarning: invalid value encountered in scalar divide\n",
      "  ret = ret.dtype.type(ret / rcount)\n",
      "  3%|▎         | 87/2650 [01:11<47:17,  1.11s/it]/Users/paulrusing/miniconda3/envs/pru_dev2/envs/rl_env/lib/python3.13/site-packages/numpy/_core/fromnumeric.py:3860: RuntimeWarning: Mean of empty slice.\n",
      "  return _methods._mean(a, axis=axis, dtype=dtype,\n",
      "/Users/paulrusing/miniconda3/envs/pru_dev2/envs/rl_env/lib/python3.13/site-packages/numpy/_core/_methods.py:145: RuntimeWarning: invalid value encountered in scalar divide\n",
      "  ret = ret.dtype.type(ret / rcount)\n",
      "  3%|▎         | 88/2650 [01:12<50:34,  1.18s/it]/Users/paulrusing/miniconda3/envs/pru_dev2/envs/rl_env/lib/python3.13/site-packages/numpy/_core/fromnumeric.py:3860: RuntimeWarning: Mean of empty slice.\n",
      "  return _methods._mean(a, axis=axis, dtype=dtype,\n",
      "/Users/paulrusing/miniconda3/envs/pru_dev2/envs/rl_env/lib/python3.13/site-packages/numpy/_core/_methods.py:145: RuntimeWarning: invalid value encountered in scalar divide\n",
      "  ret = ret.dtype.type(ret / rcount)\n",
      "  3%|▎         | 89/2650 [01:13<52:42,  1.23s/it]/Users/paulrusing/miniconda3/envs/pru_dev2/envs/rl_env/lib/python3.13/site-packages/numpy/_core/fromnumeric.py:3860: RuntimeWarning: Mean of empty slice.\n",
      "  return _methods._mean(a, axis=axis, dtype=dtype,\n",
      "/Users/paulrusing/miniconda3/envs/pru_dev2/envs/rl_env/lib/python3.13/site-packages/numpy/_core/_methods.py:145: RuntimeWarning: invalid value encountered in scalar divide\n",
      "  ret = ret.dtype.type(ret / rcount)\n",
      "  3%|▎         | 90/2650 [01:15<54:16,  1.27s/it]/Users/paulrusing/miniconda3/envs/pru_dev2/envs/rl_env/lib/python3.13/site-packages/numpy/_core/fromnumeric.py:3860: RuntimeWarning: Mean of empty slice.\n",
      "  return _methods._mean(a, axis=axis, dtype=dtype,\n",
      "/Users/paulrusing/miniconda3/envs/pru_dev2/envs/rl_env/lib/python3.13/site-packages/numpy/_core/_methods.py:145: RuntimeWarning: invalid value encountered in scalar divide\n",
      "  ret = ret.dtype.type(ret / rcount)\n"
     ]
    },
    {
     "name": "stdout",
     "output_type": "stream",
     "text": [
      "No product with leverage inside (6.5, 7.0) found. Using next smaller leverage.\n"
     ]
    },
    {
     "name": "stderr",
     "output_type": "stream",
     "text": [
      "  3%|▎         | 91/2650 [01:16<49:37,  1.16s/it]/Users/paulrusing/miniconda3/envs/pru_dev2/envs/rl_env/lib/python3.13/site-packages/numpy/_core/fromnumeric.py:3860: RuntimeWarning: Mean of empty slice.\n",
      "  return _methods._mean(a, axis=axis, dtype=dtype,\n",
      "/Users/paulrusing/miniconda3/envs/pru_dev2/envs/rl_env/lib/python3.13/site-packages/numpy/_core/_methods.py:145: RuntimeWarning: invalid value encountered in scalar divide\n",
      "  ret = ret.dtype.type(ret / rcount)\n"
     ]
    },
    {
     "name": "stdout",
     "output_type": "stream",
     "text": [
      "No product with leverage inside (6.5, 7.0) found. Using next smaller leverage.\n"
     ]
    },
    {
     "name": "stderr",
     "output_type": "stream",
     "text": [
      "  3%|▎         | 92/2650 [01:17<46:25,  1.09s/it]/Users/paulrusing/miniconda3/envs/pru_dev2/envs/rl_env/lib/python3.13/site-packages/numpy/_core/fromnumeric.py:3860: RuntimeWarning: Mean of empty slice.\n",
      "  return _methods._mean(a, axis=axis, dtype=dtype,\n",
      "/Users/paulrusing/miniconda3/envs/pru_dev2/envs/rl_env/lib/python3.13/site-packages/numpy/_core/_methods.py:145: RuntimeWarning: invalid value encountered in scalar divide\n",
      "  ret = ret.dtype.type(ret / rcount)\n",
      "  4%|▎         | 93/2650 [01:18<50:07,  1.18s/it]/Users/paulrusing/miniconda3/envs/pru_dev2/envs/rl_env/lib/python3.13/site-packages/numpy/_core/fromnumeric.py:3860: RuntimeWarning: Mean of empty slice.\n",
      "  return _methods._mean(a, axis=axis, dtype=dtype,\n",
      "/Users/paulrusing/miniconda3/envs/pru_dev2/envs/rl_env/lib/python3.13/site-packages/numpy/_core/_methods.py:145: RuntimeWarning: invalid value encountered in scalar divide\n",
      "  ret = ret.dtype.type(ret / rcount)\n",
      "  4%|▎         | 94/2650 [01:19<52:24,  1.23s/it]/Users/paulrusing/miniconda3/envs/pru_dev2/envs/rl_env/lib/python3.13/site-packages/numpy/_core/fromnumeric.py:3860: RuntimeWarning: Mean of empty slice.\n",
      "  return _methods._mean(a, axis=axis, dtype=dtype,\n",
      "/Users/paulrusing/miniconda3/envs/pru_dev2/envs/rl_env/lib/python3.13/site-packages/numpy/_core/_methods.py:145: RuntimeWarning: invalid value encountered in scalar divide\n",
      "  ret = ret.dtype.type(ret / rcount)\n",
      "  4%|▎         | 95/2650 [01:20<47:14,  1.11s/it]/Users/paulrusing/miniconda3/envs/pru_dev2/envs/rl_env/lib/python3.13/site-packages/numpy/_core/fromnumeric.py:3860: RuntimeWarning: Mean of empty slice.\n",
      "  return _methods._mean(a, axis=axis, dtype=dtype,\n",
      "/Users/paulrusing/miniconda3/envs/pru_dev2/envs/rl_env/lib/python3.13/site-packages/numpy/_core/_methods.py:145: RuntimeWarning: invalid value encountered in scalar divide\n",
      "  ret = ret.dtype.type(ret / rcount)\n",
      "  4%|▎         | 96/2650 [01:21<50:18,  1.18s/it]/Users/paulrusing/miniconda3/envs/pru_dev2/envs/rl_env/lib/python3.13/site-packages/numpy/_core/fromnumeric.py:3860: RuntimeWarning: Mean of empty slice.\n",
      "  return _methods._mean(a, axis=axis, dtype=dtype,\n",
      "/Users/paulrusing/miniconda3/envs/pru_dev2/envs/rl_env/lib/python3.13/site-packages/numpy/_core/_methods.py:145: RuntimeWarning: invalid value encountered in scalar divide\n",
      "  ret = ret.dtype.type(ret / rcount)\n",
      "  4%|▎         | 97/2650 [01:23<52:25,  1.23s/it]/Users/paulrusing/miniconda3/envs/pru_dev2/envs/rl_env/lib/python3.13/site-packages/numpy/_core/fromnumeric.py:3860: RuntimeWarning: Mean of empty slice.\n",
      "  return _methods._mean(a, axis=axis, dtype=dtype,\n",
      "/Users/paulrusing/miniconda3/envs/pru_dev2/envs/rl_env/lib/python3.13/site-packages/numpy/_core/_methods.py:145: RuntimeWarning: invalid value encountered in scalar divide\n",
      "  ret = ret.dtype.type(ret / rcount)\n",
      "  4%|▎         | 98/2650 [01:24<47:10,  1.11s/it]/Users/paulrusing/miniconda3/envs/pru_dev2/envs/rl_env/lib/python3.13/site-packages/numpy/_core/fromnumeric.py:3860: RuntimeWarning: Mean of empty slice.\n",
      "  return _methods._mean(a, axis=axis, dtype=dtype,\n",
      "/Users/paulrusing/miniconda3/envs/pru_dev2/envs/rl_env/lib/python3.13/site-packages/numpy/_core/_methods.py:145: RuntimeWarning: invalid value encountered in scalar divide\n",
      "  ret = ret.dtype.type(ret / rcount)\n",
      "  4%|▎         | 99/2650 [01:24<43:32,  1.02s/it]/Users/paulrusing/miniconda3/envs/pru_dev2/envs/rl_env/lib/python3.13/site-packages/numpy/_core/fromnumeric.py:3860: RuntimeWarning: Mean of empty slice.\n",
      "  return _methods._mean(a, axis=axis, dtype=dtype,\n",
      "/Users/paulrusing/miniconda3/envs/pru_dev2/envs/rl_env/lib/python3.13/site-packages/numpy/_core/_methods.py:145: RuntimeWarning: invalid value encountered in scalar divide\n",
      "  ret = ret.dtype.type(ret / rcount)\n"
     ]
    },
    {
     "name": "stdout",
     "output_type": "stream",
     "text": [
      "No product with leverage inside (6.0, 6.5) found. Using next smaller leverage.\n"
     ]
    },
    {
     "name": "stderr",
     "output_type": "stream",
     "text": [
      "  4%|▍         | 100/2650 [01:25<41:03,  1.04it/s]/Users/paulrusing/miniconda3/envs/pru_dev2/envs/rl_env/lib/python3.13/site-packages/numpy/_core/fromnumeric.py:3860: RuntimeWarning: Mean of empty slice.\n",
      "  return _methods._mean(a, axis=axis, dtype=dtype,\n",
      "/Users/paulrusing/miniconda3/envs/pru_dev2/envs/rl_env/lib/python3.13/site-packages/numpy/_core/_methods.py:145: RuntimeWarning: invalid value encountered in scalar divide\n",
      "  ret = ret.dtype.type(ret / rcount)\n",
      "  4%|▍         | 101/2650 [01:26<39:18,  1.08it/s]/Users/paulrusing/miniconda3/envs/pru_dev2/envs/rl_env/lib/python3.13/site-packages/numpy/_core/fromnumeric.py:3860: RuntimeWarning: Mean of empty slice.\n",
      "  return _methods._mean(a, axis=axis, dtype=dtype,\n",
      "/Users/paulrusing/miniconda3/envs/pru_dev2/envs/rl_env/lib/python3.13/site-packages/numpy/_core/_methods.py:145: RuntimeWarning: invalid value encountered in scalar divide\n",
      "  ret = ret.dtype.type(ret / rcount)\n",
      "  4%|▍         | 102/2650 [01:27<37:57,  1.12it/s]/Users/paulrusing/miniconda3/envs/pru_dev2/envs/rl_env/lib/python3.13/site-packages/numpy/_core/fromnumeric.py:3860: RuntimeWarning: Mean of empty slice.\n",
      "  return _methods._mean(a, axis=axis, dtype=dtype,\n",
      "/Users/paulrusing/miniconda3/envs/pru_dev2/envs/rl_env/lib/python3.13/site-packages/numpy/_core/_methods.py:145: RuntimeWarning: invalid value encountered in scalar divide\n",
      "  ret = ret.dtype.type(ret / rcount)\n",
      "  4%|▍         | 103/2650 [01:28<37:15,  1.14it/s]/Users/paulrusing/miniconda3/envs/pru_dev2/envs/rl_env/lib/python3.13/site-packages/numpy/_core/fromnumeric.py:3860: RuntimeWarning: Mean of empty slice.\n",
      "  return _methods._mean(a, axis=axis, dtype=dtype,\n",
      "/Users/paulrusing/miniconda3/envs/pru_dev2/envs/rl_env/lib/python3.13/site-packages/numpy/_core/_methods.py:145: RuntimeWarning: invalid value encountered in scalar divide\n",
      "  ret = ret.dtype.type(ret / rcount)\n",
      "  4%|▍         | 104/2650 [01:29<36:37,  1.16it/s]/Users/paulrusing/miniconda3/envs/pru_dev2/envs/rl_env/lib/python3.13/site-packages/numpy/_core/fromnumeric.py:3860: RuntimeWarning: Mean of empty slice.\n",
      "  return _methods._mean(a, axis=axis, dtype=dtype,\n",
      "/Users/paulrusing/miniconda3/envs/pru_dev2/envs/rl_env/lib/python3.13/site-packages/numpy/_core/_methods.py:145: RuntimeWarning: invalid value encountered in scalar divide\n",
      "  ret = ret.dtype.type(ret / rcount)\n",
      "  4%|▍         | 105/2650 [01:30<42:47,  1.01s/it]/Users/paulrusing/miniconda3/envs/pru_dev2/envs/rl_env/lib/python3.13/site-packages/numpy/_core/fromnumeric.py:3860: RuntimeWarning: Mean of empty slice.\n",
      "  return _methods._mean(a, axis=axis, dtype=dtype,\n",
      "/Users/paulrusing/miniconda3/envs/pru_dev2/envs/rl_env/lib/python3.13/site-packages/numpy/_core/_methods.py:145: RuntimeWarning: invalid value encountered in scalar divide\n",
      "  ret = ret.dtype.type(ret / rcount)\n"
     ]
    },
    {
     "name": "stdout",
     "output_type": "stream",
     "text": [
      "No product with leverage inside (6.5, 7.0) found. Using next smaller leverage.\n"
     ]
    },
    {
     "name": "stderr",
     "output_type": "stream",
     "text": [
      "  4%|▍         | 106/2650 [01:31<40:24,  1.05it/s]/Users/paulrusing/miniconda3/envs/pru_dev2/envs/rl_env/lib/python3.13/site-packages/numpy/_core/fromnumeric.py:3860: RuntimeWarning: Mean of empty slice.\n",
      "  return _methods._mean(a, axis=axis, dtype=dtype,\n",
      "/Users/paulrusing/miniconda3/envs/pru_dev2/envs/rl_env/lib/python3.13/site-packages/numpy/_core/_methods.py:145: RuntimeWarning: invalid value encountered in scalar divide\n",
      "  ret = ret.dtype.type(ret / rcount)\n"
     ]
    },
    {
     "name": "stdout",
     "output_type": "stream",
     "text": [
      "No product with leverage inside (6.5, 7.0) found. Using next smaller leverage.\n"
     ]
    },
    {
     "name": "stderr",
     "output_type": "stream",
     "text": [
      "  4%|▍         | 107/2650 [01:32<38:51,  1.09it/s]/Users/paulrusing/miniconda3/envs/pru_dev2/envs/rl_env/lib/python3.13/site-packages/numpy/_core/fromnumeric.py:3860: RuntimeWarning: Mean of empty slice.\n",
      "  return _methods._mean(a, axis=axis, dtype=dtype,\n",
      "/Users/paulrusing/miniconda3/envs/pru_dev2/envs/rl_env/lib/python3.13/site-packages/numpy/_core/_methods.py:145: RuntimeWarning: invalid value encountered in scalar divide\n",
      "  ret = ret.dtype.type(ret / rcount)\n"
     ]
    },
    {
     "name": "stdout",
     "output_type": "stream",
     "text": [
      "No product with leverage inside (6.0, 6.5) found. Using next smaller leverage.\n"
     ]
    },
    {
     "name": "stderr",
     "output_type": "stream",
     "text": [
      "  4%|▍         | 108/2650 [01:32<37:44,  1.12it/s]/Users/paulrusing/miniconda3/envs/pru_dev2/envs/rl_env/lib/python3.13/site-packages/numpy/_core/fromnumeric.py:3860: RuntimeWarning: Mean of empty slice.\n",
      "  return _methods._mean(a, axis=axis, dtype=dtype,\n",
      "/Users/paulrusing/miniconda3/envs/pru_dev2/envs/rl_env/lib/python3.13/site-packages/numpy/_core/_methods.py:145: RuntimeWarning: invalid value encountered in scalar divide\n",
      "  ret = ret.dtype.type(ret / rcount)\n",
      "  4%|▍         | 109/2650 [01:34<43:38,  1.03s/it]/Users/paulrusing/miniconda3/envs/pru_dev2/envs/rl_env/lib/python3.13/site-packages/numpy/_core/fromnumeric.py:3860: RuntimeWarning: Mean of empty slice.\n",
      "  return _methods._mean(a, axis=axis, dtype=dtype,\n",
      "/Users/paulrusing/miniconda3/envs/pru_dev2/envs/rl_env/lib/python3.13/site-packages/numpy/_core/_methods.py:145: RuntimeWarning: invalid value encountered in scalar divide\n",
      "  ret = ret.dtype.type(ret / rcount)\n",
      "  4%|▍         | 110/2650 [01:35<47:39,  1.13s/it]/Users/paulrusing/miniconda3/envs/pru_dev2/envs/rl_env/lib/python3.13/site-packages/numpy/_core/fromnumeric.py:3860: RuntimeWarning: Mean of empty slice.\n",
      "  return _methods._mean(a, axis=axis, dtype=dtype,\n",
      "/Users/paulrusing/miniconda3/envs/pru_dev2/envs/rl_env/lib/python3.13/site-packages/numpy/_core/_methods.py:145: RuntimeWarning: invalid value encountered in scalar divide\n",
      "  ret = ret.dtype.type(ret / rcount)\n"
     ]
    },
    {
     "name": "stdout",
     "output_type": "stream",
     "text": [
      "No product with leverage inside (6.5, 7.0) found. Using next smaller leverage.\n"
     ]
    },
    {
     "name": "stderr",
     "output_type": "stream",
     "text": [
      "  4%|▍         | 111/2650 [01:36<43:58,  1.04s/it]/Users/paulrusing/miniconda3/envs/pru_dev2/envs/rl_env/lib/python3.13/site-packages/numpy/_core/fromnumeric.py:3860: RuntimeWarning: Mean of empty slice.\n",
      "  return _methods._mean(a, axis=axis, dtype=dtype,\n",
      "/Users/paulrusing/miniconda3/envs/pru_dev2/envs/rl_env/lib/python3.13/site-packages/numpy/_core/_methods.py:145: RuntimeWarning: invalid value encountered in scalar divide\n",
      "  ret = ret.dtype.type(ret / rcount)\n",
      "  4%|▍         | 112/2650 [01:37<41:19,  1.02it/s]/Users/paulrusing/miniconda3/envs/pru_dev2/envs/rl_env/lib/python3.13/site-packages/numpy/_core/fromnumeric.py:3860: RuntimeWarning: Mean of empty slice.\n",
      "  return _methods._mean(a, axis=axis, dtype=dtype,\n",
      "/Users/paulrusing/miniconda3/envs/pru_dev2/envs/rl_env/lib/python3.13/site-packages/numpy/_core/_methods.py:145: RuntimeWarning: invalid value encountered in scalar divide\n",
      "  ret = ret.dtype.type(ret / rcount)\n"
     ]
    },
    {
     "name": "stdout",
     "output_type": "stream",
     "text": [
      "No product with leverage inside (6.0, 6.5) found. Using next smaller leverage.\n"
     ]
    },
    {
     "name": "stderr",
     "output_type": "stream",
     "text": [
      "  4%|▍         | 113/2650 [01:38<39:21,  1.07it/s]/Users/paulrusing/miniconda3/envs/pru_dev2/envs/rl_env/lib/python3.13/site-packages/numpy/_core/fromnumeric.py:3860: RuntimeWarning: Mean of empty slice.\n",
      "  return _methods._mean(a, axis=axis, dtype=dtype,\n",
      "/Users/paulrusing/miniconda3/envs/pru_dev2/envs/rl_env/lib/python3.13/site-packages/numpy/_core/_methods.py:145: RuntimeWarning: invalid value encountered in scalar divide\n",
      "  ret = ret.dtype.type(ret / rcount)\n"
     ]
    },
    {
     "name": "stdout",
     "output_type": "stream",
     "text": [
      "No product with leverage inside (5.5, 6.0) found. Using next smaller leverage.\n"
     ]
    },
    {
     "name": "stderr",
     "output_type": "stream",
     "text": [
      "  4%|▍         | 114/2650 [01:38<38:04,  1.11it/s]/Users/paulrusing/miniconda3/envs/pru_dev2/envs/rl_env/lib/python3.13/site-packages/numpy/_core/fromnumeric.py:3860: RuntimeWarning: Mean of empty slice.\n",
      "  return _methods._mean(a, axis=axis, dtype=dtype,\n",
      "/Users/paulrusing/miniconda3/envs/pru_dev2/envs/rl_env/lib/python3.13/site-packages/numpy/_core/_methods.py:145: RuntimeWarning: invalid value encountered in scalar divide\n",
      "  ret = ret.dtype.type(ret / rcount)\n"
     ]
    },
    {
     "name": "stdout",
     "output_type": "stream",
     "text": [
      "No product with leverage inside (5.5, 6.0) found. Using next smaller leverage.\n"
     ]
    },
    {
     "name": "stderr",
     "output_type": "stream",
     "text": [
      "  4%|▍         | 115/2650 [01:39<37:18,  1.13it/s]/Users/paulrusing/miniconda3/envs/pru_dev2/envs/rl_env/lib/python3.13/site-packages/numpy/_core/fromnumeric.py:3860: RuntimeWarning: Mean of empty slice.\n",
      "  return _methods._mean(a, axis=axis, dtype=dtype,\n",
      "/Users/paulrusing/miniconda3/envs/pru_dev2/envs/rl_env/lib/python3.13/site-packages/numpy/_core/_methods.py:145: RuntimeWarning: invalid value encountered in scalar divide\n",
      "  ret = ret.dtype.type(ret / rcount)\n"
     ]
    },
    {
     "name": "stdout",
     "output_type": "stream",
     "text": [
      "No product with leverage inside (6.5, 7.0) found. Using next smaller leverage.\n"
     ]
    },
    {
     "name": "stderr",
     "output_type": "stream",
     "text": [
      "  4%|▍         | 116/2650 [01:40<36:41,  1.15it/s]/Users/paulrusing/miniconda3/envs/pru_dev2/envs/rl_env/lib/python3.13/site-packages/numpy/_core/fromnumeric.py:3860: RuntimeWarning: Mean of empty slice.\n",
      "  return _methods._mean(a, axis=axis, dtype=dtype,\n",
      "/Users/paulrusing/miniconda3/envs/pru_dev2/envs/rl_env/lib/python3.13/site-packages/numpy/_core/_methods.py:145: RuntimeWarning: invalid value encountered in scalar divide\n",
      "  ret = ret.dtype.type(ret / rcount)\n"
     ]
    },
    {
     "name": "stdout",
     "output_type": "stream",
     "text": [
      "No product with leverage inside (6.0, 6.5) found. Using next smaller leverage.\n"
     ]
    },
    {
     "name": "stderr",
     "output_type": "stream",
     "text": [
      "  4%|▍         | 117/2650 [01:41<36:14,  1.16it/s]/Users/paulrusing/miniconda3/envs/pru_dev2/envs/rl_env/lib/python3.13/site-packages/numpy/_core/fromnumeric.py:3860: RuntimeWarning: Mean of empty slice.\n",
      "  return _methods._mean(a, axis=axis, dtype=dtype,\n",
      "/Users/paulrusing/miniconda3/envs/pru_dev2/envs/rl_env/lib/python3.13/site-packages/numpy/_core/_methods.py:145: RuntimeWarning: invalid value encountered in scalar divide\n",
      "  ret = ret.dtype.type(ret / rcount)\n"
     ]
    },
    {
     "name": "stdout",
     "output_type": "stream",
     "text": [
      "No product with leverage inside (6.5, 7.0) found. Using next smaller leverage.\n"
     ]
    },
    {
     "name": "stderr",
     "output_type": "stream",
     "text": [
      "  4%|▍         | 118/2650 [01:42<35:52,  1.18it/s]/Users/paulrusing/miniconda3/envs/pru_dev2/envs/rl_env/lib/python3.13/site-packages/numpy/_core/fromnumeric.py:3860: RuntimeWarning: Mean of empty slice.\n",
      "  return _methods._mean(a, axis=axis, dtype=dtype,\n",
      "/Users/paulrusing/miniconda3/envs/pru_dev2/envs/rl_env/lib/python3.13/site-packages/numpy/_core/_methods.py:145: RuntimeWarning: invalid value encountered in scalar divide\n",
      "  ret = ret.dtype.type(ret / rcount)\n"
     ]
    },
    {
     "name": "stdout",
     "output_type": "stream",
     "text": [
      "No product with leverage inside (6.5, 7.0) found. Using next smaller leverage.\n"
     ]
    },
    {
     "name": "stderr",
     "output_type": "stream",
     "text": [
      "  4%|▍         | 119/2650 [01:43<35:42,  1.18it/s]/Users/paulrusing/miniconda3/envs/pru_dev2/envs/rl_env/lib/python3.13/site-packages/numpy/_core/fromnumeric.py:3860: RuntimeWarning: Mean of empty slice.\n",
      "  return _methods._mean(a, axis=axis, dtype=dtype,\n",
      "/Users/paulrusing/miniconda3/envs/pru_dev2/envs/rl_env/lib/python3.13/site-packages/numpy/_core/_methods.py:145: RuntimeWarning: invalid value encountered in scalar divide\n",
      "  ret = ret.dtype.type(ret / rcount)\n",
      "  5%|▍         | 120/2650 [01:44<42:06,  1.00it/s]/Users/paulrusing/miniconda3/envs/pru_dev2/envs/rl_env/lib/python3.13/site-packages/numpy/_core/fromnumeric.py:3860: RuntimeWarning: Mean of empty slice.\n",
      "  return _methods._mean(a, axis=axis, dtype=dtype,\n",
      "/Users/paulrusing/miniconda3/envs/pru_dev2/envs/rl_env/lib/python3.13/site-packages/numpy/_core/_methods.py:145: RuntimeWarning: invalid value encountered in scalar divide\n",
      "  ret = ret.dtype.type(ret / rcount)\n"
     ]
    },
    {
     "name": "stdout",
     "output_type": "stream",
     "text": [
      "No product with leverage inside (6.5, 7.0) found. Using next smaller leverage.\n"
     ]
    },
    {
     "name": "stderr",
     "output_type": "stream",
     "text": [
      "  5%|▍         | 121/2650 [01:45<39:55,  1.06it/s]/Users/paulrusing/miniconda3/envs/pru_dev2/envs/rl_env/lib/python3.13/site-packages/numpy/_core/fromnumeric.py:3860: RuntimeWarning: Mean of empty slice.\n",
      "  return _methods._mean(a, axis=axis, dtype=dtype,\n",
      "/Users/paulrusing/miniconda3/envs/pru_dev2/envs/rl_env/lib/python3.13/site-packages/numpy/_core/_methods.py:145: RuntimeWarning: invalid value encountered in scalar divide\n",
      "  ret = ret.dtype.type(ret / rcount)\n",
      "  5%|▍         | 122/2650 [01:46<38:25,  1.10it/s]/Users/paulrusing/miniconda3/envs/pru_dev2/envs/rl_env/lib/python3.13/site-packages/numpy/_core/fromnumeric.py:3860: RuntimeWarning: Mean of empty slice.\n",
      "  return _methods._mean(a, axis=axis, dtype=dtype,\n",
      "/Users/paulrusing/miniconda3/envs/pru_dev2/envs/rl_env/lib/python3.13/site-packages/numpy/_core/_methods.py:145: RuntimeWarning: invalid value encountered in scalar divide\n",
      "  ret = ret.dtype.type(ret / rcount)\n",
      "  5%|▍         | 123/2650 [01:46<37:18,  1.13it/s]/Users/paulrusing/miniconda3/envs/pru_dev2/envs/rl_env/lib/python3.13/site-packages/numpy/_core/fromnumeric.py:3860: RuntimeWarning: Mean of empty slice.\n",
      "  return _methods._mean(a, axis=axis, dtype=dtype,\n",
      "/Users/paulrusing/miniconda3/envs/pru_dev2/envs/rl_env/lib/python3.13/site-packages/numpy/_core/_methods.py:145: RuntimeWarning: invalid value encountered in scalar divide\n",
      "  ret = ret.dtype.type(ret / rcount)\n",
      "  5%|▍         | 124/2650 [01:47<36:38,  1.15it/s]/Users/paulrusing/miniconda3/envs/pru_dev2/envs/rl_env/lib/python3.13/site-packages/numpy/_core/fromnumeric.py:3860: RuntimeWarning: Mean of empty slice.\n",
      "  return _methods._mean(a, axis=axis, dtype=dtype,\n",
      "/Users/paulrusing/miniconda3/envs/pru_dev2/envs/rl_env/lib/python3.13/site-packages/numpy/_core/_methods.py:145: RuntimeWarning: invalid value encountered in scalar divide\n",
      "  ret = ret.dtype.type(ret / rcount)\n",
      "  5%|▍         | 125/2650 [01:48<36:10,  1.16it/s]/Users/paulrusing/miniconda3/envs/pru_dev2/envs/rl_env/lib/python3.13/site-packages/numpy/_core/fromnumeric.py:3860: RuntimeWarning: Mean of empty slice.\n",
      "  return _methods._mean(a, axis=axis, dtype=dtype,\n",
      "/Users/paulrusing/miniconda3/envs/pru_dev2/envs/rl_env/lib/python3.13/site-packages/numpy/_core/_methods.py:145: RuntimeWarning: invalid value encountered in scalar divide\n",
      "  ret = ret.dtype.type(ret / rcount)\n",
      "  5%|▍         | 126/2650 [01:49<35:51,  1.17it/s]/Users/paulrusing/miniconda3/envs/pru_dev2/envs/rl_env/lib/python3.13/site-packages/numpy/_core/fromnumeric.py:3860: RuntimeWarning: Mean of empty slice.\n",
      "  return _methods._mean(a, axis=axis, dtype=dtype,\n",
      "/Users/paulrusing/miniconda3/envs/pru_dev2/envs/rl_env/lib/python3.13/site-packages/numpy/_core/_methods.py:145: RuntimeWarning: invalid value encountered in scalar divide\n",
      "  ret = ret.dtype.type(ret / rcount)\n",
      "  5%|▍         | 127/2650 [01:50<35:36,  1.18it/s]/Users/paulrusing/miniconda3/envs/pru_dev2/envs/rl_env/lib/python3.13/site-packages/numpy/_core/fromnumeric.py:3860: RuntimeWarning: Mean of empty slice.\n",
      "  return _methods._mean(a, axis=axis, dtype=dtype,\n",
      "/Users/paulrusing/miniconda3/envs/pru_dev2/envs/rl_env/lib/python3.13/site-packages/numpy/_core/_methods.py:145: RuntimeWarning: invalid value encountered in scalar divide\n",
      "  ret = ret.dtype.type(ret / rcount)\n",
      "  5%|▍         | 128/2650 [01:51<35:21,  1.19it/s]/Users/paulrusing/miniconda3/envs/pru_dev2/envs/rl_env/lib/python3.13/site-packages/numpy/_core/fromnumeric.py:3860: RuntimeWarning: Mean of empty slice.\n",
      "  return _methods._mean(a, axis=axis, dtype=dtype,\n",
      "/Users/paulrusing/miniconda3/envs/pru_dev2/envs/rl_env/lib/python3.13/site-packages/numpy/_core/_methods.py:145: RuntimeWarning: invalid value encountered in scalar divide\n",
      "  ret = ret.dtype.type(ret / rcount)\n",
      "  5%|▍         | 129/2650 [01:52<42:00,  1.00it/s]/Users/paulrusing/miniconda3/envs/pru_dev2/envs/rl_env/lib/python3.13/site-packages/numpy/_core/fromnumeric.py:3860: RuntimeWarning: Mean of empty slice.\n",
      "  return _methods._mean(a, axis=axis, dtype=dtype,\n",
      "/Users/paulrusing/miniconda3/envs/pru_dev2/envs/rl_env/lib/python3.13/site-packages/numpy/_core/_methods.py:145: RuntimeWarning: invalid value encountered in scalar divide\n",
      "  ret = ret.dtype.type(ret / rcount)\n",
      "  5%|▍         | 130/2650 [01:53<39:49,  1.05it/s]/Users/paulrusing/miniconda3/envs/pru_dev2/envs/rl_env/lib/python3.13/site-packages/numpy/_core/fromnumeric.py:3860: RuntimeWarning: Mean of empty slice.\n",
      "  return _methods._mean(a, axis=axis, dtype=dtype,\n",
      "/Users/paulrusing/miniconda3/envs/pru_dev2/envs/rl_env/lib/python3.13/site-packages/numpy/_core/_methods.py:145: RuntimeWarning: invalid value encountered in scalar divide\n",
      "  ret = ret.dtype.type(ret / rcount)\n",
      "  5%|▍         | 131/2650 [01:54<38:15,  1.10it/s]/Users/paulrusing/miniconda3/envs/pru_dev2/envs/rl_env/lib/python3.13/site-packages/numpy/_core/fromnumeric.py:3860: RuntimeWarning: Mean of empty slice.\n",
      "  return _methods._mean(a, axis=axis, dtype=dtype,\n",
      "/Users/paulrusing/miniconda3/envs/pru_dev2/envs/rl_env/lib/python3.13/site-packages/numpy/_core/_methods.py:145: RuntimeWarning: invalid value encountered in scalar divide\n",
      "  ret = ret.dtype.type(ret / rcount)\n",
      "  5%|▍         | 132/2650 [01:55<43:51,  1.05s/it]/Users/paulrusing/miniconda3/envs/pru_dev2/envs/rl_env/lib/python3.13/site-packages/numpy/_core/fromnumeric.py:3860: RuntimeWarning: Mean of empty slice.\n",
      "  return _methods._mean(a, axis=axis, dtype=dtype,\n",
      "/Users/paulrusing/miniconda3/envs/pru_dev2/envs/rl_env/lib/python3.13/site-packages/numpy/_core/_methods.py:145: RuntimeWarning: invalid value encountered in scalar divide\n",
      "  ret = ret.dtype.type(ret / rcount)\n"
     ]
    },
    {
     "name": "stdout",
     "output_type": "stream",
     "text": [
      "No product with leverage inside (6.0, 6.5) found. Using next smaller leverage.\n"
     ]
    },
    {
     "name": "stderr",
     "output_type": "stream",
     "text": [
      "  5%|▌         | 133/2650 [01:56<41:04,  1.02it/s]/Users/paulrusing/miniconda3/envs/pru_dev2/envs/rl_env/lib/python3.13/site-packages/numpy/_core/fromnumeric.py:3860: RuntimeWarning: Mean of empty slice.\n",
      "  return _methods._mean(a, axis=axis, dtype=dtype,\n",
      "/Users/paulrusing/miniconda3/envs/pru_dev2/envs/rl_env/lib/python3.13/site-packages/numpy/_core/_methods.py:145: RuntimeWarning: invalid value encountered in scalar divide\n",
      "  ret = ret.dtype.type(ret / rcount)\n"
     ]
    },
    {
     "name": "stdout",
     "output_type": "stream",
     "text": [
      "No product with leverage inside (6.0, 6.5) found. Using next smaller leverage.\n"
     ]
    },
    {
     "name": "stderr",
     "output_type": "stream",
     "text": [
      "  5%|▌         | 134/2650 [01:57<39:16,  1.07it/s]/Users/paulrusing/miniconda3/envs/pru_dev2/envs/rl_env/lib/python3.13/site-packages/numpy/_core/fromnumeric.py:3860: RuntimeWarning: Mean of empty slice.\n",
      "  return _methods._mean(a, axis=axis, dtype=dtype,\n",
      "/Users/paulrusing/miniconda3/envs/pru_dev2/envs/rl_env/lib/python3.13/site-packages/numpy/_core/_methods.py:145: RuntimeWarning: invalid value encountered in scalar divide\n",
      "  ret = ret.dtype.type(ret / rcount)\n"
     ]
    },
    {
     "name": "stdout",
     "output_type": "stream",
     "text": [
      "No product with leverage inside (6.0, 6.5) found. Using next smaller leverage.\n"
     ]
    },
    {
     "name": "stderr",
     "output_type": "stream",
     "text": [
      "  5%|▌         | 135/2650 [01:58<37:54,  1.11it/s]/Users/paulrusing/miniconda3/envs/pru_dev2/envs/rl_env/lib/python3.13/site-packages/numpy/_core/fromnumeric.py:3860: RuntimeWarning: Mean of empty slice.\n",
      "  return _methods._mean(a, axis=axis, dtype=dtype,\n",
      "/Users/paulrusing/miniconda3/envs/pru_dev2/envs/rl_env/lib/python3.13/site-packages/numpy/_core/_methods.py:145: RuntimeWarning: invalid value encountered in scalar divide\n",
      "  ret = ret.dtype.type(ret / rcount)\n"
     ]
    },
    {
     "name": "stdout",
     "output_type": "stream",
     "text": [
      "No product with leverage inside (5.5, 6.0) found. Using next smaller leverage.\n"
     ]
    },
    {
     "name": "stderr",
     "output_type": "stream",
     "text": [
      "  5%|▌         | 136/2650 [01:58<37:03,  1.13it/s]/Users/paulrusing/miniconda3/envs/pru_dev2/envs/rl_env/lib/python3.13/site-packages/numpy/_core/fromnumeric.py:3860: RuntimeWarning: Mean of empty slice.\n",
      "  return _methods._mean(a, axis=axis, dtype=dtype,\n",
      "/Users/paulrusing/miniconda3/envs/pru_dev2/envs/rl_env/lib/python3.13/site-packages/numpy/_core/_methods.py:145: RuntimeWarning: invalid value encountered in scalar divide\n",
      "  ret = ret.dtype.type(ret / rcount)\n"
     ]
    },
    {
     "name": "stdout",
     "output_type": "stream",
     "text": [
      "No product with leverage inside (5.0, 5.5) found. Using next smaller leverage.\n"
     ]
    },
    {
     "name": "stderr",
     "output_type": "stream",
     "text": [
      "  5%|▌         | 137/2650 [01:59<36:21,  1.15it/s]/Users/paulrusing/miniconda3/envs/pru_dev2/envs/rl_env/lib/python3.13/site-packages/numpy/_core/fromnumeric.py:3860: RuntimeWarning: Mean of empty slice.\n",
      "  return _methods._mean(a, axis=axis, dtype=dtype,\n",
      "/Users/paulrusing/miniconda3/envs/pru_dev2/envs/rl_env/lib/python3.13/site-packages/numpy/_core/_methods.py:145: RuntimeWarning: invalid value encountered in scalar divide\n",
      "  ret = ret.dtype.type(ret / rcount)\n"
     ]
    },
    {
     "name": "stdout",
     "output_type": "stream",
     "text": [
      "No product with leverage inside (5.5, 6.0) found. Using next smaller leverage.\n"
     ]
    },
    {
     "name": "stderr",
     "output_type": "stream",
     "text": [
      "  5%|▌         | 138/2650 [02:00<35:59,  1.16it/s]/Users/paulrusing/miniconda3/envs/pru_dev2/envs/rl_env/lib/python3.13/site-packages/numpy/_core/fromnumeric.py:3860: RuntimeWarning: Mean of empty slice.\n",
      "  return _methods._mean(a, axis=axis, dtype=dtype,\n",
      "/Users/paulrusing/miniconda3/envs/pru_dev2/envs/rl_env/lib/python3.13/site-packages/numpy/_core/_methods.py:145: RuntimeWarning: invalid value encountered in scalar divide\n",
      "  ret = ret.dtype.type(ret / rcount)\n"
     ]
    },
    {
     "name": "stdout",
     "output_type": "stream",
     "text": [
      "No product with leverage inside (6.0, 6.5) found. Using next smaller leverage.\n"
     ]
    },
    {
     "name": "stderr",
     "output_type": "stream",
     "text": [
      "  5%|▌         | 139/2650 [02:01<35:41,  1.17it/s]/Users/paulrusing/miniconda3/envs/pru_dev2/envs/rl_env/lib/python3.13/site-packages/numpy/_core/fromnumeric.py:3860: RuntimeWarning: Mean of empty slice.\n",
      "  return _methods._mean(a, axis=axis, dtype=dtype,\n",
      "/Users/paulrusing/miniconda3/envs/pru_dev2/envs/rl_env/lib/python3.13/site-packages/numpy/_core/_methods.py:145: RuntimeWarning: invalid value encountered in scalar divide\n",
      "  ret = ret.dtype.type(ret / rcount)\n"
     ]
    },
    {
     "name": "stdout",
     "output_type": "stream",
     "text": [
      "No product with leverage inside (6.5, 7.0) found. Using next smaller leverage.\n"
     ]
    },
    {
     "name": "stderr",
     "output_type": "stream",
     "text": [
      "  5%|▌         | 140/2650 [02:02<35:24,  1.18it/s]/Users/paulrusing/miniconda3/envs/pru_dev2/envs/rl_env/lib/python3.13/site-packages/numpy/_core/fromnumeric.py:3860: RuntimeWarning: Mean of empty slice.\n",
      "  return _methods._mean(a, axis=axis, dtype=dtype,\n",
      "/Users/paulrusing/miniconda3/envs/pru_dev2/envs/rl_env/lib/python3.13/site-packages/numpy/_core/_methods.py:145: RuntimeWarning: invalid value encountered in scalar divide\n",
      "  ret = ret.dtype.type(ret / rcount)\n"
     ]
    },
    {
     "name": "stdout",
     "output_type": "stream",
     "text": [
      "No product with leverage inside (6.0, 6.5) found. Using next smaller leverage.\n"
     ]
    },
    {
     "name": "stderr",
     "output_type": "stream",
     "text": [
      "  5%|▌         | 141/2650 [02:03<35:15,  1.19it/s]/Users/paulrusing/miniconda3/envs/pru_dev2/envs/rl_env/lib/python3.13/site-packages/numpy/_core/fromnumeric.py:3860: RuntimeWarning: Mean of empty slice.\n",
      "  return _methods._mean(a, axis=axis, dtype=dtype,\n",
      "/Users/paulrusing/miniconda3/envs/pru_dev2/envs/rl_env/lib/python3.13/site-packages/numpy/_core/_methods.py:145: RuntimeWarning: invalid value encountered in scalar divide\n",
      "  ret = ret.dtype.type(ret / rcount)\n"
     ]
    },
    {
     "name": "stdout",
     "output_type": "stream",
     "text": [
      "No product with leverage inside (6.5, 7.0) found. Using next smaller leverage.\n"
     ]
    },
    {
     "name": "stderr",
     "output_type": "stream",
     "text": [
      "  5%|▌         | 142/2650 [02:03<35:01,  1.19it/s]/Users/paulrusing/miniconda3/envs/pru_dev2/envs/rl_env/lib/python3.13/site-packages/numpy/_core/fromnumeric.py:3860: RuntimeWarning: Mean of empty slice.\n",
      "  return _methods._mean(a, axis=axis, dtype=dtype,\n",
      "/Users/paulrusing/miniconda3/envs/pru_dev2/envs/rl_env/lib/python3.13/site-packages/numpy/_core/_methods.py:145: RuntimeWarning: invalid value encountered in scalar divide\n",
      "  ret = ret.dtype.type(ret / rcount)\n",
      "  5%|▌         | 143/2650 [02:05<41:26,  1.01it/s]/Users/paulrusing/miniconda3/envs/pru_dev2/envs/rl_env/lib/python3.13/site-packages/numpy/_core/fromnumeric.py:3860: RuntimeWarning: Mean of empty slice.\n",
      "  return _methods._mean(a, axis=axis, dtype=dtype,\n",
      "/Users/paulrusing/miniconda3/envs/pru_dev2/envs/rl_env/lib/python3.13/site-packages/numpy/_core/_methods.py:145: RuntimeWarning: invalid value encountered in scalar divide\n",
      "  ret = ret.dtype.type(ret / rcount)\n",
      "  5%|▌         | 144/2650 [02:06<45:51,  1.10s/it]/Users/paulrusing/miniconda3/envs/pru_dev2/envs/rl_env/lib/python3.13/site-packages/numpy/_core/fromnumeric.py:3860: RuntimeWarning: Mean of empty slice.\n",
      "  return _methods._mean(a, axis=axis, dtype=dtype,\n",
      "/Users/paulrusing/miniconda3/envs/pru_dev2/envs/rl_env/lib/python3.13/site-packages/numpy/_core/_methods.py:145: RuntimeWarning: invalid value encountered in scalar divide\n",
      "  ret = ret.dtype.type(ret / rcount)\n",
      "  5%|▌         | 145/2650 [02:07<49:02,  1.17s/it]/Users/paulrusing/miniconda3/envs/pru_dev2/envs/rl_env/lib/python3.13/site-packages/numpy/_core/fromnumeric.py:3860: RuntimeWarning: Mean of empty slice.\n",
      "  return _methods._mean(a, axis=axis, dtype=dtype,\n",
      "/Users/paulrusing/miniconda3/envs/pru_dev2/envs/rl_env/lib/python3.13/site-packages/numpy/_core/_methods.py:145: RuntimeWarning: invalid value encountered in scalar divide\n",
      "  ret = ret.dtype.type(ret / rcount)\n"
     ]
    },
    {
     "name": "stdout",
     "output_type": "stream",
     "text": [
      "No product with leverage inside (6.5, 7.0) found. Using next smaller leverage.\n"
     ]
    },
    {
     "name": "stderr",
     "output_type": "stream",
     "text": [
      "  6%|▌         | 146/2650 [02:08<44:39,  1.07s/it]/Users/paulrusing/miniconda3/envs/pru_dev2/envs/rl_env/lib/python3.13/site-packages/numpy/_core/fromnumeric.py:3860: RuntimeWarning: Mean of empty slice.\n",
      "  return _methods._mean(a, axis=axis, dtype=dtype,\n",
      "/Users/paulrusing/miniconda3/envs/pru_dev2/envs/rl_env/lib/python3.13/site-packages/numpy/_core/_methods.py:145: RuntimeWarning: invalid value encountered in scalar divide\n",
      "  ret = ret.dtype.type(ret / rcount)\n"
     ]
    },
    {
     "name": "stdout",
     "output_type": "stream",
     "text": [
      "No product with leverage inside (6.5, 7.0) found. Using next smaller leverage.\n"
     ]
    },
    {
     "name": "stderr",
     "output_type": "stream",
     "text": [
      "  6%|▌         | 147/2650 [02:09<41:35,  1.00it/s]/Users/paulrusing/miniconda3/envs/pru_dev2/envs/rl_env/lib/python3.13/site-packages/numpy/_core/fromnumeric.py:3860: RuntimeWarning: Mean of empty slice.\n",
      "  return _methods._mean(a, axis=axis, dtype=dtype,\n",
      "/Users/paulrusing/miniconda3/envs/pru_dev2/envs/rl_env/lib/python3.13/site-packages/numpy/_core/_methods.py:145: RuntimeWarning: invalid value encountered in scalar divide\n",
      "  ret = ret.dtype.type(ret / rcount)\n"
     ]
    },
    {
     "name": "stdout",
     "output_type": "stream",
     "text": [
      "No product with leverage inside (6.5, 7.0) found. Using next smaller leverage.\n"
     ]
    },
    {
     "name": "stderr",
     "output_type": "stream",
     "text": [
      "  6%|▌         | 148/2650 [02:10<39:37,  1.05it/s]/Users/paulrusing/miniconda3/envs/pru_dev2/envs/rl_env/lib/python3.13/site-packages/numpy/_core/fromnumeric.py:3860: RuntimeWarning: Mean of empty slice.\n",
      "  return _methods._mean(a, axis=axis, dtype=dtype,\n",
      "/Users/paulrusing/miniconda3/envs/pru_dev2/envs/rl_env/lib/python3.13/site-packages/numpy/_core/_methods.py:145: RuntimeWarning: invalid value encountered in scalar divide\n",
      "  ret = ret.dtype.type(ret / rcount)\n",
      "  6%|▌         | 149/2650 [02:11<44:38,  1.07s/it]/Users/paulrusing/miniconda3/envs/pru_dev2/envs/rl_env/lib/python3.13/site-packages/numpy/_core/fromnumeric.py:3860: RuntimeWarning: Mean of empty slice.\n",
      "  return _methods._mean(a, axis=axis, dtype=dtype,\n",
      "/Users/paulrusing/miniconda3/envs/pru_dev2/envs/rl_env/lib/python3.13/site-packages/numpy/_core/_methods.py:145: RuntimeWarning: invalid value encountered in scalar divide\n",
      "  ret = ret.dtype.type(ret / rcount)\n",
      "  6%|▌         | 150/2650 [02:13<48:05,  1.15s/it]/Users/paulrusing/miniconda3/envs/pru_dev2/envs/rl_env/lib/python3.13/site-packages/numpy/_core/fromnumeric.py:3860: RuntimeWarning: Mean of empty slice.\n",
      "  return _methods._mean(a, axis=axis, dtype=dtype,\n",
      "/Users/paulrusing/miniconda3/envs/pru_dev2/envs/rl_env/lib/python3.13/site-packages/numpy/_core/_methods.py:145: RuntimeWarning: invalid value encountered in scalar divide\n",
      "  ret = ret.dtype.type(ret / rcount)\n",
      "  6%|▌         | 151/2650 [02:14<50:29,  1.21s/it]/Users/paulrusing/miniconda3/envs/pru_dev2/envs/rl_env/lib/python3.13/site-packages/numpy/_core/fromnumeric.py:3860: RuntimeWarning: Mean of empty slice.\n",
      "  return _methods._mean(a, axis=axis, dtype=dtype,\n",
      "/Users/paulrusing/miniconda3/envs/pru_dev2/envs/rl_env/lib/python3.13/site-packages/numpy/_core/_methods.py:145: RuntimeWarning: invalid value encountered in scalar divide\n",
      "  ret = ret.dtype.type(ret / rcount)\n",
      "  6%|▌         | 152/2650 [02:15<45:39,  1.10s/it]/Users/paulrusing/miniconda3/envs/pru_dev2/envs/rl_env/lib/python3.13/site-packages/numpy/_core/fromnumeric.py:3860: RuntimeWarning: Mean of empty slice.\n",
      "  return _methods._mean(a, axis=axis, dtype=dtype,\n",
      "/Users/paulrusing/miniconda3/envs/pru_dev2/envs/rl_env/lib/python3.13/site-packages/numpy/_core/_methods.py:145: RuntimeWarning: invalid value encountered in scalar divide\n",
      "  ret = ret.dtype.type(ret / rcount)\n",
      "  6%|▌         | 153/2650 [02:18<1:13:09,  1.76s/it]/Users/paulrusing/miniconda3/envs/pru_dev2/envs/rl_env/lib/python3.13/site-packages/numpy/_core/fromnumeric.py:3860: RuntimeWarning: Mean of empty slice.\n",
      "  return _methods._mean(a, axis=axis, dtype=dtype,\n",
      "/Users/paulrusing/miniconda3/envs/pru_dev2/envs/rl_env/lib/python3.13/site-packages/numpy/_core/_methods.py:145: RuntimeWarning: invalid value encountered in scalar divide\n",
      "  ret = ret.dtype.type(ret / rcount)\n",
      "  6%|▌         | 154/2650 [02:20<1:14:29,  1.79s/it]/Users/paulrusing/miniconda3/envs/pru_dev2/envs/rl_env/lib/python3.13/site-packages/numpy/_core/fromnumeric.py:3860: RuntimeWarning: Mean of empty slice.\n",
      "  return _methods._mean(a, axis=axis, dtype=dtype,\n",
      "/Users/paulrusing/miniconda3/envs/pru_dev2/envs/rl_env/lib/python3.13/site-packages/numpy/_core/_methods.py:145: RuntimeWarning: invalid value encountered in scalar divide\n",
      "  ret = ret.dtype.type(ret / rcount)\n",
      "  6%|▌         | 155/2650 [02:21<1:09:30,  1.67s/it]/Users/paulrusing/miniconda3/envs/pru_dev2/envs/rl_env/lib/python3.13/site-packages/numpy/_core/fromnumeric.py:3860: RuntimeWarning: Mean of empty slice.\n",
      "  return _methods._mean(a, axis=axis, dtype=dtype,\n",
      "/Users/paulrusing/miniconda3/envs/pru_dev2/envs/rl_env/lib/python3.13/site-packages/numpy/_core/_methods.py:145: RuntimeWarning: invalid value encountered in scalar divide\n",
      "  ret = ret.dtype.type(ret / rcount)\n",
      "  6%|▌         | 156/2650 [02:24<1:15:34,  1.82s/it]/Users/paulrusing/miniconda3/envs/pru_dev2/envs/rl_env/lib/python3.13/site-packages/numpy/_core/fromnumeric.py:3860: RuntimeWarning: Mean of empty slice.\n",
      "  return _methods._mean(a, axis=axis, dtype=dtype,\n",
      "/Users/paulrusing/miniconda3/envs/pru_dev2/envs/rl_env/lib/python3.13/site-packages/numpy/_core/_methods.py:145: RuntimeWarning: invalid value encountered in scalar divide\n",
      "  ret = ret.dtype.type(ret / rcount)\n",
      "  6%|▌         | 157/2650 [02:26<1:24:35,  2.04s/it]/Users/paulrusing/miniconda3/envs/pru_dev2/envs/rl_env/lib/python3.13/site-packages/numpy/_core/fromnumeric.py:3860: RuntimeWarning: Mean of empty slice.\n",
      "  return _methods._mean(a, axis=axis, dtype=dtype,\n",
      "/Users/paulrusing/miniconda3/envs/pru_dev2/envs/rl_env/lib/python3.13/site-packages/numpy/_core/_methods.py:145: RuntimeWarning: invalid value encountered in scalar divide\n",
      "  ret = ret.dtype.type(ret / rcount)\n",
      "  6%|▌         | 158/2650 [02:28<1:26:33,  2.08s/it]/Users/paulrusing/miniconda3/envs/pru_dev2/envs/rl_env/lib/python3.13/site-packages/numpy/_core/fromnumeric.py:3860: RuntimeWarning: Mean of empty slice.\n",
      "  return _methods._mean(a, axis=axis, dtype=dtype,\n",
      "/Users/paulrusing/miniconda3/envs/pru_dev2/envs/rl_env/lib/python3.13/site-packages/numpy/_core/_methods.py:145: RuntimeWarning: invalid value encountered in scalar divide\n",
      "  ret = ret.dtype.type(ret / rcount)\n",
      "  6%|▌         | 159/2650 [02:30<1:23:41,  2.02s/it]/Users/paulrusing/miniconda3/envs/pru_dev2/envs/rl_env/lib/python3.13/site-packages/numpy/_core/fromnumeric.py:3860: RuntimeWarning: Mean of empty slice.\n",
      "  return _methods._mean(a, axis=axis, dtype=dtype,\n",
      "/Users/paulrusing/miniconda3/envs/pru_dev2/envs/rl_env/lib/python3.13/site-packages/numpy/_core/_methods.py:145: RuntimeWarning: invalid value encountered in scalar divide\n",
      "  ret = ret.dtype.type(ret / rcount)\n",
      "  6%|▌         | 160/2650 [02:31<1:12:26,  1.75s/it]/Users/paulrusing/miniconda3/envs/pru_dev2/envs/rl_env/lib/python3.13/site-packages/numpy/_core/fromnumeric.py:3860: RuntimeWarning: Mean of empty slice.\n",
      "  return _methods._mean(a, axis=axis, dtype=dtype,\n",
      "/Users/paulrusing/miniconda3/envs/pru_dev2/envs/rl_env/lib/python3.13/site-packages/numpy/_core/_methods.py:145: RuntimeWarning: invalid value encountered in scalar divide\n",
      "  ret = ret.dtype.type(ret / rcount)\n",
      "  6%|▌         | 161/2650 [02:33<1:12:58,  1.76s/it]/Users/paulrusing/miniconda3/envs/pru_dev2/envs/rl_env/lib/python3.13/site-packages/numpy/_core/fromnumeric.py:3860: RuntimeWarning: Mean of empty slice.\n",
      "  return _methods._mean(a, axis=axis, dtype=dtype,\n",
      "/Users/paulrusing/miniconda3/envs/pru_dev2/envs/rl_env/lib/python3.13/site-packages/numpy/_core/_methods.py:145: RuntimeWarning: invalid value encountered in scalar divide\n",
      "  ret = ret.dtype.type(ret / rcount)\n",
      "  6%|▌         | 162/2650 [02:35<1:13:50,  1.78s/it]/Users/paulrusing/miniconda3/envs/pru_dev2/envs/rl_env/lib/python3.13/site-packages/numpy/_core/fromnumeric.py:3860: RuntimeWarning: Mean of empty slice.\n",
      "  return _methods._mean(a, axis=axis, dtype=dtype,\n",
      "/Users/paulrusing/miniconda3/envs/pru_dev2/envs/rl_env/lib/python3.13/site-packages/numpy/_core/_methods.py:145: RuntimeWarning: invalid value encountered in scalar divide\n",
      "  ret = ret.dtype.type(ret / rcount)\n",
      "  6%|▌         | 163/2650 [02:37<1:14:28,  1.80s/it]/Users/paulrusing/miniconda3/envs/pru_dev2/envs/rl_env/lib/python3.13/site-packages/numpy/_core/fromnumeric.py:3860: RuntimeWarning: Mean of empty slice.\n",
      "  return _methods._mean(a, axis=axis, dtype=dtype,\n",
      "/Users/paulrusing/miniconda3/envs/pru_dev2/envs/rl_env/lib/python3.13/site-packages/numpy/_core/_methods.py:145: RuntimeWarning: invalid value encountered in scalar divide\n",
      "  ret = ret.dtype.type(ret / rcount)\n",
      "  6%|▌         | 164/2650 [02:38<1:05:34,  1.58s/it]/Users/paulrusing/miniconda3/envs/pru_dev2/envs/rl_env/lib/python3.13/site-packages/numpy/_core/fromnumeric.py:3860: RuntimeWarning: Mean of empty slice.\n",
      "  return _methods._mean(a, axis=axis, dtype=dtype,\n",
      "/Users/paulrusing/miniconda3/envs/pru_dev2/envs/rl_env/lib/python3.13/site-packages/numpy/_core/_methods.py:145: RuntimeWarning: invalid value encountered in scalar divide\n",
      "  ret = ret.dtype.type(ret / rcount)\n",
      "  6%|▌         | 165/2650 [02:39<59:41,  1.44s/it]  /Users/paulrusing/miniconda3/envs/pru_dev2/envs/rl_env/lib/python3.13/site-packages/numpy/_core/fromnumeric.py:3860: RuntimeWarning: Mean of empty slice.\n",
      "  return _methods._mean(a, axis=axis, dtype=dtype,\n",
      "/Users/paulrusing/miniconda3/envs/pru_dev2/envs/rl_env/lib/python3.13/site-packages/numpy/_core/_methods.py:145: RuntimeWarning: invalid value encountered in scalar divide\n",
      "  ret = ret.dtype.type(ret / rcount)\n",
      "  6%|▋         | 166/2650 [02:41<1:04:48,  1.57s/it]/Users/paulrusing/miniconda3/envs/pru_dev2/envs/rl_env/lib/python3.13/site-packages/numpy/_core/fromnumeric.py:3860: RuntimeWarning: Mean of empty slice.\n",
      "  return _methods._mean(a, axis=axis, dtype=dtype,\n",
      "/Users/paulrusing/miniconda3/envs/pru_dev2/envs/rl_env/lib/python3.13/site-packages/numpy/_core/_methods.py:145: RuntimeWarning: invalid value encountered in scalar divide\n",
      "  ret = ret.dtype.type(ret / rcount)\n"
     ]
    },
    {
     "name": "stdout",
     "output_type": "stream",
     "text": [
      "No product with leverage inside (6.5, 7.0) found. Using next smaller leverage.\n"
     ]
    },
    {
     "name": "stderr",
     "output_type": "stream",
     "text": [
      "  6%|▋         | 167/2650 [02:42<59:18,  1.43s/it]  /Users/paulrusing/miniconda3/envs/pru_dev2/envs/rl_env/lib/python3.13/site-packages/numpy/_core/fromnumeric.py:3860: RuntimeWarning: Mean of empty slice.\n",
      "  return _methods._mean(a, axis=axis, dtype=dtype,\n",
      "/Users/paulrusing/miniconda3/envs/pru_dev2/envs/rl_env/lib/python3.13/site-packages/numpy/_core/_methods.py:145: RuntimeWarning: invalid value encountered in scalar divide\n",
      "  ret = ret.dtype.type(ret / rcount)\n",
      "  6%|▋         | 168/2650 [02:44<1:03:55,  1.55s/it]/Users/paulrusing/miniconda3/envs/pru_dev2/envs/rl_env/lib/python3.13/site-packages/numpy/_core/fromnumeric.py:3860: RuntimeWarning: Mean of empty slice.\n",
      "  return _methods._mean(a, axis=axis, dtype=dtype,\n",
      "/Users/paulrusing/miniconda3/envs/pru_dev2/envs/rl_env/lib/python3.13/site-packages/numpy/_core/_methods.py:145: RuntimeWarning: invalid value encountered in scalar divide\n",
      "  ret = ret.dtype.type(ret / rcount)\n",
      "  6%|▋         | 169/2650 [02:45<1:07:13,  1.63s/it]/Users/paulrusing/miniconda3/envs/pru_dev2/envs/rl_env/lib/python3.13/site-packages/numpy/_core/fromnumeric.py:3860: RuntimeWarning: Mean of empty slice.\n",
      "  return _methods._mean(a, axis=axis, dtype=dtype,\n",
      "/Users/paulrusing/miniconda3/envs/pru_dev2/envs/rl_env/lib/python3.13/site-packages/numpy/_core/_methods.py:145: RuntimeWarning: invalid value encountered in scalar divide\n",
      "  ret = ret.dtype.type(ret / rcount)\n",
      "  6%|▋         | 170/2650 [02:47<1:09:09,  1.67s/it]/Users/paulrusing/miniconda3/envs/pru_dev2/envs/rl_env/lib/python3.13/site-packages/numpy/_core/fromnumeric.py:3860: RuntimeWarning: Mean of empty slice.\n",
      "  return _methods._mean(a, axis=axis, dtype=dtype,\n",
      "/Users/paulrusing/miniconda3/envs/pru_dev2/envs/rl_env/lib/python3.13/site-packages/numpy/_core/_methods.py:145: RuntimeWarning: invalid value encountered in scalar divide\n",
      "  ret = ret.dtype.type(ret / rcount)\n",
      "  6%|▋         | 171/2650 [02:49<1:10:34,  1.71s/it]/Users/paulrusing/miniconda3/envs/pru_dev2/envs/rl_env/lib/python3.13/site-packages/numpy/_core/fromnumeric.py:3860: RuntimeWarning: Mean of empty slice.\n",
      "  return _methods._mean(a, axis=axis, dtype=dtype,\n",
      "/Users/paulrusing/miniconda3/envs/pru_dev2/envs/rl_env/lib/python3.13/site-packages/numpy/_core/_methods.py:145: RuntimeWarning: invalid value encountered in scalar divide\n",
      "  ret = ret.dtype.type(ret / rcount)\n",
      "  6%|▋         | 172/2650 [02:51<1:11:58,  1.74s/it]/Users/paulrusing/miniconda3/envs/pru_dev2/envs/rl_env/lib/python3.13/site-packages/numpy/_core/fromnumeric.py:3860: RuntimeWarning: Mean of empty slice.\n",
      "  return _methods._mean(a, axis=axis, dtype=dtype,\n",
      "/Users/paulrusing/miniconda3/envs/pru_dev2/envs/rl_env/lib/python3.13/site-packages/numpy/_core/_methods.py:145: RuntimeWarning: invalid value encountered in scalar divide\n",
      "  ret = ret.dtype.type(ret / rcount)\n"
     ]
    },
    {
     "name": "stdout",
     "output_type": "stream",
     "text": [
      "No product with leverage inside (6.5, 7.0) found. Using next smaller leverage.\n"
     ]
    },
    {
     "name": "stderr",
     "output_type": "stream",
     "text": [
      "  7%|▋         | 173/2650 [02:52<1:03:51,  1.55s/it]/Users/paulrusing/miniconda3/envs/pru_dev2/envs/rl_env/lib/python3.13/site-packages/numpy/_core/fromnumeric.py:3860: RuntimeWarning: Mean of empty slice.\n",
      "  return _methods._mean(a, axis=axis, dtype=dtype,\n",
      "/Users/paulrusing/miniconda3/envs/pru_dev2/envs/rl_env/lib/python3.13/site-packages/numpy/_core/_methods.py:145: RuntimeWarning: invalid value encountered in scalar divide\n",
      "  ret = ret.dtype.type(ret / rcount)\n"
     ]
    },
    {
     "name": "stdout",
     "output_type": "stream",
     "text": [
      "No product with leverage inside (6.0, 6.5) found. Using next smaller leverage.\n"
     ]
    },
    {
     "name": "stderr",
     "output_type": "stream",
     "text": [
      "  7%|▋         | 174/2650 [02:53<58:20,  1.41s/it]  /Users/paulrusing/miniconda3/envs/pru_dev2/envs/rl_env/lib/python3.13/site-packages/numpy/_core/fromnumeric.py:3860: RuntimeWarning: Mean of empty slice.\n",
      "  return _methods._mean(a, axis=axis, dtype=dtype,\n",
      "/Users/paulrusing/miniconda3/envs/pru_dev2/envs/rl_env/lib/python3.13/site-packages/numpy/_core/_methods.py:145: RuntimeWarning: invalid value encountered in scalar divide\n",
      "  ret = ret.dtype.type(ret / rcount)\n",
      "  7%|▋         | 175/2650 [02:55<1:03:07,  1.53s/it]/Users/paulrusing/miniconda3/envs/pru_dev2/envs/rl_env/lib/python3.13/site-packages/numpy/_core/fromnumeric.py:3860: RuntimeWarning: Mean of empty slice.\n",
      "  return _methods._mean(a, axis=axis, dtype=dtype,\n",
      "/Users/paulrusing/miniconda3/envs/pru_dev2/envs/rl_env/lib/python3.13/site-packages/numpy/_core/_methods.py:145: RuntimeWarning: invalid value encountered in scalar divide\n",
      "  ret = ret.dtype.type(ret / rcount)\n",
      "  7%|▋         | 176/2650 [02:57<1:06:38,  1.62s/it]/Users/paulrusing/miniconda3/envs/pru_dev2/envs/rl_env/lib/python3.13/site-packages/numpy/_core/fromnumeric.py:3860: RuntimeWarning: Mean of empty slice.\n",
      "  return _methods._mean(a, axis=axis, dtype=dtype,\n",
      "/Users/paulrusing/miniconda3/envs/pru_dev2/envs/rl_env/lib/python3.13/site-packages/numpy/_core/_methods.py:145: RuntimeWarning: invalid value encountered in scalar divide\n",
      "  ret = ret.dtype.type(ret / rcount)\n",
      "  7%|▋         | 177/2650 [02:58<1:00:07,  1.46s/it]/Users/paulrusing/miniconda3/envs/pru_dev2/envs/rl_env/lib/python3.13/site-packages/numpy/_core/fromnumeric.py:3860: RuntimeWarning: Mean of empty slice.\n",
      "  return _methods._mean(a, axis=axis, dtype=dtype,\n",
      "/Users/paulrusing/miniconda3/envs/pru_dev2/envs/rl_env/lib/python3.13/site-packages/numpy/_core/_methods.py:145: RuntimeWarning: invalid value encountered in scalar divide\n",
      "  ret = ret.dtype.type(ret / rcount)\n",
      "  7%|▋         | 178/2650 [02:59<55:36,  1.35s/it]  /Users/paulrusing/miniconda3/envs/pru_dev2/envs/rl_env/lib/python3.13/site-packages/numpy/_core/fromnumeric.py:3860: RuntimeWarning: Mean of empty slice.\n",
      "  return _methods._mean(a, axis=axis, dtype=dtype,\n",
      "/Users/paulrusing/miniconda3/envs/pru_dev2/envs/rl_env/lib/python3.13/site-packages/numpy/_core/_methods.py:145: RuntimeWarning: invalid value encountered in scalar divide\n",
      "  ret = ret.dtype.type(ret / rcount)\n",
      "  7%|▋         | 179/2650 [03:00<52:17,  1.27s/it]/Users/paulrusing/miniconda3/envs/pru_dev2/envs/rl_env/lib/python3.13/site-packages/numpy/_core/fromnumeric.py:3860: RuntimeWarning: Mean of empty slice.\n",
      "  return _methods._mean(a, axis=axis, dtype=dtype,\n",
      "/Users/paulrusing/miniconda3/envs/pru_dev2/envs/rl_env/lib/python3.13/site-packages/numpy/_core/_methods.py:145: RuntimeWarning: invalid value encountered in scalar divide\n",
      "  ret = ret.dtype.type(ret / rcount)\n",
      "  7%|▋         | 180/2650 [03:01<50:05,  1.22s/it]/Users/paulrusing/miniconda3/envs/pru_dev2/envs/rl_env/lib/python3.13/site-packages/numpy/_core/fromnumeric.py:3860: RuntimeWarning: Mean of empty slice.\n",
      "  return _methods._mean(a, axis=axis, dtype=dtype,\n",
      "/Users/paulrusing/miniconda3/envs/pru_dev2/envs/rl_env/lib/python3.13/site-packages/numpy/_core/_methods.py:145: RuntimeWarning: invalid value encountered in scalar divide\n",
      "  ret = ret.dtype.type(ret / rcount)\n",
      "  7%|▋         | 181/2650 [03:02<48:27,  1.18s/it]/Users/paulrusing/miniconda3/envs/pru_dev2/envs/rl_env/lib/python3.13/site-packages/numpy/_core/fromnumeric.py:3860: RuntimeWarning: Mean of empty slice.\n",
      "  return _methods._mean(a, axis=axis, dtype=dtype,\n",
      "/Users/paulrusing/miniconda3/envs/pru_dev2/envs/rl_env/lib/python3.13/site-packages/numpy/_core/_methods.py:145: RuntimeWarning: invalid value encountered in scalar divide\n",
      "  ret = ret.dtype.type(ret / rcount)\n",
      "  7%|▋         | 182/2650 [03:03<47:39,  1.16s/it]/Users/paulrusing/miniconda3/envs/pru_dev2/envs/rl_env/lib/python3.13/site-packages/numpy/_core/fromnumeric.py:3860: RuntimeWarning: Mean of empty slice.\n",
      "  return _methods._mean(a, axis=axis, dtype=dtype,\n",
      "/Users/paulrusing/miniconda3/envs/pru_dev2/envs/rl_env/lib/python3.13/site-packages/numpy/_core/_methods.py:145: RuntimeWarning: invalid value encountered in scalar divide\n",
      "  ret = ret.dtype.type(ret / rcount)\n",
      "  7%|▋         | 183/2650 [03:05<54:44,  1.33s/it]/Users/paulrusing/miniconda3/envs/pru_dev2/envs/rl_env/lib/python3.13/site-packages/numpy/_core/fromnumeric.py:3860: RuntimeWarning: Mean of empty slice.\n",
      "  return _methods._mean(a, axis=axis, dtype=dtype,\n",
      "/Users/paulrusing/miniconda3/envs/pru_dev2/envs/rl_env/lib/python3.13/site-packages/numpy/_core/_methods.py:145: RuntimeWarning: invalid value encountered in scalar divide\n",
      "  ret = ret.dtype.type(ret / rcount)\n",
      "  7%|▋         | 184/2650 [03:06<51:30,  1.25s/it]/Users/paulrusing/miniconda3/envs/pru_dev2/envs/rl_env/lib/python3.13/site-packages/numpy/_core/fromnumeric.py:3860: RuntimeWarning: Mean of empty slice.\n",
      "  return _methods._mean(a, axis=axis, dtype=dtype,\n",
      "/Users/paulrusing/miniconda3/envs/pru_dev2/envs/rl_env/lib/python3.13/site-packages/numpy/_core/_methods.py:145: RuntimeWarning: invalid value encountered in scalar divide\n",
      "  ret = ret.dtype.type(ret / rcount)\n",
      "  7%|▋         | 185/2650 [03:07<48:51,  1.19s/it]/Users/paulrusing/miniconda3/envs/pru_dev2/envs/rl_env/lib/python3.13/site-packages/numpy/_core/fromnumeric.py:3860: RuntimeWarning: Mean of empty slice.\n",
      "  return _methods._mean(a, axis=axis, dtype=dtype,\n",
      "/Users/paulrusing/miniconda3/envs/pru_dev2/envs/rl_env/lib/python3.13/site-packages/numpy/_core/_methods.py:145: RuntimeWarning: invalid value encountered in scalar divide\n",
      "  ret = ret.dtype.type(ret / rcount)\n"
     ]
    },
    {
     "name": "stdout",
     "output_type": "stream",
     "text": [
      "No product with leverage inside (6.5, 7.0) found. Using next smaller leverage.\n"
     ]
    },
    {
     "name": "stderr",
     "output_type": "stream",
     "text": [
      "  7%|▋         | 186/2650 [03:08<47:00,  1.14s/it]/Users/paulrusing/miniconda3/envs/pru_dev2/envs/rl_env/lib/python3.13/site-packages/numpy/_core/fromnumeric.py:3860: RuntimeWarning: Mean of empty slice.\n",
      "  return _methods._mean(a, axis=axis, dtype=dtype,\n",
      "/Users/paulrusing/miniconda3/envs/pru_dev2/envs/rl_env/lib/python3.13/site-packages/numpy/_core/_methods.py:145: RuntimeWarning: invalid value encountered in scalar divide\n",
      "  ret = ret.dtype.type(ret / rcount)\n",
      "  7%|▋         | 187/2650 [03:10<54:22,  1.32s/it]/Users/paulrusing/miniconda3/envs/pru_dev2/envs/rl_env/lib/python3.13/site-packages/numpy/_core/fromnumeric.py:3860: RuntimeWarning: Mean of empty slice.\n",
      "  return _methods._mean(a, axis=axis, dtype=dtype,\n",
      "/Users/paulrusing/miniconda3/envs/pru_dev2/envs/rl_env/lib/python3.13/site-packages/numpy/_core/_methods.py:145: RuntimeWarning: invalid value encountered in scalar divide\n",
      "  ret = ret.dtype.type(ret / rcount)\n"
     ]
    },
    {
     "name": "stdout",
     "output_type": "stream",
     "text": [
      "No product with leverage inside (6.5, 7.0) found. Using next smaller leverage.\n"
     ]
    },
    {
     "name": "stderr",
     "output_type": "stream",
     "text": [
      "  7%|▋         | 188/2650 [03:11<51:52,  1.26s/it]/Users/paulrusing/miniconda3/envs/pru_dev2/envs/rl_env/lib/python3.13/site-packages/numpy/_core/fromnumeric.py:3860: RuntimeWarning: Mean of empty slice.\n",
      "  return _methods._mean(a, axis=axis, dtype=dtype,\n",
      "/Users/paulrusing/miniconda3/envs/pru_dev2/envs/rl_env/lib/python3.13/site-packages/numpy/_core/_methods.py:145: RuntimeWarning: invalid value encountered in scalar divide\n",
      "  ret = ret.dtype.type(ret / rcount)\n",
      "  7%|▋         | 189/2650 [03:13<58:29,  1.43s/it]/Users/paulrusing/miniconda3/envs/pru_dev2/envs/rl_env/lib/python3.13/site-packages/numpy/_core/fromnumeric.py:3860: RuntimeWarning: Mean of empty slice.\n",
      "  return _methods._mean(a, axis=axis, dtype=dtype,\n",
      "/Users/paulrusing/miniconda3/envs/pru_dev2/envs/rl_env/lib/python3.13/site-packages/numpy/_core/_methods.py:145: RuntimeWarning: invalid value encountered in scalar divide\n",
      "  ret = ret.dtype.type(ret / rcount)\n"
     ]
    },
    {
     "name": "stdout",
     "output_type": "stream",
     "text": [
      "No product with leverage inside (6.5, 7.0) found. Using next smaller leverage.\n"
     ]
    },
    {
     "name": "stderr",
     "output_type": "stream",
     "text": [
      "  7%|▋         | 190/2650 [03:14<54:21,  1.33s/it]/Users/paulrusing/miniconda3/envs/pru_dev2/envs/rl_env/lib/python3.13/site-packages/numpy/_core/fromnumeric.py:3860: RuntimeWarning: Mean of empty slice.\n",
      "  return _methods._mean(a, axis=axis, dtype=dtype,\n",
      "/Users/paulrusing/miniconda3/envs/pru_dev2/envs/rl_env/lib/python3.13/site-packages/numpy/_core/_methods.py:145: RuntimeWarning: invalid value encountered in scalar divide\n",
      "  ret = ret.dtype.type(ret / rcount)\n",
      "  7%|▋         | 191/2650 [03:16<59:30,  1.45s/it]/Users/paulrusing/miniconda3/envs/pru_dev2/envs/rl_env/lib/python3.13/site-packages/numpy/_core/fromnumeric.py:3860: RuntimeWarning: Mean of empty slice.\n",
      "  return _methods._mean(a, axis=axis, dtype=dtype,\n",
      "/Users/paulrusing/miniconda3/envs/pru_dev2/envs/rl_env/lib/python3.13/site-packages/numpy/_core/_methods.py:145: RuntimeWarning: invalid value encountered in scalar divide\n",
      "  ret = ret.dtype.type(ret / rcount)\n"
     ]
    },
    {
     "name": "stdout",
     "output_type": "stream",
     "text": [
      "No product with leverage inside (6.5, 7.0) found. Using next smaller leverage.\n"
     ]
    },
    {
     "name": "stderr",
     "output_type": "stream",
     "text": [
      "  7%|▋         | 192/2650 [03:17<54:55,  1.34s/it]/Users/paulrusing/miniconda3/envs/pru_dev2/envs/rl_env/lib/python3.13/site-packages/numpy/_core/fromnumeric.py:3860: RuntimeWarning: Mean of empty slice.\n",
      "  return _methods._mean(a, axis=axis, dtype=dtype,\n",
      "/Users/paulrusing/miniconda3/envs/pru_dev2/envs/rl_env/lib/python3.13/site-packages/numpy/_core/_methods.py:145: RuntimeWarning: invalid value encountered in scalar divide\n",
      "  ret = ret.dtype.type(ret / rcount)\n"
     ]
    },
    {
     "name": "stdout",
     "output_type": "stream",
     "text": [
      "No product with leverage inside (6.5, 7.0) found. Using next smaller leverage.\n"
     ]
    },
    {
     "name": "stderr",
     "output_type": "stream",
     "text": [
      "  7%|▋         | 193/2650 [03:18<51:53,  1.27s/it]/Users/paulrusing/miniconda3/envs/pru_dev2/envs/rl_env/lib/python3.13/site-packages/numpy/_core/fromnumeric.py:3860: RuntimeWarning: Mean of empty slice.\n",
      "  return _methods._mean(a, axis=axis, dtype=dtype,\n",
      "/Users/paulrusing/miniconda3/envs/pru_dev2/envs/rl_env/lib/python3.13/site-packages/numpy/_core/_methods.py:145: RuntimeWarning: invalid value encountered in scalar divide\n",
      "  ret = ret.dtype.type(ret / rcount)\n"
     ]
    },
    {
     "name": "stdout",
     "output_type": "stream",
     "text": [
      "No product with leverage inside (6.0, 6.5) found. Using next smaller leverage.\n"
     ]
    },
    {
     "name": "stderr",
     "output_type": "stream",
     "text": [
      "  7%|▋         | 194/2650 [03:19<49:25,  1.21s/it]/Users/paulrusing/miniconda3/envs/pru_dev2/envs/rl_env/lib/python3.13/site-packages/numpy/_core/fromnumeric.py:3860: RuntimeWarning: Mean of empty slice.\n",
      "  return _methods._mean(a, axis=axis, dtype=dtype,\n",
      "/Users/paulrusing/miniconda3/envs/pru_dev2/envs/rl_env/lib/python3.13/site-packages/numpy/_core/_methods.py:145: RuntimeWarning: invalid value encountered in scalar divide\n",
      "  ret = ret.dtype.type(ret / rcount)\n"
     ]
    },
    {
     "name": "stdout",
     "output_type": "stream",
     "text": [
      "No product with leverage inside (6.5, 7.0) found. Using next smaller leverage.\n"
     ]
    },
    {
     "name": "stderr",
     "output_type": "stream",
     "text": [
      "  7%|▋         | 195/2650 [03:20<52:53,  1.29s/it]/Users/paulrusing/miniconda3/envs/pru_dev2/envs/rl_env/lib/python3.13/site-packages/numpy/_core/fromnumeric.py:3860: RuntimeWarning: Mean of empty slice.\n",
      "  return _methods._mean(a, axis=axis, dtype=dtype,\n",
      "/Users/paulrusing/miniconda3/envs/pru_dev2/envs/rl_env/lib/python3.13/site-packages/numpy/_core/_methods.py:145: RuntimeWarning: invalid value encountered in scalar divide\n",
      "  ret = ret.dtype.type(ret / rcount)\n",
      "  7%|▋         | 196/2650 [03:23<1:09:51,  1.71s/it]/Users/paulrusing/miniconda3/envs/pru_dev2/envs/rl_env/lib/python3.13/site-packages/numpy/_core/fromnumeric.py:3860: RuntimeWarning: Mean of empty slice.\n",
      "  return _methods._mean(a, axis=axis, dtype=dtype,\n",
      "/Users/paulrusing/miniconda3/envs/pru_dev2/envs/rl_env/lib/python3.13/site-packages/numpy/_core/_methods.py:145: RuntimeWarning: invalid value encountered in scalar divide\n",
      "  ret = ret.dtype.type(ret / rcount)\n",
      "  7%|▋         | 197/2650 [03:24<1:00:25,  1.48s/it]/Users/paulrusing/miniconda3/envs/pru_dev2/envs/rl_env/lib/python3.13/site-packages/numpy/_core/fromnumeric.py:3860: RuntimeWarning: Mean of empty slice.\n",
      "  return _methods._mean(a, axis=axis, dtype=dtype,\n",
      "/Users/paulrusing/miniconda3/envs/pru_dev2/envs/rl_env/lib/python3.13/site-packages/numpy/_core/_methods.py:145: RuntimeWarning: invalid value encountered in scalar divide\n",
      "  ret = ret.dtype.type(ret / rcount)\n",
      "  7%|▋         | 198/2650 [03:25<1:00:40,  1.48s/it]/Users/paulrusing/miniconda3/envs/pru_dev2/envs/rl_env/lib/python3.13/site-packages/numpy/_core/fromnumeric.py:3860: RuntimeWarning: Mean of empty slice.\n",
      "  return _methods._mean(a, axis=axis, dtype=dtype,\n",
      "/Users/paulrusing/miniconda3/envs/pru_dev2/envs/rl_env/lib/python3.13/site-packages/numpy/_core/_methods.py:145: RuntimeWarning: invalid value encountered in scalar divide\n",
      "  ret = ret.dtype.type(ret / rcount)\n",
      "  7%|▋         | 198/2650 [03:26<42:34,  1.04s/it]  \n"
     ]
    },
    {
     "ename": "KeyboardInterrupt",
     "evalue": "",
     "output_type": "error",
     "traceback": [
      "\u001B[31m---------------------------------------------------------------------------\u001B[39m",
      "\u001B[31mKeyboardInterrupt\u001B[39m                         Traceback (most recent call last)",
      "\u001B[36mCell\u001B[39m\u001B[36m \u001B[39m\u001B[32mIn[137]\u001B[39m\u001B[32m, line 9\u001B[39m\n\u001B[32m      7\u001B[39m \u001B[38;5;28;01mfor\u001B[39;00m ind \u001B[38;5;129;01min\u001B[39;00m tqdm(\u001B[38;5;28mrange\u001B[39m(\u001B[38;5;28mself\u001B[39m.current_step, \u001B[38;5;28mself\u001B[39m.total_steps)):\n\u001B[32m      8\u001B[39m     action, _ = agent.predict(obs)  \u001B[38;5;66;03m# infer action\u001B[39;00m\n\u001B[32m----> \u001B[39m\u001B[32m9\u001B[39m     obs, _, done, info = \u001B[38;5;28;43mself\u001B[39;49m\u001B[43m.\u001B[49m\u001B[43mstep\u001B[49m\u001B[43m(\u001B[49m\u001B[43maction\u001B[49m\u001B[43m)\u001B[49m  \u001B[38;5;66;03m# retrieve new observation and info\u001B[39;00m\n\u001B[32m     11\u001B[39m     \u001B[38;5;28;01mif\u001B[39;00m done: \u001B[38;5;28;01mbreak\u001B[39;00m  \u001B[38;5;66;03m# check whether episode is finished\u001B[39;00m\n\u001B[32m     12\u001B[39m     log = pd.concat([log, pd.DataFrame(info, index=[info[\u001B[33m'\u001B[39m\u001B[33mStep\u001B[39m\u001B[33m'\u001B[39m]])])  \u001B[38;5;66;03m# log info\u001B[39;00m\n",
      "\u001B[36mCell\u001B[39m\u001B[36m \u001B[39m\u001B[32mIn[131]\u001B[39m\u001B[32m, line 112\u001B[39m, in \u001B[36mRLTradingEnv.step\u001B[39m\u001B[34m(self, action)\u001B[39m\n\u001B[32m    108\u001B[39m reward = \u001B[38;5;28mself\u001B[39m.current_balance - balance  \u001B[38;5;66;03m# equals change of balance\u001B[39;00m\n\u001B[32m    109\u001B[39m \u001B[38;5;66;03m# done = (self.current_step == self.total_steps - 1)  # see if episode is finished\u001B[39;00m\n\u001B[32m    110\u001B[39m \n\u001B[32m    111\u001B[39m \u001B[38;5;66;03m# compute average current exposure:\u001B[39;00m\n\u001B[32m--> \u001B[39m\u001B[32m112\u001B[39m portfolio_exposure = np.sum(\u001B[38;5;28;43mself\u001B[39;49m\u001B[43m.\u001B[49m\u001B[43mopen_positions\u001B[49m[\u001B[33m'\u001B[39m\u001B[33mLeverage\u001B[39m\u001B[33m'\u001B[39m]\n\u001B[32m    113\u001B[39m                       * \u001B[38;5;28mself\u001B[39m.open_positions[\u001B[33m'\u001B[39m\u001B[33m%\u001B[39m\u001B[33m Portfolio\u001B[39m\u001B[33m'\u001B[39m] / \u001B[32m100\u001B[39m  \u001B[38;5;66;03m# weight by share of portfolio\u001B[39;00m\n\u001B[32m    114\u001B[39m                        * np.where(\u001B[38;5;28mself\u001B[39m.open_positions[\u001B[33m'\u001B[39m\u001B[33mDirection\u001B[39m\u001B[33m'\u001B[39m] == \u001B[33m'\u001B[39m\u001B[33mlong\u001B[39m\u001B[33m'\u001B[39m,\n\u001B[32m    115\u001B[39m                                   \u001B[32m1.0\u001B[39m, -\u001B[32m1.0\u001B[39m)  \u001B[38;5;66;03m# multiply with 1.0 or -1.0 depending on direction of product\u001B[39;00m\n\u001B[32m    116\u001B[39m                        )\n\u001B[32m    117\u001B[39m portfolio_exposure = portfolio_exposure.item() \u001B[38;5;28;01mif\u001B[39;00m (portfolio_exposure \u001B[38;5;129;01mis\u001B[39;00m \u001B[38;5;129;01mnot\u001B[39;00m np.nan) \u001B[38;5;129;01mand\u001B[39;00m (portfolio_exposure != \u001B[32m0\u001B[39m) \u001B[38;5;28;01melse\u001B[39;00m \u001B[32m0.0\u001B[39m\n\u001B[32m    119\u001B[39m \u001B[38;5;66;03m# get current observation:\u001B[39;00m\n",
      "\u001B[36mCell\u001B[39m\u001B[36m \u001B[39m\u001B[32mIn[131]\u001B[39m\u001B[32m, line 397\u001B[39m, in \u001B[36mRLTradingEnv.open_positions\u001B[39m\u001B[34m(self)\u001B[39m\n\u001B[32m    390\u001B[39m \u001B[38;5;28;01melse\u001B[39;00m:\n\u001B[32m    391\u001B[39m     data_dict = {\u001B[33m'\u001B[39m\u001B[33mShares\u001B[39m\u001B[33m'\u001B[39m: \u001B[38;5;28mself\u001B[39m.shares_per_product[open_isins],\n\u001B[32m    392\u001B[39m                  \u001B[33m'\u001B[39m\u001B[33mLeverage\u001B[39m\u001B[33m'\u001B[39m: \u001B[38;5;28mself\u001B[39m.product_set.leverage_frame.loc[\u001B[38;5;28mself\u001B[39m.current_step_timestamp, open_isins],\n\u001B[32m    393\u001B[39m                  \u001B[33m'\u001B[39m\u001B[33mPrice\u001B[39m\u001B[33m'\u001B[39m: \u001B[38;5;28mself\u001B[39m.product_set.price_frame.loc[\u001B[38;5;28mself\u001B[39m.current_step_timestamp, open_isins],\n\u001B[32m    394\u001B[39m                  \u001B[33m'\u001B[39m\u001B[33mDirection\u001B[39m\u001B[33m'\u001B[39m: [\u001B[38;5;28mself\u001B[39m.product_set.by_isin[isin].direction \u001B[38;5;28;01mfor\u001B[39;00m isin \u001B[38;5;129;01min\u001B[39;00m open_isins],\n\u001B[32m    395\u001B[39m                  \u001B[33m'\u001B[39m\u001B[33m%\u001B[39m\u001B[33m Portfolio\u001B[39m\u001B[33m'\u001B[39m: \u001B[38;5;28mself\u001B[39m.shares_per_product[open_isins] * \u001B[38;5;28mself\u001B[39m.product_set.price_frame.loc[\u001B[38;5;28mself\u001B[39m.current_step_timestamp, open_isins] / \u001B[38;5;28mself\u001B[39m.current_balance * \u001B[32m100\u001B[39m,\n\u001B[32m    396\u001B[39m                  }\n\u001B[32m--> \u001B[39m\u001B[32m397\u001B[39m \u001B[38;5;28;01mreturn\u001B[39;00m \u001B[43mpd\u001B[49m\u001B[43m.\u001B[49m\u001B[43mDataFrame\u001B[49m\u001B[43m(\u001B[49m\u001B[43mindex\u001B[49m\u001B[43m=\u001B[49m\u001B[43mopen_isins\u001B[49m\u001B[43m,\u001B[49m\n\u001B[32m    398\u001B[39m \u001B[43m                    \u001B[49m\u001B[43mdata\u001B[49m\u001B[43m=\u001B[49m\u001B[43mdata_dict\u001B[49m\u001B[43m)\u001B[49m\n",
      "\u001B[36mFile \u001B[39m\u001B[32m~/miniconda3/envs/pru_dev2/envs/rl_env/lib/python3.13/site-packages/pandas/core/frame.py:778\u001B[39m, in \u001B[36mDataFrame.__init__\u001B[39m\u001B[34m(self, data, index, columns, dtype, copy)\u001B[39m\n\u001B[32m    772\u001B[39m     mgr = \u001B[38;5;28mself\u001B[39m._init_mgr(\n\u001B[32m    773\u001B[39m         data, axes={\u001B[33m\"\u001B[39m\u001B[33mindex\u001B[39m\u001B[33m\"\u001B[39m: index, \u001B[33m\"\u001B[39m\u001B[33mcolumns\u001B[39m\u001B[33m\"\u001B[39m: columns}, dtype=dtype, copy=copy\n\u001B[32m    774\u001B[39m     )\n\u001B[32m    776\u001B[39m \u001B[38;5;28;01melif\u001B[39;00m \u001B[38;5;28misinstance\u001B[39m(data, \u001B[38;5;28mdict\u001B[39m):\n\u001B[32m    777\u001B[39m     \u001B[38;5;66;03m# GH#38939 de facto copy defaults to False only in non-dict cases\u001B[39;00m\n\u001B[32m--> \u001B[39m\u001B[32m778\u001B[39m     mgr = \u001B[43mdict_to_mgr\u001B[49m\u001B[43m(\u001B[49m\u001B[43mdata\u001B[49m\u001B[43m,\u001B[49m\u001B[43m \u001B[49m\u001B[43mindex\u001B[49m\u001B[43m,\u001B[49m\u001B[43m \u001B[49m\u001B[43mcolumns\u001B[49m\u001B[43m,\u001B[49m\u001B[43m \u001B[49m\u001B[43mdtype\u001B[49m\u001B[43m=\u001B[49m\u001B[43mdtype\u001B[49m\u001B[43m,\u001B[49m\u001B[43m \u001B[49m\u001B[43mcopy\u001B[49m\u001B[43m=\u001B[49m\u001B[43mcopy\u001B[49m\u001B[43m,\u001B[49m\u001B[43m \u001B[49m\u001B[43mtyp\u001B[49m\u001B[43m=\u001B[49m\u001B[43mmanager\u001B[49m\u001B[43m)\u001B[49m\n\u001B[32m    779\u001B[39m \u001B[38;5;28;01melif\u001B[39;00m \u001B[38;5;28misinstance\u001B[39m(data, ma.MaskedArray):\n\u001B[32m    780\u001B[39m     \u001B[38;5;28;01mfrom\u001B[39;00m\u001B[38;5;250m \u001B[39m\u001B[34;01mnumpy\u001B[39;00m\u001B[34;01m.\u001B[39;00m\u001B[34;01mma\u001B[39;00m\u001B[38;5;250m \u001B[39m\u001B[38;5;28;01mimport\u001B[39;00m mrecords\n",
      "\u001B[36mFile \u001B[39m\u001B[32m~/miniconda3/envs/pru_dev2/envs/rl_env/lib/python3.13/site-packages/pandas/core/internals/construction.py:503\u001B[39m, in \u001B[36mdict_to_mgr\u001B[39m\u001B[34m(data, index, columns, dtype, typ, copy)\u001B[39m\n\u001B[32m    499\u001B[39m     \u001B[38;5;28;01melse\u001B[39;00m:\n\u001B[32m    500\u001B[39m         \u001B[38;5;66;03m# dtype check to exclude e.g. range objects, scalars\u001B[39;00m\n\u001B[32m    501\u001B[39m         arrays = [x.copy() \u001B[38;5;28;01mif\u001B[39;00m \u001B[38;5;28mhasattr\u001B[39m(x, \u001B[33m\"\u001B[39m\u001B[33mdtype\u001B[39m\u001B[33m\"\u001B[39m) \u001B[38;5;28;01melse\u001B[39;00m x \u001B[38;5;28;01mfor\u001B[39;00m x \u001B[38;5;129;01min\u001B[39;00m arrays]\n\u001B[32m--> \u001B[39m\u001B[32m503\u001B[39m \u001B[38;5;28;01mreturn\u001B[39;00m \u001B[43marrays_to_mgr\u001B[49m\u001B[43m(\u001B[49m\u001B[43marrays\u001B[49m\u001B[43m,\u001B[49m\u001B[43m \u001B[49m\u001B[43mcolumns\u001B[49m\u001B[43m,\u001B[49m\u001B[43m \u001B[49m\u001B[43mindex\u001B[49m\u001B[43m,\u001B[49m\u001B[43m \u001B[49m\u001B[43mdtype\u001B[49m\u001B[43m=\u001B[49m\u001B[43mdtype\u001B[49m\u001B[43m,\u001B[49m\u001B[43m \u001B[49m\u001B[43mtyp\u001B[49m\u001B[43m=\u001B[49m\u001B[43mtyp\u001B[49m\u001B[43m,\u001B[49m\u001B[43m \u001B[49m\u001B[43mconsolidate\u001B[49m\u001B[43m=\u001B[49m\u001B[43mcopy\u001B[49m\u001B[43m)\u001B[49m\n",
      "\u001B[36mFile \u001B[39m\u001B[32m~/miniconda3/envs/pru_dev2/envs/rl_env/lib/python3.13/site-packages/pandas/core/internals/construction.py:152\u001B[39m, in \u001B[36marrays_to_mgr\u001B[39m\u001B[34m(arrays, columns, index, dtype, verify_integrity, typ, consolidate)\u001B[39m\n\u001B[32m    149\u001B[39m axes = [columns, index]\n\u001B[32m    151\u001B[39m \u001B[38;5;28;01mif\u001B[39;00m typ == \u001B[33m\"\u001B[39m\u001B[33mblock\u001B[39m\u001B[33m\"\u001B[39m:\n\u001B[32m--> \u001B[39m\u001B[32m152\u001B[39m     \u001B[38;5;28;01mreturn\u001B[39;00m \u001B[43mcreate_block_manager_from_column_arrays\u001B[49m\u001B[43m(\u001B[49m\n\u001B[32m    153\u001B[39m \u001B[43m        \u001B[49m\u001B[43marrays\u001B[49m\u001B[43m,\u001B[49m\u001B[43m \u001B[49m\u001B[43maxes\u001B[49m\u001B[43m,\u001B[49m\u001B[43m \u001B[49m\u001B[43mconsolidate\u001B[49m\u001B[43m=\u001B[49m\u001B[43mconsolidate\u001B[49m\u001B[43m,\u001B[49m\u001B[43m \u001B[49m\u001B[43mrefs\u001B[49m\u001B[43m=\u001B[49m\u001B[43mrefs\u001B[49m\n\u001B[32m    154\u001B[39m \u001B[43m    \u001B[49m\u001B[43m)\u001B[49m\n\u001B[32m    155\u001B[39m \u001B[38;5;28;01melif\u001B[39;00m typ == \u001B[33m\"\u001B[39m\u001B[33marray\u001B[39m\u001B[33m\"\u001B[39m:\n\u001B[32m    156\u001B[39m     \u001B[38;5;28;01mreturn\u001B[39;00m ArrayManager(arrays, [index, columns])\n",
      "\u001B[36mFile \u001B[39m\u001B[32m~/miniconda3/envs/pru_dev2/envs/rl_env/lib/python3.13/site-packages/pandas/core/internals/managers.py:2139\u001B[39m, in \u001B[36mcreate_block_manager_from_column_arrays\u001B[39m\u001B[34m(arrays, axes, consolidate, refs)\u001B[39m\n\u001B[32m   2121\u001B[39m \u001B[38;5;28;01mdef\u001B[39;00m\u001B[38;5;250m \u001B[39m\u001B[34mcreate_block_manager_from_column_arrays\u001B[39m(\n\u001B[32m   2122\u001B[39m     arrays: \u001B[38;5;28mlist\u001B[39m[ArrayLike],\n\u001B[32m   2123\u001B[39m     axes: \u001B[38;5;28mlist\u001B[39m[Index],\n\u001B[32m   (...)\u001B[39m\u001B[32m   2135\u001B[39m     \u001B[38;5;66;03m# These last three are sufficient to allow us to safely pass\u001B[39;00m\n\u001B[32m   2136\u001B[39m     \u001B[38;5;66;03m#  verify_integrity=False below.\u001B[39;00m\n\u001B[32m   2138\u001B[39m     \u001B[38;5;28;01mtry\u001B[39;00m:\n\u001B[32m-> \u001B[39m\u001B[32m2139\u001B[39m         blocks = \u001B[43m_form_blocks\u001B[49m\u001B[43m(\u001B[49m\u001B[43marrays\u001B[49m\u001B[43m,\u001B[49m\u001B[43m \u001B[49m\u001B[43mconsolidate\u001B[49m\u001B[43m,\u001B[49m\u001B[43m \u001B[49m\u001B[43mrefs\u001B[49m\u001B[43m)\u001B[49m\n\u001B[32m   2140\u001B[39m         mgr = BlockManager(blocks, axes, verify_integrity=\u001B[38;5;28;01mFalse\u001B[39;00m)\n\u001B[32m   2141\u001B[39m     \u001B[38;5;28;01mexcept\u001B[39;00m \u001B[38;5;167;01mValueError\u001B[39;00m \u001B[38;5;28;01mas\u001B[39;00m e:\n",
      "\u001B[36mFile \u001B[39m\u001B[32m~/miniconda3/envs/pru_dev2/envs/rl_env/lib/python3.13/site-packages/pandas/core/internals/managers.py:2212\u001B[39m, in \u001B[36m_form_blocks\u001B[39m\u001B[34m(arrays, consolidate, refs)\u001B[39m\n\u001B[32m   2209\u001B[39m \u001B[38;5;28;01mif\u001B[39;00m \u001B[38;5;28missubclass\u001B[39m(dtype.type, (\u001B[38;5;28mstr\u001B[39m, \u001B[38;5;28mbytes\u001B[39m)):\n\u001B[32m   2210\u001B[39m     dtype = np.dtype(\u001B[38;5;28mobject\u001B[39m)\n\u001B[32m-> \u001B[39m\u001B[32m2212\u001B[39m values, placement = \u001B[43m_stack_arrays\u001B[49m\u001B[43m(\u001B[49m\u001B[38;5;28;43mlist\u001B[39;49m\u001B[43m(\u001B[49m\u001B[43mtup_block\u001B[49m\u001B[43m)\u001B[49m\u001B[43m,\u001B[49m\u001B[43m \u001B[49m\u001B[43mdtype\u001B[49m\u001B[43m)\u001B[49m\n\u001B[32m   2213\u001B[39m \u001B[38;5;28;01mif\u001B[39;00m is_dtlike:\n\u001B[32m   2214\u001B[39m     values = ensure_wrapped_if_datetimelike(values)\n",
      "\u001B[36mFile \u001B[39m\u001B[32m~/miniconda3/envs/pru_dev2/envs/rl_env/lib/python3.13/site-packages/pandas/core/internals/managers.py:2252\u001B[39m, in \u001B[36m_stack_arrays\u001B[39m\u001B[34m(tuples, dtype)\u001B[39m\n\u001B[32m   2249\u001B[39m first = arrays[\u001B[32m0\u001B[39m]\n\u001B[32m   2250\u001B[39m shape = (\u001B[38;5;28mlen\u001B[39m(arrays),) + first.shape\n\u001B[32m-> \u001B[39m\u001B[32m2252\u001B[39m stacked = \u001B[43mnp\u001B[49m\u001B[43m.\u001B[49m\u001B[43mempty\u001B[49m\u001B[43m(\u001B[49m\u001B[43mshape\u001B[49m\u001B[43m,\u001B[49m\u001B[43m \u001B[49m\u001B[43mdtype\u001B[49m\u001B[43m=\u001B[49m\u001B[43mdtype\u001B[49m\u001B[43m)\u001B[49m\n\u001B[32m   2253\u001B[39m \u001B[38;5;28;01mfor\u001B[39;00m i, arr \u001B[38;5;129;01min\u001B[39;00m \u001B[38;5;28menumerate\u001B[39m(arrays):\n\u001B[32m   2254\u001B[39m     stacked[i] = arr\n",
      "\u001B[31mKeyboardInterrupt\u001B[39m: "
     ]
    }
   ],
   "execution_count": 137
  },
  {
   "metadata": {
    "ExecuteTime": {
     "end_time": "2025-06-24T09:51:52.935638Z",
     "start_time": "2025-06-24T09:51:52.921304Z"
    }
   },
   "cell_type": "code",
   "source": [
    "benchmark = self.starting_cash / self.price_series.loc[log['Time'].iloc[0]] * self.price_series.loc[log['Time']]  # construct benchmark return if HODL\n",
    "log.set_index('Time', inplace=True)\n",
    "log['Benchmark'] = benchmark\n",
    "log\n"
   ],
   "id": "283dc4493e29a444",
   "outputs": [
    {
     "data": {
      "text/plain": [
       "                     Step    Reward                  Action  \\\n",
       "Time                                                          \n",
       "2015-04-10 16:00:00   121      0.00                    Hold   \n",
       "2015-04-13 16:00:00   122      0.00                    Hold   \n",
       "2015-04-14 16:00:00   123      0.00  Sell short 1.0x - 1.5x   \n",
       "2015-04-15 16:00:00   124      0.00                    Hold   \n",
       "2015-04-16 16:00:00   125      0.00  Sell short 1.0x - 1.5x   \n",
       "...                   ...       ...                     ...   \n",
       "2016-01-06 16:00:00   314  10789.42   Buy short 6.0x - 6.5x   \n",
       "2016-01-07 16:00:00   315   5844.63   Buy short 6.5x - 7.0x   \n",
       "2016-01-08 16:00:00   316    932.10   Sell long 5.5x - 6.0x   \n",
       "2016-01-11 16:00:00   317    544.94                    Hold   \n",
       "2016-01-12 16:00:00   318  -6632.85  Sell short 2.5x - 3.0x   \n",
       "\n",
       "                     Avg. Expected Potential  Total Exposure        Cash  \\\n",
       "Time                                                                       \n",
       "2015-04-10 16:00:00                 0.002012        0.000000  1000000.00   \n",
       "2015-04-13 16:00:00                 0.002648        0.000000  1000000.00   \n",
       "2015-04-14 16:00:00                 0.001843        0.000000  1000000.00   \n",
       "2015-04-15 16:00:00                 0.002587        0.000000  1000000.00   \n",
       "2015-04-16 16:00:00                 0.003370        0.000000  1000000.00   \n",
       "...                                      ...             ...         ...   \n",
       "2016-01-06 16:00:00                -0.009159       -0.720662   579605.78   \n",
       "2016-01-07 16:00:00                -0.003734       -0.787871   543220.62   \n",
       "2016-01-08 16:00:00                -0.002317       -0.786196   543220.62   \n",
       "2016-01-11 16:00:00                 0.003769       -0.785178   543220.62   \n",
       "2016-01-12 16:00:00                 0.010712       -0.796361   543220.62   \n",
       "\n",
       "                          Total     Benchmark  \n",
       "Time                                           \n",
       "2015-04-10 16:00:00  1000000.00  1.000000e+06  \n",
       "2015-04-13 16:00:00  1000000.00  1.004351e+06  \n",
       "2015-04-14 16:00:00  1000000.00  1.001501e+06  \n",
       "2015-04-15 16:00:00  1000000.00  1.002326e+06  \n",
       "2015-04-16 16:00:00  1000000.00  9.939957e+05  \n",
       "...                         ...           ...  \n",
       "2016-01-06 16:00:00  1049074.12  8.285194e+05  \n",
       "2016-01-07 16:00:00  1054918.74  8.219716e+05  \n",
       "2016-01-08 16:00:00  1055850.84  8.209490e+05  \n",
       "2016-01-11 16:00:00  1056395.79  8.203092e+05  \n",
       "2016-01-12 16:00:00  1049762.93  8.267681e+05  \n",
       "\n",
       "[198 rows x 8 columns]"
      ],
      "text/html": [
       "<div>\n",
       "<style scoped>\n",
       "    .dataframe tbody tr th:only-of-type {\n",
       "        vertical-align: middle;\n",
       "    }\n",
       "\n",
       "    .dataframe tbody tr th {\n",
       "        vertical-align: top;\n",
       "    }\n",
       "\n",
       "    .dataframe thead th {\n",
       "        text-align: right;\n",
       "    }\n",
       "</style>\n",
       "<table border=\"1\" class=\"dataframe\">\n",
       "  <thead>\n",
       "    <tr style=\"text-align: right;\">\n",
       "      <th></th>\n",
       "      <th>Step</th>\n",
       "      <th>Reward</th>\n",
       "      <th>Action</th>\n",
       "      <th>Avg. Expected Potential</th>\n",
       "      <th>Total Exposure</th>\n",
       "      <th>Cash</th>\n",
       "      <th>Total</th>\n",
       "      <th>Benchmark</th>\n",
       "    </tr>\n",
       "    <tr>\n",
       "      <th>Time</th>\n",
       "      <th></th>\n",
       "      <th></th>\n",
       "      <th></th>\n",
       "      <th></th>\n",
       "      <th></th>\n",
       "      <th></th>\n",
       "      <th></th>\n",
       "      <th></th>\n",
       "    </tr>\n",
       "  </thead>\n",
       "  <tbody>\n",
       "    <tr>\n",
       "      <th>2015-04-10 16:00:00</th>\n",
       "      <td>121</td>\n",
       "      <td>0.00</td>\n",
       "      <td>Hold</td>\n",
       "      <td>0.002012</td>\n",
       "      <td>0.000000</td>\n",
       "      <td>1000000.00</td>\n",
       "      <td>1000000.00</td>\n",
       "      <td>1.000000e+06</td>\n",
       "    </tr>\n",
       "    <tr>\n",
       "      <th>2015-04-13 16:00:00</th>\n",
       "      <td>122</td>\n",
       "      <td>0.00</td>\n",
       "      <td>Hold</td>\n",
       "      <td>0.002648</td>\n",
       "      <td>0.000000</td>\n",
       "      <td>1000000.00</td>\n",
       "      <td>1000000.00</td>\n",
       "      <td>1.004351e+06</td>\n",
       "    </tr>\n",
       "    <tr>\n",
       "      <th>2015-04-14 16:00:00</th>\n",
       "      <td>123</td>\n",
       "      <td>0.00</td>\n",
       "      <td>Sell short 1.0x - 1.5x</td>\n",
       "      <td>0.001843</td>\n",
       "      <td>0.000000</td>\n",
       "      <td>1000000.00</td>\n",
       "      <td>1000000.00</td>\n",
       "      <td>1.001501e+06</td>\n",
       "    </tr>\n",
       "    <tr>\n",
       "      <th>2015-04-15 16:00:00</th>\n",
       "      <td>124</td>\n",
       "      <td>0.00</td>\n",
       "      <td>Hold</td>\n",
       "      <td>0.002587</td>\n",
       "      <td>0.000000</td>\n",
       "      <td>1000000.00</td>\n",
       "      <td>1000000.00</td>\n",
       "      <td>1.002326e+06</td>\n",
       "    </tr>\n",
       "    <tr>\n",
       "      <th>2015-04-16 16:00:00</th>\n",
       "      <td>125</td>\n",
       "      <td>0.00</td>\n",
       "      <td>Sell short 1.0x - 1.5x</td>\n",
       "      <td>0.003370</td>\n",
       "      <td>0.000000</td>\n",
       "      <td>1000000.00</td>\n",
       "      <td>1000000.00</td>\n",
       "      <td>9.939957e+05</td>\n",
       "    </tr>\n",
       "    <tr>\n",
       "      <th>...</th>\n",
       "      <td>...</td>\n",
       "      <td>...</td>\n",
       "      <td>...</td>\n",
       "      <td>...</td>\n",
       "      <td>...</td>\n",
       "      <td>...</td>\n",
       "      <td>...</td>\n",
       "      <td>...</td>\n",
       "    </tr>\n",
       "    <tr>\n",
       "      <th>2016-01-06 16:00:00</th>\n",
       "      <td>314</td>\n",
       "      <td>10789.42</td>\n",
       "      <td>Buy short 6.0x - 6.5x</td>\n",
       "      <td>-0.009159</td>\n",
       "      <td>-0.720662</td>\n",
       "      <td>579605.78</td>\n",
       "      <td>1049074.12</td>\n",
       "      <td>8.285194e+05</td>\n",
       "    </tr>\n",
       "    <tr>\n",
       "      <th>2016-01-07 16:00:00</th>\n",
       "      <td>315</td>\n",
       "      <td>5844.63</td>\n",
       "      <td>Buy short 6.5x - 7.0x</td>\n",
       "      <td>-0.003734</td>\n",
       "      <td>-0.787871</td>\n",
       "      <td>543220.62</td>\n",
       "      <td>1054918.74</td>\n",
       "      <td>8.219716e+05</td>\n",
       "    </tr>\n",
       "    <tr>\n",
       "      <th>2016-01-08 16:00:00</th>\n",
       "      <td>316</td>\n",
       "      <td>932.10</td>\n",
       "      <td>Sell long 5.5x - 6.0x</td>\n",
       "      <td>-0.002317</td>\n",
       "      <td>-0.786196</td>\n",
       "      <td>543220.62</td>\n",
       "      <td>1055850.84</td>\n",
       "      <td>8.209490e+05</td>\n",
       "    </tr>\n",
       "    <tr>\n",
       "      <th>2016-01-11 16:00:00</th>\n",
       "      <td>317</td>\n",
       "      <td>544.94</td>\n",
       "      <td>Hold</td>\n",
       "      <td>0.003769</td>\n",
       "      <td>-0.785178</td>\n",
       "      <td>543220.62</td>\n",
       "      <td>1056395.79</td>\n",
       "      <td>8.203092e+05</td>\n",
       "    </tr>\n",
       "    <tr>\n",
       "      <th>2016-01-12 16:00:00</th>\n",
       "      <td>318</td>\n",
       "      <td>-6632.85</td>\n",
       "      <td>Sell short 2.5x - 3.0x</td>\n",
       "      <td>0.010712</td>\n",
       "      <td>-0.796361</td>\n",
       "      <td>543220.62</td>\n",
       "      <td>1049762.93</td>\n",
       "      <td>8.267681e+05</td>\n",
       "    </tr>\n",
       "  </tbody>\n",
       "</table>\n",
       "<p>198 rows × 8 columns</p>\n",
       "</div>"
      ]
     },
     "execution_count": 138,
     "metadata": {},
     "output_type": "execute_result"
    }
   ],
   "execution_count": 138
  },
  {
   "metadata": {
    "ExecuteTime": {
     "end_time": "2025-06-24T09:51:55.161098Z",
     "start_time": "2025-06-24T09:51:55.079375Z"
    }
   },
   "cell_type": "code",
   "source": [
    "val_df = log.loc[:, ['Avg. Expected Potential', 'Total Exposure']]\n",
    "val_df['Policy'] = log['Total'] / log['Benchmark'].iloc[0]\n",
    "val_df['Benchmark'] = log['Benchmark'] / log['Benchmark'].iloc[0]\n",
    "\n",
    "fig, (return_ax, exposure_ax) = plt.subplots(2, 1, figsize=(14, 14))\n",
    "potential_ax = exposure_ax.twinx()\n",
    "dates = pd.to_datetime(log.index)\n",
    "\n",
    "# portfolio performance:\n",
    "return_ax.plot(dates, val_df['Policy'], color='orange', label='Policy')\n",
    "return_ax.plot(dates, val_df['Benchmark'], color='blue', label='Benchmark')\n",
    "return_ax.set_title('Normalized Policy vs. Benchmark')\n",
    "return_ax.set_xlabel('Date')\n",
    "return_ax.set_ylabel('Normalized Balance')\n",
    "return_ax.legend()\n",
    "return_ax.grid(True)\n",
    "\n",
    "# include potential thresholds:\n",
    "if isinstance(agent, MultiProductAgent):\n",
    "    for ind, (threshold, sign) in enumerate(product(agent.abs_potential_treshold_steps, [-1, 1])):\n",
    "        potential_ax.axhline(y=threshold*sign*100, color='purple',\n",
    "                    linestyle=':', alpha=.3,\n",
    "                    label='Action Thresholds' if ind == 0 else '_',  # create legend entry only for first line\n",
    "                    )\n",
    "    \n",
    "# avg potential:\n",
    "potential_ax.plot(dates, val_df['Avg. Expected Potential']*100, color='black', linestyle='dashed', label='Avg. Expected Potential', alpha=.5)\n",
    "\n",
    "# portfolio exposure:\n",
    "pos_leverage = np.where(val_df['Total Exposure'] >= 0, val_df['Total Exposure'], np.nan)\n",
    "neg_leverage = np.where(val_df['Total Exposure'] < 0, val_df['Total Exposure'], np.nan)\n",
    "exposure_ax.plot(dates, pos_leverage, color='green', label='Positive Exposure')\n",
    "exposure_ax.plot(dates, neg_leverage, color='red', label='Negative Exposure')\n",
    "\n",
    "# formatting:\n",
    "exposure_ax.set_xlabel('Date')\n",
    "exposure_ax.legend(loc='upper left'); potential_ax.legend(loc='lower right')\n",
    "exposure_ax.set_ylabel('Total Exposure'); potential_ax.set_ylabel('Expected Forward Potential [%]')\n",
    "exposure_ax.set_ylim([-5, 5]); potential_ax.set_ylim([-5, 5])\n",
    "exposure_ax.set_title('Portfolio Exposure and Predicted Potential')\n",
    "exposure_ax.grid(True)\n",
    "\n",
    "plt.show()"
   ],
   "id": "b169e5f5dce589b5",
   "outputs": [],
   "execution_count": 139
  },
  {
   "metadata": {
    "ExecuteTime": {
     "end_time": "2025-06-24T08:35:39.471744Z",
     "start_time": "2025-06-24T08:35:39.453648Z"
    }
   },
   "cell_type": "code",
   "source": [
    "val_df['Total Exposure'] = log['Total Exposure']\n",
    "val_df"
   ],
   "id": "898fb4b783b6ee76",
   "outputs": [
    {
     "data": {
      "text/plain": [
       "                       Policy  Benchmark  Avg. Exposure\n",
       "Time                                                   \n",
       "2015-04-10 16:00:00  1.000000   1.000000       0.000000\n",
       "2015-04-13 16:00:00  1.000000   1.004351       0.000000\n",
       "2015-04-14 16:00:00  1.000000   1.001501       0.000000\n",
       "2015-04-15 16:00:00  1.000000   1.002326       0.000000\n",
       "2015-04-16 16:00:00  1.000000   0.993996       0.000000\n",
       "...                       ...        ...            ...\n",
       "2025-05-28 16:00:00  5.137522   1.944323      -3.220084\n",
       "2025-05-29 16:00:00  5.183855   1.939073      -3.182685\n",
       "2025-05-30 16:00:00  5.153650   1.942818      -3.207522\n",
       "2025-06-02 16:00:00  5.207893   1.936638      -3.164016\n",
       "2025-06-03 16:00:00  5.145286   1.944191      -3.215006\n",
       "\n",
       "[2648 rows x 3 columns]"
      ],
      "text/html": [
       "<div>\n",
       "<style scoped>\n",
       "    .dataframe tbody tr th:only-of-type {\n",
       "        vertical-align: middle;\n",
       "    }\n",
       "\n",
       "    .dataframe tbody tr th {\n",
       "        vertical-align: top;\n",
       "    }\n",
       "\n",
       "    .dataframe thead th {\n",
       "        text-align: right;\n",
       "    }\n",
       "</style>\n",
       "<table border=\"1\" class=\"dataframe\">\n",
       "  <thead>\n",
       "    <tr style=\"text-align: right;\">\n",
       "      <th></th>\n",
       "      <th>Policy</th>\n",
       "      <th>Benchmark</th>\n",
       "      <th>Avg. Exposure</th>\n",
       "    </tr>\n",
       "    <tr>\n",
       "      <th>Time</th>\n",
       "      <th></th>\n",
       "      <th></th>\n",
       "      <th></th>\n",
       "    </tr>\n",
       "  </thead>\n",
       "  <tbody>\n",
       "    <tr>\n",
       "      <th>2015-04-10 16:00:00</th>\n",
       "      <td>1.000000</td>\n",
       "      <td>1.000000</td>\n",
       "      <td>0.000000</td>\n",
       "    </tr>\n",
       "    <tr>\n",
       "      <th>2015-04-13 16:00:00</th>\n",
       "      <td>1.000000</td>\n",
       "      <td>1.004351</td>\n",
       "      <td>0.000000</td>\n",
       "    </tr>\n",
       "    <tr>\n",
       "      <th>2015-04-14 16:00:00</th>\n",
       "      <td>1.000000</td>\n",
       "      <td>1.001501</td>\n",
       "      <td>0.000000</td>\n",
       "    </tr>\n",
       "    <tr>\n",
       "      <th>2015-04-15 16:00:00</th>\n",
       "      <td>1.000000</td>\n",
       "      <td>1.002326</td>\n",
       "      <td>0.000000</td>\n",
       "    </tr>\n",
       "    <tr>\n",
       "      <th>2015-04-16 16:00:00</th>\n",
       "      <td>1.000000</td>\n",
       "      <td>0.993996</td>\n",
       "      <td>0.000000</td>\n",
       "    </tr>\n",
       "    <tr>\n",
       "      <th>...</th>\n",
       "      <td>...</td>\n",
       "      <td>...</td>\n",
       "      <td>...</td>\n",
       "    </tr>\n",
       "    <tr>\n",
       "      <th>2025-05-28 16:00:00</th>\n",
       "      <td>5.137522</td>\n",
       "      <td>1.944323</td>\n",
       "      <td>-3.220084</td>\n",
       "    </tr>\n",
       "    <tr>\n",
       "      <th>2025-05-29 16:00:00</th>\n",
       "      <td>5.183855</td>\n",
       "      <td>1.939073</td>\n",
       "      <td>-3.182685</td>\n",
       "    </tr>\n",
       "    <tr>\n",
       "      <th>2025-05-30 16:00:00</th>\n",
       "      <td>5.153650</td>\n",
       "      <td>1.942818</td>\n",
       "      <td>-3.207522</td>\n",
       "    </tr>\n",
       "    <tr>\n",
       "      <th>2025-06-02 16:00:00</th>\n",
       "      <td>5.207893</td>\n",
       "      <td>1.936638</td>\n",
       "      <td>-3.164016</td>\n",
       "    </tr>\n",
       "    <tr>\n",
       "      <th>2025-06-03 16:00:00</th>\n",
       "      <td>5.145286</td>\n",
       "      <td>1.944191</td>\n",
       "      <td>-3.215006</td>\n",
       "    </tr>\n",
       "  </tbody>\n",
       "</table>\n",
       "<p>2648 rows × 3 columns</p>\n",
       "</div>"
      ]
     },
     "execution_count": 46,
     "metadata": {},
     "output_type": "execute_result"
    }
   ],
   "execution_count": 46
  },
  {
   "metadata": {
    "ExecuteTime": {
     "end_time": "2025-06-24T09:17:30.404718Z",
     "start_time": "2025-06-24T09:17:30.401233Z"
    }
   },
   "cell_type": "code",
   "source": "agent.abs_potential_treshold_steps",
   "id": "60beb6bae5fcf5c9",
   "outputs": [
    {
     "data": {
      "text/plain": [
       "(0.0025, 0.0075, 0.03)"
      ]
     },
     "execution_count": 85,
     "metadata": {},
     "output_type": "execute_result"
    }
   ],
   "execution_count": 85
  },
  {
   "metadata": {},
   "cell_type": "code",
   "outputs": [],
   "execution_count": null,
   "source": "",
   "id": "8629cfc4e648f0d3"
  },
  {
   "metadata": {
    "ExecuteTime": {
     "end_time": "2025-06-15T15:40:39.022790Z",
     "start_time": "2025-06-03T11:37:43.302473Z"
    }
   },
   "cell_type": "code",
   "source": [
    "predictor = self.predictor_instances[0]\n",
    "input = self.get_current_predictor_input(predictor)\n",
    "\n",
    "prices, dates = predictor.predict(input)\n",
    "potential = (prices[-1] / input.iloc[-1] - 1).item()"
   ],
   "id": "5f90541bd1368e42",
   "outputs": [
    {
     "name": "stdout",
     "output_type": "stream",
     "text": [
      "Prices are expected to go UP!\n"
     ]
    },
    {
     "data": {
      "text/plain": [
       "<Figure size 1200x600 with 1 Axes>"
      ],
      "image/png": "[encoded data removed]"
     },
     "metadata": {},
     "output_type": "display_data"
    }
   ],
   "execution_count": 32
  },
  {
   "metadata": {
    "ExecuteTime": {
     "end_time": "2025-06-15T15:40:39.022906Z",
     "start_time": "2025-06-03T11:23:38.058782Z"
    }
   },
   "cell_type": "code",
   "source": "potential",
   "id": "faa37e9e0ab28460",
   "outputs": [
    {
     "data": {
      "text/plain": [
       "0.0003994251627850165"
      ]
     },
     "execution_count": 25,
     "metadata": {},
     "output_type": "execute_result"
    }
   ],
   "execution_count": 25
  }
 ],
 "metadata": {
  "kernelspec": {
   "display_name": "Python 3",
   "language": "python",
   "name": "python3"
  },
  "language_info": {
   "codemirror_mode": {
    "name": "ipython",
    "version": 2
   },
   "file_extension": ".py",
   "mimetype": "text/x-python",
   "name": "python",
   "nbconvert_exporter": "python",
   "pygments_lexer": "ipython2",
   "version": "2.7.6"
  }
 },
 "nbformat": 4,
 "nbformat_minor": 5
}
